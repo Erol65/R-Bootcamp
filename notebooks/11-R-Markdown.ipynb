{
 "cells": [
  {
   "cell_type": "markdown",
   "metadata": {},
   "source": [
    "# R Markdown\n",
    "---\n",
    "### Table of Contents\n",
    "* [Introduction](#Introduction)\n",
    "* [R Markdown basics](#basics)\n",
    "* [Text formatting with Markdown](#formatting)\n",
    "* [Code chunks](#chunks)"
   ]
  },
  {
   "cell_type": "markdown",
   "metadata": {
    "collapsed": true
   },
   "source": [
    "---\n",
    "<a class=\"anchor\" id=\"Introduction\"></a>\n",
    "## Introduction\n",
    "R Markdown provides a unified authoring framework for data science, combining your code, its results, and your commentary all from RStudio. R Markdown documents are reproducible and can be exported as many typical document formats such as PDF, HTML, slide shows, and more.\n",
    "\n",
    "R Markdown files are designed to be used in three ways:\n",
    "1. For communicating to decision makers, who want to focus on the conclusions, not the code behind the analysis.\n",
    "2. For collaborating with other data scientists (including future you!).\n",
    "3. As an environment in which to do data science, as a modern day lab notebook where you can capture not only what you did, but also what you were thinking.\n",
    "\n",
    "R Markdown uses a number of R packages as well as some external tools. Because of this our regular help, `?`, will not be as useful as you saw for other packages. To get help use the following resources:\n",
    "* *rmarkdown-2.0* Cheatsheet \n",
    "* *rmarkdown-reference*\n",
    "\n",
    "Both of these documents can be found under the **cheatsheets** folder. You can also access them through RStudio > Help > Cheatsheets, or just go to [rstudio.com/cheatsheets](http://rstudio.com/cheatsheets).\n",
    "\n",
    "We will need **rmarkdown** package, RStudio automatically loads it when needed."
   ]
  },
  {
   "cell_type": "markdown",
   "metadata": {},
   "source": [
    "---\n",
    "<a class=\"anchor\" id=\"basics\"></a>\n",
    "## R Markdown basics\n",
    "This is an R Markdown file, a plain text file that has the extension *.Rmd*:"
   ]
  },
  {
   "cell_type": "raw",
   "metadata": {},
   "source": [
    "---\n",
    "title: \"Diamond Dataframe\"\n",
    "date: 2018-09-20\n",
    "output: html_document\n",
    "---\n",
    "\n",
    "```{r setup, include = FALSE}\n",
    "library(ggplot2)\n",
    "library(dplyr)\n",
    "\n",
    "smaller <- diamonds %>% \n",
    "  filter(carat <= 2.5)\n",
    "```\n",
    "\n",
    "We have data about `r nrow(diamonds)` diamonds. Most of them (`r nrow(smaller)`) are smaller than 2.5 carats. Here is a few rows of the dataframe:\n",
    "```{r, echo = FALSE}\n",
    "knitr::kable(\n",
    "  smaller[1:5, ], \n",
    "  caption = \"A subset of diamonds dataframe from ggplot2.\"\n",
    ")\n",
    "```\n",
    "\n",
    "The distribution of these diamons is shown below:\n",
    "\n",
    "```{r, echo = FALSE}\n",
    "smaller %>% \n",
    "  ggplot(aes(carat)) + \n",
    "  geom_freqpoly(binwidth = 0.01)\n",
    "```"
   ]
  },
  {
   "cell_type": "markdown",
   "metadata": {},
   "source": [
    "It contains three important types of content:\n",
    "\n",
    "1. An (optional) **YAML header** surrounded by `---`s.\n",
    "2. Chunks of R code surrounded by \\` \\` \\`.\n",
    "3. Text mixed with simple text formatting like `# heading` and `_italics_`.\n",
    "\n",
    "When you open a .Rmd file, you get a notebook interface where code and output are mixed together. You can run each code chunk by Cmd/Ctrl + Shift + Enter or by clicking Run button. RStudio executes the code and displays the results \"inline\" with the code:\n",
    "\n",
    "<img src=\"../png/rmdsample.png\" width=\"1000px\" align=\"center\">"
   ]
  },
  {
   "cell_type": "markdown",
   "metadata": {},
   "source": [
    "To produce a complete report containing all text, code, and results, click \"Knit\" or press Cmd/Ctrl + Shift + K. You can also do this programmatically with `rmarkdown::render(\"rmd-sample.Rmd\")`. This will display the report in the viewer pane, and create a self-contained HTML file that you can share with others.\n",
    "\n",
    "<img src=\"../png/diamonds.png\" width=\"800px\" align=\"center\">\n",
    "\n",
    "When we **knit** the document **knitr** library will run all the code cells and convert it into a markdown (.md) file. This file then will be used by **pandoc** package to convert it to a wide variety of formats. The knit button will convert your document to the first format listed under it. If you click on the down arrow you can select a different format:\n",
    "\n",
    "<img src=\"../png/knit.png\" width=\"200px\" align=\"center\">\n",
    "\n",
    "To get started with your own .Rmd file, select File > New File > R Markdown… in the menu bar. RStudio will launch a wizard that you can use to pre-populate your file with useful content that reminds you how the key features of R Markdown work."
   ]
  },
  {
   "cell_type": "markdown",
   "metadata": {},
   "source": [
    "### Practice\n",
    "Create a new R Markdwon file and reproduce the document above by copying and pasting the content. Once made sure you can run and get the same outcome try to modify and add to it."
   ]
  },
  {
   "cell_type": "markdown",
   "metadata": {},
   "source": [
    "<div style=\"text-align: right\"> [[Jump to top]](#jump_to_top) </div>\n",
    "\n",
    "---\n",
    "<a class=\"anchor\" id=\"formatting\"></a>\n",
    "## Text formatting with Markdown\n",
    "Markdown is designed to be easy to read and easy to write. Here are some of the most common syntax for formatting text:"
   ]
  },
  {
   "cell_type": "raw",
   "metadata": {},
   "source": [
    "Text formatting \n",
    "------------------------------------------------------------\n",
    "\n",
    "*italic*  or _italic_\n",
    "**bold**   __bold__\n",
    "`code`\n",
    "superscript^2^ and subscript~2~\n",
    "\n",
    "Headings\n",
    "------------------------------------------------------------\n",
    "\n",
    "# 1st Level Header\n",
    "\n",
    "## 2nd Level Header\n",
    "\n",
    "### 3rd Level Header\n",
    "\n",
    "Lists\n",
    "------------------------------------------------------------\n",
    "\n",
    "*   Bulleted list item 1\n",
    "\n",
    "*   Item 2\n",
    "\n",
    "    * Item 2a\n",
    "\n",
    "    * Item 2b\n",
    "\n",
    "1.  Numbered list item 1\n",
    "\n",
    "1.  Item 2. The numbers are incremented automatically in the output.\n",
    "\n",
    "Links and images\n",
    "------------------------------------------------------------\n",
    "\n",
    "<http://example.com>\n",
    "\n",
    "[linked phrase](http://example.com)\n",
    "\n",
    "![optional caption text](path/to/img.png)\n",
    "\n",
    "Tables \n",
    "------------------------------------------------------------\n",
    "\n",
    "First Header  | Second Header\n",
    "------------- | -------------\n",
    "Content Cell  | Content Cell\n",
    "Content Cell  | Content Cell"
   ]
  },
  {
   "cell_type": "markdown",
   "metadata": {},
   "source": [
    "### Practice\n",
    "Create a new notebook using File > New File > R Notebook. Read the instructions. Practice running the chunks. Verify that you can modify the code, re-run it, and see modified output.\n",
    "\n",
    "Suggestion: change the `plot(cars)` by a ggplot plot and output it with `ggplotly()`."
   ]
  },
  {
   "cell_type": "markdown",
   "metadata": {},
   "source": [
    "### Practice\n",
    "Create a new R Markdown document with File > New File > R Markdown… Knit it by clicking the appropriate button. Knit it by using the appropriate keyboard short cut. Verify that you can modify the input and see the output update."
   ]
  },
  {
   "cell_type": "markdown",
   "metadata": {},
   "source": [
    "---\n",
    "### Exercise 1\n",
    "Using the R Markdown quick reference, figure out how to:\n",
    "\n",
    "1. Add a footnote.\n",
    "1. Add a horizontal rule.\n",
    "1. Add a block quote."
   ]
  },
  {
   "cell_type": "code",
   "execution_count": 1,
   "metadata": {},
   "outputs": [],
   "source": [
    "# Your answer goes here"
   ]
  },
  {
   "cell_type": "markdown",
   "metadata": {},
   "source": [
    "<div style=\"text-align: right\"> [[Jump to top]](#jump_to_top) </div>\n",
    "\n",
    "---\n",
    "<a class=\"anchor\" id=\"chunks\"></a>\n",
    "## Code chunks\n",
    "Chunks can be given an optional name. One of the advantages of using names for chunks is that you can navigate through your document by selecting the appropriate chunk name from the bottom of the code.\n",
    "\n",
    "There is one name that has special behavior: `setup`. RStudio will make sure to run this chunk automatically before running any other chunk, if it's not run already.\n",
    "\n",
    "**Chunk Options:**\n",
    "\n",
    "* `eval = FALSE`: prevents code from being evaluated. Hence nothing will be printed. This is useful for displaying example code, or for disabling a large block of code without commenting each line.\n",
    "* `include = FALSE` runs the code, but doesn't show the code or results in the final document. Use this for setup code that you don't want cluttering your report.\n",
    "* `echo = FALSE` prevents code, but not the results from appearing in the finished file. Use this when writing reports aimed at people who don't want to see the underlying R code.\n",
    "* `message = FALSE` or `warning = FALSE` prevents messages or warnings from appearing in the finished file.\n",
    "\n",
    "To change these options globally use `knitr::opts_chunk$set()`. For instance:\n"
   ]
  },
  {
   "cell_type": "code",
   "execution_count": 2,
   "metadata": {},
   "outputs": [],
   "source": [
    "knitr::opts_chunk$set(\n",
    "  echo = FALSE\n",
    ")"
   ]
  },
  {
   "cell_type": "markdown",
   "metadata": {},
   "source": [
    "**Table**\n",
    "\n",
    "As we saw in the example above we can print a good looking table by `knitr::kable()`:"
   ]
  },
  {
   "cell_type": "raw",
   "metadata": {},
   "source": [
    "knitr::kable(\n",
    "  smaller[1:5, ], \n",
    "  caption = \"A subset of diamonds dataframe from ggplot2.\"\n",
    ")"
   ]
  },
  {
   "cell_type": "markdown",
   "metadata": {},
   "source": [
    "This was just a brief introduction to R Markdown. For learning more about its functionalities check out \n",
    "* chapters 27-30 of *R For Data Science*, by Hadley Wickham.\n",
    "* [rmarkdown.rstudio.com](http://rmarkdown.rstudio.com)\n",
    "* Cheatsheets located in cheatsheet folder\n",
    "\n",
    "### Templates\n",
    "You can also download templates for many different document types such as dashboards, websites, books, presentations, and more from: [rmarkdown.rstudio.com/gallery.html](https://rmarkdown.rstudio.com/gallery.html)"
   ]
  },
  {
   "cell_type": "markdown",
   "metadata": {},
   "source": [
    "<div style=\"text-align: right\"> [[Jump to top]](#jump_to_top) </div>"
   ]
  }
 ],
 "metadata": {
  "kernelspec": {
   "display_name": "R",
   "language": "R",
   "name": "ir"
  },
  "language_info": {
   "codemirror_mode": "r",
   "file_extension": ".r",
   "mimetype": "text/x-r-source",
   "name": "R",
   "pygments_lexer": "r",
   "version": "3.5.1"
  }
 },
 "nbformat": 4,
 "nbformat_minor": 2
}
