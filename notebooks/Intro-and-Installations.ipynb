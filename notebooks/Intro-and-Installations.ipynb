{
 "cells": [
  {
   "cell_type": "markdown",
   "metadata": {},
   "source": [
    "# Intro-and-Installations\n",
    "\n",
    "Typically, we use a secondary environment to code in R. There are various options but by far the most popular one is RStudio and that's what we will mainly use throughout this course. Some of the advantages of using an IDE such as RStudio is that we have access to all the environment variables, and can write, run, and debug an R script, look up the help documentation, and plot interactive charts all in one single window. \n",
    "\n",
    "I will present the material using Jupyter notebooks. Notebooks allow one to create and share documents that contain live code, equations, visualizations and narrative text. Later on this page you will learn how to run these notebooks, but the primary goal of this course is to learn programming with R and the powerful functionalities of RStudio."
   ]
  },
  {
   "cell_type": "markdown",
   "metadata": {},
   "source": [
    "<img src=\"../png/R.png\" width=\"100px\" align=\"left\">"
   ]
  },
  {
   "cell_type": "markdown",
   "metadata": {},
   "source": [
    "Download the latest version of R. Go to [CRAN](https://cran.r-project.org/mirrors.html), the comprehensive R archive network. Use the cloud mirror, https://cloud.r-project.org, which automatically will figure a mirror that's close to you. Follow the instructions for installation.\n",
    "\n",
    "Every year a major version of is released, and typically a few minor versions. It's a good practice to periodically upgrade your R, especially when the major version becomes available."
   ]
  },
  {
   "cell_type": "markdown",
   "metadata": {},
   "source": [
    "<img src=\"../png/RStudio.png\" width=\"300px\" align=\"left\">"
   ]
  },
  {
   "cell_type": "markdown",
   "metadata": {},
   "source": [
    "# RStudio\n",
    "\n",
    "RStudio is a free and open-source integrated development environment, IDE, for R programming. Download the latest version of RStudio Desktop (FREE) from http://www.rstudio.com/download and install it.\n",
    "\n",
    "RStudio is an easy-to-use coding environment that allows users to code, visualize, and debug all from one window (like most IDEs). In the image below you can see that code written in Console (left) results in a plot that gets outputted in the Plots section (lower right). We will get to know and interact with the other parts and modules of RStudio in the future notebooks."
   ]
  },
  {
   "cell_type": "markdown",
   "metadata": {},
   "source": [
    "<img src=\"../png/RStudio-env.png\" width=\"600px\" align=\"center\">"
   ]
  },
  {
   "cell_type": "markdown",
   "metadata": {},
   "source": [
    "You will also need to install some R packages. An R package is a collection of functions, data, and documentation that extends the capabilities of base R. Using the right packages is key to the successful use of R and equivalent to not reinventing the wheel. "
   ]
  },
  {
   "cell_type": "markdown",
   "metadata": {},
   "source": [
    "<img src=\"../png/hex-tidyverse.png\" width=\"150px\" align=\"left\">"
   ]
  },
  {
   "cell_type": "markdown",
   "metadata": {},
   "source": [
    "# Tidyverse\n",
    "\n",
    "The majority of the packages that we will use throughout this bootcamp are part of the so-called *tidyverse*. [tidyverse](https://www.tidyverse.org/packages/) is a collection of R packages designed for data science.\n",
    "\n",
    "Core packages in *tidyverse*:\n",
    "* [ggplot2](http://ggplot2.tidyverse.org): for visualizing data\n",
    "    * based on “A Layered Grammar of Graphics”\n",
    "* [dplyr](https://dplyr.tidyverse.org/): for manipulating data\n",
    "* [tidyr](http://tidyr.tidyverse.org/): for tidying data\n",
    "* [readr](http://readr.tidyverse.org/): for reading .csv and fwf files\n",
    "* [purrr](http://purrr.tidyverse.org/): for working with functions and vectors\n",
    "* [tibble](http://tibble.tidyverse.org/): modern re-imagining of the data frame\n",
    "* [stringr](http://stringr.tidyverse.org/): for working with strings\n",
    "* [forcats](http://forcats.tidyverse.org/): for working with factors\n",
    "\n",
    "You can install the complete tidyverse with a single line of code in the Console:\n",
    "\n",
    "---\n",
    "```install.packages(\"tidyverse\")```\n",
    "\n",
    "---\n",
    "\n",
    "*The tidyverse also includes many other packages with more specialized usage. They are not loaded automatically and should be specified manually*\n",
    "\n",
    "Once the installation is finished you can try the `library(tidyverse)` command in your RStudio Console to load the package. If the attachment was successful you would see the list of packages that were attached, and any potential conflicts, which you can ignore for now. If anything else from tidyverse is needed, they should be loaded manually. I.e. `library(PACKAGE_TO_LOAD)`.\n",
    "\n",
    "We only need to install every new library once, but we need to load it every time we start a new R session."
   ]
  },
  {
   "cell_type": "markdown",
   "metadata": {},
   "source": [
    "# Alternative Environments\n",
    "\n",
    "All the code shared on the upcoming notebooks can be run by copy/paste into RStudio on your personal computer. Another option could be to run these notebooks directly using Jupyter. All the original notebooks are located in the `notebooks` directory, and if you have Jupyter and R (add-on to Jupyter) installed on your computer you can simply run them without the need to copy them to an R/RStudio environment. If you don't have Jupyter installed, the simplest way to run these notebooks is to use the **Binder** environment that I have created for you. It is as simple as clicking on a URL, the details are in the next section. You can also find resources on how to install Jupyer at the end of the page, but please have in mind that this is an entirely optional step and you can finish this bootcamp without it.\n",
    "\n",
    "<img src=\"../png/binder_logo.png\" width=\"150px\" align=\"left\">"
   ]
  },
  {
   "cell_type": "markdown",
   "metadata": {},
   "source": [
    "**Binder** makes it simple to generate reproducible computing environments from a Git repository. Binder uses the BinderHub technology to generate a Docker image from this repository. All the notebooks in the Git repository are accessible from Binder. You can start your own Binder container by going to https://mybinder.org/v2/gh/soltaniehha/R-Bootcamp/master or by clicking on the binder logo below:\n",
    "\n",
    "[![Binder](https://mybinder.org/badge.svg)](https://mybinder.org/v2/gh/soltaniehha/R-Bootcamp/master)\n",
    "\n",
    "BinderHub will start a new **temporary** container for you. This is *your* container, but have in mind that this is temporary and there are limitations on how long you can use it. Binder will automatically shut down user sessions that have more than 10 minutes of inactivity (if you leave your window open, this will be counted as \"activity\"). Binder aims to provide at least 12 hours of session time per user session. So, have this in mind that your work will be deleted after your session expires. It is mainly designed to follow along a lecture, and not to be used for running homework/project code. Of course Jupyter gives you the functionality to download your code as well as data and save it locally. If you would like to use Binder to perform your projects you can certainly do that and export before you close your laptop, but it is considered risky and you could potentially loose your work.\n",
    "\n",
    "Your container comes pre-installed with all the packages that we will be using throughout this bootcamp, so no need to install them, just load them. It allows you to install new libraries if you need to. Feel free to play around and do whatever you like in your container, it's your own temporary cloud environment and won't affect the work of your classmates. If anything breaks you can simply close the tab that you were running binder and open a new one, starting with a fresh environment.\n",
    "\n",
    "Another nice feature that Binder provides is RStudio. You can access an RStudio session through Binder and it will give you one in your browser. The same risk applies to this as well, in fact this RStudio session is within the same container that allows you to launch Jupyter notebooks which is nice. If you install a specific R package in one you don't need to redo it in the other one. To start a new RStudio session through binder click on *RStudio Session* under *New*:\n",
    "\n",
    "<img src=\"../png/rstudio_ui_binder.png\" width=\"350px\" align=\"center\">"
   ]
  },
  {
   "cell_type": "markdown",
   "metadata": {},
   "source": [
    "# Installing R in Jupyter (optional)\n",
    "\n",
    "In order to do this you need to have Jupyter in your machine. If you haven't installed it before you can follow the steps in this [link](https://jupyter.readthedocs.io/en/latest/install.html).\n",
    "\n",
    "Once Jupyter is installed you can install R kernel for Jupyter. The steps are laid out [here](https://github.com/IRkernel/IRkernel)."
   ]
  }
 ],
 "metadata": {
  "kernelspec": {
   "display_name": "R",
   "language": "R",
   "name": "ir"
  },
  "language_info": {
   "codemirror_mode": "r",
   "file_extension": ".r",
   "mimetype": "text/x-r-source",
   "name": "R",
   "pygments_lexer": "r",
   "version": "3.5.1"
  }
 },
 "nbformat": 4,
 "nbformat_minor": 2
}
