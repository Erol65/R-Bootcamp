{
 "cells": [
  {
   "cell_type": "markdown",
   "metadata": {},
   "source": [
    "# Workflow\n",
    "---"
   ]
  },
  {
   "cell_type": "code",
   "execution_count": null,
   "metadata": {
    "collapsed": true
   },
   "outputs": [],
   "source": []
  },
  {
   "cell_type": "code",
   "execution_count": null,
   "metadata": {
    "collapsed": true
   },
   "outputs": [],
   "source": []
  },
  {
   "cell_type": "code",
   "execution_count": null,
   "metadata": {
    "collapsed": true
   },
   "outputs": [],
   "source": []
  },
  {
   "cell_type": "code",
   "execution_count": null,
   "metadata": {
    "collapsed": true
   },
   "outputs": [],
   "source": []
  },
  {
   "cell_type": "code",
   "execution_count": null,
   "metadata": {
    "collapsed": true
   },
   "outputs": [],
   "source": []
  },
  {
   "cell_type": "markdown",
   "metadata": {},
   "source": [
    "# Common Conventions for R Programming (A Google guide)\n",
    "\n",
    "Source: [Google's R Style Guide](https://google.github.io/styleguide/Rguide.xml)\n",
    "\n",
    "An adopted summary of this guideline that I will use throughout these notebooks:\n",
    "* File names should end in .R and, of course, be meaningful:\n",
    "    * GOOD: predict_ad_revenue.R \n",
    "    * BAD: foo.R\n",
    "* variableName all lower case letters, except the connection with another word is capitalized\n",
    "    * GOOD: avgClicks \n",
    "    * BAD: avg_Clicks\n",
    "* FunctionName the same as variable names but starts with a capitalized letter\n",
    "    * GOOD: CalculateAvgClicks \n",
    "    * BAD: calculate_avg_clicks , calculateAvgClicks \n",
    "    * Make function names verbs. \n",
    "* constants are named like functions but with an initial k.\n",
    "    * kConstantName\n",
    "* The maximum line length is 80 characters.\n",
    "* When indenting your code, use two spaces. Never use tabs or mix tabs and spaces. \n",
    "    * Exception: When a line break occurs inside parentheses, align the wrapped line with the first character inside the parenthesis.\n",
    "    \n",
    "```ggplot(data = diamonds) + \n",
    "  geom_bar(mapping = aes(x = cut, fill = cut), \n",
    "           show.legend = FALSE,\n",
    "           width = 1\n",
    "          )```\n",
    "\n",
    "* Place spaces around all binary operators (=, +, -, <-, etc.). Exception: Spaces around ='s are optional when passing parameters in a function call.\n",
    "* Do not place a space before a comma, but always place one after a comma. \n",
    "* Place a space before left parenthesis, except in a function call.\n",
    "    * GOOD: `if (debug)`\n",
    "    * BAD: `if(debug)`\n",
    "* Extra spacing (i.e., more than one space in a row) is okay if it improves alignment of equals signs or arrows (<-).\n",
    "\n",
    "```plot(x    = x.coord,\n",
    "     y    = data.mat[, MakeColName(metric, ptiles[1], \"roiOpt\")],\n",
    "     ylim = ylim,\n",
    "     xlab = \"dates\",\n",
    "     ylab = metric,\n",
    "     main = (paste(metric, \" for 3 samples \", sep = \"\")))```\n",
    "     \n",
    "* Do not place spaces around code in parentheses or square brackets. Exception: Always place a space after a comma.\n",
    "\n",
    "```if (debug)\n",
    "x[1, ]```\n",
    "\n",
    "* An opening curly brace should never go on its own line; a closing curly brace should always go on its own line. You may omit curly braces when a block consists of a single statement; however, you must consistently either use or not use curly braces for single statement blocks.\n",
    "\n",
    "```if (is.null(ylim)) {\n",
    "  ylim <- c(0, 0.06)\n",
    "}```\n",
    "\n",
    "* Always begin the body of a block on a new line. \n",
    "\n",
    "BAD: \n",
    "\n",
    "```if (is.null(ylim)) ylim <- c(0, 0.06) \n",
    "if (is.null(ylim)) {ylim <- c(0, 0.06)}```\n",
    "\n",
    "* An else statement should always be surrounded on the same line by curly braces:\n",
    "\n",
    "```if (condition) {\n",
    "  one or more lines\n",
    "} else {\n",
    "  one or more lines\n",
    "}```\n",
    "\n",
    "* Use <-, not =, for assignment.\n",
    "* Do not terminate your lines with semicolons or use semicolons to put more than one command on the same line.\n",
    "* General layout and ordering of an R script:\n",
    "    1. Copyright statement comment\n",
    "    2. Author comment\n",
    "    3. File description comment, including purpose of program, inputs, and outputs\n",
    "    4. source() and library() statements\n",
    "    5. Function definitions\n",
    "    6. Executed statements, if applicable (e.g., print, plot)\n",
    "* Unit tests should go in a separate file named originalfilename_test.R.\n",
    "* Comment your code. Entire commented lines should begin with # and one space. Short comments can be placed after code preceded by two spaces, #, and then one space.\n",
    "\n",
    "```# Create histogram of frequency of campaigns by pct budget spent.\n",
    "hist(df$pct.spent,\n",
    "     breaks = \"scott\")  # method for choosing number of buckets```\n",
    "\n",
    "* Function definitions should first list arguments without default values, followed by those with default values. In both function definitions and function calls, multiple arguments per line are allowed; line breaks are only allowed between assignments:\n",
    "\n",
    "```PredictCTR <- function(query, property, num.days,\n",
    "                       show.plot = TRUE)```\n",
    "\n",
    "Functions should contain a comments section immediately below the function definition line. These comments should consist of a one-sentence description of the function; a list of the function's arguments, denoted by Args:, with a description of each (including the data type); and a description of the return value, denoted by Returns:. The comments should be descriptive enough that a caller can use the function without reading any of the function's code. Example:\n",
    "\n"
   ]
  },
  {
   "cell_type": "code",
   "execution_count": 1,
   "metadata": {
    "collapsed": true
   },
   "outputs": [],
   "source": [
    "CalculateSampleCovariance <- function(x, y, verbose = TRUE) {\n",
    "  # Computes the sample covariance between two vectors.\n",
    "  #\n",
    "  # Args:\n",
    "  #   x: One of two vectors whose sample covariance is to be calculated.\n",
    "  #   y: The other vector. x and y must have the same length, greater than one,\n",
    "  #      with no missing values.\n",
    "  #   verbose: If TRUE, prints sample covariance; if not, not. Default is TRUE.\n",
    "  #\n",
    "  # Returns:\n",
    "  #   The sample covariance between x and y.\n",
    "  n <- length(x)\n",
    "  # Error handling\n",
    "  if (n <= 1 || n != length(y)) {\n",
    "    stop(\"Arguments x and y have different lengths: \",\n",
    "         length(x), \" and \", length(y), \".\")\n",
    "  }\n",
    "  if (TRUE %in% is.na(x) || TRUE %in% is.na(y)) {\n",
    "    stop(\" Arguments x and y must not have missing values.\")\n",
    "  }\n",
    "  covariance <- var(x, y)\n",
    "  if (verbose)\n",
    "    cat(\"Covariance = \", round(covariance, 4), \".\\n\", sep = \"\")\n",
    "  return(covariance)\n",
    "}"
   ]
  },
  {
   "cell_type": "markdown",
   "metadata": {},
   "source": [
    "* Errors should be raised using stop().\n",
    "* The coding conventions described above should be followed, unless there is good reason to do otherwise. Exceptions include legacy code and modifying third-party code. If you are editing code, take a few minutes to look at the code around you and determine its style. If others use spaces around their if clauses, you should, too. If their comments have little boxes of stars around them, make your comments have little boxes of stars around them, too.\n",
    "* Use common sense and BE CONSISTENT."
   ]
  }
 ],
 "metadata": {
  "kernelspec": {
   "display_name": "R",
   "language": "R",
   "name": "ir"
  },
  "language_info": {
   "codemirror_mode": "r",
   "file_extension": ".r",
   "mimetype": "text/x-r-source",
   "name": "R",
   "pygments_lexer": "r",
   "version": "3.5.1"
  }
 },
 "nbformat": 4,
 "nbformat_minor": 2
}
