{
 "cells": [
  {
   "cell_type": "markdown",
   "metadata": {},
   "source": [
    "<a class=\"anchor\" id=\"jump_to_top\"></a>\n",
    "# Iteration\n",
    "---\n",
    "\n",
    "### Table of Contents\n",
    "* [For loops](#loops)\n",
    "* [while loops](#while)\n",
    "* [iteration with purrr package](#purr)\n",
    "    * [The map functions](#map)\n",
    "    * [map2()](#map2)\n",
    "    * [pmap](#pmap)\n",
    "\n",
    "\n",
    "<a class=\"anchor\" id=\"loops\"></a>\n",
    "\n",
    "In the previous notebook we saw how we can use functions to reduce duplication in our code. Another great tool for reducing duplication is **iteration**, which helps you when you need to do the same thing to multiple inputs: repeating the same operation on different columns, or on different datasets."
   ]
  },
  {
   "cell_type": "code",
   "execution_count": 1,
   "metadata": {},
   "outputs": [
    {
     "name": "stderr",
     "output_type": "stream",
     "text": [
      "── Attaching packages ─────────────────────────────────────── tidyverse 1.2.1 ──\n",
      "✔ ggplot2 3.0.0     ✔ purrr   0.2.5\n",
      "✔ tibble  1.4.2     ✔ dplyr   0.7.6\n",
      "✔ tidyr   0.8.1     ✔ stringr 1.3.1\n",
      "✔ readr   1.1.1     ✔ forcats 0.3.0\n",
      "── Conflicts ────────────────────────────────────────── tidyverse_conflicts() ──\n",
      "✖ dplyr::filter() masks stats::filter()\n",
      "✖ dplyr::lag()    masks stats::lag()\n"
     ]
    }
   ],
   "source": [
    "# Attaching libraries\n",
    "library(tidyverse)\n",
    "\n",
    "# install.packages('nycflights13')  \n",
    "library(nycflights13)"
   ]
  },
  {
   "cell_type": "markdown",
   "metadata": {
    "collapsed": true
   },
   "source": [
    "<a class=\"anchor\" id=\"loops\"></a>\n",
    "## For loops\n",
    "Imagine we have this simple data frame comprised of some random numbers:"
   ]
  },
  {
   "cell_type": "code",
   "execution_count": 2,
   "metadata": {},
   "outputs": [
    {
     "data": {
      "text/html": [
       "<table>\n",
       "<thead><tr><th scope=col>a</th><th scope=col>b</th><th scope=col>c</th><th scope=col>d</th></tr></thead>\n",
       "<tbody>\n",
       "\t<tr><td>-2.44778641 </td><td> 0.2742707  </td><td> 3.173161764</td><td> 0.6429304  </td></tr>\n",
       "\t<tr><td> 1.22550298 </td><td> 0.5997888  </td><td> 0.166420797</td><td>-1.2324496  </td></tr>\n",
       "\t<tr><td>-0.79494404 </td><td>-0.4500257  </td><td> 0.331656586</td><td>-1.6720384  </td></tr>\n",
       "\t<tr><td>-0.52911698 </td><td> 0.4191066  </td><td>-0.389523249</td><td> 1.4370108  </td></tr>\n",
       "\t<tr><td>-0.21500050 </td><td> 0.1727371  </td><td>-1.649719824</td><td>-0.4529674  </td></tr>\n",
       "\t<tr><td> 0.03500575 </td><td>-0.6950085  </td><td> 0.434642459</td><td> 0.8060227  </td></tr>\n",
       "\t<tr><td> 1.09935900 </td><td> 1.6846784  </td><td>-0.002950232</td><td>-0.1198143  </td></tr>\n",
       "\t<tr><td>-0.78294162 </td><td> 0.2770025  </td><td> 1.696926012</td><td>-0.6933271  </td></tr>\n",
       "\t<tr><td>-1.30525469 </td><td> 0.9257105  </td><td> 0.833516797</td><td>-0.3819635  </td></tr>\n",
       "\t<tr><td> 0.14797624 </td><td>-0.7796936  </td><td> 2.036830978</td><td> 1.9090268  </td></tr>\n",
       "</tbody>\n",
       "</table>\n"
      ],
      "text/latex": [
       "\\begin{tabular}{r|llll}\n",
       " a & b & c & d\\\\\n",
       "\\hline\n",
       "\t -2.44778641  &  0.2742707   &  3.173161764 &  0.6429304  \\\\\n",
       "\t  1.22550298  &  0.5997888   &  0.166420797 & -1.2324496  \\\\\n",
       "\t -0.79494404  & -0.4500257   &  0.331656586 & -1.6720384  \\\\\n",
       "\t -0.52911698  &  0.4191066   & -0.389523249 &  1.4370108  \\\\\n",
       "\t -0.21500050  &  0.1727371   & -1.649719824 & -0.4529674  \\\\\n",
       "\t  0.03500575  & -0.6950085   &  0.434642459 &  0.8060227  \\\\\n",
       "\t  1.09935900  &  1.6846784   & -0.002950232 & -0.1198143  \\\\\n",
       "\t -0.78294162  &  0.2770025   &  1.696926012 & -0.6933271  \\\\\n",
       "\t -1.30525469  &  0.9257105   &  0.833516797 & -0.3819635  \\\\\n",
       "\t  0.14797624  & -0.7796936   &  2.036830978 &  1.9090268  \\\\\n",
       "\\end{tabular}\n"
      ],
      "text/markdown": [
       "\n",
       "a | b | c | d | \n",
       "|---|---|---|---|---|---|---|---|---|---|\n",
       "| -2.44778641  |  0.2742707   |  3.173161764 |  0.6429304   | \n",
       "|  1.22550298  |  0.5997888   |  0.166420797 | -1.2324496   | \n",
       "| -0.79494404  | -0.4500257   |  0.331656586 | -1.6720384   | \n",
       "| -0.52911698  |  0.4191066   | -0.389523249 |  1.4370108   | \n",
       "| -0.21500050  |  0.1727371   | -1.649719824 | -0.4529674   | \n",
       "|  0.03500575  | -0.6950085   |  0.434642459 |  0.8060227   | \n",
       "|  1.09935900  |  1.6846784   | -0.002950232 | -0.1198143   | \n",
       "| -0.78294162  |  0.2770025   |  1.696926012 | -0.6933271   | \n",
       "| -1.30525469  |  0.9257105   |  0.833516797 | -0.3819635   | \n",
       "|  0.14797624  | -0.7796936   |  2.036830978 |  1.9090268   | \n",
       "\n",
       "\n"
      ],
      "text/plain": [
       "   a           b          c            d         \n",
       "1  -2.44778641  0.2742707  3.173161764  0.6429304\n",
       "2   1.22550298  0.5997888  0.166420797 -1.2324496\n",
       "3  -0.79494404 -0.4500257  0.331656586 -1.6720384\n",
       "4  -0.52911698  0.4191066 -0.389523249  1.4370108\n",
       "5  -0.21500050  0.1727371 -1.649719824 -0.4529674\n",
       "6   0.03500575 -0.6950085  0.434642459  0.8060227\n",
       "7   1.09935900  1.6846784 -0.002950232 -0.1198143\n",
       "8  -0.78294162  0.2770025  1.696926012 -0.6933271\n",
       "9  -1.30525469  0.9257105  0.833516797 -0.3819635\n",
       "10  0.14797624 -0.7796936  2.036830978  1.9090268"
      ]
     },
     "metadata": {},
     "output_type": "display_data"
    }
   ],
   "source": [
    "df <- tibble(\n",
    "  a = rnorm(10),\n",
    "  b = rnorm(10),\n",
    "  c = rnorm(10),\n",
    "  d = rnorm(10)\n",
    ")\n",
    "df"
   ]
  },
  {
   "cell_type": "markdown",
   "metadata": {},
   "source": [
    "We want to compute the median of each column. You could do with copy-and-paste:"
   ]
  },
  {
   "cell_type": "code",
   "execution_count": 3,
   "metadata": {},
   "outputs": [
    {
     "data": {
      "text/html": [
       "-0.372058741418796"
      ],
      "text/latex": [
       "-0.372058741418796"
      ],
      "text/markdown": [
       "-0.372058741418796"
      ],
      "text/plain": [
       "[1] -0.3720587"
      ]
     },
     "metadata": {},
     "output_type": "display_data"
    },
    {
     "data": {
      "text/html": [
       "0.275636625128039"
      ],
      "text/latex": [
       "0.275636625128039"
      ],
      "text/markdown": [
       "0.275636625128039"
      ],
      "text/plain": [
       "[1] 0.2756366"
      ]
     },
     "metadata": {},
     "output_type": "display_data"
    },
    {
     "data": {
      "text/html": [
       "0.383149522438577"
      ],
      "text/latex": [
       "0.383149522438577"
      ],
      "text/markdown": [
       "0.383149522438577"
      ],
      "text/plain": [
       "[1] 0.3831495"
      ]
     },
     "metadata": {},
     "output_type": "display_data"
    },
    {
     "data": {
      "text/html": [
       "-0.250888887312892"
      ],
      "text/latex": [
       "-0.250888887312892"
      ],
      "text/markdown": [
       "-0.250888887312892"
      ],
      "text/plain": [
       "[1] -0.2508889"
      ]
     },
     "metadata": {},
     "output_type": "display_data"
    }
   ],
   "source": [
    "median(df$a)\n",
    "median(df$b)\n",
    "median(df$c)\n",
    "median(df$d)"
   ]
  },
  {
   "cell_type": "markdown",
   "metadata": {},
   "source": [
    "But that breaks our rule of thumb: never copy and paste more than twice. Instead, we could use a for loop:"
   ]
  },
  {
   "cell_type": "code",
   "execution_count": 4,
   "metadata": {},
   "outputs": [
    {
     "name": "stdout",
     "output_type": "stream",
     "text": [
      "[1] \"Median for column a: -0.372058741418796\"\n",
      "[1] \"Median for column b: 0.275636625128039\"\n",
      "[1] \"Median for column c: 0.383149522438577\"\n",
      "[1] \"Median for column d: -0.250888887312892\"\n"
     ]
    }
   ],
   "source": [
    "for (i in 1:4) {\n",
    "    print(paste0(\"Median for column \", colnames(df)[i], \": \", median(df[[i]])))\n",
    "}"
   ]
  },
  {
   "cell_type": "markdown",
   "metadata": {},
   "source": [
    "If we would want to use these values again it's a good practice to store them:"
   ]
  },
  {
   "cell_type": "code",
   "execution_count": 5,
   "metadata": {},
   "outputs": [
    {
     "data": {
      "text/html": [
       "<ol class=list-inline>\n",
       "\t<li>-0.372058741418796</li>\n",
       "\t<li>0.275636625128039</li>\n",
       "\t<li>0.383149522438577</li>\n",
       "\t<li>-0.250888887312892</li>\n",
       "</ol>\n"
      ],
      "text/latex": [
       "\\begin{enumerate*}\n",
       "\\item -0.372058741418796\n",
       "\\item 0.275636625128039\n",
       "\\item 0.383149522438577\n",
       "\\item -0.250888887312892\n",
       "\\end{enumerate*}\n"
      ],
      "text/markdown": [
       "1. -0.372058741418796\n",
       "2. 0.275636625128039\n",
       "3. 0.383149522438577\n",
       "4. -0.250888887312892\n",
       "\n",
       "\n"
      ],
      "text/plain": [
       "[1] -0.3720587  0.2756366  0.3831495 -0.2508889"
      ]
     },
     "metadata": {},
     "output_type": "display_data"
    }
   ],
   "source": [
    "output <- vector(\"double\", ncol(df))  # 1. output\n",
    "for (i in seq_along(df)) {            # 2. sequence\n",
    "  output[[i]] <- median(df[[i]])      # 3. body\n",
    "}\n",
    "output"
   ]
  },
  {
   "cell_type": "code",
   "execution_count": 6,
   "metadata": {},
   "outputs": [
    {
     "data": {
      "text/html": [
       "<ol class=list-inline>\n",
       "\t<li>1</li>\n",
       "\t<li>2</li>\n",
       "\t<li>3</li>\n",
       "\t<li>4</li>\n",
       "</ol>\n"
      ],
      "text/latex": [
       "\\begin{enumerate*}\n",
       "\\item 1\n",
       "\\item 2\n",
       "\\item 3\n",
       "\\item 4\n",
       "\\end{enumerate*}\n"
      ],
      "text/markdown": [
       "1. 1\n",
       "2. 2\n",
       "3. 3\n",
       "4. 4\n",
       "\n",
       "\n"
      ],
      "text/plain": [
       "[1] 1 2 3 4"
      ]
     },
     "metadata": {},
     "output_type": "display_data"
    }
   ],
   "source": [
    "seq_along(df)"
   ]
  },
  {
   "cell_type": "markdown",
   "metadata": {},
   "source": [
    "Every for loop has three components:\n",
    "1. **Output**: `output <- vector(\"double\", length(x))`. Before you start the loop, you must always allocate sufficient space for the output to increase efficiency. A general way of creating an empty vector of given length is the `vector()` function. It has two arguments: the type of the vector (\"logical\", \"integer\", \"double\", \"character\", etc) and the length of the vector.\n",
    "2. **Sequence**: `i in seq_along(df)`. This determines what to loop over: each run of the for loop will assign `i` to a different value from `seq_along(df)`.\n",
    "3. **Body**: `output[[i]] <- median(df[[i]])`. This is the code that does the work. It's run repeatedly, each time with a different value for `i`. The first iteration will run `output[[1]] <- median(df[[1]])`, the second will run `output[[2]] <- median(df[[2]])`, and so on.\n",
    "\n",
    "---\n",
    "### Exercise 1\n",
    "Write for loops to:\n",
    "1. Compute the mean of every column in `mtcars`.\n",
    "2. Determine the type of each column in `nycflights13::flights`. (Note: You might need to install nycflights13 package)\n",
    "3. Compute the number of unique values in each column of `iris`."
   ]
  },
  {
   "cell_type": "code",
   "execution_count": 7,
   "metadata": {},
   "outputs": [],
   "source": [
    "# Your answer goes here."
   ]
  },
  {
   "cell_type": "markdown",
   "metadata": {},
   "source": [
    "---\n",
    "### Exercise 2\n",
    "Eliminate the for loop in each of the following examples by taking advantage of an existing function that works with vectors:"
   ]
  },
  {
   "cell_type": "code",
   "execution_count": 8,
   "metadata": {},
   "outputs": [],
   "source": [
    "out <- \"\"\n",
    "for (x in letters) {\n",
    "  out <- stringr::str_c(out, x)\n",
    "}"
   ]
  },
  {
   "cell_type": "code",
   "execution_count": 9,
   "metadata": {},
   "outputs": [],
   "source": [
    "x <- sample(100)\n",
    "sd <- 0\n",
    "for (i in seq_along(x)) {\n",
    "  sd <- sd + (x[i] - mean(x)) ^ 2\n",
    "}\n",
    "sd <- sqrt(sd / (length(x) - 1))"
   ]
  },
  {
   "cell_type": "markdown",
   "metadata": {},
   "source": [
    "---\n",
    "## For loop variations\n",
    "There are four variations on the basic theme of the for loop:\n",
    "\n",
    "1. Modifying an existing object\n",
    "2. Looping Patterns\n",
    "3. Unknown output length\n",
    "4. Unknown sequence length, `while` loops\n",
    "\n",
    "### 1. Modifying an existing object\n",
    "Sometimes you want to use a for loop to modify an existing object, instead of creating a new one. For example, our code from functions notebook. We wanted to rescale every column in a data frame:"
   ]
  },
  {
   "cell_type": "code",
   "execution_count": 10,
   "metadata": {},
   "outputs": [],
   "source": [
    "df <- tibble(\n",
    "  a = rnorm(10),\n",
    "  b = rnorm(10),\n",
    "  c = rnorm(10),\n",
    "  d = rnorm(10)\n",
    ")\n",
    "Rescale <- function(x) {\n",
    "  # Rescales each column to a range from 0 to 1\n",
    "  #\n",
    "  # Args:\n",
    "  #   x: the vector that is being rescaled.\n",
    "  #\n",
    "  # Returns:\n",
    "  #   The new rescaled vector.\n",
    "    \n",
    "  min <- min(x, na.rm = TRUE)\n",
    "  max <- max(x, na.rm = TRUE)\n",
    "  (x - min) / (max - min)\n",
    "}\n",
    "\n",
    "df$a <- Rescale(df$a)\n",
    "df$b <- Rescale(df$b)\n",
    "df$c <- Rescale(df$c)\n",
    "df$d <- Rescale(df$d)"
   ]
  },
  {
   "cell_type": "markdown",
   "metadata": {},
   "source": [
    "To solve this with a for loop we again think about the three components:\n",
    "\n",
    "1. **Output**: we already have the output - it's the same as the input!\n",
    "\n",
    "2. **Sequence**: we can think about a data frame as a list of columns, so we can iterate over each column with `seq_along(df)`.\n",
    "\n",
    "3. **Body**: apply `Rescale()`.\n",
    "\n",
    "This gives us:"
   ]
  },
  {
   "cell_type": "code",
   "execution_count": 11,
   "metadata": {},
   "outputs": [],
   "source": [
    "for (i in seq_along(df)) {\n",
    "  df[[i]] <- Rescale(df[[i]])\n",
    "}"
   ]
  },
  {
   "cell_type": "markdown",
   "metadata": {},
   "source": [
    "Typically you'll be modifying a list or data frame with this sort of loop, so remember to use `[[`, not `[`. "
   ]
  },
  {
   "cell_type": "markdown",
   "metadata": {},
   "source": [
    "### 2. Looping Patterns \n",
    "Looping over names or values, instead of indices.\n",
    "\n",
    "There are three basic ways to loop over a vector. So far you've seen the most general: looping over the numeric indices with `for (i in seq_along(xs))`, and extracting the value with `x[[i]]`. There are two other forms:\n",
    "\n",
    "1.Loop over the elements: `for (x in xs)`. This is most useful if you only care about side-effects, like plotting or saving a file, because it's difficult to save the output efficiently."
   ]
  },
  {
   "cell_type": "code",
   "execution_count": 12,
   "metadata": {},
   "outputs": [
    {
     "name": "stdout",
     "output_type": "stream",
     "text": [
      "[1] \"a1\"\n",
      "[1] \"b2\"\n",
      "[1] \"c3\"\n"
     ]
    }
   ],
   "source": [
    "xs <- c(\"a1\", \"b2\", \"c3\")\n",
    "for (x in xs) {\n",
    "    print(x)\n",
    "}"
   ]
  },
  {
   "cell_type": "markdown",
   "metadata": {},
   "source": [
    "2.Loop over the names: `for (nm in names(xs))`. This gives you name, which you can use to access the value with `x[[nm]]`"
   ]
  },
  {
   "cell_type": "code",
   "execution_count": 13,
   "metadata": {},
   "outputs": [
    {
     "name": "stdout",
     "output_type": "stream",
     "text": [
      "[1] \"a\"\n",
      "[1] \"b\"\n",
      "[1] \"c\"\n",
      "[1] \"d\"\n"
     ]
    }
   ],
   "source": [
    "for (x in names(df)) {\n",
    "    print(x)\n",
    "}"
   ]
  },
  {
   "cell_type": "markdown",
   "metadata": {},
   "source": [
    "### 3. Unknown output length\n",
    "Sometimes you might not know how long the output will be. For example, imagine you want to simulate some random vectors of random lengths. You might be tempted to solve this problem by progressively growing the vector:"
   ]
  },
  {
   "cell_type": "code",
   "execution_count": 14,
   "metadata": {},
   "outputs": [
    {
     "name": "stdout",
     "output_type": "stream",
     "text": [
      " num [1:244] -1.2 0.301 0.138 -0.351 -1.448 ...\n"
     ]
    }
   ],
   "source": [
    "means <- c(0, 1, 2)\n",
    "\n",
    "output <- double()\n",
    "for (i in seq_along(means)) {\n",
    "  n <- sample(100, 1)  # picking a number from 1 to 100\n",
    "  output <- c(output, rnorm(n, means[[i]]))  # combining outputs of n random numbers around different means\n",
    "}\n",
    "str(output)"
   ]
  },
  {
   "cell_type": "markdown",
   "metadata": {},
   "source": [
    "But this is not very efficient because in each iteration, R has to copy all the data from the previous iterations.\n",
    "\n",
    "A better solution to save the results in a list, and then combine into a single vector after the loop is done:"
   ]
  },
  {
   "cell_type": "code",
   "execution_count": 15,
   "metadata": {},
   "outputs": [
    {
     "name": "stdout",
     "output_type": "stream",
     "text": [
      "List of 3\n",
      " $ : num [1:2] -0.163 0.603\n",
      " $ : num [1:82] -0.1419 2.8986 0.4163 1.0983 0.0961 ...\n",
      " $ : num [1:18] 1.25 1.84 1.71 4.55 3.27 ...\n"
     ]
    }
   ],
   "source": [
    "out <- vector(\"list\", length(means))\n",
    "for (i in seq_along(means)) {\n",
    "  n <- sample(100, 1)\n",
    "  out[[i]] <- rnorm(n, means[[i]])\n",
    "}\n",
    "str(out)"
   ]
  },
  {
   "cell_type": "code",
   "execution_count": 16,
   "metadata": {},
   "outputs": [
    {
     "name": "stdout",
     "output_type": "stream",
     "text": [
      " num [1:102] -0.163 0.603 -0.142 2.899 0.416 ...\n"
     ]
    }
   ],
   "source": [
    "# flatten a list of vectors into a single vector\n",
    "str(unlist(out))"
   ]
  },
  {
   "cell_type": "markdown",
   "metadata": {},
   "source": [
    "<a class=\"anchor\" id=\"while\"></a>\n",
    "### 4. Unknown sequence length, `while` loops\n",
    "Sometimes you don't even know how long the input sequence should run for. This is common when doing simulations. For example, you might want to loop until you get three heads in a row. You can't do that sort of iteration with the for loop. Instead, you can use a while loop. A while loop is simpler than for loop because it only has two components, a condition and a body:\n",
    "\n",
    "> `while (condition) {\n",
    "  body\n",
    "}`\n",
    "\n",
    "A while loop is also more general than a for loop, because you can rewrite any for loop as a while loop, but you can't rewrite every while loop as a for loop:"
   ]
  },
  {
   "cell_type": "code",
   "execution_count": 17,
   "metadata": {},
   "outputs": [],
   "source": [
    "for (i in seq_along(x)) {\n",
    "  # body\n",
    "}\n",
    "\n",
    "# Equivalent to\n",
    "i <- 1\n",
    "while (i <= length(x)) {\n",
    "  # body\n",
    "  i <- i + 1 \n",
    "}"
   ]
  },
  {
   "cell_type": "markdown",
   "metadata": {},
   "source": [
    "Here's how we could use a while loop to find how many tries it takes to get three heads in a row:"
   ]
  },
  {
   "cell_type": "code",
   "execution_count": 18,
   "metadata": {},
   "outputs": [
    {
     "data": {
      "text/html": [
       "5"
      ],
      "text/latex": [
       "5"
      ],
      "text/markdown": [
       "5"
      ],
      "text/plain": [
       "[1] 5"
      ]
     },
     "metadata": {},
     "output_type": "display_data"
    }
   ],
   "source": [
    "flip <- function() {\n",
    "    sample(c(\"T\", \"H\"), 1)\n",
    "}\n",
    "\n",
    "flips <- 0\n",
    "nheads <- 0\n",
    "\n",
    "while (nheads < 3) {\n",
    "  if (flip() == \"H\") {\n",
    "    nheads <- nheads + 1\n",
    "  } else {\n",
    "    nheads <- 0\n",
    "  }\n",
    "  flips <- flips + 1\n",
    "}\n",
    "flips"
   ]
  },
  {
   "cell_type": "markdown",
   "metadata": {},
   "source": [
    "I mention while loops only briefly, because I hardly ever use them. They're most often used for simulation, which is outside of the scope of these notebooks.\n",
    "\n",
    "---\n",
    "### Exercise 3\n",
    "Write a function that prints the mean of each numeric column in a data frame, along with its name. For example, `show_mean(iris)` would print:\n",
    "\n",
    "> `Sepal.Length 5.84\n",
    "Sepal.Width 3.06 \n",
    "Petal.Length 3.76 \n",
    "Petal.Width 1.20`"
   ]
  },
  {
   "cell_type": "markdown",
   "metadata": {},
   "source": [
    "---\n",
    "### For loops vs. functionals\n",
    "For loops are not as important in R as they are in other languages because R is a functional programming language. This means that it's possible to wrap up for loops in a function, and call that function instead of using the for loop directly.\n",
    "\n",
    "To see why this is important, consider this simple data frame:"
   ]
  },
  {
   "cell_type": "code",
   "execution_count": 19,
   "metadata": {},
   "outputs": [],
   "source": [
    "df <- tibble(\n",
    "  a = rnorm(10),\n",
    "  b = rnorm(10),\n",
    "  c = rnorm(10),\n",
    "  d = rnorm(10)\n",
    ")"
   ]
  },
  {
   "cell_type": "code",
   "execution_count": 20,
   "metadata": {},
   "outputs": [
    {
     "data": {
      "text/html": [
       "<ol class=list-inline>\n",
       "\t<li>0.102668666269979</li>\n",
       "\t<li>-0.608039940891728</li>\n",
       "\t<li>0.214935235899968</li>\n",
       "\t<li>0.0874532421921344</li>\n",
       "</ol>\n"
      ],
      "text/latex": [
       "\\begin{enumerate*}\n",
       "\\item 0.102668666269979\n",
       "\\item -0.608039940891728\n",
       "\\item 0.214935235899968\n",
       "\\item 0.0874532421921344\n",
       "\\end{enumerate*}\n"
      ],
      "text/markdown": [
       "1. 0.102668666269979\n",
       "2. -0.608039940891728\n",
       "3. 0.214935235899968\n",
       "4. 0.0874532421921344\n",
       "\n",
       "\n"
      ],
      "text/plain": [
       "[1]  0.10266867 -0.60803994  0.21493524  0.08745324"
      ]
     },
     "metadata": {},
     "output_type": "display_data"
    }
   ],
   "source": [
    "# adding an argument that supplies the function to apply to each column\n",
    "col_summary <- function(df, fun) {\n",
    "  out <- vector(\"double\", length(df))\n",
    "  for (i in seq_along(df)) {\n",
    "    out[i] <- fun(df[[i]])\n",
    "  }\n",
    "  out\n",
    "}\n",
    "col_summary(df, median)"
   ]
  },
  {
   "cell_type": "code",
   "execution_count": 21,
   "metadata": {},
   "outputs": [
    {
     "data": {
      "text/html": [
       "<ol class=list-inline>\n",
       "\t<li>-0.0927269403221744</li>\n",
       "\t<li>-0.45973010772967</li>\n",
       "\t<li>0.0900257888319443</li>\n",
       "\t<li>-0.00195375360665773</li>\n",
       "</ol>\n"
      ],
      "text/latex": [
       "\\begin{enumerate*}\n",
       "\\item -0.0927269403221744\n",
       "\\item -0.45973010772967\n",
       "\\item 0.0900257888319443\n",
       "\\item -0.00195375360665773\n",
       "\\end{enumerate*}\n"
      ],
      "text/markdown": [
       "1. -0.0927269403221744\n",
       "2. -0.45973010772967\n",
       "3. 0.0900257888319443\n",
       "4. -0.00195375360665773\n",
       "\n",
       "\n"
      ],
      "text/plain": [
       "[1] -0.092726940 -0.459730108  0.090025789 -0.001953754"
      ]
     },
     "metadata": {},
     "output_type": "display_data"
    }
   ],
   "source": [
    "col_summary(df, mean)"
   ]
  },
  {
   "cell_type": "markdown",
   "metadata": {},
   "source": [
    "The idea of passing a function to another function is extremely powerful idea, and it's one of the behaviors that makes R a functional programming language. It might take you a while to wrap your head around the idea, but it's worth the investment. \n",
    "\n",
    "---\n",
    "### Exercise 4\n",
    "Adapt `col_summary()` so that it only applies to numeric columns You might want to start with an `is_numeric()` function that returns a logical vector that has a TRUE corresponding to each numeric column."
   ]
  },
  {
   "cell_type": "code",
   "execution_count": 22,
   "metadata": {},
   "outputs": [],
   "source": [
    "# Your code goes here"
   ]
  },
  {
   "cell_type": "markdown",
   "metadata": {},
   "source": [
    "<div style=\"text-align: right\"> [[Jump to top]](#jump_to_top) </div>\n",
    "\n",
    "<a class=\"anchor\" id=\"purr\"></a>\n",
    "## iteration with purrr package\n",
    "The goal of using **purrr** functions instead of for loops is to allow you break common list manipulation challenges into independent pieces. Once you've solved the problem for a single element of the list, purrr takes care of generalizing your solution to every element in the list.\n",
    "\n",
    "The purrr package provides functions that eliminate the need for many common *for loops*. The apply family of functions in base R (`apply()`, `lapply()`, `tapply()`, etc) solve a similar problem, but purrr is more consistent and thus is easier to learn.\n",
    "\n",
    "<a class=\"anchor\" id=\"map\"></a>\n",
    "### The map functions\n",
    "The pattern of looping over a vector, doing something to each element and saving the results is so common that the purrr package provides a family of functions to do it for you. There is one function for each type of output:\n",
    "\n",
    "* `map()` makes a list.\n",
    "* `map_lgl()` makes a logical vector.\n",
    "* `map_int()` makes an integer vector.\n",
    "* `map_dbl()` makes a double vector.\n",
    "* `map_chr()` makes a character vector.\n",
    "\n",
    "Each function takes a vector as input, applies a function to each piece, and then returns a new vector that's the same length (and has the same names) as the input. The type of the vector is determined by the suffix to the map function.\n",
    "\n",
    "Once you master these functions, you'll find it takes much less time to solve iteration problems. But you should never feel bad about using a for loop instead of a map function.The map functions are a step up a tower of abstraction, and it can take a long time to get your head around how they work. The important thing is that you solve the problem that you're working on, not write the most concise and elegant code (although that's definitely something you want to strive towards!).\n",
    "\n",
    "The chief benefits of using functions like `map()` is not speed, but clarity: they make your code easier to write and to read.\n",
    "\n",
    "We can use these functions to perform the same computations as the last for loop. Those summary functions returned doubles, so we need to use `map_dbl()`:"
   ]
  },
  {
   "cell_type": "code",
   "execution_count": 23,
   "metadata": {},
   "outputs": [
    {
     "data": {
      "text/html": [
       "<dl class=dl-horizontal>\n",
       "\t<dt>a</dt>\n",
       "\t\t<dd>-0.0927269403221744</dd>\n",
       "\t<dt>b</dt>\n",
       "\t\t<dd>-0.45973010772967</dd>\n",
       "\t<dt>c</dt>\n",
       "\t\t<dd>0.0900257888319443</dd>\n",
       "\t<dt>d</dt>\n",
       "\t\t<dd>-0.00195375360665773</dd>\n",
       "</dl>\n"
      ],
      "text/latex": [
       "\\begin{description*}\n",
       "\\item[a] -0.0927269403221744\n",
       "\\item[b] -0.45973010772967\n",
       "\\item[c] 0.0900257888319443\n",
       "\\item[d] -0.00195375360665773\n",
       "\\end{description*}\n"
      ],
      "text/markdown": [
       "a\n",
       ":   -0.0927269403221744b\n",
       ":   -0.45973010772967c\n",
       ":   0.0900257888319443d\n",
       ":   -0.00195375360665773\n",
       "\n"
      ],
      "text/plain": [
       "           a            b            c            d \n",
       "-0.092726940 -0.459730108  0.090025789 -0.001953754 "
      ]
     },
     "metadata": {},
     "output_type": "display_data"
    }
   ],
   "source": [
    "map_dbl(df, mean)"
   ]
  },
  {
   "cell_type": "code",
   "execution_count": 24,
   "metadata": {},
   "outputs": [
    {
     "data": {
      "text/html": [
       "<dl class=dl-horizontal>\n",
       "\t<dt>a</dt>\n",
       "\t\t<dd>0.102668666269979</dd>\n",
       "\t<dt>b</dt>\n",
       "\t\t<dd>-0.608039940891728</dd>\n",
       "\t<dt>c</dt>\n",
       "\t\t<dd>0.214935235899968</dd>\n",
       "\t<dt>d</dt>\n",
       "\t\t<dd>0.0874532421921344</dd>\n",
       "</dl>\n"
      ],
      "text/latex": [
       "\\begin{description*}\n",
       "\\item[a] 0.102668666269979\n",
       "\\item[b] -0.608039940891728\n",
       "\\item[c] 0.214935235899968\n",
       "\\item[d] 0.0874532421921344\n",
       "\\end{description*}\n"
      ],
      "text/markdown": [
       "a\n",
       ":   0.102668666269979b\n",
       ":   -0.608039940891728c\n",
       ":   0.214935235899968d\n",
       ":   0.0874532421921344\n",
       "\n"
      ],
      "text/plain": [
       "          a           b           c           d \n",
       " 0.10266867 -0.60803994  0.21493524  0.08745324 "
      ]
     },
     "metadata": {},
     "output_type": "display_data"
    }
   ],
   "source": [
    "map_dbl(df, median)"
   ]
  },
  {
   "cell_type": "markdown",
   "metadata": {},
   "source": [
    "The map functions preserve names:"
   ]
  },
  {
   "cell_type": "code",
   "execution_count": 25,
   "metadata": {},
   "outputs": [
    {
     "data": {
      "text/html": [
       "<dl class=dl-horizontal>\n",
       "\t<dt>x</dt>\n",
       "\t\t<dd>3</dd>\n",
       "\t<dt>y</dt>\n",
       "\t\t<dd>2</dd>\n",
       "</dl>\n"
      ],
      "text/latex": [
       "\\begin{description*}\n",
       "\\item[x] 3\n",
       "\\item[y] 2\n",
       "\\end{description*}\n"
      ],
      "text/markdown": [
       "x\n",
       ":   3y\n",
       ":   2\n",
       "\n"
      ],
      "text/plain": [
       "x y \n",
       "3 2 "
      ]
     },
     "metadata": {},
     "output_type": "display_data"
    }
   ],
   "source": [
    "z <- list(x = 1:3, y = 4:5)\n",
    "map_int(z, length)"
   ]
  },
  {
   "cell_type": "markdown",
   "metadata": {},
   "source": [
    "---\n",
    "### Exercise 5\n",
    "Write code that uses one of the map functions to:\n",
    "1. Compute the mean of every column in `mtcars`.\n",
    "2. Determine the type of each column in `nycflights13::flights`. (Note: You might need to install nycflights13 package)\n",
    "3. Compute the number of unique values in each column of `iris`."
   ]
  },
  {
   "cell_type": "code",
   "execution_count": 26,
   "metadata": {},
   "outputs": [],
   "source": [
    "# Your code goes here"
   ]
  },
  {
   "cell_type": "markdown",
   "metadata": {},
   "source": [
    "---\n",
    "### Exercise 6\n",
    "How can you create a single vector that for each column in a data frame indicates whether or not it's a factor?"
   ]
  },
  {
   "cell_type": "code",
   "execution_count": 27,
   "metadata": {},
   "outputs": [],
   "source": [
    "# Your code goes here"
   ]
  },
  {
   "cell_type": "markdown",
   "metadata": {},
   "source": [
    "---\n",
    "### Exercise 7\n",
    "What happens when you use the map functions on vectors that aren't lists? What does `map(1:5, runif)` do?"
   ]
  },
  {
   "cell_type": "code",
   "execution_count": 28,
   "metadata": {},
   "outputs": [],
   "source": [
    "# Your code goes here"
   ]
  },
  {
   "cell_type": "markdown",
   "metadata": {},
   "source": [
    "---\n",
    "### Exercise 8\n",
    "What does `map(-2:2, rnorm, n = 5)` do? Why? What does `map_dbl(-2:2, rnorm, n = 5)` do? "
   ]
  },
  {
   "cell_type": "code",
   "execution_count": 29,
   "metadata": {},
   "outputs": [],
   "source": [
    "# Your code goes here"
   ]
  },
  {
   "cell_type": "markdown",
   "metadata": {},
   "source": [
    "---\n",
    "<div style=\"text-align: right\"> [[Jump to top]](#jump_to_top) </div> \n",
    "\n",
    "<a class=\"anchor\" id=\"map2\"></a>\n",
    "## map2()\n",
    "So far we've mapped along a single input. But often you have multiple related inputs that you need iterate along in parallel. That's the job of the `map2()` and `pmap()` functions."
   ]
  },
  {
   "cell_type": "code",
   "execution_count": 30,
   "metadata": {},
   "outputs": [
    {
     "data": {
      "text/html": [
       "<ol>\n",
       "\t<li><ol class=list-inline>\n",
       "\t<li>4.04223649541084</li>\n",
       "\t<li>3.99863157551241</li>\n",
       "\t<li>5.15733983001799</li>\n",
       "\t<li>4.56116347937602</li>\n",
       "\t<li>8.43629031745249</li>\n",
       "</ol>\n",
       "</li>\n",
       "\t<li><ol class=list-inline>\n",
       "\t<li>14.9137692097886</li>\n",
       "\t<li>0.880072837529282</li>\n",
       "\t<li>11.6388160221066</li>\n",
       "\t<li>2.42411772555094</li>\n",
       "\t<li>11.642659239108</li>\n",
       "</ol>\n",
       "</li>\n",
       "\t<li><ol class=list-inline>\n",
       "\t<li>3.68537843517911</li>\n",
       "\t<li>-10.9779733779666</li>\n",
       "\t<li>-2.56850560373916</li>\n",
       "\t<li>-7.66955436020876</li>\n",
       "\t<li>3.609945739127</li>\n",
       "</ol>\n",
       "</li>\n",
       "</ol>\n"
      ],
      "text/latex": [
       "\\begin{enumerate}\n",
       "\\item \\begin{enumerate*}\n",
       "\\item 4.04223649541084\n",
       "\\item 3.99863157551241\n",
       "\\item 5.15733983001799\n",
       "\\item 4.56116347937602\n",
       "\\item 8.43629031745249\n",
       "\\end{enumerate*}\n",
       "\n",
       "\\item \\begin{enumerate*}\n",
       "\\item 14.9137692097886\n",
       "\\item 0.880072837529282\n",
       "\\item 11.6388160221066\n",
       "\\item 2.42411772555094\n",
       "\\item 11.642659239108\n",
       "\\end{enumerate*}\n",
       "\n",
       "\\item \\begin{enumerate*}\n",
       "\\item 3.68537843517911\n",
       "\\item -10.9779733779666\n",
       "\\item -2.56850560373916\n",
       "\\item -7.66955436020876\n",
       "\\item 3.609945739127\n",
       "\\end{enumerate*}\n",
       "\n",
       "\\end{enumerate}\n"
      ],
      "text/markdown": [
       "1. 1. 4.04223649541084\n",
       "2. 3.99863157551241\n",
       "3. 5.15733983001799\n",
       "4. 4.56116347937602\n",
       "5. 8.43629031745249\n",
       "\n",
       "\n",
       "\n",
       "2. 1. 14.9137692097886\n",
       "2. 0.880072837529282\n",
       "3. 11.6388160221066\n",
       "4. 2.42411772555094\n",
       "5. 11.642659239108\n",
       "\n",
       "\n",
       "\n",
       "3. 1. 3.68537843517911\n",
       "2. -10.9779733779666\n",
       "3. -2.56850560373916\n",
       "4. -7.66955436020876\n",
       "5. 3.609945739127\n",
       "\n",
       "\n",
       "\n",
       "\n",
       "\n"
      ],
      "text/plain": [
       "[[1]]\n",
       "[1] 4.042236 3.998632 5.157340 4.561163 8.436290\n",
       "\n",
       "[[2]]\n",
       "[1] 14.9137692  0.8800728 11.6388160  2.4241177 11.6426592\n",
       "\n",
       "[[3]]\n",
       "[1]   3.685378 -10.977973  -2.568506  -7.669554   3.609946\n"
      ]
     },
     "metadata": {},
     "output_type": "display_data"
    }
   ],
   "source": [
    "mu <- c(5, 10, -3)\n",
    "sigma <- c(1, 5, 10)\n",
    "map2(mu, sigma, rnorm, n = 5)"
   ]
  },
  {
   "cell_type": "markdown",
   "metadata": {},
   "source": [
    "<img src=\"../png/map2.png\" width=\"600px\" align=\"center\">\n",
    "\n",
    "Note that the arguments that vary for each call come before the function; arguments that are the same for every call come after.\n",
    "\n",
    "Like `map()`, `map2()` is just a wrapper around a for loop:\n",
    "\n",
    "> `map2 <- function(x, y, f, ...) {\n",
    "  out <- vector(\"list\", length(x))\n",
    "  for (i in seq_along(x)) {\n",
    "    out[[i]] <- f(x[[i]], y[[i]], ...)\n",
    "  }\n",
    "  out\n",
    "}`\n",
    "\n",
    "<a class=\"anchor\" id=\"pmap\"></a>\n",
    "## pmap()\n",
    "You could also imagine `map3()`, `map4()`, `map5()`, `map6()` etc, but that would get tedious quickly. Instead, purrr provides `pmap()` which takes a list of arguments. You might use that if you wanted to vary the mean, standard deviation, and number of samples:"
   ]
  },
  {
   "cell_type": "code",
   "execution_count": 31,
   "metadata": {},
   "outputs": [
    {
     "data": {
      "text/html": [
       "<ol>\n",
       "\t<li>4.05285347546849</li>\n",
       "\t<li><ol class=list-inline>\n",
       "\t<li>-0.240152929608435</li>\n",
       "\t<li>2.06710548429029</li>\n",
       "\t<li>15.5726216019291</li>\n",
       "</ol>\n",
       "</li>\n",
       "\t<li><ol class=list-inline>\n",
       "\t<li>2.63981790503077</li>\n",
       "\t<li>-9.60281778600202</li>\n",
       "\t<li>8.49942217171659</li>\n",
       "\t<li>-6.61417396248442</li>\n",
       "\t<li>-13.1933135052681</li>\n",
       "</ol>\n",
       "</li>\n",
       "</ol>\n"
      ],
      "text/latex": [
       "\\begin{enumerate}\n",
       "\\item 4.05285347546849\n",
       "\\item \\begin{enumerate*}\n",
       "\\item -0.240152929608435\n",
       "\\item 2.06710548429029\n",
       "\\item 15.5726216019291\n",
       "\\end{enumerate*}\n",
       "\n",
       "\\item \\begin{enumerate*}\n",
       "\\item 2.63981790503077\n",
       "\\item -9.60281778600202\n",
       "\\item 8.49942217171659\n",
       "\\item -6.61417396248442\n",
       "\\item -13.1933135052681\n",
       "\\end{enumerate*}\n",
       "\n",
       "\\end{enumerate}\n"
      ],
      "text/markdown": [
       "1. 4.05285347546849\n",
       "2. 1. -0.240152929608435\n",
       "2. 2.06710548429029\n",
       "3. 15.5726216019291\n",
       "\n",
       "\n",
       "\n",
       "3. 1. 2.63981790503077\n",
       "2. -9.60281778600202\n",
       "3. 8.49942217171659\n",
       "4. -6.61417396248442\n",
       "5. -13.1933135052681\n",
       "\n",
       "\n",
       "\n",
       "\n",
       "\n"
      ],
      "text/plain": [
       "[[1]]\n",
       "[1] 4.052853\n",
       "\n",
       "[[2]]\n",
       "[1] -0.2401529  2.0671055 15.5726216\n",
       "\n",
       "[[3]]\n",
       "[1]   2.639818  -9.602818   8.499422  -6.614174 -13.193314\n"
      ]
     },
     "metadata": {},
     "output_type": "display_data"
    }
   ],
   "source": [
    "n <- c(1, 3, 5)\n",
    "pmap(list(n, mu, sigma), rnorm) "
   ]
  },
  {
   "cell_type": "markdown",
   "metadata": {},
   "source": [
    "If you don't name the elements of list, `pmap()` will use positional matching when calling the function. That's a little fragile, and makes the code harder to read, so it's better to name the arguments:"
   ]
  },
  {
   "cell_type": "code",
   "execution_count": 32,
   "metadata": {},
   "outputs": [
    {
     "data": {
      "text/html": [
       "<ol>\n",
       "\t<li>4.38421001336441</li>\n",
       "\t<li><ol class=list-inline>\n",
       "\t<li>15.8395850810138</li>\n",
       "\t<li>12.737217254449</li>\n",
       "\t<li>8.44306955749494</li>\n",
       "</ol>\n",
       "</li>\n",
       "\t<li><ol class=list-inline>\n",
       "\t<li>8.86939250640474</li>\n",
       "\t<li>0.944800627485898</li>\n",
       "\t<li>-19.5613298678182</li>\n",
       "\t<li>-8.830125167705</li>\n",
       "\t<li>3.08870758609297</li>\n",
       "</ol>\n",
       "</li>\n",
       "</ol>\n"
      ],
      "text/latex": [
       "\\begin{enumerate}\n",
       "\\item 4.38421001336441\n",
       "\\item \\begin{enumerate*}\n",
       "\\item 15.8395850810138\n",
       "\\item 12.737217254449\n",
       "\\item 8.44306955749494\n",
       "\\end{enumerate*}\n",
       "\n",
       "\\item \\begin{enumerate*}\n",
       "\\item 8.86939250640474\n",
       "\\item 0.944800627485898\n",
       "\\item -19.5613298678182\n",
       "\\item -8.830125167705\n",
       "\\item 3.08870758609297\n",
       "\\end{enumerate*}\n",
       "\n",
       "\\end{enumerate}\n"
      ],
      "text/markdown": [
       "1. 4.38421001336441\n",
       "2. 1. 15.8395850810138\n",
       "2. 12.737217254449\n",
       "3. 8.44306955749494\n",
       "\n",
       "\n",
       "\n",
       "3. 1. 8.86939250640474\n",
       "2. 0.944800627485898\n",
       "3. -19.5613298678182\n",
       "4. -8.830125167705\n",
       "5. 3.08870758609297\n",
       "\n",
       "\n",
       "\n",
       "\n",
       "\n"
      ],
      "text/plain": [
       "[[1]]\n",
       "[1] 4.38421\n",
       "\n",
       "[[2]]\n",
       "[1] 15.83959 12.73722  8.44307\n",
       "\n",
       "[[3]]\n",
       "[1]   8.8693925   0.9448006 -19.5613299  -8.8301252   3.0887076\n"
      ]
     },
     "metadata": {},
     "output_type": "display_data"
    }
   ],
   "source": [
    "args2 <- list(mean = mu, sd = sigma, n = n)\n",
    "pmap(args2, rnorm)"
   ]
  },
  {
   "cell_type": "markdown",
   "metadata": {},
   "source": [
    "<img src=\"../png/pmap.png\" width=\"600px\" align=\"center\">\n",
    "\n",
    "We can wrap up the arguments in a dataframe since they are all the same length:"
   ]
  },
  {
   "cell_type": "code",
   "execution_count": 33,
   "metadata": {},
   "outputs": [
    {
     "data": {
      "text/html": [
       "<table>\n",
       "<thead><tr><th scope=col>mean</th><th scope=col>sd</th><th scope=col>n</th></tr></thead>\n",
       "<tbody>\n",
       "\t<tr><td> 5</td><td> 1</td><td>1 </td></tr>\n",
       "\t<tr><td>10</td><td> 5</td><td>3 </td></tr>\n",
       "\t<tr><td>-3</td><td>10</td><td>5 </td></tr>\n",
       "</tbody>\n",
       "</table>\n"
      ],
      "text/latex": [
       "\\begin{tabular}{r|lll}\n",
       " mean & sd & n\\\\\n",
       "\\hline\n",
       "\t  5 &  1 & 1 \\\\\n",
       "\t 10 &  5 & 3 \\\\\n",
       "\t -3 & 10 & 5 \\\\\n",
       "\\end{tabular}\n"
      ],
      "text/markdown": [
       "\n",
       "mean | sd | n | \n",
       "|---|---|---|\n",
       "|  5 |  1 | 1  | \n",
       "| 10 |  5 | 3  | \n",
       "| -3 | 10 | 5  | \n",
       "\n",
       "\n"
      ],
      "text/plain": [
       "  mean sd n\n",
       "1  5    1 1\n",
       "2 10    5 3\n",
       "3 -3   10 5"
      ]
     },
     "metadata": {},
     "output_type": "display_data"
    },
    {
     "data": {
      "text/html": [
       "<ol>\n",
       "\t<li>4.04909524840903</li>\n",
       "\t<li><ol class=list-inline>\n",
       "\t<li>10.2794180531759</li>\n",
       "\t<li>6.67186690149204</li>\n",
       "\t<li>6.82614577337157</li>\n",
       "</ol>\n",
       "</li>\n",
       "\t<li><ol class=list-inline>\n",
       "\t<li>-13.7863440557742</li>\n",
       "\t<li>3.00427394574409</li>\n",
       "\t<li>-1.72095669427444</li>\n",
       "\t<li>-6.6995676092603</li>\n",
       "\t<li>5.03301313190812</li>\n",
       "</ol>\n",
       "</li>\n",
       "</ol>\n"
      ],
      "text/latex": [
       "\\begin{enumerate}\n",
       "\\item 4.04909524840903\n",
       "\\item \\begin{enumerate*}\n",
       "\\item 10.2794180531759\n",
       "\\item 6.67186690149204\n",
       "\\item 6.82614577337157\n",
       "\\end{enumerate*}\n",
       "\n",
       "\\item \\begin{enumerate*}\n",
       "\\item -13.7863440557742\n",
       "\\item 3.00427394574409\n",
       "\\item -1.72095669427444\n",
       "\\item -6.6995676092603\n",
       "\\item 5.03301313190812\n",
       "\\end{enumerate*}\n",
       "\n",
       "\\end{enumerate}\n"
      ],
      "text/markdown": [
       "1. 4.04909524840903\n",
       "2. 1. 10.2794180531759\n",
       "2. 6.67186690149204\n",
       "3. 6.82614577337157\n",
       "\n",
       "\n",
       "\n",
       "3. 1. -13.7863440557742\n",
       "2. 3.00427394574409\n",
       "3. -1.72095669427444\n",
       "4. -6.6995676092603\n",
       "5. 5.03301313190812\n",
       "\n",
       "\n",
       "\n",
       "\n",
       "\n"
      ],
      "text/plain": [
       "[[1]]\n",
       "[1] 4.049095\n",
       "\n",
       "[[2]]\n",
       "[1] 10.279418  6.671867  6.826146\n",
       "\n",
       "[[3]]\n",
       "[1] -13.786344   3.004274  -1.720957  -6.699568   5.033013\n"
      ]
     },
     "metadata": {},
     "output_type": "display_data"
    }
   ],
   "source": [
    "params <- tribble(\n",
    "  ~mean, ~sd, ~n,\n",
    "    5,     1,  1,\n",
    "   10,     5,  3,\n",
    "   -3,    10,  5\n",
    ")\n",
    "params\n",
    "pmap(params, rnorm)"
   ]
  },
  {
   "cell_type": "markdown",
   "metadata": {},
   "source": [
    "As soon as your code gets complicated, I think a data frame is a good approach because it ensures that each column has a name and is the same length as all the other columns.\n",
    "\n",
    "<div style=\"text-align: right\"> [[Jump to top]](#jump_to_top) </div> "
   ]
  }
 ],
 "metadata": {
  "kernelspec": {
   "display_name": "R",
   "language": "R",
   "name": "ir"
  },
  "language_info": {
   "codemirror_mode": "r",
   "file_extension": ".r",
   "mimetype": "text/x-r-source",
   "name": "R",
   "pygments_lexer": "r",
   "version": "3.5.1"
  }
 },
 "nbformat": 4,
 "nbformat_minor": 2
}
