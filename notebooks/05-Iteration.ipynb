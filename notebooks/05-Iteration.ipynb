{
 "cells": [
  {
   "cell_type": "markdown",
   "metadata": {},
   "source": [
    "# Iteration\n",
    "---\n",
    "In the previous notebook we saw how we can use functions to reduce duplication in our code. Another great tool for reducing duplication is **iteration**, which helps you when you need to do the same thing to multiple inputs: repeating the same operation on different columns, or on different datasets."
   ]
  },
  {
   "cell_type": "code",
   "execution_count": 1,
   "metadata": {},
   "outputs": [
    {
     "name": "stderr",
     "output_type": "stream",
     "text": [
      "── Attaching packages ─────────────────────────────────────── tidyverse 1.2.1 ──\n",
      "✔ ggplot2 3.0.0     ✔ purrr   0.2.5\n",
      "✔ tibble  1.4.2     ✔ dplyr   0.7.6\n",
      "✔ tidyr   0.8.1     ✔ stringr 1.3.1\n",
      "✔ readr   1.1.1     ✔ forcats 0.3.0\n",
      "── Conflicts ────────────────────────────────────────── tidyverse_conflicts() ──\n",
      "✖ dplyr::filter() masks stats::filter()\n",
      "✖ dplyr::lag()    masks stats::lag()\n"
     ]
    }
   ],
   "source": [
    "# Attaching libraries\n",
    "library(tidyverse)\n",
    "\n",
    "# install.packages('nycflights13')  \n",
    "library(nycflights13)"
   ]
  },
  {
   "cell_type": "markdown",
   "metadata": {
    "collapsed": true
   },
   "source": [
    "## For loops\n",
    "Imagine we have this simple data frame comprised of some random numbers:"
   ]
  },
  {
   "cell_type": "code",
   "execution_count": 2,
   "metadata": {},
   "outputs": [
    {
     "data": {
      "text/html": [
       "<table>\n",
       "<thead><tr><th scope=col>a</th><th scope=col>b</th><th scope=col>c</th><th scope=col>d</th></tr></thead>\n",
       "<tbody>\n",
       "\t<tr><td>-0.58184306</td><td>-1.33769931</td><td> 0.46798308</td><td> 0.31074805</td></tr>\n",
       "\t<tr><td> 0.58985353</td><td>-1.78342618</td><td> 0.16445536</td><td> 0.09589088</td></tr>\n",
       "\t<tr><td> 1.02204620</td><td>-0.11197321</td><td> 0.92714933</td><td>-0.67077822</td></tr>\n",
       "\t<tr><td> 0.61534281</td><td>-1.56515383</td><td> 1.18091621</td><td> 0.47657444</td></tr>\n",
       "\t<tr><td>-0.28872441</td><td>-0.06951764</td><td>-1.84571961</td><td>-1.02852643</td></tr>\n",
       "\t<tr><td>-0.91529304</td><td>-0.55496807</td><td> 1.24589352</td><td> 0.64775155</td></tr>\n",
       "\t<tr><td> 0.66314351</td><td> 0.63284961</td><td>-0.07613334</td><td> 0.21792358</td></tr>\n",
       "\t<tr><td>-0.05150540</td><td> 0.62676223</td><td> 0.44322520</td><td>-0.69334270</td></tr>\n",
       "\t<tr><td> 2.38459470</td><td> 0.41786103</td><td> 1.79970647</td><td>-1.05656617</td></tr>\n",
       "\t<tr><td> 0.02901193</td><td>-0.48583334</td><td>-0.41817070</td><td>-0.23719351</td></tr>\n",
       "</tbody>\n",
       "</table>\n"
      ],
      "text/latex": [
       "\\begin{tabular}{r|llll}\n",
       " a & b & c & d\\\\\n",
       "\\hline\n",
       "\t -0.58184306 & -1.33769931 &  0.46798308 &  0.31074805\\\\\n",
       "\t  0.58985353 & -1.78342618 &  0.16445536 &  0.09589088\\\\\n",
       "\t  1.02204620 & -0.11197321 &  0.92714933 & -0.67077822\\\\\n",
       "\t  0.61534281 & -1.56515383 &  1.18091621 &  0.47657444\\\\\n",
       "\t -0.28872441 & -0.06951764 & -1.84571961 & -1.02852643\\\\\n",
       "\t -0.91529304 & -0.55496807 &  1.24589352 &  0.64775155\\\\\n",
       "\t  0.66314351 &  0.63284961 & -0.07613334 &  0.21792358\\\\\n",
       "\t -0.05150540 &  0.62676223 &  0.44322520 & -0.69334270\\\\\n",
       "\t  2.38459470 &  0.41786103 &  1.79970647 & -1.05656617\\\\\n",
       "\t  0.02901193 & -0.48583334 & -0.41817070 & -0.23719351\\\\\n",
       "\\end{tabular}\n"
      ],
      "text/markdown": [
       "\n",
       "a | b | c | d | \n",
       "|---|---|---|---|---|---|---|---|---|---|\n",
       "| -0.58184306 | -1.33769931 |  0.46798308 |  0.31074805 | \n",
       "|  0.58985353 | -1.78342618 |  0.16445536 |  0.09589088 | \n",
       "|  1.02204620 | -0.11197321 |  0.92714933 | -0.67077822 | \n",
       "|  0.61534281 | -1.56515383 |  1.18091621 |  0.47657444 | \n",
       "| -0.28872441 | -0.06951764 | -1.84571961 | -1.02852643 | \n",
       "| -0.91529304 | -0.55496807 |  1.24589352 |  0.64775155 | \n",
       "|  0.66314351 |  0.63284961 | -0.07613334 |  0.21792358 | \n",
       "| -0.05150540 |  0.62676223 |  0.44322520 | -0.69334270 | \n",
       "|  2.38459470 |  0.41786103 |  1.79970647 | -1.05656617 | \n",
       "|  0.02901193 | -0.48583334 | -0.41817070 | -0.23719351 | \n",
       "\n",
       "\n"
      ],
      "text/plain": [
       "   a           b           c           d          \n",
       "1  -0.58184306 -1.33769931  0.46798308  0.31074805\n",
       "2   0.58985353 -1.78342618  0.16445536  0.09589088\n",
       "3   1.02204620 -0.11197321  0.92714933 -0.67077822\n",
       "4   0.61534281 -1.56515383  1.18091621  0.47657444\n",
       "5  -0.28872441 -0.06951764 -1.84571961 -1.02852643\n",
       "6  -0.91529304 -0.55496807  1.24589352  0.64775155\n",
       "7   0.66314351  0.63284961 -0.07613334  0.21792358\n",
       "8  -0.05150540  0.62676223  0.44322520 -0.69334270\n",
       "9   2.38459470  0.41786103  1.79970647 -1.05656617\n",
       "10  0.02901193 -0.48583334 -0.41817070 -0.23719351"
      ]
     },
     "metadata": {},
     "output_type": "display_data"
    }
   ],
   "source": [
    "df <- tibble(\n",
    "  a = rnorm(10),\n",
    "  b = rnorm(10),\n",
    "  c = rnorm(10),\n",
    "  d = rnorm(10)\n",
    ")\n",
    "df"
   ]
  },
  {
   "cell_type": "markdown",
   "metadata": {},
   "source": [
    "We want to compute the median of each column. You could do with copy-and-paste:"
   ]
  },
  {
   "cell_type": "code",
   "execution_count": 3,
   "metadata": {},
   "outputs": [
    {
     "data": {
      "text/html": [
       "0.309432728306438"
      ],
      "text/latex": [
       "0.309432728306438"
      ],
      "text/markdown": [
       "0.309432728306438"
      ],
      "text/plain": [
       "[1] 0.3094327"
      ]
     },
     "metadata": {},
     "output_type": "display_data"
    },
    {
     "data": {
      "text/html": [
       "-0.298903274836475"
      ],
      "text/latex": [
       "-0.298903274836475"
      ],
      "text/markdown": [
       "-0.298903274836475"
      ],
      "text/plain": [
       "[1] -0.2989033"
      ]
     },
     "metadata": {},
     "output_type": "display_data"
    },
    {
     "data": {
      "text/html": [
       "0.455604138947033"
      ],
      "text/latex": [
       "0.455604138947033"
      ],
      "text/markdown": [
       "0.455604138947033"
      ],
      "text/plain": [
       "[1] 0.4556041"
      ]
     },
     "metadata": {},
     "output_type": "display_data"
    },
    {
     "data": {
      "text/html": [
       "-0.0706513163082699"
      ],
      "text/latex": [
       "-0.0706513163082699"
      ],
      "text/markdown": [
       "-0.0706513163082699"
      ],
      "text/plain": [
       "[1] -0.07065132"
      ]
     },
     "metadata": {},
     "output_type": "display_data"
    }
   ],
   "source": [
    "median(df$a)\n",
    "median(df$b)\n",
    "median(df$c)\n",
    "median(df$d)"
   ]
  },
  {
   "cell_type": "markdown",
   "metadata": {},
   "source": [
    "But that breaks our rule of thumb: never copy and paste more than twice. Instead, we could use a for loop:"
   ]
  },
  {
   "cell_type": "code",
   "execution_count": 4,
   "metadata": {},
   "outputs": [
    {
     "name": "stdout",
     "output_type": "stream",
     "text": [
      "[1] \"Median for column a: 0.309432728306438\"\n",
      "[1] \"Median for column b: -0.298903274836475\"\n",
      "[1] \"Median for column c: 0.455604138947033\"\n",
      "[1] \"Median for column d: -0.0706513163082699\"\n"
     ]
    }
   ],
   "source": [
    "for (i in 1:4) {\n",
    "    print(paste0(\"Median for column \", colnames(df)[i], \": \", median(df[[i]])))\n",
    "}"
   ]
  },
  {
   "cell_type": "markdown",
   "metadata": {},
   "source": [
    "If we would want to use these values again it's a good practice to store them:"
   ]
  },
  {
   "cell_type": "code",
   "execution_count": 5,
   "metadata": {},
   "outputs": [
    {
     "data": {
      "text/html": [
       "<ol class=list-inline>\n",
       "\t<li>0.309432728306438</li>\n",
       "\t<li>-0.298903274836475</li>\n",
       "\t<li>0.455604138947033</li>\n",
       "\t<li>-0.0706513163082699</li>\n",
       "</ol>\n"
      ],
      "text/latex": [
       "\\begin{enumerate*}\n",
       "\\item 0.309432728306438\n",
       "\\item -0.298903274836475\n",
       "\\item 0.455604138947033\n",
       "\\item -0.0706513163082699\n",
       "\\end{enumerate*}\n"
      ],
      "text/markdown": [
       "1. 0.309432728306438\n",
       "2. -0.298903274836475\n",
       "3. 0.455604138947033\n",
       "4. -0.0706513163082699\n",
       "\n",
       "\n"
      ],
      "text/plain": [
       "[1]  0.30943273 -0.29890327  0.45560414 -0.07065132"
      ]
     },
     "metadata": {},
     "output_type": "display_data"
    }
   ],
   "source": [
    "output <- vector(\"double\", ncol(df))  # 1. output\n",
    "for (i in seq_along(df)) {            # 2. sequence\n",
    "  output[[i]] <- median(df[[i]])      # 3. body\n",
    "}\n",
    "output"
   ]
  },
  {
   "cell_type": "markdown",
   "metadata": {},
   "source": [
    "Every for loop has three components:\n",
    "1. **Output**: `output <- vector(\"double\", length(x))`. Before you start the loop, you must always allocate sufficient space for the output to increase efficiency. A general way of creating an empty vector of given length is the `vector()` function. It has two arguments: the type of the vector (\"logical\", \"integer\", \"double\", \"character\", etc) and the length of the vector.\n",
    "2. **Sequence**: `i in seq_along(df)`. This determines what to loop over: each run of the for loop will assign `i` to a different value from `seq_along(df)`.\n",
    "3. **Body**: `output[[i]] <- median(df[[i]])`. This is the code that does the work. It's run repeatedly, each time with a different value for `i`. The first iteration will run `output[[1]] <- median(df[[1]])`, the second will run `output[[2]] <- median(df[[2]])`, and so on.\n",
    "\n",
    "---\n",
    "### Exercise 1\n",
    "Write for loops to:\n",
    "1. Compute the mean of every column in `mtcars`.\n",
    "2. Determine the type of each column in `nycflights13::flights`. (Note: You might need to install nycflights13 package)\n",
    "3. Compute the number of unique values in each column of `iris`."
   ]
  },
  {
   "cell_type": "code",
   "execution_count": 6,
   "metadata": {},
   "outputs": [],
   "source": [
    "# Your answer goes here."
   ]
  },
  {
   "cell_type": "markdown",
   "metadata": {},
   "source": [
    "---\n",
    "### Exercise 2\n",
    "Eliminate the for loop in each of the following examples by taking advantage of an existing function that works with vectors:"
   ]
  },
  {
   "cell_type": "code",
   "execution_count": 7,
   "metadata": {},
   "outputs": [],
   "source": [
    "out <- \"\"\n",
    "for (x in letters) {\n",
    "  out <- stringr::str_c(out, x)\n",
    "}"
   ]
  },
  {
   "cell_type": "code",
   "execution_count": 8,
   "metadata": {},
   "outputs": [],
   "source": [
    "x <- sample(100)\n",
    "sd <- 0\n",
    "for (i in seq_along(x)) {\n",
    "  sd <- sd + (x[i] - mean(x)) ^ 2\n",
    "}\n",
    "sd <- sqrt(sd / (length(x) - 1))"
   ]
  },
  {
   "cell_type": "markdown",
   "metadata": {},
   "source": [
    "---\n",
    "## For loop variations\n",
    "There are four variations on the basic theme of the for loop:\n",
    "\n",
    "1. Modifying an existing object\n",
    "2. Looping Patterns\n",
    "3. Unknown output length\n",
    "4. Unknown sequence length, `while` loops\n",
    "\n",
    "### 1. Modifying an existing object\n",
    "Sometimes you want to use a for loop to modify an existing object, instead of creating a new one. For example, our code from functions. We wanted to rescale every column in a data frame:"
   ]
  },
  {
   "cell_type": "code",
   "execution_count": 9,
   "metadata": {},
   "outputs": [],
   "source": [
    "df <- tibble(\n",
    "  a = rnorm(10),\n",
    "  b = rnorm(10),\n",
    "  c = rnorm(10),\n",
    "  d = rnorm(10)\n",
    ")\n",
    "Rescale <- function(x) {\n",
    "  min <- min(x, na.rm = TRUE)\n",
    "  max <- max(x, na.rm = TRUE)\n",
    "  (x - min) / (max - min)\n",
    "}\n",
    "\n",
    "df$a <- Rescale(df$a)\n",
    "df$b <- Rescale(df$b)\n",
    "df$c <- Rescale(df$c)\n",
    "df$d <- Rescale(df$d)"
   ]
  },
  {
   "cell_type": "markdown",
   "metadata": {},
   "source": [
    "To solve this with a for loop we again think about the three components:\n",
    "\n",
    "1. **Output**: we already have the output - it's the same as the input!\n",
    "\n",
    "2. **Sequence**: we can think about a data frame as a list of columns, so we can iterate over each column with `seq_along(df)`.\n",
    "\n",
    "3. **Body**: apply `Rescale()`.\n",
    "\n",
    "This gives us:"
   ]
  },
  {
   "cell_type": "code",
   "execution_count": 10,
   "metadata": {},
   "outputs": [],
   "source": [
    "for (i in seq_along(df)) {\n",
    "  df[[i]] <- Rescale(df[[i]])\n",
    "}"
   ]
  },
  {
   "cell_type": "markdown",
   "metadata": {},
   "source": [
    "Typically you'll be modifying a list or data frame with this sort of loop, so remember to use `[[`, not `[`. "
   ]
  },
  {
   "cell_type": "markdown",
   "metadata": {},
   "source": [
    "### 2. Looping Patterns \n",
    "Looping over names or values, instead of indices.\n",
    "\n",
    "There are three basic ways to loop over a vector. So far you've seen the most general: looping over the numeric indices with `for (i in seq_along(xs))`, and extracting the value with `x[[i]]`. There are two other forms:\n",
    "\n",
    "1.Loop over the elements: `for (x in xs)`. This is most useful if you only care about side-effects, like plotting or saving a file, because it's difficult to save the output efficiently."
   ]
  },
  {
   "cell_type": "code",
   "execution_count": 11,
   "metadata": {},
   "outputs": [
    {
     "name": "stdout",
     "output_type": "stream",
     "text": [
      "[1] \"a1\"\n",
      "[1] \"b2\"\n",
      "[1] \"c3\"\n"
     ]
    }
   ],
   "source": [
    "xs <- c(\"a1\", \"b2\", \"c3\")\n",
    "for (x in xs) {\n",
    "    print(x)\n",
    "}"
   ]
  },
  {
   "cell_type": "markdown",
   "metadata": {},
   "source": [
    "2.Loop over the names: `for (nm in names(xs))`. This gives you name, which you can use to access the value with `x[[nm]]`"
   ]
  },
  {
   "cell_type": "code",
   "execution_count": 12,
   "metadata": {},
   "outputs": [
    {
     "name": "stdout",
     "output_type": "stream",
     "text": [
      "[1] \"a\"\n",
      "[1] \"b\"\n",
      "[1] \"c\"\n",
      "[1] \"d\"\n"
     ]
    }
   ],
   "source": [
    "for (x in names(df)) {\n",
    "    print(x)\n",
    "}"
   ]
  },
  {
   "cell_type": "markdown",
   "metadata": {},
   "source": [
    "### 3. Unknown output length\n",
    "Sometimes you might not know how long the output will be. For example, imagine you want to simulate some random vectors of random lengths. You might be tempted to solve this problem by progressively growing the vector:"
   ]
  },
  {
   "cell_type": "code",
   "execution_count": 13,
   "metadata": {},
   "outputs": [
    {
     "name": "stdout",
     "output_type": "stream",
     "text": [
      " num [1:109] 0.164 1.106 -1.892 -0.336 0.506 ...\n"
     ]
    }
   ],
   "source": [
    "means <- c(0, 1, 2)\n",
    "\n",
    "output <- double()\n",
    "for (i in seq_along(means)) {\n",
    "  n <- sample(100, 1)  # picking a number from 1 to 100\n",
    "  output <- c(output, rnorm(n, means[[i]]))  # combining outputs of n random numbers around different means\n",
    "}\n",
    "str(output)"
   ]
  },
  {
   "cell_type": "markdown",
   "metadata": {},
   "source": [
    "But this is not very efficient because in each iteration, R has to copy all the data from the previous iterations.\n",
    "\n",
    "A better solution to save the results in a list, and then combine into a single vector after the loop is done:"
   ]
  },
  {
   "cell_type": "code",
   "execution_count": 14,
   "metadata": {},
   "outputs": [
    {
     "name": "stdout",
     "output_type": "stream",
     "text": [
      "List of 3\n",
      " $ : num [1:55] -0.1127 0.6975 1.3172 -0.3556 -0.0576 ...\n",
      " $ : num [1:13] 0.4438 0.0902 0.6317 0.5241 -0.8321 ...\n",
      " $ : num [1:4] 2.18 1.38 1.74 1.07\n"
     ]
    }
   ],
   "source": [
    "out <- vector(\"list\", length(means))\n",
    "for (i in seq_along(means)) {\n",
    "  n <- sample(100, 1)\n",
    "  out[[i]] <- rnorm(n, means[[i]])\n",
    "}\n",
    "str(out)"
   ]
  },
  {
   "cell_type": "code",
   "execution_count": 15,
   "metadata": {},
   "outputs": [
    {
     "name": "stdout",
     "output_type": "stream",
     "text": [
      " num [1:72] -0.1127 0.6975 1.3172 -0.3556 -0.0576 ...\n"
     ]
    }
   ],
   "source": [
    "# flatten a list of vectors into a single vector\n",
    "str(unlist(out))"
   ]
  },
  {
   "cell_type": "markdown",
   "metadata": {},
   "source": [
    "### 4. Unknown sequence length, `while` loops\n",
    "Sometimes you don't even know how long the input sequence should run for. This is common when doing simulations. For example, you might want to loop until you get three heads in a row. You can't do that sort of iteration with the for loop. Instead, you can use a while loop. A while loop is simpler than for loop because it only has two components, a condition and a body:\n",
    "\n",
    "> `while (condition) {\n",
    "  body\n",
    "}`\n",
    "\n",
    "A while loop is also more general than a for loop, because you can rewrite any for loop as a while loop, but you can't rewrite every while loop as a for loop:"
   ]
  },
  {
   "cell_type": "code",
   "execution_count": 16,
   "metadata": {},
   "outputs": [],
   "source": [
    "for (i in seq_along(x)) {\n",
    "  # body\n",
    "}\n",
    "\n",
    "# Equivalent to\n",
    "i <- 1\n",
    "while (i <= length(x)) {\n",
    "  # body\n",
    "  i <- i + 1 \n",
    "}"
   ]
  },
  {
   "cell_type": "markdown",
   "metadata": {},
   "source": [
    "Here's how we could use a while loop to find how many tries it takes to get three heads in a row:"
   ]
  },
  {
   "cell_type": "code",
   "execution_count": 17,
   "metadata": {},
   "outputs": [
    {
     "data": {
      "text/html": [
       "19"
      ],
      "text/latex": [
       "19"
      ],
      "text/markdown": [
       "19"
      ],
      "text/plain": [
       "[1] 19"
      ]
     },
     "metadata": {},
     "output_type": "display_data"
    }
   ],
   "source": [
    "flip <- function() {\n",
    "    sample(c(\"T\", \"H\"), 1)\n",
    "}\n",
    "\n",
    "flips <- 0\n",
    "nheads <- 0\n",
    "\n",
    "while (nheads < 3) {\n",
    "  if (flip() == \"H\") {\n",
    "    nheads <- nheads + 1\n",
    "  } else {\n",
    "    nheads <- 0\n",
    "  }\n",
    "  flips <- flips + 1\n",
    "}\n",
    "flips"
   ]
  },
  {
   "cell_type": "markdown",
   "metadata": {},
   "source": [
    "I mention while loops only briefly, because I hardly ever use them. They're most often used for simulation, which is outside of the scope of these notebooks.\n",
    "\n",
    "---\n",
    "### Exercise 3\n",
    "Write a function that prints the mean of each numeric column in a data frame, along with its name. For example, `show_mean(iris)` would print:\n",
    "\n",
    "> `Sepal.Length 5.84\n",
    "Sepal.Width 3.06 \n",
    "Petal.Length 3.76 \n",
    "Petal.Width 1.20`"
   ]
  },
  {
   "cell_type": "markdown",
   "metadata": {},
   "source": [
    "---\n",
    "### For loops vs. functionals\n",
    "For loops are not as important in R as they are in other languages because R is a functional programming language. This means that it's possible to wrap up for loops in a function, and call that function instead of using the for loop directly.\n",
    "\n",
    "To see why this is important, consider this simple data frame:"
   ]
  },
  {
   "cell_type": "code",
   "execution_count": 18,
   "metadata": {},
   "outputs": [],
   "source": [
    "df <- tibble(\n",
    "  a = rnorm(10),\n",
    "  b = rnorm(10),\n",
    "  c = rnorm(10),\n",
    "  d = rnorm(10)\n",
    ")"
   ]
  },
  {
   "cell_type": "code",
   "execution_count": 19,
   "metadata": {},
   "outputs": [
    {
     "data": {
      "text/html": [
       "<ol class=list-inline>\n",
       "\t<li>0.116043496347475</li>\n",
       "\t<li>-0.699668245367298</li>\n",
       "\t<li>-1.05952042056094</li>\n",
       "\t<li>0.119002448214819</li>\n",
       "</ol>\n"
      ],
      "text/latex": [
       "\\begin{enumerate*}\n",
       "\\item 0.116043496347475\n",
       "\\item -0.699668245367298\n",
       "\\item -1.05952042056094\n",
       "\\item 0.119002448214819\n",
       "\\end{enumerate*}\n"
      ],
      "text/markdown": [
       "1. 0.116043496347475\n",
       "2. -0.699668245367298\n",
       "3. -1.05952042056094\n",
       "4. 0.119002448214819\n",
       "\n",
       "\n"
      ],
      "text/plain": [
       "[1]  0.1160435 -0.6996682 -1.0595204  0.1190024"
      ]
     },
     "metadata": {},
     "output_type": "display_data"
    }
   ],
   "source": [
    "# adding an argument that supplies the function to apply to each column\n",
    "col_summary <- function(df, fun) {\n",
    "  out <- vector(\"double\", length(df))\n",
    "  for (i in seq_along(df)) {\n",
    "    out[i] <- fun(df[[i]])\n",
    "  }\n",
    "  out\n",
    "}\n",
    "col_summary(df, median)"
   ]
  },
  {
   "cell_type": "code",
   "execution_count": 20,
   "metadata": {},
   "outputs": [
    {
     "data": {
      "text/html": [
       "<ol class=list-inline>\n",
       "\t<li>0.086486906343657</li>\n",
       "\t<li>-0.54354932571326</li>\n",
       "\t<li>-0.913002557498613</li>\n",
       "\t<li>-0.0279549581299806</li>\n",
       "</ol>\n"
      ],
      "text/latex": [
       "\\begin{enumerate*}\n",
       "\\item 0.086486906343657\n",
       "\\item -0.54354932571326\n",
       "\\item -0.913002557498613\n",
       "\\item -0.0279549581299806\n",
       "\\end{enumerate*}\n"
      ],
      "text/markdown": [
       "1. 0.086486906343657\n",
       "2. -0.54354932571326\n",
       "3. -0.913002557498613\n",
       "4. -0.0279549581299806\n",
       "\n",
       "\n"
      ],
      "text/plain": [
       "[1]  0.08648691 -0.54354933 -0.91300256 -0.02795496"
      ]
     },
     "metadata": {},
     "output_type": "display_data"
    }
   ],
   "source": [
    "col_summary(df, mean)"
   ]
  },
  {
   "cell_type": "markdown",
   "metadata": {},
   "source": [
    "The idea of passing a function to another function is extremely powerful idea, and it's one of the behaviors that makes R a functional programming language. It might take you a while to wrap your head around the idea, but it's worth the investment. \n",
    "\n",
    "## iteration with `purrr` package\n",
    "The goal of using `purrr` functions instead of for loops is to allow you break common list manipulation challenges into independent pieces. Once you've solved the problem for a single element of the list, purrr takes care of generalizing your solution to every element in the list.\n",
    "\n",
    "The purrr package provides functions that eliminate the need for many common `for loops`. The apply family of functions in base R (`apply()`, `lapply()`, `tapply()`, etc) solve a similar problem, but purrr is more consistent and thus is easier to learn."
   ]
  }
 ],
 "metadata": {
  "kernelspec": {
   "display_name": "R",
   "language": "R",
   "name": "ir"
  },
  "language_info": {
   "codemirror_mode": "r",
   "file_extension": ".r",
   "mimetype": "text/x-r-source",
   "name": "R",
   "pygments_lexer": "r",
   "version": "3.5.1"
  }
 },
 "nbformat": 4,
 "nbformat_minor": 2
}
