{
 "cells": [
  {
   "cell_type": "markdown",
   "metadata": {},
   "source": [
    "<a class=\"anchor\" id=\"jump_to_top\"></a>\n",
    "# Iteration\n",
    "---\n",
    "\n",
    "### Table of Contents\n",
    "* [For loops](#loops)\n",
    "* [while loops](#while)\n",
    "* [iteration with purrr package](#purr)\n",
    "* [](#)\n",
    "* [](#)\n",
    "* [](#)\n",
    "\n",
    "\n",
    "<a class=\"anchor\" id=\"loops\"></a>\n",
    "<a class=\"anchor\" id=\"loops\"></a>\n",
    "<a class=\"anchor\" id=\"loops\"></a>\n",
    "\n",
    "In the previous notebook we saw how we can use functions to reduce duplication in our code. Another great tool for reducing duplication is **iteration**, which helps you when you need to do the same thing to multiple inputs: repeating the same operation on different columns, or on different datasets."
   ]
  },
  {
   "cell_type": "code",
   "execution_count": 1,
   "metadata": {},
   "outputs": [
    {
     "name": "stderr",
     "output_type": "stream",
     "text": [
      "── Attaching packages ─────────────────────────────────────── tidyverse 1.2.1 ──\n",
      "✔ ggplot2 3.0.0     ✔ purrr   0.2.5\n",
      "✔ tibble  1.4.2     ✔ dplyr   0.7.6\n",
      "✔ tidyr   0.8.1     ✔ stringr 1.3.1\n",
      "✔ readr   1.1.1     ✔ forcats 0.3.0\n",
      "── Conflicts ────────────────────────────────────────── tidyverse_conflicts() ──\n",
      "✖ dplyr::filter() masks stats::filter()\n",
      "✖ dplyr::lag()    masks stats::lag()\n"
     ]
    }
   ],
   "source": [
    "# Attaching libraries\n",
    "library(tidyverse)\n",
    "\n",
    "# install.packages('nycflights13')  \n",
    "library(nycflights13)"
   ]
  },
  {
   "cell_type": "markdown",
   "metadata": {
    "collapsed": true
   },
   "source": [
    "<a class=\"anchor\" id=\"loops\"></a>\n",
    "## For loops\n",
    "Imagine we have this simple data frame comprised of some random numbers:"
   ]
  },
  {
   "cell_type": "code",
   "execution_count": 2,
   "metadata": {},
   "outputs": [
    {
     "data": {
      "text/html": [
       "<table>\n",
       "<thead><tr><th scope=col>a</th><th scope=col>b</th><th scope=col>c</th><th scope=col>d</th></tr></thead>\n",
       "<tbody>\n",
       "\t<tr><td>-0.7845129  </td><td> 1.571392415</td><td>-0.7681117  </td><td>-0.6014233  </td></tr>\n",
       "\t<tr><td> 1.9015759  </td><td> 0.104698478</td><td> 0.3141739  </td><td>-1.3604725  </td></tr>\n",
       "\t<tr><td> 1.4321215  </td><td>-1.436483295</td><td> 0.6771271  </td><td> 0.1640555  </td></tr>\n",
       "\t<tr><td>-0.1132742  </td><td> 1.487543791</td><td> 0.9274347  </td><td> 0.1612923  </td></tr>\n",
       "\t<tr><td>-1.5108355  </td><td> 2.431599116</td><td>-1.1042574  </td><td>-0.9364819  </td></tr>\n",
       "\t<tr><td> 0.1368907  </td><td> 0.002127967</td><td> 1.2576780  </td><td>-0.1790018  </td></tr>\n",
       "\t<tr><td> 0.8999673  </td><td>-0.853713939</td><td> 1.1523855  </td><td> 0.6955371  </td></tr>\n",
       "\t<tr><td>-1.1564681  </td><td>-0.344731830</td><td> 0.4267772  </td><td>-1.7666327  </td></tr>\n",
       "\t<tr><td>-2.5725805  </td><td> 0.158900992</td><td>-2.7351831  </td><td>-1.1730102  </td></tr>\n",
       "\t<tr><td> 0.8544514  </td><td>-0.562837593</td><td>-0.3168700  </td><td> 0.3039550  </td></tr>\n",
       "</tbody>\n",
       "</table>\n"
      ],
      "text/latex": [
       "\\begin{tabular}{r|llll}\n",
       " a & b & c & d\\\\\n",
       "\\hline\n",
       "\t -0.7845129   &  1.571392415 & -0.7681117   & -0.6014233  \\\\\n",
       "\t  1.9015759   &  0.104698478 &  0.3141739   & -1.3604725  \\\\\n",
       "\t  1.4321215   & -1.436483295 &  0.6771271   &  0.1640555  \\\\\n",
       "\t -0.1132742   &  1.487543791 &  0.9274347   &  0.1612923  \\\\\n",
       "\t -1.5108355   &  2.431599116 & -1.1042574   & -0.9364819  \\\\\n",
       "\t  0.1368907   &  0.002127967 &  1.2576780   & -0.1790018  \\\\\n",
       "\t  0.8999673   & -0.853713939 &  1.1523855   &  0.6955371  \\\\\n",
       "\t -1.1564681   & -0.344731830 &  0.4267772   & -1.7666327  \\\\\n",
       "\t -2.5725805   &  0.158900992 & -2.7351831   & -1.1730102  \\\\\n",
       "\t  0.8544514   & -0.562837593 & -0.3168700   &  0.3039550  \\\\\n",
       "\\end{tabular}\n"
      ],
      "text/markdown": [
       "\n",
       "a | b | c | d | \n",
       "|---|---|---|---|---|---|---|---|---|---|\n",
       "| -0.7845129   |  1.571392415 | -0.7681117   | -0.6014233   | \n",
       "|  1.9015759   |  0.104698478 |  0.3141739   | -1.3604725   | \n",
       "|  1.4321215   | -1.436483295 |  0.6771271   |  0.1640555   | \n",
       "| -0.1132742   |  1.487543791 |  0.9274347   |  0.1612923   | \n",
       "| -1.5108355   |  2.431599116 | -1.1042574   | -0.9364819   | \n",
       "|  0.1368907   |  0.002127967 |  1.2576780   | -0.1790018   | \n",
       "|  0.8999673   | -0.853713939 |  1.1523855   |  0.6955371   | \n",
       "| -1.1564681   | -0.344731830 |  0.4267772   | -1.7666327   | \n",
       "| -2.5725805   |  0.158900992 | -2.7351831   | -1.1730102   | \n",
       "|  0.8544514   | -0.562837593 | -0.3168700   |  0.3039550   | \n",
       "\n",
       "\n"
      ],
      "text/plain": [
       "   a          b            c          d         \n",
       "1  -0.7845129  1.571392415 -0.7681117 -0.6014233\n",
       "2   1.9015759  0.104698478  0.3141739 -1.3604725\n",
       "3   1.4321215 -1.436483295  0.6771271  0.1640555\n",
       "4  -0.1132742  1.487543791  0.9274347  0.1612923\n",
       "5  -1.5108355  2.431599116 -1.1042574 -0.9364819\n",
       "6   0.1368907  0.002127967  1.2576780 -0.1790018\n",
       "7   0.8999673 -0.853713939  1.1523855  0.6955371\n",
       "8  -1.1564681 -0.344731830  0.4267772 -1.7666327\n",
       "9  -2.5725805  0.158900992 -2.7351831 -1.1730102\n",
       "10  0.8544514 -0.562837593 -0.3168700  0.3039550"
      ]
     },
     "metadata": {},
     "output_type": "display_data"
    }
   ],
   "source": [
    "df <- tibble(\n",
    "  a = rnorm(10),\n",
    "  b = rnorm(10),\n",
    "  c = rnorm(10),\n",
    "  d = rnorm(10)\n",
    ")\n",
    "df"
   ]
  },
  {
   "cell_type": "markdown",
   "metadata": {},
   "source": [
    "We want to compute the median of each column. You could do with copy-and-paste:"
   ]
  },
  {
   "cell_type": "code",
   "execution_count": 3,
   "metadata": {},
   "outputs": [
    {
     "data": {
      "text/html": [
       "0.0118082685156667"
      ],
      "text/latex": [
       "0.0118082685156667"
      ],
      "text/markdown": [
       "0.0118082685156667"
      ],
      "text/plain": [
       "[1] 0.01180827"
      ]
     },
     "metadata": {},
     "output_type": "display_data"
    },
    {
     "data": {
      "text/html": [
       "0.0534132221640036"
      ],
      "text/latex": [
       "0.0534132221640036"
      ],
      "text/markdown": [
       "0.0534132221640036"
      ],
      "text/plain": [
       "[1] 0.05341322"
      ]
     },
     "metadata": {},
     "output_type": "display_data"
    },
    {
     "data": {
      "text/html": [
       "0.370475535281854"
      ],
      "text/latex": [
       "0.370475535281854"
      ],
      "text/markdown": [
       "0.370475535281854"
      ],
      "text/plain": [
       "[1] 0.3704755"
      ]
     },
     "metadata": {},
     "output_type": "display_data"
    },
    {
     "data": {
      "text/html": [
       "-0.390212546784606"
      ],
      "text/latex": [
       "-0.390212546784606"
      ],
      "text/markdown": [
       "-0.390212546784606"
      ],
      "text/plain": [
       "[1] -0.3902125"
      ]
     },
     "metadata": {},
     "output_type": "display_data"
    }
   ],
   "source": [
    "median(df$a)\n",
    "median(df$b)\n",
    "median(df$c)\n",
    "median(df$d)"
   ]
  },
  {
   "cell_type": "markdown",
   "metadata": {},
   "source": [
    "But that breaks our rule of thumb: never copy and paste more than twice. Instead, we could use a for loop:"
   ]
  },
  {
   "cell_type": "code",
   "execution_count": 4,
   "metadata": {},
   "outputs": [
    {
     "name": "stdout",
     "output_type": "stream",
     "text": [
      "[1] \"Median for column a: 0.0118082685156667\"\n",
      "[1] \"Median for column b: 0.0534132221640036\"\n",
      "[1] \"Median for column c: 0.370475535281854\"\n",
      "[1] \"Median for column d: -0.390212546784606\"\n"
     ]
    }
   ],
   "source": [
    "for (i in 1:4) {\n",
    "    print(paste0(\"Median for column \", colnames(df)[i], \": \", median(df[[i]])))\n",
    "}"
   ]
  },
  {
   "cell_type": "markdown",
   "metadata": {},
   "source": [
    "If we would want to use these values again it's a good practice to store them:"
   ]
  },
  {
   "cell_type": "code",
   "execution_count": 5,
   "metadata": {},
   "outputs": [
    {
     "data": {
      "text/html": [
       "<ol class=list-inline>\n",
       "\t<li>0.0118082685156667</li>\n",
       "\t<li>0.0534132221640036</li>\n",
       "\t<li>0.370475535281854</li>\n",
       "\t<li>-0.390212546784606</li>\n",
       "</ol>\n"
      ],
      "text/latex": [
       "\\begin{enumerate*}\n",
       "\\item 0.0118082685156667\n",
       "\\item 0.0534132221640036\n",
       "\\item 0.370475535281854\n",
       "\\item -0.390212546784606\n",
       "\\end{enumerate*}\n"
      ],
      "text/markdown": [
       "1. 0.0118082685156667\n",
       "2. 0.0534132221640036\n",
       "3. 0.370475535281854\n",
       "4. -0.390212546784606\n",
       "\n",
       "\n"
      ],
      "text/plain": [
       "[1]  0.01180827  0.05341322  0.37047554 -0.39021255"
      ]
     },
     "metadata": {},
     "output_type": "display_data"
    }
   ],
   "source": [
    "output <- vector(\"double\", ncol(df))  # 1. output\n",
    "for (i in seq_along(df)) {            # 2. sequence\n",
    "  output[[i]] <- median(df[[i]])      # 3. body\n",
    "}\n",
    "output"
   ]
  },
  {
   "cell_type": "markdown",
   "metadata": {},
   "source": [
    "Every for loop has three components:\n",
    "1. **Output**: `output <- vector(\"double\", length(x))`. Before you start the loop, you must always allocate sufficient space for the output to increase efficiency. A general way of creating an empty vector of given length is the `vector()` function. It has two arguments: the type of the vector (\"logical\", \"integer\", \"double\", \"character\", etc) and the length of the vector.\n",
    "2. **Sequence**: `i in seq_along(df)`. This determines what to loop over: each run of the for loop will assign `i` to a different value from `seq_along(df)`.\n",
    "3. **Body**: `output[[i]] <- median(df[[i]])`. This is the code that does the work. It's run repeatedly, each time with a different value for `i`. The first iteration will run `output[[1]] <- median(df[[1]])`, the second will run `output[[2]] <- median(df[[2]])`, and so on.\n",
    "\n",
    "---\n",
    "### Exercise 1\n",
    "Write for loops to:\n",
    "1. Compute the mean of every column in `mtcars`.\n",
    "2. Determine the type of each column in `nycflights13::flights`. (Note: You might need to install nycflights13 package)\n",
    "3. Compute the number of unique values in each column of `iris`."
   ]
  },
  {
   "cell_type": "code",
   "execution_count": 6,
   "metadata": {},
   "outputs": [],
   "source": [
    "# Your answer goes here."
   ]
  },
  {
   "cell_type": "markdown",
   "metadata": {},
   "source": [
    "---\n",
    "### Exercise 2\n",
    "Eliminate the for loop in each of the following examples by taking advantage of an existing function that works with vectors:"
   ]
  },
  {
   "cell_type": "code",
   "execution_count": 7,
   "metadata": {},
   "outputs": [],
   "source": [
    "out <- \"\"\n",
    "for (x in letters) {\n",
    "  out <- stringr::str_c(out, x)\n",
    "}"
   ]
  },
  {
   "cell_type": "code",
   "execution_count": 8,
   "metadata": {},
   "outputs": [],
   "source": [
    "x <- sample(100)\n",
    "sd <- 0\n",
    "for (i in seq_along(x)) {\n",
    "  sd <- sd + (x[i] - mean(x)) ^ 2\n",
    "}\n",
    "sd <- sqrt(sd / (length(x) - 1))"
   ]
  },
  {
   "cell_type": "markdown",
   "metadata": {},
   "source": [
    "---\n",
    "## For loop variations\n",
    "There are four variations on the basic theme of the for loop:\n",
    "\n",
    "1. Modifying an existing object\n",
    "2. Looping Patterns\n",
    "3. Unknown output length\n",
    "4. Unknown sequence length, `while` loops\n",
    "\n",
    "### 1. Modifying an existing object\n",
    "Sometimes you want to use a for loop to modify an existing object, instead of creating a new one. For example, our code from functions. We wanted to rescale every column in a data frame:"
   ]
  },
  {
   "cell_type": "code",
   "execution_count": 9,
   "metadata": {},
   "outputs": [],
   "source": [
    "df <- tibble(\n",
    "  a = rnorm(10),\n",
    "  b = rnorm(10),\n",
    "  c = rnorm(10),\n",
    "  d = rnorm(10)\n",
    ")\n",
    "Rescale <- function(x) {\n",
    "  min <- min(x, na.rm = TRUE)\n",
    "  max <- max(x, na.rm = TRUE)\n",
    "  (x - min) / (max - min)\n",
    "}\n",
    "\n",
    "df$a <- Rescale(df$a)\n",
    "df$b <- Rescale(df$b)\n",
    "df$c <- Rescale(df$c)\n",
    "df$d <- Rescale(df$d)"
   ]
  },
  {
   "cell_type": "markdown",
   "metadata": {},
   "source": [
    "To solve this with a for loop we again think about the three components:\n",
    "\n",
    "1. **Output**: we already have the output - it's the same as the input!\n",
    "\n",
    "2. **Sequence**: we can think about a data frame as a list of columns, so we can iterate over each column with `seq_along(df)`.\n",
    "\n",
    "3. **Body**: apply `Rescale()`.\n",
    "\n",
    "This gives us:"
   ]
  },
  {
   "cell_type": "code",
   "execution_count": 10,
   "metadata": {},
   "outputs": [],
   "source": [
    "for (i in seq_along(df)) {\n",
    "  df[[i]] <- Rescale(df[[i]])\n",
    "}"
   ]
  },
  {
   "cell_type": "markdown",
   "metadata": {},
   "source": [
    "Typically you'll be modifying a list or data frame with this sort of loop, so remember to use `[[`, not `[`. "
   ]
  },
  {
   "cell_type": "markdown",
   "metadata": {},
   "source": [
    "### 2. Looping Patterns \n",
    "Looping over names or values, instead of indices.\n",
    "\n",
    "There are three basic ways to loop over a vector. So far you've seen the most general: looping over the numeric indices with `for (i in seq_along(xs))`, and extracting the value with `x[[i]]`. There are two other forms:\n",
    "\n",
    "1.Loop over the elements: `for (x in xs)`. This is most useful if you only care about side-effects, like plotting or saving a file, because it's difficult to save the output efficiently."
   ]
  },
  {
   "cell_type": "code",
   "execution_count": 11,
   "metadata": {},
   "outputs": [
    {
     "name": "stdout",
     "output_type": "stream",
     "text": [
      "[1] \"a1\"\n",
      "[1] \"b2\"\n",
      "[1] \"c3\"\n"
     ]
    }
   ],
   "source": [
    "xs <- c(\"a1\", \"b2\", \"c3\")\n",
    "for (x in xs) {\n",
    "    print(x)\n",
    "}"
   ]
  },
  {
   "cell_type": "markdown",
   "metadata": {},
   "source": [
    "2.Loop over the names: `for (nm in names(xs))`. This gives you name, which you can use to access the value with `x[[nm]]`"
   ]
  },
  {
   "cell_type": "code",
   "execution_count": 12,
   "metadata": {},
   "outputs": [
    {
     "name": "stdout",
     "output_type": "stream",
     "text": [
      "[1] \"a\"\n",
      "[1] \"b\"\n",
      "[1] \"c\"\n",
      "[1] \"d\"\n"
     ]
    }
   ],
   "source": [
    "for (x in names(df)) {\n",
    "    print(x)\n",
    "}"
   ]
  },
  {
   "cell_type": "markdown",
   "metadata": {},
   "source": [
    "### 3. Unknown output length\n",
    "Sometimes you might not know how long the output will be. For example, imagine you want to simulate some random vectors of random lengths. You might be tempted to solve this problem by progressively growing the vector:"
   ]
  },
  {
   "cell_type": "code",
   "execution_count": 13,
   "metadata": {},
   "outputs": [
    {
     "name": "stdout",
     "output_type": "stream",
     "text": [
      " num [1:131] -1.201 -0.321 0.933 0.315 -0.201 ...\n"
     ]
    }
   ],
   "source": [
    "means <- c(0, 1, 2)\n",
    "\n",
    "output <- double()\n",
    "for (i in seq_along(means)) {\n",
    "  n <- sample(100, 1)  # picking a number from 1 to 100\n",
    "  output <- c(output, rnorm(n, means[[i]]))  # combining outputs of n random numbers around different means\n",
    "}\n",
    "str(output)"
   ]
  },
  {
   "cell_type": "markdown",
   "metadata": {},
   "source": [
    "But this is not very efficient because in each iteration, R has to copy all the data from the previous iterations.\n",
    "\n",
    "A better solution to save the results in a list, and then combine into a single vector after the loop is done:"
   ]
  },
  {
   "cell_type": "code",
   "execution_count": 14,
   "metadata": {},
   "outputs": [
    {
     "name": "stdout",
     "output_type": "stream",
     "text": [
      "List of 3\n",
      " $ : num [1:86] 0.0363 -0.9415 -0.1402 0.0898 0.4808 ...\n",
      " $ : num [1:91] 1.0903 1.3233 0.0911 2.8354 0.7703 ...\n",
      " $ : num [1:53] 2.732 0.604 2.135 4.874 -0.179 ...\n"
     ]
    }
   ],
   "source": [
    "out <- vector(\"list\", length(means))\n",
    "for (i in seq_along(means)) {\n",
    "  n <- sample(100, 1)\n",
    "  out[[i]] <- rnorm(n, means[[i]])\n",
    "}\n",
    "str(out)"
   ]
  },
  {
   "cell_type": "code",
   "execution_count": 15,
   "metadata": {},
   "outputs": [
    {
     "name": "stdout",
     "output_type": "stream",
     "text": [
      " num [1:230] 0.0363 -0.9415 -0.1402 0.0898 0.4808 ...\n"
     ]
    }
   ],
   "source": [
    "# flatten a list of vectors into a single vector\n",
    "str(unlist(out))"
   ]
  },
  {
   "cell_type": "markdown",
   "metadata": {},
   "source": [
    "<a class=\"anchor\" id=\"while\"></a>\n",
    "### 4. Unknown sequence length, `while` loops\n",
    "Sometimes you don't even know how long the input sequence should run for. This is common when doing simulations. For example, you might want to loop until you get three heads in a row. You can't do that sort of iteration with the for loop. Instead, you can use a while loop. A while loop is simpler than for loop because it only has two components, a condition and a body:\n",
    "\n",
    "> `while (condition) {\n",
    "  body\n",
    "}`\n",
    "\n",
    "A while loop is also more general than a for loop, because you can rewrite any for loop as a while loop, but you can't rewrite every while loop as a for loop:"
   ]
  },
  {
   "cell_type": "code",
   "execution_count": 16,
   "metadata": {},
   "outputs": [],
   "source": [
    "for (i in seq_along(x)) {\n",
    "  # body\n",
    "}\n",
    "\n",
    "# Equivalent to\n",
    "i <- 1\n",
    "while (i <= length(x)) {\n",
    "  # body\n",
    "  i <- i + 1 \n",
    "}"
   ]
  },
  {
   "cell_type": "markdown",
   "metadata": {},
   "source": [
    "Here's how we could use a while loop to find how many tries it takes to get three heads in a row:"
   ]
  },
  {
   "cell_type": "code",
   "execution_count": 17,
   "metadata": {},
   "outputs": [
    {
     "data": {
      "text/html": [
       "6"
      ],
      "text/latex": [
       "6"
      ],
      "text/markdown": [
       "6"
      ],
      "text/plain": [
       "[1] 6"
      ]
     },
     "metadata": {},
     "output_type": "display_data"
    }
   ],
   "source": [
    "flip <- function() {\n",
    "    sample(c(\"T\", \"H\"), 1)\n",
    "}\n",
    "\n",
    "flips <- 0\n",
    "nheads <- 0\n",
    "\n",
    "while (nheads < 3) {\n",
    "  if (flip() == \"H\") {\n",
    "    nheads <- nheads + 1\n",
    "  } else {\n",
    "    nheads <- 0\n",
    "  }\n",
    "  flips <- flips + 1\n",
    "}\n",
    "flips"
   ]
  },
  {
   "cell_type": "markdown",
   "metadata": {},
   "source": [
    "I mention while loops only briefly, because I hardly ever use them. They're most often used for simulation, which is outside of the scope of these notebooks.\n",
    "\n",
    "---\n",
    "### Exercise 3\n",
    "Write a function that prints the mean of each numeric column in a data frame, along with its name. For example, `show_mean(iris)` would print:\n",
    "\n",
    "> `Sepal.Length 5.84\n",
    "Sepal.Width 3.06 \n",
    "Petal.Length 3.76 \n",
    "Petal.Width 1.20`"
   ]
  },
  {
   "cell_type": "markdown",
   "metadata": {},
   "source": [
    "---\n",
    "### For loops vs. functionals\n",
    "For loops are not as important in R as they are in other languages because R is a functional programming language. This means that it's possible to wrap up for loops in a function, and call that function instead of using the for loop directly.\n",
    "\n",
    "To see why this is important, consider this simple data frame:"
   ]
  },
  {
   "cell_type": "code",
   "execution_count": 18,
   "metadata": {},
   "outputs": [],
   "source": [
    "df <- tibble(\n",
    "  a = rnorm(10),\n",
    "  b = rnorm(10),\n",
    "  c = rnorm(10),\n",
    "  d = rnorm(10)\n",
    ")"
   ]
  },
  {
   "cell_type": "code",
   "execution_count": 19,
   "metadata": {},
   "outputs": [
    {
     "data": {
      "text/html": [
       "<ol class=list-inline>\n",
       "\t<li>-0.205782503371214</li>\n",
       "\t<li>-0.535691776924237</li>\n",
       "\t<li>-0.078963152147811</li>\n",
       "\t<li>0.0800720713382914</li>\n",
       "</ol>\n"
      ],
      "text/latex": [
       "\\begin{enumerate*}\n",
       "\\item -0.205782503371214\n",
       "\\item -0.535691776924237\n",
       "\\item -0.078963152147811\n",
       "\\item 0.0800720713382914\n",
       "\\end{enumerate*}\n"
      ],
      "text/markdown": [
       "1. -0.205782503371214\n",
       "2. -0.535691776924237\n",
       "3. -0.078963152147811\n",
       "4. 0.0800720713382914\n",
       "\n",
       "\n"
      ],
      "text/plain": [
       "[1] -0.20578250 -0.53569178 -0.07896315  0.08007207"
      ]
     },
     "metadata": {},
     "output_type": "display_data"
    }
   ],
   "source": [
    "# adding an argument that supplies the function to apply to each column\n",
    "col_summary <- function(df, fun) {\n",
    "  out <- vector(\"double\", length(df))\n",
    "  for (i in seq_along(df)) {\n",
    "    out[i] <- fun(df[[i]])\n",
    "  }\n",
    "  out\n",
    "}\n",
    "col_summary(df, median)"
   ]
  },
  {
   "cell_type": "code",
   "execution_count": 20,
   "metadata": {},
   "outputs": [
    {
     "data": {
      "text/html": [
       "<ol class=list-inline>\n",
       "\t<li>-0.10651408058503</li>\n",
       "\t<li>-0.728657001036012</li>\n",
       "\t<li>0.0632534982229799</li>\n",
       "\t<li>-0.0505521301951034</li>\n",
       "</ol>\n"
      ],
      "text/latex": [
       "\\begin{enumerate*}\n",
       "\\item -0.10651408058503\n",
       "\\item -0.728657001036012\n",
       "\\item 0.0632534982229799\n",
       "\\item -0.0505521301951034\n",
       "\\end{enumerate*}\n"
      ],
      "text/markdown": [
       "1. -0.10651408058503\n",
       "2. -0.728657001036012\n",
       "3. 0.0632534982229799\n",
       "4. -0.0505521301951034\n",
       "\n",
       "\n"
      ],
      "text/plain": [
       "[1] -0.10651408 -0.72865700  0.06325350 -0.05055213"
      ]
     },
     "metadata": {},
     "output_type": "display_data"
    }
   ],
   "source": [
    "col_summary(df, mean)"
   ]
  },
  {
   "cell_type": "markdown",
   "metadata": {},
   "source": [
    "The idea of passing a function to another function is extremely powerful idea, and it's one of the behaviors that makes R a functional programming language. It might take you a while to wrap your head around the idea, but it's worth the investment. \n",
    "\n",
    "<a class=\"anchor\" id=\"purr\"></a>\n",
    "## iteration with purrr package\n",
    "The goal of using **purrr** functions instead of for loops is to allow you break common list manipulation challenges into independent pieces. Once you've solved the problem for a single element of the list, purrr takes care of generalizing your solution to every element in the list.\n",
    "\n",
    "The purrr package provides functions that eliminate the need for many common *for loops*. The apply family of functions in base R (`apply()`, `lapply()`, `tapply()`, etc) solve a similar problem, but purrr is more consistent and thus is easier to learn.\n",
    "\n",
    "<div style=\"text-align: right\"> [[Jump to top]](#jump_to_top) </div>"
   ]
  },
  {
   "cell_type": "code",
   "execution_count": null,
   "metadata": {},
   "outputs": [],
   "source": []
  }
 ],
 "metadata": {
  "kernelspec": {
   "display_name": "R",
   "language": "R",
   "name": "ir"
  },
  "language_info": {
   "codemirror_mode": "r",
   "file_extension": ".r",
   "mimetype": "text/x-r-source",
   "name": "R",
   "pygments_lexer": "r",
   "version": "3.5.1"
  }
 },
 "nbformat": 4,
 "nbformat_minor": 2
}
