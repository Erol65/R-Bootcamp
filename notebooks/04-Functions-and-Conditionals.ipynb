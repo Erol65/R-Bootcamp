{
 "cells": [
  {
   "cell_type": "code",
   "execution_count": 17,
   "metadata": {
    "collapsed": true
   },
   "outputs": [],
   "source": [
    "# Loading packages\n",
    "library(tidyverse)\n",
    "library(lubridate)  # lubridate is not part of core tidyverse, so has to be loaded separately."
   ]
  },
  {
   "cell_type": "markdown",
   "metadata": {},
   "source": [
    "# Functions and Conditionals\n",
    "---\n",
    "An `if` statement allows you to conditionally execute code. It looks like this:\n",
    "\n",
    "> `if (condition) {\n",
    "  code executed when condition is TRUE\n",
    "} else {\n",
    "  code executed when condition is FALSE\n",
    "}`"
   ]
  },
  {
   "cell_type": "code",
   "execution_count": 3,
   "metadata": {},
   "outputs": [
    {
     "name": "stdout",
     "output_type": "stream",
     "text": [
      "[1] \"Condition is TRUE\"\n"
     ]
    }
   ],
   "source": [
    "condition = TRUE\n",
    "if (condition) {\n",
    "  print(\"Condition is TRUE\")\n",
    "} else {\n",
    "  print(\"Condition is FALSE\")\n",
    "}"
   ]
  },
  {
   "cell_type": "markdown",
   "metadata": {},
   "source": [
    "The condition must evaluate to either `TRUE` or `FALSE`.\n",
    "\n",
    "You can use `||` (or) and `&&` (and) to combine multiple logical expressions.\n",
    "\n",
    "You can chain multiple if statements together:\n",
    "> `if (this) {\n",
    "  do that\n",
    "} else if (that) {\n",
    "  do something else\n",
    "} else {\n",
    "  do something else \n",
    "}`"
   ]
  },
  {
   "cell_type": "markdown",
   "metadata": {},
   "source": [
    "---\n",
    "### Exercise 1\n",
    "Write a greeting if statement that says \"good morning\", \"good afternoon\", or \"good evening\", depending on the time of day. (Hint: use lubridate's `now()` function to get the current time, and by `hour()` extract the hour of day)."
   ]
  },
  {
   "cell_type": "code",
   "execution_count": 23,
   "metadata": {},
   "outputs": [],
   "source": [
    "# Your answer goes here"
   ]
  },
  {
   "cell_type": "markdown",
   "metadata": {},
   "source": [
    "---\n",
    "### Exercise 2\n",
    "Implement an if statement. It receives an integer `number`. If our `number` is divisible by three, it prints \"fizz\". If it's divisible by five it print \"buzz\". If it's divisible by three and five, it prints \"fizzbuzz\". Otherwise, it returns the number.\n",
    "\n",
    "(Hint: `x%%y` gives the remainder of `x` divided by `y`)"
   ]
  },
  {
   "cell_type": "code",
   "execution_count": 24,
   "metadata": {
    "collapsed": true
   },
   "outputs": [],
   "source": [
    "# Your answer goes here"
   ]
  },
  {
   "cell_type": "markdown",
   "metadata": {},
   "source": [
    "## `cut()`\n",
    "`cut` divides the range of `x` into intervals and codes the values in `x` according to which interval they fall. The leftmost interval corresponds to level one, the next leftmost to level two and so on.\n",
    "\n",
    "For instance here we label a sample of 100 random numbers from a normal distribution:"
   ]
  },
  {
   "cell_type": "code",
   "execution_count": 49,
   "metadata": {},
   "outputs": [
    {
     "name": "stdout",
     "output_type": "stream",
     "text": [
      "  [1] (0,1]   (-2,-1] (-1,0]  (0,1]   (0,1]   (1,2]   (-1,0]  (-4,-3] (0,1]  \n",
      " [10] (-1,0]  (-1,0]  (-1,0]  (-1,0]  (-1,0]  (0,1]   (1,2]   (1,2]   (0,1]  \n",
      " [19] (0,1]   (1,2]   (1,2]   (0,1]   (1,2]   (-1,0]  (1,2]   (0,1]   (0,1]  \n",
      " [28] (0,1]   (-1,0]  (-1,0]  (0,1]   (-2,-1] (-2,-1] (-2,-1] (0,1]   (0,1]  \n",
      " [37] (-1,0]  (-1,0]  (-1,0]  (-2,-1] (1,2]   (0,1]   (-2,-1] (-1,0]  (-1,0] \n",
      " [46] (0,1]   (-1,0]  (-1,0]  (1,2]   (0,1]   (0,1]   (1,2]   (0,1]   (0,1]  \n",
      " [55] (-3,-2] (1,2]   (0,1]   (-1,0]  (-2,-1] (0,1]   (1,2]   (0,1]   (0,1]  \n",
      " [64] (-2,-1] (-1,0]  (0,1]   (-1,0]  (1,2]   (-1,0]  (1,2]   (-2,-1] (1,2]  \n",
      " [73] (0,1]   (-2,-1] (0,1]   (0,1]   (0,1]   (-1,0]  (-2,-1] (1,2]   (-1,0] \n",
      " [82] (1,2]   (-1,0]  (1,2]   (-2,-1] (-2,-1] (1,2]   (-3,-2] (-1,0]  (-2,-1]\n",
      " [91] (-1,0]  (0,1]   (0,1]   (0,1]   (1,2]   (1,2]   (-2,-1] (1,2]   (0,1]  \n",
      "[100] (-1,0] \n",
      "12 Levels: (-6,-5] (-5,-4] (-4,-3] (-3,-2] (-2,-1] (-1,0] (0,1] (1,2] ... (5,6]\n"
     ]
    }
   ],
   "source": [
    "z <- rnorm(100)\n",
    "print(cut(z, breaks = -6:6))"
   ]
  },
  {
   "cell_type": "markdown",
   "metadata": {},
   "source": [
    "Let's summarize these bins for a 10,000 sample by `table()`:"
   ]
  },
  {
   "cell_type": "code",
   "execution_count": 56,
   "metadata": {},
   "outputs": [
    {
     "data": {
      "text/plain": [
       "\n",
       "(-6,-5] (-5,-4] (-4,-3] (-3,-2] (-2,-1]  (-1,0]   (0,1]   (1,2]   (2,3]   (3,4] \n",
       "      0       0      14     197    1356    3460    3384    1365     216       8 \n",
       "  (4,5]   (5,6] \n",
       "      0       0 "
      ]
     },
     "metadata": {},
     "output_type": "display_data"
    }
   ],
   "source": [
    "Z <- rnorm(10000)\n",
    "table(cut(Z, breaks = -6:6))"
   ]
  },
  {
   "cell_type": "markdown",
   "metadata": {},
   "source": [
    "We could answer exercise 1 by `cut()`:"
   ]
  },
  {
   "cell_type": "code",
   "execution_count": 58,
   "metadata": {},
   "outputs": [
    {
     "name": "stdout",
     "output_type": "stream",
     "text": [
      "[1] Good Evening!\n",
      "Levels: Good Evening! Good Morning! Good Afternoon!\n"
     ]
    }
   ],
   "source": [
    "greeting <- cut(hour(now()), c(-1, 5, 12, 17, 24), right = TRUE,\n",
    "                labels = c(\"Good Evening!\", \"Good Morning!\", \"Good Afternoon!\", \"Good Evening!\"))\n",
    "print(greeting)"
   ]
  },
  {
   "cell_type": "markdown",
   "metadata": {},
   "source": [
    "Question: what does `right = TRUE` do in the code above?"
   ]
  },
  {
   "cell_type": "code",
   "execution_count": 44,
   "metadata": {},
   "outputs": [
    {
     "data": {
      "text/html": [
       "18"
      ],
      "text/latex": [
       "18"
      ],
      "text/markdown": [
       "18"
      ],
      "text/plain": [
       "[1] 18"
      ]
     },
     "metadata": {},
     "output_type": "display_data"
    }
   ],
   "source": [
    "hour(now())"
   ]
  },
  {
   "cell_type": "markdown",
   "metadata": {},
   "source": [
    "## `ifelse()`"
   ]
  },
  {
   "cell_type": "code",
   "execution_count": null,
   "metadata": {
    "collapsed": true
   },
   "outputs": [],
   "source": []
  }
 ],
 "metadata": {
  "kernelspec": {
   "display_name": "R",
   "language": "R",
   "name": "ir"
  },
  "language_info": {
   "codemirror_mode": "r",
   "file_extension": ".r",
   "mimetype": "text/x-r-source",
   "name": "R",
   "pygments_lexer": "r",
   "version": "3.5.1"
  }
 },
 "nbformat": 4,
 "nbformat_minor": 2
}
