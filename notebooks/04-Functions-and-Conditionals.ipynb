{
 "cells": [
  {
   "cell_type": "markdown",
   "metadata": {},
   "source": [
    "# Function and Conditionals\n",
    "---\n",
    "## Function\n",
    "One of the best ways to improve your code readability is to write functions. Functions allow you to automate common tasks in a more powerful and general way than copy-and-pasting. Writing a function has three big advantages over using copy-and-paste:\n",
    "\n",
    "1. You can give a function an evocative name that makes your code easier to understand.\n",
    "\n",
    "2. As requirements change, you only need to update code in one place, instead of many.\n",
    "\n",
    "3. You eliminate the chance of making incidental mistakes when you copy and paste (i.e. updating a variable name in one place, but not in another).\n",
    "\n",
    "General template of a function:\n",
    "\n",
    "> `MyFunction <- function(arg1, arg2, ... ){\n",
    "  statements\n",
    "  return(object)\n",
    "}`\n",
    "\n",
    "Example: The following function adds a and b and return it:\n"
   ]
  },
  {
   "cell_type": "code",
   "execution_count": 1,
   "metadata": {
    "collapsed": true
   },
   "outputs": [],
   "source": [
    "AddTwoNums <- function(a, b) {\n",
    "    return(a + b)\n",
    "}"
   ]
  },
  {
   "cell_type": "code",
   "execution_count": 2,
   "metadata": {},
   "outputs": [
    {
     "data": {
      "text/html": [
       "5"
      ],
      "text/latex": [
       "5"
      ],
      "text/markdown": [
       "5"
      ],
      "text/plain": [
       "[1] 5"
      ]
     },
     "metadata": {},
     "output_type": "display_data"
    }
   ],
   "source": [
    "AddTwoNums(3, 2)"
   ]
  },
  {
   "cell_type": "markdown",
   "metadata": {},
   "source": [
    "### When should you write a function?\n",
    "You should consider writing a function whenever you've copied and pasted a block of code more than twice (i.e. you now have three copies of the same code). For example, take a look at this code. What does it do?"
   ]
  },
  {
   "cell_type": "code",
   "execution_count": 3,
   "metadata": {},
   "outputs": [
    {
     "data": {
      "text/html": [
       "<table>\n",
       "<thead><tr><th scope=col>a</th><th scope=col>b</th><th scope=col>c</th><th scope=col>d</th></tr></thead>\n",
       "<tbody>\n",
       "\t<tr><td>-0.82084275</td><td>-1.1800650 </td><td>-0.60090186</td><td>-0.57635299</td></tr>\n",
       "\t<tr><td> 0.44961916</td><td> 1.8449456 </td><td>-0.05813793</td><td> 1.03059546</td></tr>\n",
       "\t<tr><td>-1.68080415</td><td>-0.5327509 </td><td> 0.72271860</td><td> 0.42242532</td></tr>\n",
       "\t<tr><td> 0.04726862</td><td> 1.5193581 </td><td> 0.19005997</td><td>-0.45715189</td></tr>\n",
       "\t<tr><td>-1.45272368</td><td> 1.0775926 </td><td>-0.78215212</td><td> 2.29525121</td></tr>\n",
       "\t<tr><td>-0.51696272</td><td> 1.4535923 </td><td>-0.11381506</td><td> 0.66460878</td></tr>\n",
       "\t<tr><td>-0.25118648</td><td> 1.2243649 </td><td> 2.42639541</td><td> 0.27492760</td></tr>\n",
       "\t<tr><td>-0.41863268</td><td> 0.1824934 </td><td> 4.04581635</td><td>-0.26502514</td></tr>\n",
       "\t<tr><td> 0.71747376</td><td>-0.6815385 </td><td>-0.86611267</td><td> 0.34934070</td></tr>\n",
       "\t<tr><td>-0.47175534</td><td> 0.5592928 </td><td> 0.61206784</td><td>-0.07518895</td></tr>\n",
       "</tbody>\n",
       "</table>\n"
      ],
      "text/latex": [
       "\\begin{tabular}{r|llll}\n",
       " a & b & c & d\\\\\n",
       "\\hline\n",
       "\t -0.82084275 & -1.1800650  & -0.60090186 & -0.57635299\\\\\n",
       "\t  0.44961916 &  1.8449456  & -0.05813793 &  1.03059546\\\\\n",
       "\t -1.68080415 & -0.5327509  &  0.72271860 &  0.42242532\\\\\n",
       "\t  0.04726862 &  1.5193581  &  0.19005997 & -0.45715189\\\\\n",
       "\t -1.45272368 &  1.0775926  & -0.78215212 &  2.29525121\\\\\n",
       "\t -0.51696272 &  1.4535923  & -0.11381506 &  0.66460878\\\\\n",
       "\t -0.25118648 &  1.2243649  &  2.42639541 &  0.27492760\\\\\n",
       "\t -0.41863268 &  0.1824934  &  4.04581635 & -0.26502514\\\\\n",
       "\t  0.71747376 & -0.6815385  & -0.86611267 &  0.34934070\\\\\n",
       "\t -0.47175534 &  0.5592928  &  0.61206784 & -0.07518895\\\\\n",
       "\\end{tabular}\n"
      ],
      "text/markdown": [
       "\n",
       "a | b | c | d | \n",
       "|---|---|---|---|---|---|---|---|---|---|\n",
       "| -0.82084275 | -1.1800650  | -0.60090186 | -0.57635299 | \n",
       "|  0.44961916 |  1.8449456  | -0.05813793 |  1.03059546 | \n",
       "| -1.68080415 | -0.5327509  |  0.72271860 |  0.42242532 | \n",
       "|  0.04726862 |  1.5193581  |  0.19005997 | -0.45715189 | \n",
       "| -1.45272368 |  1.0775926  | -0.78215212 |  2.29525121 | \n",
       "| -0.51696272 |  1.4535923  | -0.11381506 |  0.66460878 | \n",
       "| -0.25118648 |  1.2243649  |  2.42639541 |  0.27492760 | \n",
       "| -0.41863268 |  0.1824934  |  4.04581635 | -0.26502514 | \n",
       "|  0.71747376 | -0.6815385  | -0.86611267 |  0.34934070 | \n",
       "| -0.47175534 |  0.5592928  |  0.61206784 | -0.07518895 | \n",
       "\n",
       "\n"
      ],
      "text/plain": [
       "   a           b          c           d          \n",
       "1  -0.82084275 -1.1800650 -0.60090186 -0.57635299\n",
       "2   0.44961916  1.8449456 -0.05813793  1.03059546\n",
       "3  -1.68080415 -0.5327509  0.72271860  0.42242532\n",
       "4   0.04726862  1.5193581  0.19005997 -0.45715189\n",
       "5  -1.45272368  1.0775926 -0.78215212  2.29525121\n",
       "6  -0.51696272  1.4535923 -0.11381506  0.66460878\n",
       "7  -0.25118648  1.2243649  2.42639541  0.27492760\n",
       "8  -0.41863268  0.1824934  4.04581635 -0.26502514\n",
       "9   0.71747376 -0.6815385 -0.86611267  0.34934070\n",
       "10 -0.47175534  0.5592928  0.61206784 -0.07518895"
      ]
     },
     "metadata": {},
     "output_type": "display_data"
    },
    {
     "data": {
      "text/html": [
       "<table>\n",
       "<thead><tr><th scope=col>a</th><th scope=col>b</th><th scope=col>c</th><th scope=col>d</th></tr></thead>\n",
       "<tbody>\n",
       "\t<tr><td>0.35857454</td><td>0.0000000 </td><td>0.05399321</td><td>0.00000000</td></tr>\n",
       "\t<tr><td>0.88831378</td><td>1.6396205 </td><td>0.16449235</td><td>0.55959956</td></tr>\n",
       "\t<tr><td>0.00000000</td><td>0.3508581 </td><td>0.32346381</td><td>0.34781197</td></tr>\n",
       "\t<tr><td>0.72054734</td><td>1.4631451 </td><td>0.21502197</td><td>0.04151028</td></tr>\n",
       "\t<tr><td>0.09510177</td><td>1.2236987 </td><td>0.01709319</td><td>1.00000000</td></tr>\n",
       "\t<tr><td>0.48528214</td><td>1.4274986 </td><td>0.15315726</td><td>0.43214931</td></tr>\n",
       "\t<tr><td>0.59610175</td><td>1.3032525 </td><td>0.67030856</td><td>0.29644775</td></tr>\n",
       "\t<tr><td>0.52628240</td><td>0.7385358 </td><td>1.00000000</td><td>0.10841600</td></tr>\n",
       "\t<tr><td>1.00000000</td><td>0.2702120 </td><td>0.00000000</td><td>0.32236117</td></tr>\n",
       "\t<tr><td>0.50413207</td><td>0.9427691 </td><td>0.30093686</td><td>0.17452407</td></tr>\n",
       "</tbody>\n",
       "</table>\n"
      ],
      "text/latex": [
       "\\begin{tabular}{r|llll}\n",
       " a & b & c & d\\\\\n",
       "\\hline\n",
       "\t 0.35857454 & 0.0000000  & 0.05399321 & 0.00000000\\\\\n",
       "\t 0.88831378 & 1.6396205  & 0.16449235 & 0.55959956\\\\\n",
       "\t 0.00000000 & 0.3508581  & 0.32346381 & 0.34781197\\\\\n",
       "\t 0.72054734 & 1.4631451  & 0.21502197 & 0.04151028\\\\\n",
       "\t 0.09510177 & 1.2236987  & 0.01709319 & 1.00000000\\\\\n",
       "\t 0.48528214 & 1.4274986  & 0.15315726 & 0.43214931\\\\\n",
       "\t 0.59610175 & 1.3032525  & 0.67030856 & 0.29644775\\\\\n",
       "\t 0.52628240 & 0.7385358  & 1.00000000 & 0.10841600\\\\\n",
       "\t 1.00000000 & 0.2702120  & 0.00000000 & 0.32236117\\\\\n",
       "\t 0.50413207 & 0.9427691  & 0.30093686 & 0.17452407\\\\\n",
       "\\end{tabular}\n"
      ],
      "text/markdown": [
       "\n",
       "a | b | c | d | \n",
       "|---|---|---|---|---|---|---|---|---|---|\n",
       "| 0.35857454 | 0.0000000  | 0.05399321 | 0.00000000 | \n",
       "| 0.88831378 | 1.6396205  | 0.16449235 | 0.55959956 | \n",
       "| 0.00000000 | 0.3508581  | 0.32346381 | 0.34781197 | \n",
       "| 0.72054734 | 1.4631451  | 0.21502197 | 0.04151028 | \n",
       "| 0.09510177 | 1.2236987  | 0.01709319 | 1.00000000 | \n",
       "| 0.48528214 | 1.4274986  | 0.15315726 | 0.43214931 | \n",
       "| 0.59610175 | 1.3032525  | 0.67030856 | 0.29644775 | \n",
       "| 0.52628240 | 0.7385358  | 1.00000000 | 0.10841600 | \n",
       "| 1.00000000 | 0.2702120  | 0.00000000 | 0.32236117 | \n",
       "| 0.50413207 | 0.9427691  | 0.30093686 | 0.17452407 | \n",
       "\n",
       "\n"
      ],
      "text/plain": [
       "   a          b         c          d         \n",
       "1  0.35857454 0.0000000 0.05399321 0.00000000\n",
       "2  0.88831378 1.6396205 0.16449235 0.55959956\n",
       "3  0.00000000 0.3508581 0.32346381 0.34781197\n",
       "4  0.72054734 1.4631451 0.21502197 0.04151028\n",
       "5  0.09510177 1.2236987 0.01709319 1.00000000\n",
       "6  0.48528214 1.4274986 0.15315726 0.43214931\n",
       "7  0.59610175 1.3032525 0.67030856 0.29644775\n",
       "8  0.52628240 0.7385358 1.00000000 0.10841600\n",
       "9  1.00000000 0.2702120 0.00000000 0.32236117\n",
       "10 0.50413207 0.9427691 0.30093686 0.17452407"
      ]
     },
     "metadata": {},
     "output_type": "display_data"
    }
   ],
   "source": [
    "df <- tibble::tibble(\n",
    "  a = rnorm(10),\n",
    "  b = rnorm(10),\n",
    "  c = rnorm(10),\n",
    "  d = rnorm(10)\n",
    ")\n",
    "df\n",
    "\n",
    "df$a <- (df$a - min(df$a, na.rm = TRUE)) / \n",
    "  (max(df$a, na.rm = TRUE) - min(df$a, na.rm = TRUE))\n",
    "df$b <- (df$b - min(df$b, na.rm = TRUE)) / \n",
    "  (max(df$b, na.rm = TRUE) - min(df$a, na.rm = TRUE))\n",
    "df$c <- (df$c - min(df$c, na.rm = TRUE)) / \n",
    "  (max(df$c, na.rm = TRUE) - min(df$c, na.rm = TRUE))\n",
    "df$d <- (df$d - min(df$d, na.rm = TRUE)) / \n",
    "  (max(df$d, na.rm = TRUE) - min(df$d, na.rm = TRUE))\n",
    "df"
   ]
  },
  {
   "cell_type": "markdown",
   "metadata": {},
   "source": [
    "You might be able to puzzle out that this rescales each column to have a range from 0 to 1. But did you spot the mistake? I made an error when copying-and-pasting the code for `df$b`: I forgot to change an `a` to a `b`. Extracting repeated code out into a function is a good idea because it prevents you from making this type of mistake.\n",
    "\n",
    "We are rescaling each column individually, we could write a function that just does that and we call it whenever we are rescaling a vector:"
   ]
  },
  {
   "cell_type": "code",
   "execution_count": 4,
   "metadata": {
    "collapsed": true
   },
   "outputs": [],
   "source": [
    "Rescale <- function(x) {\n",
    "  min <- min(x, na.rm = TRUE)\n",
    "  max <- max(x, na.rm = TRUE)\n",
    "  (x - min) / (max - min)\n",
    "}"
   ]
  },
  {
   "cell_type": "code",
   "execution_count": 5,
   "metadata": {},
   "outputs": [
    {
     "data": {
      "text/html": [
       "<ol class=list-inline>\n",
       "\t<li>0</li>\n",
       "\t<li>0.5</li>\n",
       "\t<li>1</li>\n",
       "</ol>\n"
      ],
      "text/latex": [
       "\\begin{enumerate*}\n",
       "\\item 0\n",
       "\\item 0.5\n",
       "\\item 1\n",
       "\\end{enumerate*}\n"
      ],
      "text/markdown": [
       "1. 0\n",
       "2. 0.5\n",
       "3. 1\n",
       "\n",
       "\n"
      ],
      "text/plain": [
       "[1] 0.0 0.5 1.0"
      ]
     },
     "metadata": {},
     "output_type": "display_data"
    }
   ],
   "source": [
    "Rescale(c(0, 50, 100))"
   ]
  },
  {
   "cell_type": "markdown",
   "metadata": {},
   "source": [
    "We can simplify the original example now that we have a function:"
   ]
  },
  {
   "cell_type": "code",
   "execution_count": 6,
   "metadata": {},
   "outputs": [
    {
     "data": {
      "text/html": [
       "<table>\n",
       "<thead><tr><th scope=col>a</th><th scope=col>b</th><th scope=col>c</th><th scope=col>d</th></tr></thead>\n",
       "<tbody>\n",
       "\t<tr><td>0.35857454</td><td>0.0000000 </td><td>0.05399321</td><td>0.00000000</td></tr>\n",
       "\t<tr><td>0.88831378</td><td>1.0000000 </td><td>0.16449235</td><td>0.55959956</td></tr>\n",
       "\t<tr><td>0.00000000</td><td>0.2139874 </td><td>0.32346381</td><td>0.34781197</td></tr>\n",
       "\t<tr><td>0.72054734</td><td>0.8923681 </td><td>0.21502197</td><td>0.04151028</td></tr>\n",
       "\t<tr><td>0.09510177</td><td>0.7463305 </td><td>0.01709319</td><td>1.00000000</td></tr>\n",
       "\t<tr><td>0.48528214</td><td>0.8706275 </td><td>0.15315726</td><td>0.43214931</td></tr>\n",
       "\t<tr><td>0.59610175</td><td>0.7948501 </td><td>0.67030856</td><td>0.29644775</td></tr>\n",
       "\t<tr><td>0.52628240</td><td>0.4504310 </td><td>1.00000000</td><td>0.10841600</td></tr>\n",
       "\t<tr><td>1.00000000</td><td>0.1648016 </td><td>0.00000000</td><td>0.32236117</td></tr>\n",
       "\t<tr><td>0.50413207</td><td>0.5749923 </td><td>0.30093686</td><td>0.17452407</td></tr>\n",
       "</tbody>\n",
       "</table>\n"
      ],
      "text/latex": [
       "\\begin{tabular}{r|llll}\n",
       " a & b & c & d\\\\\n",
       "\\hline\n",
       "\t 0.35857454 & 0.0000000  & 0.05399321 & 0.00000000\\\\\n",
       "\t 0.88831378 & 1.0000000  & 0.16449235 & 0.55959956\\\\\n",
       "\t 0.00000000 & 0.2139874  & 0.32346381 & 0.34781197\\\\\n",
       "\t 0.72054734 & 0.8923681  & 0.21502197 & 0.04151028\\\\\n",
       "\t 0.09510177 & 0.7463305  & 0.01709319 & 1.00000000\\\\\n",
       "\t 0.48528214 & 0.8706275  & 0.15315726 & 0.43214931\\\\\n",
       "\t 0.59610175 & 0.7948501  & 0.67030856 & 0.29644775\\\\\n",
       "\t 0.52628240 & 0.4504310  & 1.00000000 & 0.10841600\\\\\n",
       "\t 1.00000000 & 0.1648016  & 0.00000000 & 0.32236117\\\\\n",
       "\t 0.50413207 & 0.5749923  & 0.30093686 & 0.17452407\\\\\n",
       "\\end{tabular}\n"
      ],
      "text/markdown": [
       "\n",
       "a | b | c | d | \n",
       "|---|---|---|---|---|---|---|---|---|---|\n",
       "| 0.35857454 | 0.0000000  | 0.05399321 | 0.00000000 | \n",
       "| 0.88831378 | 1.0000000  | 0.16449235 | 0.55959956 | \n",
       "| 0.00000000 | 0.2139874  | 0.32346381 | 0.34781197 | \n",
       "| 0.72054734 | 0.8923681  | 0.21502197 | 0.04151028 | \n",
       "| 0.09510177 | 0.7463305  | 0.01709319 | 1.00000000 | \n",
       "| 0.48528214 | 0.8706275  | 0.15315726 | 0.43214931 | \n",
       "| 0.59610175 | 0.7948501  | 0.67030856 | 0.29644775 | \n",
       "| 0.52628240 | 0.4504310  | 1.00000000 | 0.10841600 | \n",
       "| 1.00000000 | 0.1648016  | 0.00000000 | 0.32236117 | \n",
       "| 0.50413207 | 0.5749923  | 0.30093686 | 0.17452407 | \n",
       "\n",
       "\n"
      ],
      "text/plain": [
       "   a          b         c          d         \n",
       "1  0.35857454 0.0000000 0.05399321 0.00000000\n",
       "2  0.88831378 1.0000000 0.16449235 0.55959956\n",
       "3  0.00000000 0.2139874 0.32346381 0.34781197\n",
       "4  0.72054734 0.8923681 0.21502197 0.04151028\n",
       "5  0.09510177 0.7463305 0.01709319 1.00000000\n",
       "6  0.48528214 0.8706275 0.15315726 0.43214931\n",
       "7  0.59610175 0.7948501 0.67030856 0.29644775\n",
       "8  0.52628240 0.4504310 1.00000000 0.10841600\n",
       "9  1.00000000 0.1648016 0.00000000 0.32236117\n",
       "10 0.50413207 0.5749923 0.30093686 0.17452407"
      ]
     },
     "metadata": {},
     "output_type": "display_data"
    }
   ],
   "source": [
    "df$a <- Rescale(df$a)\n",
    "df$b <- Rescale(df$b)\n",
    "df$c <- Rescale(df$c)\n",
    "df$d <- Rescale(df$d)\n",
    "df"
   ]
  },
  {
   "cell_type": "markdown",
   "metadata": {},
   "source": [
    "### Practice\n",
    "Compared to the original, this code is easier to understand and we've eliminated one class of copy-and-paste errors. There is still quite a bit of duplication since we're doing the same thing to multiple columns. "
   ]
  },
  {
   "cell_type": "code",
   "execution_count": 7,
   "metadata": {
    "collapsed": true
   },
   "outputs": [],
   "source": [
    "f1 <- function(string, prefix) {\n",
    "  substr(string, 1, nchar(prefix)) == prefix\n",
    "}"
   ]
  },
  {
   "cell_type": "code",
   "execution_count": 8,
   "metadata": {},
   "outputs": [],
   "source": [
    "# Your answer goes here"
   ]
  },
  {
   "cell_type": "code",
   "execution_count": 9,
   "metadata": {
    "collapsed": true
   },
   "outputs": [],
   "source": [
    "f2 <- function(x) {\n",
    "  if (length(x) <= 1) return(NULL)\n",
    "  x[-length(x)]\n",
    "}"
   ]
  },
  {
   "cell_type": "code",
   "execution_count": 10,
   "metadata": {
    "collapsed": true
   },
   "outputs": [],
   "source": [
    "# Your answer goes here\n"
   ]
  },
  {
   "cell_type": "code",
   "execution_count": 11,
   "metadata": {
    "collapsed": true
   },
   "outputs": [],
   "source": [
    "f3 <- function(x, y) {\n",
    "  rep(y, length.out = length(x))\n",
    "}"
   ]
  },
  {
   "cell_type": "code",
   "execution_count": 12,
   "metadata": {},
   "outputs": [],
   "source": [
    "# Your answer goes here"
   ]
  },
  {
   "cell_type": "markdown",
   "metadata": {},
   "source": [
    "### Practice\n",
    "Write a function that takes a `dataframe`, `x`, `y`, and color and returns a scatterplot with the given color."
   ]
  },
  {
   "cell_type": "code",
   "execution_count": 13,
   "metadata": {
    "collapsed": true
   },
   "outputs": [],
   "source": [
    "# Your answer goes here"
   ]
  },
  {
   "cell_type": "markdown",
   "metadata": {},
   "source": [
    "## Function arguments\n",
    "Generally, data arguments should come first. Detail arguments should go on the end, and usually should have default values. We specify a default argument by giving it a default value in the function definition using `=`.\n",
    "\n",
    "For example, lets modify our `AddTwoNums()` so that it adds 1 to `a` if `b` is not provided: "
   ]
  },
  {
   "cell_type": "code",
   "execution_count": 14,
   "metadata": {
    "collapsed": true
   },
   "outputs": [],
   "source": [
    "AddTwoNums <- function(a, b = 1) {\n",
    "    return(a + b)\n",
    "}"
   ]
  },
  {
   "cell_type": "code",
   "execution_count": 15,
   "metadata": {},
   "outputs": [
    {
     "data": {
      "text/html": [
       "9"
      ],
      "text/latex": [
       "9"
      ],
      "text/markdown": [
       "9"
      ],
      "text/plain": [
       "[1] 9"
      ]
     },
     "metadata": {},
     "output_type": "display_data"
    }
   ],
   "source": [
    "AddTwoNums(8)"
   ]
  },
  {
   "cell_type": "code",
   "execution_count": 16,
   "metadata": {},
   "outputs": [
    {
     "data": {
      "text/html": [
       "15"
      ],
      "text/latex": [
       "15"
      ],
      "text/markdown": [
       "15"
      ],
      "text/plain": [
       "[1] 15"
      ]
     },
     "metadata": {},
     "output_type": "display_data"
    }
   ],
   "source": [
    "AddTwoNums(5, 10)  # It still does what we expect to do when both arguments are available"
   ]
  },
  {
   "cell_type": "markdown",
   "metadata": {},
   "source": [
    "The default value should almost always be the most common value. Except for safety reasons.\n",
    "\n",
    "### Choosing names\n",
    "The names of the arguments are also important. R doesn't care, but the readers of your code (including future-you!) will. Generally you should prefer longer, more descriptive names, but there are a handful of very common, very short names. It's worth memorizing these:\n",
    "\n",
    "`x`, `y`, `z`: vectors.\n",
    "\n",
    "`w`: a vector of weights.\n",
    "\n",
    "`df`: a data frame.\n",
    "\n",
    "`i`, `j`: numeric indices (typically rows and columns).\n",
    "\n",
    "`n`: length, or number of rows.\n",
    "\n",
    "`p`: number of columns.\n",
    "\n",
    "Otherwise, consider matching names of arguments in existing R functions. For example, use `na.rm` to determine if missing values should be removed."
   ]
  },
  {
   "cell_type": "markdown",
   "metadata": {},
   "source": [
    "---\n",
    "## Conditionals\n",
    "An `if` statement allows you to conditionally execute code. It looks like this:\n",
    "\n",
    "> `if (condition) {\n",
    "  code executed when condition is TRUE\n",
    "} else {\n",
    "  code executed when condition is FALSE\n",
    "}`"
   ]
  },
  {
   "cell_type": "code",
   "execution_count": 17,
   "metadata": {},
   "outputs": [
    {
     "name": "stdout",
     "output_type": "stream",
     "text": [
      "[1] \"Condition is TRUE\"\n"
     ]
    }
   ],
   "source": [
    "condition = TRUE\n",
    "if (condition) {\n",
    "  print(\"Condition is TRUE\")\n",
    "} else {\n",
    "  print(\"Condition is FALSE\")\n",
    "}"
   ]
  },
  {
   "cell_type": "markdown",
   "metadata": {},
   "source": [
    "The condition must evaluate to either `TRUE` or `FALSE`.\n",
    "\n",
    "You can use `||` (or) and `&&` (and) to combine multiple logical expressions.\n",
    "\n",
    "You can chain multiple if statements together:\n",
    "> `if (this) {\n",
    "  do that\n",
    "} else if (that) {\n",
    "  do something else\n",
    "} else {\n",
    "  do something else \n",
    "}`"
   ]
  },
  {
   "cell_type": "markdown",
   "metadata": {},
   "source": [
    "---\n",
    "### Exercise 1\n",
    "Write a greeting if statement that says \"good morning\", \"good afternoon\", or \"good evening\", depending on the time of day. (Hint: use lubridate's `now()` function to get the current time, and by `hour()` extract the hour of day)."
   ]
  },
  {
   "cell_type": "code",
   "execution_count": 18,
   "metadata": {},
   "outputs": [],
   "source": [
    "# Your answer goes here"
   ]
  },
  {
   "cell_type": "markdown",
   "metadata": {},
   "source": [
    "---\n",
    "### Exercise 2\n",
    "Implement an if statement. It receives an integer `number`. If our `number` is divisible by three, it prints \"fizz\". If it's divisible by five it print \"buzz\". If it's divisible by three and five, it prints \"fizzbuzz\". Otherwise, it returns the number.\n",
    "\n",
    "(Hint: `x%%y` gives the remainder of `x` divided by `y`)"
   ]
  },
  {
   "cell_type": "code",
   "execution_count": 19,
   "metadata": {
    "collapsed": true
   },
   "outputs": [],
   "source": [
    "# Your answer goes here"
   ]
  },
  {
   "cell_type": "markdown",
   "metadata": {},
   "source": [
    "## `cut()`\n",
    "`cut` divides the range of `x` into intervals and codes the values in `x` according to which interval they fall. The leftmost interval corresponds to level one, the next leftmost to level two and so on.\n",
    "\n",
    "For instance here we label a sample of 100 random numbers from a normal distribution:"
   ]
  },
  {
   "cell_type": "code",
   "execution_count": 20,
   "metadata": {},
   "outputs": [
    {
     "name": "stdout",
     "output_type": "stream",
     "text": [
      "  [1] (-1,0]  (0,1]   (-2,-1] (-2,-1] (-2,-1] (-1,0]  (0,1]   (-1,0]  (0,1]  \n",
      " [10] (-1,0]  (0,1]   (0,1]   (1,2]   (0,1]   (1,2]   (-1,0]  (0,1]   (-1,0] \n",
      " [19] (-1,0]  (-2,-1] (0,1]   (-1,0]  (-1,0]  (0,1]   (-1,0]  (-1,0]  (-1,0] \n",
      " [28] (-1,0]  (-1,0]  (0,1]   (1,2]   (-1,0]  (0,1]   (1,2]   (-1,0]  (0,1]  \n",
      " [37] (-1,0]  (0,1]   (0,1]   (0,1]   (-1,0]  (1,2]   (-1,0]  (-1,0]  (-1,0] \n",
      " [46] (0,1]   (0,1]   (-2,-1] (-2,-1] (-2,-1] (0,1]   (-1,0]  (-2,-1] (-1,0] \n",
      " [55] (0,1]   (0,1]   (0,1]   (0,1]   (-1,0]  (0,1]   (1,2]   (0,1]   (-1,0] \n",
      " [64] (1,2]   (-1,0]  (1,2]   (-2,-1] (-1,0]  (-2,-1] (1,2]   (1,2]   (1,2]  \n",
      " [73] (0,1]   (0,1]   (0,1]   (0,1]   (-1,0]  (-2,-1] (-2,-1] (0,1]   (0,1]  \n",
      " [82] (1,2]   (1,2]   (-2,-1] (-1,0]  (0,1]   (-2,-1] (0,1]   (-2,-1] (-1,0] \n",
      " [91] (0,1]   (0,1]   (1,2]   (0,1]   (-2,-1] (-2,-1] (-2,-1] (2,3]   (0,1]  \n",
      "[100] (-1,0] \n",
      "12 Levels: (-6,-5] (-5,-4] (-4,-3] (-3,-2] (-2,-1] (-1,0] (0,1] (1,2] ... (5,6]\n"
     ]
    }
   ],
   "source": [
    "z <- rnorm(100)\n",
    "print(cut(z, breaks = -6:6))"
   ]
  },
  {
   "cell_type": "markdown",
   "metadata": {},
   "source": [
    "Let's summarize these bins for a 10,000 sample by `table()`:"
   ]
  },
  {
   "cell_type": "code",
   "execution_count": 21,
   "metadata": {},
   "outputs": [
    {
     "data": {
      "text/plain": [
       "\n",
       "(-6,-5] (-5,-4] (-4,-3] (-3,-2] (-2,-1]  (-1,0]   (0,1]   (1,2]   (2,3]   (3,4] \n",
       "      0       0      15     198    1367    3424    3373    1388     221      14 \n",
       "  (4,5]   (5,6] \n",
       "      0       0 "
      ]
     },
     "metadata": {},
     "output_type": "display_data"
    }
   ],
   "source": [
    "Z <- rnorm(10000)\n",
    "table(cut(Z, breaks = -6:6))"
   ]
  },
  {
   "cell_type": "code",
   "execution_count": 22,
   "metadata": {},
   "outputs": [
    {
     "name": "stderr",
     "output_type": "stream",
     "text": [
      "\n",
      "Attaching package: ‘lubridate’\n",
      "\n",
      "The following object is masked from ‘package:base’:\n",
      "\n",
      "    date\n",
      "\n"
     ]
    }
   ],
   "source": [
    "library(lubridate)"
   ]
  },
  {
   "cell_type": "markdown",
   "metadata": {},
   "source": [
    "We could answer exercise 1 by `cut()`:"
   ]
  },
  {
   "cell_type": "code",
   "execution_count": 23,
   "metadata": {},
   "outputs": [
    {
     "name": "stdout",
     "output_type": "stream",
     "text": [
      "[1] Good Evening!\n",
      "Levels: Good Evening! Good Morning! Good Afternoon!\n"
     ]
    }
   ],
   "source": [
    "greeting <- cut(hour(now()), c(-1, 5, 12, 17, 24), right = TRUE,\n",
    "                labels = c(\"Good Evening!\", \"Good Morning!\", \"Good Afternoon!\", \"Good Evening!\"))\n",
    "print(greeting)"
   ]
  },
  {
   "cell_type": "markdown",
   "metadata": {},
   "source": [
    "Question: what does `right = TRUE` do in the code above?"
   ]
  },
  {
   "cell_type": "code",
   "execution_count": 24,
   "metadata": {},
   "outputs": [
    {
     "data": {
      "text/html": [
       "21"
      ],
      "text/latex": [
       "21"
      ],
      "text/markdown": [
       "21"
      ],
      "text/plain": [
       "[1] 21"
      ]
     },
     "metadata": {},
     "output_type": "display_data"
    }
   ],
   "source": [
    "hour(now())"
   ]
  },
  {
   "cell_type": "markdown",
   "metadata": {},
   "source": [
    "---\n",
    "### Checking function input arguments\n",
    "**Stop**\n",
    "It's good practice to check important preconditions, and throw an error (with `stop()`), if they are not true:\n",
    "\n",
    "For example we have this function that gives us `TRUE` if input is an even number and `FALSE` if it's an odd integer:"
   ]
  },
  {
   "cell_type": "code",
   "execution_count": 25,
   "metadata": {},
   "outputs": [],
   "source": [
    "IsEven <- function(a) {\n",
    "    if (a %% 2 == 0) {\n",
    "        return(TRUE)\n",
    "    } else {\n",
    "        return(FALSE)\n",
    "    }\n",
    "}"
   ]
  },
  {
   "cell_type": "code",
   "execution_count": 26,
   "metadata": {},
   "outputs": [
    {
     "data": {
      "text/html": [
       "TRUE"
      ],
      "text/latex": [
       "TRUE"
      ],
      "text/markdown": [
       "TRUE"
      ],
      "text/plain": [
       "[1] TRUE"
      ]
     },
     "metadata": {},
     "output_type": "display_data"
    },
    {
     "data": {
      "text/html": [
       "FALSE"
      ],
      "text/latex": [
       "FALSE"
      ],
      "text/markdown": [
       "FALSE"
      ],
      "text/plain": [
       "[1] FALSE"
      ]
     },
     "metadata": {},
     "output_type": "display_data"
    }
   ],
   "source": [
    "IsEven(4)\n",
    "IsEven(5)"
   ]
  },
  {
   "cell_type": "markdown",
   "metadata": {},
   "source": [
    "Now what happens if we give a non-integer input?"
   ]
  },
  {
   "cell_type": "code",
   "execution_count": 27,
   "metadata": {},
   "outputs": [
    {
     "data": {
      "text/html": [
       "FALSE"
      ],
      "text/latex": [
       "FALSE"
      ],
      "text/markdown": [
       "FALSE"
      ],
      "text/plain": [
       "[1] FALSE"
      ]
     },
     "metadata": {},
     "output_type": "display_data"
    }
   ],
   "source": [
    "IsEven(4.4)"
   ]
  },
  {
   "cell_type": "markdown",
   "metadata": {},
   "source": [
    "4.4 is not an off number! In fact it's not an integer, so we shouldn't have done the test. Let's add a `stop()` and check first to see if the input is an integer:"
   ]
  },
  {
   "cell_type": "code",
   "execution_count": 28,
   "metadata": {
    "collapsed": true
   },
   "outputs": [],
   "source": [
    "IsEven <- function(a) {\n",
    "    \n",
    "    if (is.integer(a) == FALSE) {\n",
    "    stop(\"a must be an integer!\")\n",
    "    }\n",
    "    \n",
    "    if (a %% 2 == 0) {\n",
    "        return(TRUE)\n",
    "    } else {\n",
    "        return(FALSE)\n",
    "    }\n",
    "}"
   ]
  },
  {
   "cell_type": "code",
   "execution_count": 37,
   "metadata": {},
   "outputs": [
    {
     "ename": "ERROR",
     "evalue": "Error in IsEven(4.4): a must be an integer!\n",
     "output_type": "error",
     "traceback": [
      "Error in IsEven(4.4): a must be an integer!\nTraceback:\n",
      "1. IsEven(4.4)",
      "2. stop(\"a must be an integer!\")   # at line 4 of file <text>"
     ]
    }
   ],
   "source": [
    "#IsEven(4.4)  # Should return an error now"
   ]
  },
  {
   "cell_type": "markdown",
   "metadata": {},
   "source": [
    "### Explicit return statements\n",
    "The value returned by the function is usually the last statement it evaluates, but you can choose to return early by using `return()`. I think it's best to save the use of `return()` to signal that you can return early with a simpler solution. A common reason to do this is because the inputs are empty:"
   ]
  },
  {
   "cell_type": "code",
   "execution_count": 30,
   "metadata": {
    "collapsed": true
   },
   "outputs": [],
   "source": [
    "ComplicatedFunction <- function(x, y, z) {\n",
    "  if (length(x) == 0 || length(y) == 0) {\n",
    "    return(0)\n",
    "  }\n",
    "    \n",
    "  # Complicated code here\n",
    "}"
   ]
  },
  {
   "cell_type": "markdown",
   "metadata": {},
   "source": [
    "Another reason is because you have a if statement with one complex block and one simple block"
   ]
  },
  {
   "cell_type": "code",
   "execution_count": 31,
   "metadata": {
    "collapsed": true
   },
   "outputs": [],
   "source": [
    "f <- function() {\n",
    "  if (x) {\n",
    "    # Do \n",
    "    # something\n",
    "    # that\n",
    "    # takes\n",
    "    # many\n",
    "    # lines\n",
    "    # to\n",
    "    # express\n",
    "  } else {\n",
    "    # return something short\n",
    "  }\n",
    "}"
   ]
  },
  {
   "cell_type": "markdown",
   "metadata": {},
   "source": [
    "But if the first block is very long, by the time you get to the else, you've forgotten the condition. One way to rewrite it is to use an early return for the simple case:"
   ]
  },
  {
   "cell_type": "code",
   "execution_count": 32,
   "metadata": {
    "collapsed": true
   },
   "outputs": [],
   "source": [
    "f <- function() {\n",
    "  if (!x) {\n",
    "    return(something_short)\n",
    "  }\n",
    "\n",
    "  # Do \n",
    "  # something\n",
    "  # that\n",
    "  # takes\n",
    "  # many\n",
    "  # lines\n",
    "  # to\n",
    "  # express\n",
    "}"
   ]
  },
  {
   "cell_type": "markdown",
   "metadata": {},
   "source": [
    "## `ifelse()`"
   ]
  },
  {
   "cell_type": "markdown",
   "metadata": {},
   "source": [
    "`ifelse(test_expression, yes, no)` returns a value with the same shape as `test_expression` which is filled with elements selected from either `yes` or `no` depending on whether the element of `test_expression` is `TRUE` or `FALSE`.\n",
    "\n",
    "Example:"
   ]
  },
  {
   "cell_type": "code",
   "execution_count": 33,
   "metadata": {},
   "outputs": [
    {
     "data": {
      "text/html": [
       "<ol class=list-inline>\n",
       "\t<li>6</li>\n",
       "\t<li>5</li>\n",
       "\t<li>4</li>\n",
       "\t<li>3</li>\n",
       "\t<li>2</li>\n",
       "\t<li>1</li>\n",
       "\t<li>0</li>\n",
       "\t<li>&lt;NA&gt;</li>\n",
       "\t<li>&lt;NA&gt;</li>\n",
       "\t<li>&lt;NA&gt;</li>\n",
       "\t<li>&lt;NA&gt;</li>\n",
       "</ol>\n"
      ],
      "text/latex": [
       "\\begin{enumerate*}\n",
       "\\item 6\n",
       "\\item 5\n",
       "\\item 4\n",
       "\\item 3\n",
       "\\item 2\n",
       "\\item 1\n",
       "\\item 0\n",
       "\\item <NA>\n",
       "\\item <NA>\n",
       "\\item <NA>\n",
       "\\item <NA>\n",
       "\\end{enumerate*}\n"
      ],
      "text/markdown": [
       "1. 6\n",
       "2. 5\n",
       "3. 4\n",
       "4. 3\n",
       "5. 2\n",
       "6. 1\n",
       "7. 0\n",
       "8. &lt;NA&gt;\n",
       "9. &lt;NA&gt;\n",
       "10. &lt;NA&gt;\n",
       "11. &lt;NA&gt;\n",
       "\n",
       "\n"
      ],
      "text/plain": [
       " [1]  6  5  4  3  2  1  0 NA NA NA NA"
      ]
     },
     "metadata": {},
     "output_type": "display_data"
    }
   ],
   "source": [
    "x <- c(6:-4)\n",
    "ifelse(x >= 0, x, NA)"
   ]
  },
  {
   "cell_type": "code",
   "execution_count": 34,
   "metadata": {},
   "outputs": [
    {
     "data": {
      "text/html": [
       "'even'"
      ],
      "text/latex": [
       "'even'"
      ],
      "text/markdown": [
       "'even'"
      ],
      "text/plain": [
       "[1] \"even\""
      ]
     },
     "metadata": {},
     "output_type": "display_data"
    }
   ],
   "source": [
    "number = 4\n",
    "ifelse(number %% 2 == 0, \"even\", \"odd\")"
   ]
  },
  {
   "cell_type": "code",
   "execution_count": 35,
   "metadata": {},
   "outputs": [
    {
     "data": {
      "text/html": [
       "<table>\n",
       "<tbody>\n",
       "\t<tr><td>1</td><td>4</td><td>7</td></tr>\n",
       "\t<tr><td>2</td><td>5</td><td>8</td></tr>\n",
       "\t<tr><td>3</td><td>6</td><td>9</td></tr>\n",
       "</tbody>\n",
       "</table>\n"
      ],
      "text/latex": [
       "\\begin{tabular}{lll}\n",
       "\t 1 & 4 & 7\\\\\n",
       "\t 2 & 5 & 8\\\\\n",
       "\t 3 & 6 & 9\\\\\n",
       "\\end{tabular}\n"
      ],
      "text/markdown": [
       "\n",
       "| 1 | 4 | 7 | \n",
       "| 2 | 5 | 8 | \n",
       "| 3 | 6 | 9 | \n",
       "\n",
       "\n"
      ],
      "text/plain": [
       "     [,1] [,2] [,3]\n",
       "[1,] 1    4    7   \n",
       "[2,] 2    5    8   \n",
       "[3,] 3    6    9   "
      ]
     },
     "metadata": {},
     "output_type": "display_data"
    }
   ],
   "source": [
    "(a <- matrix(1:9, 3, 3))"
   ]
  },
  {
   "cell_type": "code",
   "execution_count": 36,
   "metadata": {},
   "outputs": [
    {
     "data": {
      "text/html": [
       "<table>\n",
       "<tbody>\n",
       "\t<tr><td>0</td><td>4</td><td>0</td></tr>\n",
       "\t<tr><td>2</td><td>0</td><td>8</td></tr>\n",
       "\t<tr><td>0</td><td>6</td><td>0</td></tr>\n",
       "</tbody>\n",
       "</table>\n"
      ],
      "text/latex": [
       "\\begin{tabular}{lll}\n",
       "\t 0 & 4 & 0\\\\\n",
       "\t 2 & 0 & 8\\\\\n",
       "\t 0 & 6 & 0\\\\\n",
       "\\end{tabular}\n"
      ],
      "text/markdown": [
       "\n",
       "| 0 | 4 | 0 | \n",
       "| 2 | 0 | 8 | \n",
       "| 0 | 6 | 0 | \n",
       "\n",
       "\n"
      ],
      "text/plain": [
       "     [,1] [,2] [,3]\n",
       "[1,] 0    4    0   \n",
       "[2,] 2    0    8   \n",
       "[3,] 0    6    0   "
      ]
     },
     "metadata": {},
     "output_type": "display_data"
    }
   ],
   "source": [
    "ifelse(a %% 2 == 0, a, 0)"
   ]
  }
 ],
 "metadata": {
  "kernelspec": {
   "display_name": "R",
   "language": "R",
   "name": "ir"
  },
  "language_info": {
   "codemirror_mode": "r",
   "file_extension": ".r",
   "mimetype": "text/x-r-source",
   "name": "R",
   "pygments_lexer": "r",
   "version": "3.5.1"
  }
 },
 "nbformat": 4,
 "nbformat_minor": 2
}
