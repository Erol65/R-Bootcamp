{
 "cells": [
  {
   "cell_type": "markdown",
   "metadata": {},
   "source": [
    "<a class=\"anchor\" id=\"jump_to_top\"></a>\n",
    "# Function and Conditionals\n",
    "---\n",
    "\n",
    "### Table of Contents\n",
    "* [Functions](#Function)\n",
    "* [Conditionals](#Conditionals)\n",
    "* [cut()](#cut)\n",
    "* [stop()](#stop)\n",
    "* [return()](#return)\n",
    "* [ifelse()](#ifelse)"
   ]
  },
  {
   "cell_type": "code",
   "execution_count": 1,
   "metadata": {},
   "outputs": [
    {
     "name": "stderr",
     "output_type": "stream",
     "text": [
      "── Attaching packages ─────────────────────────────────────── tidyverse 1.2.1 ──\n",
      "✔ ggplot2 3.0.0     ✔ purrr   0.2.5\n",
      "✔ tibble  1.4.2     ✔ dplyr   0.7.6\n",
      "✔ tidyr   0.8.1     ✔ stringr 1.3.1\n",
      "✔ readr   1.1.1     ✔ forcats 0.3.0\n",
      "── Conflicts ────────────────────────────────────────── tidyverse_conflicts() ──\n",
      "✖ dplyr::filter() masks stats::filter()\n",
      "✖ dplyr::lag()    masks stats::lag()\n",
      "\n",
      "Attaching package: ‘lubridate’\n",
      "\n",
      "The following object is masked from ‘package:base’:\n",
      "\n",
      "    date\n",
      "\n"
     ]
    }
   ],
   "source": [
    "# Loading packages\n",
    "library(tidyverse)\n",
    "library(lubridate)  # lubridate is not part of core tidyverse, so has to be loaded separately."
   ]
  },
  {
   "cell_type": "markdown",
   "metadata": {},
   "source": [
    "<a class=\"anchor\" id=\"Function\"></a>\n",
    "## Functions\n",
    "One of the best ways to improve your code readability is to write functions. Functions allow you to automate common tasks in a more powerful and general way than copy-and-pasting. Writing a function has three big advantages over using copy-and-paste:\n",
    "\n",
    "1. You can give a function an evocative name that makes your code easier to understand.\n",
    "\n",
    "2. As requirements change, you only need to update code in one place, instead of many.\n",
    "\n",
    "3. You eliminate the chance of making incidental mistakes when you copy and paste (i.e. updating a variable name in one place, but not in another).\n",
    "\n",
    "General template of a function:\n",
    "\n",
    "> `MyFunction <- function(arg1, arg2, ... ){\n",
    "  statements\n",
    "  return(object)\n",
    "}`\n",
    "\n",
    "Example: The following function adds a and b and return it:"
   ]
  },
  {
   "cell_type": "code",
   "execution_count": 2,
   "metadata": {},
   "outputs": [],
   "source": [
    "AddFunction <- function(a, b) {\n",
    "    return(a + b)\n",
    "}"
   ]
  },
  {
   "cell_type": "code",
   "execution_count": 3,
   "metadata": {},
   "outputs": [
    {
     "data": {
      "text/html": [
       "5"
      ],
      "text/latex": [
       "5"
      ],
      "text/markdown": [
       "5"
      ],
      "text/plain": [
       "[1] 5"
      ]
     },
     "metadata": {},
     "output_type": "display_data"
    }
   ],
   "source": [
    "AddFunction(3, 2)"
   ]
  },
  {
   "cell_type": "markdown",
   "metadata": {},
   "source": [
    "<div style=\"text-align: right\"> [[Jump to top]](#jump_to_top) </div>\n",
    "### When should you write a function?\n",
    "You should consider writing a function whenever you've copied and pasted a block of code more than twice (i.e. you now have three copies of the same code). For example, take a look at this code. What does it do?"
   ]
  },
  {
   "cell_type": "code",
   "execution_count": 4,
   "metadata": {},
   "outputs": [
    {
     "data": {
      "text/html": [
       "<table>\n",
       "<thead><tr><th scope=col>a</th><th scope=col>b</th><th scope=col>c</th><th scope=col>d</th></tr></thead>\n",
       "<tbody>\n",
       "\t<tr><td>-0.67104491 </td><td>-2.681402188</td><td>-3.1680800  </td><td>-0.1987913  </td></tr>\n",
       "\t<tr><td>-2.90878689 </td><td> 0.850055615</td><td>-1.4882252  </td><td>-0.3460337  </td></tr>\n",
       "\t<tr><td> 0.56447511 </td><td> 0.069639344</td><td>-1.3161511  </td><td> 0.7039834  </td></tr>\n",
       "\t<tr><td>-0.22775485 </td><td> 0.751250583</td><td> 2.0216842  </td><td>-0.7319167  </td></tr>\n",
       "\t<tr><td> 0.08601546 </td><td>-0.775205537</td><td> 0.1079809  </td><td>-0.1878120  </td></tr>\n",
       "\t<tr><td>-0.10444338 </td><td> 1.408599848</td><td>-1.0159640  </td><td> 1.8780172  </td></tr>\n",
       "\t<tr><td>-0.16000169 </td><td>-0.041882941</td><td>-0.1713895  </td><td> 0.8846225  </td></tr>\n",
       "\t<tr><td>-1.67606935 </td><td> 0.379173176</td><td>-0.4098144  </td><td> 1.3426310  </td></tr>\n",
       "\t<tr><td>-1.25725389 </td><td>-0.006589048</td><td> 0.6968922  </td><td>-0.3489722  </td></tr>\n",
       "\t<tr><td> 1.28477670 </td><td>-0.719559718</td><td>-1.3215703  </td><td>-1.1099847  </td></tr>\n",
       "</tbody>\n",
       "</table>\n"
      ],
      "text/latex": [
       "\\begin{tabular}{r|llll}\n",
       " a & b & c & d\\\\\n",
       "\\hline\n",
       "\t -0.67104491  & -2.681402188 & -3.1680800   & -0.1987913  \\\\\n",
       "\t -2.90878689  &  0.850055615 & -1.4882252   & -0.3460337  \\\\\n",
       "\t  0.56447511  &  0.069639344 & -1.3161511   &  0.7039834  \\\\\n",
       "\t -0.22775485  &  0.751250583 &  2.0216842   & -0.7319167  \\\\\n",
       "\t  0.08601546  & -0.775205537 &  0.1079809   & -0.1878120  \\\\\n",
       "\t -0.10444338  &  1.408599848 & -1.0159640   &  1.8780172  \\\\\n",
       "\t -0.16000169  & -0.041882941 & -0.1713895   &  0.8846225  \\\\\n",
       "\t -1.67606935  &  0.379173176 & -0.4098144   &  1.3426310  \\\\\n",
       "\t -1.25725389  & -0.006589048 &  0.6968922   & -0.3489722  \\\\\n",
       "\t  1.28477670  & -0.719559718 & -1.3215703   & -1.1099847  \\\\\n",
       "\\end{tabular}\n"
      ],
      "text/markdown": [
       "\n",
       "a | b | c | d | \n",
       "|---|---|---|---|---|---|---|---|---|---|\n",
       "| -0.67104491  | -2.681402188 | -3.1680800   | -0.1987913   | \n",
       "| -2.90878689  |  0.850055615 | -1.4882252   | -0.3460337   | \n",
       "|  0.56447511  |  0.069639344 | -1.3161511   |  0.7039834   | \n",
       "| -0.22775485  |  0.751250583 |  2.0216842   | -0.7319167   | \n",
       "|  0.08601546  | -0.775205537 |  0.1079809   | -0.1878120   | \n",
       "| -0.10444338  |  1.408599848 | -1.0159640   |  1.8780172   | \n",
       "| -0.16000169  | -0.041882941 | -0.1713895   |  0.8846225   | \n",
       "| -1.67606935  |  0.379173176 | -0.4098144   |  1.3426310   | \n",
       "| -1.25725389  | -0.006589048 |  0.6968922   | -0.3489722   | \n",
       "|  1.28477670  | -0.719559718 | -1.3215703   | -1.1099847   | \n",
       "\n",
       "\n"
      ],
      "text/plain": [
       "   a           b            c          d         \n",
       "1  -0.67104491 -2.681402188 -3.1680800 -0.1987913\n",
       "2  -2.90878689  0.850055615 -1.4882252 -0.3460337\n",
       "3   0.56447511  0.069639344 -1.3161511  0.7039834\n",
       "4  -0.22775485  0.751250583  2.0216842 -0.7319167\n",
       "5   0.08601546 -0.775205537  0.1079809 -0.1878120\n",
       "6  -0.10444338  1.408599848 -1.0159640  1.8780172\n",
       "7  -0.16000169 -0.041882941 -0.1713895  0.8846225\n",
       "8  -1.67606935  0.379173176 -0.4098144  1.3426310\n",
       "9  -1.25725389 -0.006589048  0.6968922 -0.3489722\n",
       "10  1.28477670 -0.719559718 -1.3215703 -1.1099847"
      ]
     },
     "metadata": {},
     "output_type": "display_data"
    },
    {
     "data": {
      "text/html": [
       "<table>\n",
       "<thead><tr><th scope=col>a</th><th scope=col>b</th><th scope=col>c</th><th scope=col>d</th></tr></thead>\n",
       "<tbody>\n",
       "\t<tr><td>0.5336135</td><td>0.000000 </td><td>0.0000000</td><td>0.3049507</td></tr>\n",
       "\t<tr><td>0.0000000</td><td>2.507070 </td><td>0.3236861</td><td>0.2556728</td></tr>\n",
       "\t<tr><td>0.8282364</td><td>1.953033 </td><td>0.3568426</td><td>0.6070840</td></tr>\n",
       "\t<tr><td>0.6393207</td><td>2.436925 </td><td>1.0000000</td><td>0.1265287</td></tr>\n",
       "\t<tr><td>0.7141426</td><td>1.353256 </td><td>0.6312543</td><td>0.3086252</td></tr>\n",
       "\t<tr><td>0.6687256</td><td>2.903594 </td><td>0.4146847</td><td>1.0000000</td></tr>\n",
       "\t<tr><td>0.6554772</td><td>1.873860 </td><td>0.5774233</td><td>0.6675388</td></tr>\n",
       "\t<tr><td>0.2939547</td><td>2.172778 </td><td>0.5314819</td><td>0.8208213</td></tr>\n",
       "\t<tr><td>0.3938257</td><td>1.898916 </td><td>0.7447298</td><td>0.2546894</td></tr>\n",
       "\t<tr><td>1.0000000</td><td>1.392761 </td><td>0.3557984</td><td>0.0000000</td></tr>\n",
       "</tbody>\n",
       "</table>\n"
      ],
      "text/latex": [
       "\\begin{tabular}{r|llll}\n",
       " a & b & c & d\\\\\n",
       "\\hline\n",
       "\t 0.5336135 & 0.000000  & 0.0000000 & 0.3049507\\\\\n",
       "\t 0.0000000 & 2.507070  & 0.3236861 & 0.2556728\\\\\n",
       "\t 0.8282364 & 1.953033  & 0.3568426 & 0.6070840\\\\\n",
       "\t 0.6393207 & 2.436925  & 1.0000000 & 0.1265287\\\\\n",
       "\t 0.7141426 & 1.353256  & 0.6312543 & 0.3086252\\\\\n",
       "\t 0.6687256 & 2.903594  & 0.4146847 & 1.0000000\\\\\n",
       "\t 0.6554772 & 1.873860  & 0.5774233 & 0.6675388\\\\\n",
       "\t 0.2939547 & 2.172778  & 0.5314819 & 0.8208213\\\\\n",
       "\t 0.3938257 & 1.898916  & 0.7447298 & 0.2546894\\\\\n",
       "\t 1.0000000 & 1.392761  & 0.3557984 & 0.0000000\\\\\n",
       "\\end{tabular}\n"
      ],
      "text/markdown": [
       "\n",
       "a | b | c | d | \n",
       "|---|---|---|---|---|---|---|---|---|---|\n",
       "| 0.5336135 | 0.000000  | 0.0000000 | 0.3049507 | \n",
       "| 0.0000000 | 2.507070  | 0.3236861 | 0.2556728 | \n",
       "| 0.8282364 | 1.953033  | 0.3568426 | 0.6070840 | \n",
       "| 0.6393207 | 2.436925  | 1.0000000 | 0.1265287 | \n",
       "| 0.7141426 | 1.353256  | 0.6312543 | 0.3086252 | \n",
       "| 0.6687256 | 2.903594  | 0.4146847 | 1.0000000 | \n",
       "| 0.6554772 | 1.873860  | 0.5774233 | 0.6675388 | \n",
       "| 0.2939547 | 2.172778  | 0.5314819 | 0.8208213 | \n",
       "| 0.3938257 | 1.898916  | 0.7447298 | 0.2546894 | \n",
       "| 1.0000000 | 1.392761  | 0.3557984 | 0.0000000 | \n",
       "\n",
       "\n"
      ],
      "text/plain": [
       "   a         b        c         d        \n",
       "1  0.5336135 0.000000 0.0000000 0.3049507\n",
       "2  0.0000000 2.507070 0.3236861 0.2556728\n",
       "3  0.8282364 1.953033 0.3568426 0.6070840\n",
       "4  0.6393207 2.436925 1.0000000 0.1265287\n",
       "5  0.7141426 1.353256 0.6312543 0.3086252\n",
       "6  0.6687256 2.903594 0.4146847 1.0000000\n",
       "7  0.6554772 1.873860 0.5774233 0.6675388\n",
       "8  0.2939547 2.172778 0.5314819 0.8208213\n",
       "9  0.3938257 1.898916 0.7447298 0.2546894\n",
       "10 1.0000000 1.392761 0.3557984 0.0000000"
      ]
     },
     "metadata": {},
     "output_type": "display_data"
    }
   ],
   "source": [
    "df <- tibble::tibble(\n",
    "  a = rnorm(10),\n",
    "  b = rnorm(10),\n",
    "  c = rnorm(10),\n",
    "  d = rnorm(10)\n",
    ")\n",
    "df\n",
    "\n",
    "df$a <- (df$a - min(df$a, na.rm = TRUE)) / \n",
    "  (max(df$a, na.rm = TRUE) - min(df$a, na.rm = TRUE))\n",
    "df$b <- (df$b - min(df$b, na.rm = TRUE)) / \n",
    "  (max(df$b, na.rm = TRUE) - min(df$a, na.rm = TRUE))\n",
    "df$c <- (df$c - min(df$c, na.rm = TRUE)) / \n",
    "  (max(df$c, na.rm = TRUE) - min(df$c, na.rm = TRUE))\n",
    "df$d <- (df$d - min(df$d, na.rm = TRUE)) / \n",
    "  (max(df$d, na.rm = TRUE) - min(df$d, na.rm = TRUE))\n",
    "df"
   ]
  },
  {
   "cell_type": "markdown",
   "metadata": {},
   "source": [
    "You might be able to puzzle out that this rescales each column to have a range from 0 to 1. But did you spot the mistake? I made an error when copying-and-pasting the code for `df$b`: I forgot to change an `a` to a `b`. Extracting repeated code out into a function is a good idea because it prevents you from making this type of mistake.\n",
    "\n",
    "We are rescaling each column individually, we could write a function that just does that and we call it whenever we are rescaling a vector:"
   ]
  },
  {
   "cell_type": "code",
   "execution_count": 5,
   "metadata": {},
   "outputs": [],
   "source": [
    "Rescale <- function(x) {\n",
    "  # Rescales each column to a range from 0 to 1\n",
    "  #\n",
    "  # Args:\n",
    "  #   x: the vector that is being rescaled.\n",
    "  #\n",
    "  # Returns:\n",
    "  #   The new rescaled vector.\n",
    "\n",
    "  min <- min(x, na.rm = TRUE)\n",
    "  max <- max(x, na.rm = TRUE)\n",
    "  (x - min) / (max - min)\n",
    "}"
   ]
  },
  {
   "cell_type": "code",
   "execution_count": 6,
   "metadata": {},
   "outputs": [
    {
     "data": {
      "text/html": [
       "<ol class=list-inline>\n",
       "\t<li>0</li>\n",
       "\t<li>0.5</li>\n",
       "\t<li>1</li>\n",
       "</ol>\n"
      ],
      "text/latex": [
       "\\begin{enumerate*}\n",
       "\\item 0\n",
       "\\item 0.5\n",
       "\\item 1\n",
       "\\end{enumerate*}\n"
      ],
      "text/markdown": [
       "1. 0\n",
       "2. 0.5\n",
       "3. 1\n",
       "\n",
       "\n"
      ],
      "text/plain": [
       "[1] 0.0 0.5 1.0"
      ]
     },
     "metadata": {},
     "output_type": "display_data"
    }
   ],
   "source": [
    "x  <- c(0, 50, 100)\n",
    "Rescale(x)"
   ]
  },
  {
   "cell_type": "markdown",
   "metadata": {},
   "source": [
    "We can simplify the original example now that we have a function:"
   ]
  },
  {
   "cell_type": "code",
   "execution_count": 7,
   "metadata": {},
   "outputs": [
    {
     "data": {
      "text/html": [
       "<table>\n",
       "<thead><tr><th scope=col>a</th><th scope=col>b</th><th scope=col>c</th><th scope=col>d</th></tr></thead>\n",
       "<tbody>\n",
       "\t<tr><td>0.5336135</td><td>0.0000000</td><td>0.0000000</td><td>0.3049507</td></tr>\n",
       "\t<tr><td>0.0000000</td><td>0.8634367</td><td>0.3236861</td><td>0.2556728</td></tr>\n",
       "\t<tr><td>0.8282364</td><td>0.6726260</td><td>0.3568426</td><td>0.6070840</td></tr>\n",
       "\t<tr><td>0.6393207</td><td>0.8392790</td><td>1.0000000</td><td>0.1265287</td></tr>\n",
       "\t<tr><td>0.7141426</td><td>0.4660625</td><td>0.6312543</td><td>0.3086252</td></tr>\n",
       "\t<tr><td>0.6687256</td><td>1.0000000</td><td>0.4146847</td><td>1.0000000</td></tr>\n",
       "\t<tr><td>0.6554772</td><td>0.6453589</td><td>0.5774233</td><td>0.6675388</td></tr>\n",
       "\t<tr><td>0.2939547</td><td>0.7483066</td><td>0.5314819</td><td>0.8208213</td></tr>\n",
       "\t<tr><td>0.3938257</td><td>0.6539882</td><td>0.7447298</td><td>0.2546894</td></tr>\n",
       "\t<tr><td>1.0000000</td><td>0.4796678</td><td>0.3557984</td><td>0.0000000</td></tr>\n",
       "</tbody>\n",
       "</table>\n"
      ],
      "text/latex": [
       "\\begin{tabular}{r|llll}\n",
       " a & b & c & d\\\\\n",
       "\\hline\n",
       "\t 0.5336135 & 0.0000000 & 0.0000000 & 0.3049507\\\\\n",
       "\t 0.0000000 & 0.8634367 & 0.3236861 & 0.2556728\\\\\n",
       "\t 0.8282364 & 0.6726260 & 0.3568426 & 0.6070840\\\\\n",
       "\t 0.6393207 & 0.8392790 & 1.0000000 & 0.1265287\\\\\n",
       "\t 0.7141426 & 0.4660625 & 0.6312543 & 0.3086252\\\\\n",
       "\t 0.6687256 & 1.0000000 & 0.4146847 & 1.0000000\\\\\n",
       "\t 0.6554772 & 0.6453589 & 0.5774233 & 0.6675388\\\\\n",
       "\t 0.2939547 & 0.7483066 & 0.5314819 & 0.8208213\\\\\n",
       "\t 0.3938257 & 0.6539882 & 0.7447298 & 0.2546894\\\\\n",
       "\t 1.0000000 & 0.4796678 & 0.3557984 & 0.0000000\\\\\n",
       "\\end{tabular}\n"
      ],
      "text/markdown": [
       "\n",
       "a | b | c | d | \n",
       "|---|---|---|---|---|---|---|---|---|---|\n",
       "| 0.5336135 | 0.0000000 | 0.0000000 | 0.3049507 | \n",
       "| 0.0000000 | 0.8634367 | 0.3236861 | 0.2556728 | \n",
       "| 0.8282364 | 0.6726260 | 0.3568426 | 0.6070840 | \n",
       "| 0.6393207 | 0.8392790 | 1.0000000 | 0.1265287 | \n",
       "| 0.7141426 | 0.4660625 | 0.6312543 | 0.3086252 | \n",
       "| 0.6687256 | 1.0000000 | 0.4146847 | 1.0000000 | \n",
       "| 0.6554772 | 0.6453589 | 0.5774233 | 0.6675388 | \n",
       "| 0.2939547 | 0.7483066 | 0.5314819 | 0.8208213 | \n",
       "| 0.3938257 | 0.6539882 | 0.7447298 | 0.2546894 | \n",
       "| 1.0000000 | 0.4796678 | 0.3557984 | 0.0000000 | \n",
       "\n",
       "\n"
      ],
      "text/plain": [
       "   a         b         c         d        \n",
       "1  0.5336135 0.0000000 0.0000000 0.3049507\n",
       "2  0.0000000 0.8634367 0.3236861 0.2556728\n",
       "3  0.8282364 0.6726260 0.3568426 0.6070840\n",
       "4  0.6393207 0.8392790 1.0000000 0.1265287\n",
       "5  0.7141426 0.4660625 0.6312543 0.3086252\n",
       "6  0.6687256 1.0000000 0.4146847 1.0000000\n",
       "7  0.6554772 0.6453589 0.5774233 0.6675388\n",
       "8  0.2939547 0.7483066 0.5314819 0.8208213\n",
       "9  0.3938257 0.6539882 0.7447298 0.2546894\n",
       "10 1.0000000 0.4796678 0.3557984 0.0000000"
      ]
     },
     "metadata": {},
     "output_type": "display_data"
    }
   ],
   "source": [
    "df$a <- Rescale(df$a)\n",
    "df$b <- Rescale(df$b)\n",
    "df$c <- Rescale(df$c)\n",
    "df$d <- Rescale(df$d)\n",
    "df"
   ]
  },
  {
   "cell_type": "markdown",
   "metadata": {},
   "source": [
    "Compared to the original, this code is easier to understand and we've eliminated one class of copy-and-paste errors. There is still quite a bit of duplication since we're doing the same thing to multiple columns. We'll learn how to eliminate that duplication in iteration.\n",
    "\n",
    "### Practice\n",
    "What do these functions do?"
   ]
  },
  {
   "cell_type": "code",
   "execution_count": 8,
   "metadata": {},
   "outputs": [],
   "source": [
    "f1 <- function(string, prefix) {\n",
    "  substr(string, 1, nchar(prefix)) == prefix\n",
    "}"
   ]
  },
  {
   "cell_type": "code",
   "execution_count": 9,
   "metadata": {},
   "outputs": [],
   "source": [
    "# Your answer goes here"
   ]
  },
  {
   "cell_type": "code",
   "execution_count": 10,
   "metadata": {},
   "outputs": [],
   "source": [
    "f2 <- function(x) {\n",
    "  if (length(x) <= 1) return(NULL)\n",
    "  x[-length(x)]\n",
    "}"
   ]
  },
  {
   "cell_type": "code",
   "execution_count": 11,
   "metadata": {},
   "outputs": [],
   "source": [
    "# Your answer goes here"
   ]
  },
  {
   "cell_type": "code",
   "execution_count": 12,
   "metadata": {},
   "outputs": [],
   "source": [
    "f3 <- function(x, y) {\n",
    "  rep(y, length.out = length(x))\n",
    "}"
   ]
  },
  {
   "cell_type": "code",
   "execution_count": 13,
   "metadata": {},
   "outputs": [],
   "source": [
    "# Your answer goes here"
   ]
  },
  {
   "cell_type": "markdown",
   "metadata": {},
   "source": [
    "### Practice\n",
    "Write a function that takes a `dataframe`, `x`, `y`, and a selected color and returns a scatterplot with the given color."
   ]
  },
  {
   "cell_type": "code",
   "execution_count": 14,
   "metadata": {},
   "outputs": [],
   "source": [
    "# Your answer goes here"
   ]
  },
  {
   "cell_type": "markdown",
   "metadata": {},
   "source": [
    "<div style=\"text-align: right\"> [[Jump to top]](#jump_to_top) </div>\n",
    "## Function arguments\n",
    "Generally, data arguments should come first. Detail arguments should go on the end, and usually should have default values. We specify a default argument by giving it a default value in the function definition using `=`.\n",
    "\n",
    "For example, lets modify our `AddFunction()` so that it adds 1 to `a` if `b` is not provided: "
   ]
  },
  {
   "cell_type": "code",
   "execution_count": 15,
   "metadata": {},
   "outputs": [],
   "source": [
    "AddFunction <- function(a, b = 1) {\n",
    "    return(a + b)\n",
    "}"
   ]
  },
  {
   "cell_type": "code",
   "execution_count": 16,
   "metadata": {},
   "outputs": [
    {
     "data": {
      "text/html": [
       "9"
      ],
      "text/latex": [
       "9"
      ],
      "text/markdown": [
       "9"
      ],
      "text/plain": [
       "[1] 9"
      ]
     },
     "metadata": {},
     "output_type": "display_data"
    }
   ],
   "source": [
    "AddFunction(8)"
   ]
  },
  {
   "cell_type": "code",
   "execution_count": 17,
   "metadata": {},
   "outputs": [
    {
     "data": {
      "text/html": [
       "15"
      ],
      "text/latex": [
       "15"
      ],
      "text/markdown": [
       "15"
      ],
      "text/plain": [
       "[1] 15"
      ]
     },
     "metadata": {},
     "output_type": "display_data"
    }
   ],
   "source": [
    "AddFunction(5, 10)  # It still does what we expect to do when both arguments are available"
   ]
  },
  {
   "cell_type": "markdown",
   "metadata": {},
   "source": [
    "The default value should almost always be the most common value. Except for safety reasons.\n",
    "\n",
    "### Choosing names\n",
    "The names of the arguments are also important. R doesn't care, but the readers of your code (including future-you!) will. Generally you should prefer longer, more descriptive names, but there are a handful of very common, very short names. It's worth memorizing these:\n",
    "\n",
    "`x`, `y`, `z`: vectors.\n",
    "\n",
    "`w`: a vector of weights.\n",
    "\n",
    "`df`: a data frame.\n",
    "\n",
    "`i`, `j`: numeric indices (typically rows and columns).\n",
    "\n",
    "`n`: length, or number of rows.\n",
    "\n",
    "`p`: number of columns.\n",
    "\n",
    "Otherwise, consider matching names of arguments in existing R functions. For example, use `na.rm` to determine if missing values should be removed."
   ]
  },
  {
   "cell_type": "markdown",
   "metadata": {},
   "source": [
    "---\n",
    "<div style=\"text-align: right\"> [[Jump to top]](#jump_to_top) </div>\n",
    "<a class=\"anchor\" id=\"Conditionals\"></a>\n",
    "## Conditionals\n",
    "An `if` statement allows you to conditionally execute code. It looks like this:\n",
    "\n",
    "> `if (condition) {\n",
    "  code executed when condition is TRUE\n",
    "} else {\n",
    "  code executed when condition is FALSE\n",
    "}`"
   ]
  },
  {
   "cell_type": "code",
   "execution_count": 18,
   "metadata": {},
   "outputs": [
    {
     "name": "stdout",
     "output_type": "stream",
     "text": [
      "[1] \"Condition is TRUE\"\n"
     ]
    }
   ],
   "source": [
    "condition = TRUE\n",
    "if (condition) {\n",
    "  print(\"Condition is TRUE\")\n",
    "} else {\n",
    "  print(\"Condition is FALSE\")\n",
    "}"
   ]
  },
  {
   "cell_type": "markdown",
   "metadata": {},
   "source": [
    "The condition must evaluate to either `TRUE` or `FALSE`.\n",
    "\n",
    "You can use `||` (or) and `&&` (and) to combine multiple logical expressions.\n",
    "\n",
    "You can chain multiple if statements together:\n",
    "> `if (this) {\n",
    "  do that\n",
    "} else if (that) {\n",
    "  do something else\n",
    "} else {\n",
    "  do something else \n",
    "}`"
   ]
  },
  {
   "cell_type": "markdown",
   "metadata": {},
   "source": [
    "---\n",
    "### Exercise 1\n",
    "Write a greeting if statement that says \"good morning\", \"good afternoon\", or \"good evening\", depending on the time of day. (Hint: use lubridate's `now()` function to get the current time, and by `hour()` extract the hour of day)."
   ]
  },
  {
   "cell_type": "code",
   "execution_count": 19,
   "metadata": {},
   "outputs": [],
   "source": [
    "# Your answer goes here"
   ]
  },
  {
   "cell_type": "markdown",
   "metadata": {},
   "source": [
    "---\n",
    "### Exercise 2\n",
    "Implement an if statement: It receives an integer `number`. If our `number` is divisible by three, it prints \"fizz\". If it's divisible by five it print \"buzz\". If it's divisible by three and five, it prints \"fizzbuzz\". Otherwise, it returns the number.\n",
    "\n",
    "(Hint: `x%%y` gives the remainder of `x` divided by `y`)"
   ]
  },
  {
   "cell_type": "code",
   "execution_count": 20,
   "metadata": {},
   "outputs": [],
   "source": [
    "# Your answer goes here"
   ]
  },
  {
   "cell_type": "markdown",
   "metadata": {},
   "source": [
    "<div style=\"text-align: right\"> [[Jump to top]](#jump_to_top) </div>\n",
    "<a class=\"anchor\" id=\"cut\"></a>\n",
    "## cut()\n",
    "`cut` divides the range of `x` into intervals and codes the values in `x` according to which interval they fall. The leftmost interval corresponds to level one, the next leftmost to level two and so on.\n",
    "\n",
    "For instance here we label a sample of 100 random numbers from a normal distribution:"
   ]
  },
  {
   "cell_type": "code",
   "execution_count": 21,
   "metadata": {},
   "outputs": [
    {
     "name": "stdout",
     "output_type": "stream",
     "text": [
      "  [1] (1,2]   (-1,0]  (-2,-1] (0,1]   (1,2]   (1,2]   (-2,-1] (-1,0]  (1,2]  \n",
      " [10] (-1,0]  (-1,0]  (0,1]   (-1,0]  (0,1]   (1,2]   (-2,-1] (-1,0]  (-1,0] \n",
      " [19] (1,2]   (1,2]   (-1,0]  (1,2]   (0,1]   (-1,0]  (-3,-2] (0,1]   (-1,0] \n",
      " [28] (-1,0]  (0,1]   (-1,0]  (1,2]   (0,1]   (-2,-1] (0,1]   (-1,0]  (-1,0] \n",
      " [37] (0,1]   (-1,0]  (-2,-1] (0,1]   (-2,-1] (-1,0]  (0,1]   (-2,-1] (-1,0] \n",
      " [46] (1,2]   (-1,0]  (-1,0]  (0,1]   (-1,0]  (-1,0]  (-2,-1] (-1,0]  (1,2]  \n",
      " [55] (0,1]   (0,1]   (0,1]   (0,1]   (1,2]   (0,1]   (0,1]   (-2,-1] (1,2]  \n",
      " [64] (0,1]   (-1,0]  (0,1]   (1,2]   (-1,0]  (-1,0]  (0,1]   (-1,0]  (2,3]  \n",
      " [73] (-2,-1] (-1,0]  (0,1]   (-2,-1] (2,3]   (-2,-1] (0,1]   (0,1]   (-2,-1]\n",
      " [82] (-2,-1] (-2,-1] (-1,0]  (1,2]   (-1,0]  (2,3]   (0,1]   (0,1]   (-3,-2]\n",
      " [91] (0,1]   (0,1]   (-2,-1] (1,2]   (-2,-1] (0,1]   (-2,-1] (-2,-1] (1,2]  \n",
      "[100] (0,1]  \n",
      "12 Levels: (-6,-5] (-5,-4] (-4,-3] (-3,-2] (-2,-1] (-1,0] (0,1] (1,2] ... (5,6]\n"
     ]
    }
   ],
   "source": [
    "z <- rnorm(100)\n",
    "print(cut(z, breaks = -6:6))"
   ]
  },
  {
   "cell_type": "markdown",
   "metadata": {},
   "source": [
    "Let's summarize these bins for a 10,000 sample by `table()`:"
   ]
  },
  {
   "cell_type": "code",
   "execution_count": 22,
   "metadata": {},
   "outputs": [
    {
     "data": {
      "text/plain": [
       "\n",
       "(-6,-5] (-5,-4] (-4,-3] (-3,-2] (-2,-1]  (-1,0]   (0,1]   (1,2]   (2,3]   (3,4] \n",
       "      0       1      13     185    1383    3391    3459    1355     203      10 \n",
       "  (4,5]   (5,6] \n",
       "      0       0 "
      ]
     },
     "metadata": {},
     "output_type": "display_data"
    }
   ],
   "source": [
    "Z <- rnorm(10000)\n",
    "table(cut(Z, breaks = -6:6))"
   ]
  },
  {
   "cell_type": "markdown",
   "metadata": {},
   "source": [
    "We could answer exercise 1 by `cut()`:"
   ]
  },
  {
   "cell_type": "code",
   "execution_count": 23,
   "metadata": {},
   "outputs": [
    {
     "name": "stdout",
     "output_type": "stream",
     "text": [
      "[1] Good Afternoon!\n",
      "Levels: Good Morning! Good Afternoon! Good Evening!\n"
     ]
    }
   ],
   "source": [
    "greeting <- cut(hour(now()), c(-1, 11, 17, 24), right = TRUE,\n",
    "                labels = c(\"Good Morning!\", \"Good Afternoon!\", \"Good Evening!\"))\n",
    "print(greeting)"
   ]
  },
  {
   "cell_type": "markdown",
   "metadata": {},
   "source": [
    "Question: what does `right = TRUE` do in the code above?"
   ]
  },
  {
   "cell_type": "code",
   "execution_count": 24,
   "metadata": {},
   "outputs": [],
   "source": [
    "# Answer goes here"
   ]
  },
  {
   "cell_type": "markdown",
   "metadata": {},
   "source": [
    "---\n",
    "<div style=\"text-align: right\"> [[Jump to top]](#jump_to_top) </div>\n",
    "<a class=\"anchor\" id=\"stop\"></a>\n",
    "### stop()\n",
    "**Checking function input arguments**\n",
    "\n",
    "It's good practice to check important preconditions, and throw an error (with `stop()`), if they are not true:\n",
    "\n",
    "For example we have this function that gives us `TRUE` if input is an even number and `FALSE` if it's an odd integer:"
   ]
  },
  {
   "cell_type": "code",
   "execution_count": 25,
   "metadata": {},
   "outputs": [],
   "source": [
    "IsEven <- function(a) {\n",
    "    if (a %% 2 == 0) {\n",
    "        return(TRUE)\n",
    "    } else {\n",
    "        return(FALSE)\n",
    "    }\n",
    "}"
   ]
  },
  {
   "cell_type": "code",
   "execution_count": 26,
   "metadata": {},
   "outputs": [
    {
     "data": {
      "text/html": [
       "TRUE"
      ],
      "text/latex": [
       "TRUE"
      ],
      "text/markdown": [
       "TRUE"
      ],
      "text/plain": [
       "[1] TRUE"
      ]
     },
     "metadata": {},
     "output_type": "display_data"
    },
    {
     "data": {
      "text/html": [
       "FALSE"
      ],
      "text/latex": [
       "FALSE"
      ],
      "text/markdown": [
       "FALSE"
      ],
      "text/plain": [
       "[1] FALSE"
      ]
     },
     "metadata": {},
     "output_type": "display_data"
    }
   ],
   "source": [
    "IsEven(4)\n",
    "IsEven(5)"
   ]
  },
  {
   "cell_type": "markdown",
   "metadata": {},
   "source": [
    "Now what happens if we give a non-integer input?"
   ]
  },
  {
   "cell_type": "code",
   "execution_count": 27,
   "metadata": {},
   "outputs": [
    {
     "data": {
      "text/html": [
       "FALSE"
      ],
      "text/latex": [
       "FALSE"
      ],
      "text/markdown": [
       "FALSE"
      ],
      "text/plain": [
       "[1] FALSE"
      ]
     },
     "metadata": {},
     "output_type": "display_data"
    }
   ],
   "source": [
    "IsEven(4.4)"
   ]
  },
  {
   "cell_type": "markdown",
   "metadata": {},
   "source": [
    "4.4 is not an off number! In fact it's not an integer, so we shouldn't have done the test. Let's add a `stop()` and check first to see if the input is an integer:"
   ]
  },
  {
   "cell_type": "code",
   "execution_count": 28,
   "metadata": {},
   "outputs": [],
   "source": [
    "IsEven <- function(a) {\n",
    "    \n",
    "    if (a %% 1 != 0) {\n",
    "    stop(\"a must be an integer!\")\n",
    "    }\n",
    "    \n",
    "    if (a %% 2 == 0) {\n",
    "        return(TRUE)\n",
    "    } else {\n",
    "        return(FALSE)\n",
    "    }\n",
    "}"
   ]
  },
  {
   "cell_type": "code",
   "execution_count": 29,
   "metadata": {},
   "outputs": [],
   "source": [
    "#IsEven(4.4)  # Should return an error now"
   ]
  },
  {
   "cell_type": "markdown",
   "metadata": {},
   "source": [
    "<div style=\"text-align: right\"> [[Jump to top]](#jump_to_top) </div>\n",
    "<a class=\"anchor\" id=\"return\"></a>\n",
    "### return()\n",
    "** Explicit return statements**\n",
    "\n",
    "The value returned by the function is usually the last statement it evaluates, but you can choose to return early by using `return()`. I think it's best to save the use of `return()` to signal that you can return early with a simpler solution. A common reason to do this is because the inputs are empty:"
   ]
  },
  {
   "cell_type": "code",
   "execution_count": 30,
   "metadata": {},
   "outputs": [],
   "source": [
    "ComplicatedFunction <- function(x, y, z) {\n",
    "  if (length(x) == 0 || length(y) == 0) {\n",
    "    return(0)\n",
    "  }\n",
    "    \n",
    "  # Complicated code here\n",
    "}"
   ]
  },
  {
   "cell_type": "markdown",
   "metadata": {},
   "source": [
    "Another reason is because you have an if statement with one complex block and one simple block"
   ]
  },
  {
   "cell_type": "code",
   "execution_count": 31,
   "metadata": {},
   "outputs": [],
   "source": [
    "f <- function() {\n",
    "  if (x) {\n",
    "    # Do \n",
    "    # something\n",
    "    # that\n",
    "    # takes\n",
    "    # many\n",
    "    # lines\n",
    "    # to\n",
    "    # express\n",
    "  } else {\n",
    "    # return something short\n",
    "  }\n",
    "}"
   ]
  },
  {
   "cell_type": "markdown",
   "metadata": {},
   "source": [
    "But if the first block is very long, by the time you get to the else, you've forgotten the condition. One way to rewrite it is to use an early return for the simple case:"
   ]
  },
  {
   "cell_type": "code",
   "execution_count": 32,
   "metadata": {},
   "outputs": [],
   "source": [
    "f <- function() {\n",
    "  if (!x) {\n",
    "    return(something_short)\n",
    "  }\n",
    "\n",
    "  # Do \n",
    "  # something\n",
    "  # that\n",
    "  # takes\n",
    "  # many\n",
    "  # lines\n",
    "  # to\n",
    "  # express\n",
    "}"
   ]
  },
  {
   "cell_type": "markdown",
   "metadata": {},
   "source": [
    "<div style=\"text-align: right\"> [[Jump to top]](#jump_to_top) </div>\n",
    "<a class=\"anchor\" id=\"ifelse\"></a>\n",
    "## ifelse()"
   ]
  },
  {
   "cell_type": "markdown",
   "metadata": {},
   "source": [
    "`ifelse(test_expression, yes, no)` returns a value with the same shape as `test_expression` which is filled with elements selected from either `yes` or `no` depending on whether the element of `test_expression` is `TRUE` or `FALSE`.\n",
    "\n",
    "Example:"
   ]
  },
  {
   "cell_type": "code",
   "execution_count": 33,
   "metadata": {},
   "outputs": [
    {
     "data": {
      "text/html": [
       "<ol class=list-inline>\n",
       "\t<li>6</li>\n",
       "\t<li>5</li>\n",
       "\t<li>4</li>\n",
       "\t<li>3</li>\n",
       "\t<li>2</li>\n",
       "\t<li>1</li>\n",
       "\t<li>0</li>\n",
       "\t<li>&lt;NA&gt;</li>\n",
       "\t<li>&lt;NA&gt;</li>\n",
       "\t<li>&lt;NA&gt;</li>\n",
       "\t<li>&lt;NA&gt;</li>\n",
       "</ol>\n"
      ],
      "text/latex": [
       "\\begin{enumerate*}\n",
       "\\item 6\n",
       "\\item 5\n",
       "\\item 4\n",
       "\\item 3\n",
       "\\item 2\n",
       "\\item 1\n",
       "\\item 0\n",
       "\\item <NA>\n",
       "\\item <NA>\n",
       "\\item <NA>\n",
       "\\item <NA>\n",
       "\\end{enumerate*}\n"
      ],
      "text/markdown": [
       "1. 6\n",
       "2. 5\n",
       "3. 4\n",
       "4. 3\n",
       "5. 2\n",
       "6. 1\n",
       "7. 0\n",
       "8. &lt;NA&gt;\n",
       "9. &lt;NA&gt;\n",
       "10. &lt;NA&gt;\n",
       "11. &lt;NA&gt;\n",
       "\n",
       "\n"
      ],
      "text/plain": [
       " [1]  6  5  4  3  2  1  0 NA NA NA NA"
      ]
     },
     "metadata": {},
     "output_type": "display_data"
    }
   ],
   "source": [
    "x <- c(6:-4)\n",
    "ifelse(x >= 0, x, NA)"
   ]
  },
  {
   "cell_type": "code",
   "execution_count": 34,
   "metadata": {},
   "outputs": [
    {
     "data": {
      "text/html": [
       "'even'"
      ],
      "text/latex": [
       "'even'"
      ],
      "text/markdown": [
       "'even'"
      ],
      "text/plain": [
       "[1] \"even\""
      ]
     },
     "metadata": {},
     "output_type": "display_data"
    }
   ],
   "source": [
    "number = 4\n",
    "ifelse(number %% 2 == 0, \"even\", \"odd\")"
   ]
  },
  {
   "cell_type": "code",
   "execution_count": 35,
   "metadata": {},
   "outputs": [
    {
     "data": {
      "text/html": [
       "<table>\n",
       "<tbody>\n",
       "\t<tr><td>1</td><td>4</td><td>7</td></tr>\n",
       "\t<tr><td>2</td><td>5</td><td>8</td></tr>\n",
       "\t<tr><td>3</td><td>6</td><td>9</td></tr>\n",
       "</tbody>\n",
       "</table>\n"
      ],
      "text/latex": [
       "\\begin{tabular}{lll}\n",
       "\t 1 & 4 & 7\\\\\n",
       "\t 2 & 5 & 8\\\\\n",
       "\t 3 & 6 & 9\\\\\n",
       "\\end{tabular}\n"
      ],
      "text/markdown": [
       "\n",
       "| 1 | 4 | 7 | \n",
       "| 2 | 5 | 8 | \n",
       "| 3 | 6 | 9 | \n",
       "\n",
       "\n"
      ],
      "text/plain": [
       "     [,1] [,2] [,3]\n",
       "[1,] 1    4    7   \n",
       "[2,] 2    5    8   \n",
       "[3,] 3    6    9   "
      ]
     },
     "metadata": {},
     "output_type": "display_data"
    }
   ],
   "source": [
    "(a <- matrix(1:9, 3, 3))"
   ]
  },
  {
   "cell_type": "code",
   "execution_count": 36,
   "metadata": {},
   "outputs": [
    {
     "data": {
      "text/html": [
       "<table>\n",
       "<tbody>\n",
       "\t<tr><td>0</td><td>4</td><td>0</td></tr>\n",
       "\t<tr><td>2</td><td>0</td><td>8</td></tr>\n",
       "\t<tr><td>0</td><td>6</td><td>0</td></tr>\n",
       "</tbody>\n",
       "</table>\n"
      ],
      "text/latex": [
       "\\begin{tabular}{lll}\n",
       "\t 0 & 4 & 0\\\\\n",
       "\t 2 & 0 & 8\\\\\n",
       "\t 0 & 6 & 0\\\\\n",
       "\\end{tabular}\n"
      ],
      "text/markdown": [
       "\n",
       "| 0 | 4 | 0 | \n",
       "| 2 | 0 | 8 | \n",
       "| 0 | 6 | 0 | \n",
       "\n",
       "\n"
      ],
      "text/plain": [
       "     [,1] [,2] [,3]\n",
       "[1,] 0    4    0   \n",
       "[2,] 2    0    8   \n",
       "[3,] 0    6    0   "
      ]
     },
     "metadata": {},
     "output_type": "display_data"
    }
   ],
   "source": [
    "ifelse(a %% 2 == 0, a, 0)"
   ]
  },
  {
   "cell_type": "markdown",
   "metadata": {},
   "source": [
    "<div style=\"text-align: right\"> [[Jump to top]](#jump_to_top) </div>"
   ]
  },
  {
   "cell_type": "markdown",
   "metadata": {},
   "source": [
    "## Function documentation\n",
    "Functions should contain a comments section immediately below the function definition line. These comments should consist of a one-sentence description of the function; a list of the function's arguments, denoted by `Args:`, with a description of each (including the data type); and a description of the return value, denoted by `Returns:`. The comments should be descriptive enough that a caller can use the function without reading any of the function's code. Example:"
   ]
  },
  {
   "cell_type": "code",
   "execution_count": 37,
   "metadata": {},
   "outputs": [],
   "source": [
    "CalculateSampleCovariance <- function(x, y, verbose = TRUE) {\n",
    "  # Computes the sample covariance between two vectors.\n",
    "  #\n",
    "  # Args:\n",
    "  #   x: One of two vectors whose sample covariance is to be calculated.\n",
    "  #   y: The other vector. x and y must have the same length, greater than one,\n",
    "  #      with no missing values.\n",
    "  #   verbose: If TRUE, prints sample covariance; if not, not. Default is TRUE.\n",
    "  #\n",
    "  # Returns:\n",
    "  #   The sample covariance between x and y.\n",
    "  \n",
    "  n <- length(x)\n",
    "    \n",
    "  # Error handling\n",
    "  if (n <= 1 || n != length(y)) {\n",
    "    stop(\"Arguments x and y have different lengths: \",\n",
    "         length(x), \" and \", length(y), \".\")\n",
    "  }\n",
    "  if (TRUE %in% is.na(x) || TRUE %in% is.na(y)) {\n",
    "    stop(\" Arguments x and y must not have missing values.\")\n",
    "  }\n",
    "  covariance <- var(x, y)\n",
    "  if (verbose)\n",
    "    cat(\"Covariance = \", round(covariance, 4), \".\\n\", sep = \"\")\n",
    "  return(covariance)\n",
    "}"
   ]
  }
 ],
 "metadata": {
  "kernelspec": {
   "display_name": "R",
   "language": "R",
   "name": "ir"
  },
  "language_info": {
   "codemirror_mode": "r",
   "file_extension": ".r",
   "mimetype": "text/x-r-source",
   "name": "R",
   "pygments_lexer": "r",
   "version": "3.5.1"
  }
 },
 "nbformat": 4,
 "nbformat_minor": 2
}
