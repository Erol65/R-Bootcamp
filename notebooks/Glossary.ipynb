{
 "cells": [
  {
   "cell_type": "markdown",
   "metadata": {},
   "source": [
    "**[Jupyter notebook](http://jupyter.org/):** The Jupyter Notebook is an open-source web application that allows you to create and share documents that contain live code, equations, visualizations and narrative text. Uses include: data cleaning and transformation, numerical simulation, statistical modeling, data visualization, machine learning, and much more.\n",
    "\n",
    "**[GitHub](https://techcrunch.com/2012/07/14/what-exactly-is-github-anyway/):** GitHub Inc. is a web-based hosting service for version control using Git. It is mostly used for computer code. It offers all of the distributed version control and source code management (SCM) functionality of Git as well as adding its own features.\n",
    "\n",
    "**[Binder](https://mybinder.readthedocs.io/en/latest/faq.html):** With Binder, open Jupyter notebooks in an executable environment, making your code immediately reproducible by anyone, anywhere.\n",
    "\n",
    "**[R](https://www.r-project.org/about.html):** R is a language and environment for statistical computing and graphics. R provides a wide variety of statistical (linear and nonlinear modelling, classical statistical tests, time-series analysis, classification, clustering, …) and graphical techniques, and is highly extensible.\n",
    "\n",
    "**Library (package):** In computer science, a library is a collection of non-volatile resources used by computer programs, often for software development. These may include configuration data, documentation, help data, message templates, pre-written code and subroutines, classes, values or type specifications.\n",
    "\n",
    "**Object:** In computer science, an object can be a variable, a data structure, a function, or a method, and as such, is a value in memory referenced by an identifier. In the class-based object-oriented programming paradigm, object refers to a particular instance of a class, where the object can be a combination of variables, functions, and data structures.\n",
    "\n",
    "**:**\n",
    "\n",
    "**:**\n",
    "\n",
    "**:**\n",
    "\n",
    "**:**\n",
    "\n",
    "**:**\n",
    "\n",
    "**:**\n",
    "\n",
    "**:**"
   ]
  }
 ],
 "metadata": {
  "kernelspec": {
   "display_name": "R",
   "language": "R",
   "name": "ir"
  },
  "language_info": {
   "codemirror_mode": "r",
   "file_extension": ".r",
   "mimetype": "text/x-r-source",
   "name": "R",
   "pygments_lexer": "r",
   "version": "3.5.1"
  }
 },
 "nbformat": 4,
 "nbformat_minor": 2
}
