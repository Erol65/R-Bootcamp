{
 "cells": [
  {
   "cell_type": "markdown",
   "metadata": {},
   "source": [
    "<a class=\"anchor\" id=\"jump_to_top\"></a>\n",
    "# Data Manipulation\n",
    "---\n",
    "\n",
    "### Table of Contents\n",
    "* [Introduction](#Introduction)\n",
    "* [Tidy data](#tidy)\n",
    "    * [Spreading and gathering](#spread-gather)\n",
    "    * [Separating and uniting](#saparate-unit)\n",
    "* [Missing values](#na)\n",
    "* [Relational Data with dplyr](#Relational)\n",
    "    * [Keys](#Keys)\n",
    "    * [Mutating Joins](#Joins)\n",
    "        * [Inner join](#inner)\n",
    "        * [Outer joins](#outer)\n",
    "    * [Filtering joins](#filterjoin)\n",
    "    * [Join problems](#problems)\n",
    "    * [Set operations](#set)"
   ]
  },
  {
   "cell_type": "code",
   "execution_count": 1,
   "metadata": {},
   "outputs": [
    {
     "name": "stderr",
     "output_type": "stream",
     "text": [
      "── Attaching packages ─────────────────────────────────────── tidyverse 1.2.1 ──\n",
      "✔ ggplot2 3.0.0     ✔ purrr   0.2.5\n",
      "✔ tibble  1.4.2     ✔ dplyr   0.7.6\n",
      "✔ tidyr   0.8.1     ✔ stringr 1.3.1\n",
      "✔ readr   1.1.1     ✔ forcats 0.3.0\n",
      "── Conflicts ────────────────────────────────────────── tidyverse_conflicts() ──\n",
      "✖ dplyr::filter() masks stats::filter()\n",
      "✖ dplyr::lag()    masks stats::lag()\n"
     ]
    }
   ],
   "source": [
    "# loading libraries\n",
    "library(tidyverse)\n",
    "library(nycflights13)\n",
    "\n",
    "# modifying chart size\n",
    "options(repr.plot.width=5, repr.plot.height=3)"
   ]
  },
  {
   "cell_type": "markdown",
   "metadata": {},
   "source": [
    "<a class=\"anchor\" id=\"Introduction\"></a>\n",
    "## Introduction\n",
    "Once we bring in the data from an outside source there is no guarantee that it is in a standard format that we are used to. This consistent, clean, and standard format is called **tidy data**. What exactly this tidy format is might not be something that everyone agrees on, but there are aspects of it that are agreeable. Here we will go over some of these methods, will introduce tools provided by **tidyr** and **dplyr**, and by using them will show examples on how to tidy our data and how to join multiple tidy datasets to get the appropriate data we need in our reporting and analysis.\n",
    "\n",
    "It is typical for a data science project to spend significant amount of time in tidying, transforming and manipulating the data. This is a crucial part of the project that is sometimes overlooked; the output only can get as good as the input, spending some upfront time on the data usually pays off in the end."
   ]
  },
  {
   "cell_type": "markdown",
   "metadata": {},
   "source": [
    "<a class=\"anchor\" id=\"tidy\"></a>\n",
    "## Tidy data\n",
    "You can represent the same underlying data in multiple ways. The example below shows the same data organized in four different ways. Each dataset shows the same values of four variables `country`, `year`, `population`, and `cases`:"
   ]
  },
  {
   "cell_type": "code",
   "execution_count": 2,
   "metadata": {},
   "outputs": [
    {
     "data": {
      "text/html": [
       "<table>\n",
       "<thead><tr><th scope=col>country</th><th scope=col>year</th><th scope=col>cases</th><th scope=col>population</th></tr></thead>\n",
       "<tbody>\n",
       "\t<tr><td>Afghanistan</td><td>1999       </td><td>   745     </td><td>  19987071 </td></tr>\n",
       "\t<tr><td>Afghanistan</td><td>2000       </td><td>  2666     </td><td>  20595360 </td></tr>\n",
       "\t<tr><td>Brazil     </td><td>1999       </td><td> 37737     </td><td> 172006362 </td></tr>\n",
       "\t<tr><td>Brazil     </td><td>2000       </td><td> 80488     </td><td> 174504898 </td></tr>\n",
       "\t<tr><td>China      </td><td>1999       </td><td>212258     </td><td>1272915272 </td></tr>\n",
       "\t<tr><td>China      </td><td>2000       </td><td>213766     </td><td>1280428583 </td></tr>\n",
       "</tbody>\n",
       "</table>\n"
      ],
      "text/latex": [
       "\\begin{tabular}{r|llll}\n",
       " country & year & cases & population\\\\\n",
       "\\hline\n",
       "\t Afghanistan & 1999        &    745      &   19987071 \\\\\n",
       "\t Afghanistan & 2000        &   2666      &   20595360 \\\\\n",
       "\t Brazil      & 1999        &  37737      &  172006362 \\\\\n",
       "\t Brazil      & 2000        &  80488      &  174504898 \\\\\n",
       "\t China       & 1999        & 212258      & 1272915272 \\\\\n",
       "\t China       & 2000        & 213766      & 1280428583 \\\\\n",
       "\\end{tabular}\n"
      ],
      "text/markdown": [
       "\n",
       "country | year | cases | population | \n",
       "|---|---|---|---|---|---|\n",
       "| Afghanistan | 1999        |    745      |   19987071  | \n",
       "| Afghanistan | 2000        |   2666      |   20595360  | \n",
       "| Brazil      | 1999        |  37737      |  172006362  | \n",
       "| Brazil      | 2000        |  80488      |  174504898  | \n",
       "| China       | 1999        | 212258      | 1272915272  | \n",
       "| China       | 2000        | 213766      | 1280428583  | \n",
       "\n",
       "\n"
      ],
      "text/plain": [
       "  country     year cases  population\n",
       "1 Afghanistan 1999    745   19987071\n",
       "2 Afghanistan 2000   2666   20595360\n",
       "3 Brazil      1999  37737  172006362\n",
       "4 Brazil      2000  80488  174504898\n",
       "5 China       1999 212258 1272915272\n",
       "6 China       2000 213766 1280428583"
      ]
     },
     "metadata": {},
     "output_type": "display_data"
    }
   ],
   "source": [
    "table1"
   ]
  },
  {
   "cell_type": "code",
   "execution_count": 3,
   "metadata": {},
   "outputs": [
    {
     "data": {
      "text/html": [
       "<table>\n",
       "<thead><tr><th scope=col>country</th><th scope=col>year</th><th scope=col>type</th><th scope=col>count</th></tr></thead>\n",
       "<tbody>\n",
       "\t<tr><td>Afghanistan</td><td>1999       </td><td>cases      </td><td>       745 </td></tr>\n",
       "\t<tr><td>Afghanistan</td><td>1999       </td><td>population </td><td>  19987071 </td></tr>\n",
       "\t<tr><td>Afghanistan</td><td>2000       </td><td>cases      </td><td>      2666 </td></tr>\n",
       "\t<tr><td>Afghanistan</td><td>2000       </td><td>population </td><td>  20595360 </td></tr>\n",
       "\t<tr><td>Brazil     </td><td>1999       </td><td>cases      </td><td>     37737 </td></tr>\n",
       "\t<tr><td>Brazil     </td><td>1999       </td><td>population </td><td> 172006362 </td></tr>\n",
       "\t<tr><td>Brazil     </td><td>2000       </td><td>cases      </td><td>     80488 </td></tr>\n",
       "\t<tr><td>Brazil     </td><td>2000       </td><td>population </td><td> 174504898 </td></tr>\n",
       "\t<tr><td>China      </td><td>1999       </td><td>cases      </td><td>    212258 </td></tr>\n",
       "\t<tr><td>China      </td><td>1999       </td><td>population </td><td>1272915272 </td></tr>\n",
       "\t<tr><td>China      </td><td>2000       </td><td>cases      </td><td>    213766 </td></tr>\n",
       "\t<tr><td>China      </td><td>2000       </td><td>population </td><td>1280428583 </td></tr>\n",
       "</tbody>\n",
       "</table>\n"
      ],
      "text/latex": [
       "\\begin{tabular}{r|llll}\n",
       " country & year & type & count\\\\\n",
       "\\hline\n",
       "\t Afghanistan & 1999        & cases       &        745 \\\\\n",
       "\t Afghanistan & 1999        & population  &   19987071 \\\\\n",
       "\t Afghanistan & 2000        & cases       &       2666 \\\\\n",
       "\t Afghanistan & 2000        & population  &   20595360 \\\\\n",
       "\t Brazil      & 1999        & cases       &      37737 \\\\\n",
       "\t Brazil      & 1999        & population  &  172006362 \\\\\n",
       "\t Brazil      & 2000        & cases       &      80488 \\\\\n",
       "\t Brazil      & 2000        & population  &  174504898 \\\\\n",
       "\t China       & 1999        & cases       &     212258 \\\\\n",
       "\t China       & 1999        & population  & 1272915272 \\\\\n",
       "\t China       & 2000        & cases       &     213766 \\\\\n",
       "\t China       & 2000        & population  & 1280428583 \\\\\n",
       "\\end{tabular}\n"
      ],
      "text/markdown": [
       "\n",
       "country | year | type | count | \n",
       "|---|---|---|---|---|---|---|---|---|---|---|---|\n",
       "| Afghanistan | 1999        | cases       |        745  | \n",
       "| Afghanistan | 1999        | population  |   19987071  | \n",
       "| Afghanistan | 2000        | cases       |       2666  | \n",
       "| Afghanistan | 2000        | population  |   20595360  | \n",
       "| Brazil      | 1999        | cases       |      37737  | \n",
       "| Brazil      | 1999        | population  |  172006362  | \n",
       "| Brazil      | 2000        | cases       |      80488  | \n",
       "| Brazil      | 2000        | population  |  174504898  | \n",
       "| China       | 1999        | cases       |     212258  | \n",
       "| China       | 1999        | population  | 1272915272  | \n",
       "| China       | 2000        | cases       |     213766  | \n",
       "| China       | 2000        | population  | 1280428583  | \n",
       "\n",
       "\n"
      ],
      "text/plain": [
       "   country     year type       count     \n",
       "1  Afghanistan 1999 cases             745\n",
       "2  Afghanistan 1999 population   19987071\n",
       "3  Afghanistan 2000 cases            2666\n",
       "4  Afghanistan 2000 population   20595360\n",
       "5  Brazil      1999 cases           37737\n",
       "6  Brazil      1999 population  172006362\n",
       "7  Brazil      2000 cases           80488\n",
       "8  Brazil      2000 population  174504898\n",
       "9  China       1999 cases          212258\n",
       "10 China       1999 population 1272915272\n",
       "11 China       2000 cases          213766\n",
       "12 China       2000 population 1280428583"
      ]
     },
     "metadata": {},
     "output_type": "display_data"
    }
   ],
   "source": [
    "table2"
   ]
  },
  {
   "cell_type": "code",
   "execution_count": 4,
   "metadata": {},
   "outputs": [
    {
     "data": {
      "text/html": [
       "<table>\n",
       "<thead><tr><th scope=col>country</th><th scope=col>year</th><th scope=col>rate</th></tr></thead>\n",
       "<tbody>\n",
       "\t<tr><td>Afghanistan      </td><td>1999             </td><td>745/19987071     </td></tr>\n",
       "\t<tr><td>Afghanistan      </td><td>2000             </td><td>2666/20595360    </td></tr>\n",
       "\t<tr><td>Brazil           </td><td>1999             </td><td>37737/172006362  </td></tr>\n",
       "\t<tr><td>Brazil           </td><td>2000             </td><td>80488/174504898  </td></tr>\n",
       "\t<tr><td>China            </td><td>1999             </td><td>212258/1272915272</td></tr>\n",
       "\t<tr><td>China            </td><td>2000             </td><td>213766/1280428583</td></tr>\n",
       "</tbody>\n",
       "</table>\n"
      ],
      "text/latex": [
       "\\begin{tabular}{r|lll}\n",
       " country & year & rate\\\\\n",
       "\\hline\n",
       "\t Afghanistan       & 1999              & 745/19987071     \\\\\n",
       "\t Afghanistan       & 2000              & 2666/20595360    \\\\\n",
       "\t Brazil            & 1999              & 37737/172006362  \\\\\n",
       "\t Brazil            & 2000              & 80488/174504898  \\\\\n",
       "\t China             & 1999              & 212258/1272915272\\\\\n",
       "\t China             & 2000              & 213766/1280428583\\\\\n",
       "\\end{tabular}\n"
      ],
      "text/markdown": [
       "\n",
       "country | year | rate | \n",
       "|---|---|---|---|---|---|\n",
       "| Afghanistan       | 1999              | 745/19987071      | \n",
       "| Afghanistan       | 2000              | 2666/20595360     | \n",
       "| Brazil            | 1999              | 37737/172006362   | \n",
       "| Brazil            | 2000              | 80488/174504898   | \n",
       "| China             | 1999              | 212258/1272915272 | \n",
       "| China             | 2000              | 213766/1280428583 | \n",
       "\n",
       "\n"
      ],
      "text/plain": [
       "  country     year rate             \n",
       "1 Afghanistan 1999 745/19987071     \n",
       "2 Afghanistan 2000 2666/20595360    \n",
       "3 Brazil      1999 37737/172006362  \n",
       "4 Brazil      2000 80488/174504898  \n",
       "5 China       1999 212258/1272915272\n",
       "6 China       2000 213766/1280428583"
      ]
     },
     "metadata": {},
     "output_type": "display_data"
    }
   ],
   "source": [
    "table3"
   ]
  },
  {
   "cell_type": "markdown",
   "metadata": {},
   "source": [
    "Spread across two data frames:"
   ]
  },
  {
   "cell_type": "code",
   "execution_count": 5,
   "metadata": {},
   "outputs": [
    {
     "data": {
      "text/html": [
       "<table>\n",
       "<thead><tr><th scope=col>country</th><th scope=col>1999</th><th scope=col>2000</th></tr></thead>\n",
       "<tbody>\n",
       "\t<tr><td>Afghanistan</td><td>   745     </td><td>  2666     </td></tr>\n",
       "\t<tr><td>Brazil     </td><td> 37737     </td><td> 80488     </td></tr>\n",
       "\t<tr><td>China      </td><td>212258     </td><td>213766     </td></tr>\n",
       "</tbody>\n",
       "</table>\n"
      ],
      "text/latex": [
       "\\begin{tabular}{r|lll}\n",
       " country & 1999 & 2000\\\\\n",
       "\\hline\n",
       "\t Afghanistan &    745      &   2666     \\\\\n",
       "\t Brazil      &  37737      &  80488     \\\\\n",
       "\t China       & 212258      & 213766     \\\\\n",
       "\\end{tabular}\n"
      ],
      "text/markdown": [
       "\n",
       "country | 1999 | 2000 | \n",
       "|---|---|---|\n",
       "| Afghanistan |    745      |   2666      | \n",
       "| Brazil      |  37737      |  80488      | \n",
       "| China       | 212258      | 213766      | \n",
       "\n",
       "\n"
      ],
      "text/plain": [
       "  country     1999   2000  \n",
       "1 Afghanistan    745   2666\n",
       "2 Brazil       37737  80488\n",
       "3 China       212258 213766"
      ]
     },
     "metadata": {},
     "output_type": "display_data"
    }
   ],
   "source": [
    "# cases\n",
    "table4a"
   ]
  },
  {
   "cell_type": "code",
   "execution_count": 6,
   "metadata": {},
   "outputs": [
    {
     "data": {
      "text/html": [
       "<table>\n",
       "<thead><tr><th scope=col>country</th><th scope=col>1999</th><th scope=col>2000</th></tr></thead>\n",
       "<tbody>\n",
       "\t<tr><td>Afghanistan</td><td>  19987071 </td><td>  20595360 </td></tr>\n",
       "\t<tr><td>Brazil     </td><td> 172006362 </td><td> 174504898 </td></tr>\n",
       "\t<tr><td>China      </td><td>1272915272 </td><td>1280428583 </td></tr>\n",
       "</tbody>\n",
       "</table>\n"
      ],
      "text/latex": [
       "\\begin{tabular}{r|lll}\n",
       " country & 1999 & 2000\\\\\n",
       "\\hline\n",
       "\t Afghanistan &   19987071  &   20595360 \\\\\n",
       "\t Brazil      &  172006362  &  174504898 \\\\\n",
       "\t China       & 1272915272  & 1280428583 \\\\\n",
       "\\end{tabular}\n"
      ],
      "text/markdown": [
       "\n",
       "country | 1999 | 2000 | \n",
       "|---|---|---|\n",
       "| Afghanistan |   19987071  |   20595360  | \n",
       "| Brazil      |  172006362  |  174504898  | \n",
       "| China       | 1272915272  | 1280428583  | \n",
       "\n",
       "\n"
      ],
      "text/plain": [
       "  country     1999       2000      \n",
       "1 Afghanistan   19987071   20595360\n",
       "2 Brazil       172006362  174504898\n",
       "3 China       1272915272 1280428583"
      ]
     },
     "metadata": {},
     "output_type": "display_data"
    }
   ],
   "source": [
    "# population\n",
    "table4b"
   ]
  },
  {
   "cell_type": "markdown",
   "metadata": {},
   "source": [
    "These are all representations of the same underlying data, but they are not equally easy to use. One dataset, the tidy dataset, will be much easier to work with inside the tidyverse.\n",
    "\n",
    "There are three interrelated rules which make a dataset tidy:\n",
    "\n",
    "1. Each variable must have its own column.\n",
    "2. Each observation must have its own row.\n",
    "3. Each value must have its own cell.\n",
    "\n",
    "Figure below shows the rules visually\n",
    "\n",
    "<img src=\"../png/tidy-1.png\" width=\"800px\" align=\"center\">\n",
    "\n",
    "Or in simpler way we can reduce it to 2 rules:\n",
    "\n",
    "1. Put each dataset in a data frame (or tibble).\n",
    "2. Put each variable in a column.\n",
    "\n",
    "In this example, only table1 is tidy. It's the only representation where each column is a variable.\n",
    "\n",
    "It's advantageous to have a consistent definition of *tidy* data. This allows to learn the tools that work with that structure. Another big benefit of having variables in columns and observations in rows is that it allows R's vectorized nature to stand out; this includes both the vectorized functionalities within R as well as much higher performance while performing computation within columns.\n",
    "\n",
    "dplyr, ggplot2, and all the other packages in the tidyverse are designed to work with tidy data."
   ]
  },
  {
   "cell_type": "markdown",
   "metadata": {},
   "source": [
    "<div style=\"text-align: right\"> [[Jump to top]](#jump_to_top) </div>\n",
    "\n",
    "---\n",
    "<a class=\"anchor\" id=\"spread-gather\"></a>\n",
    "### Spreading and Gathering\n",
    "The principles of tidy data seem so obvious that you might wonder if you'll ever encounter a dataset that isn't tidy. Unfortunately, however, most data that you will encounter will be untidy. There are two main reasons:\n",
    "\n",
    "Most people aren't familiar with the principles of tidy data, and it's hard to derive them yourself unless you spend a lot of time working with data.\n",
    "\n",
    "Data is often organized to facilitate some use other than analysis. For example, data is often organized to make data entry as easy as possible.\n",
    "\n",
    "This means for most real analyses, you'll need to do some tidying. The first step is always to figure out what the variables and observations are. Sometimes this is easy; other times you'll need to consult with the people who originally generated the data. The second step is to resolve one of two common problems:\n",
    "\n",
    "1. One variable might be spread across multiple columns.\n",
    "2. One observation might be scattered across multiple rows.\n",
    "\n",
    "Typically a dataset will only suffer from one of these problems; it'll only suffer from both if you're really unlucky! To fix these problems, you'll need the two most important functions in tidyr: `gather()` and `spread()`.\n",
    "\n",
    "#### Gathering\n",
    "A common problem is a dataset where some of the column names are not names of variables, but values of a variable. Take `table4a`: the column names `1999` and `2000` represent values of the `year` variable, and each row represents two observations, not one."
   ]
  },
  {
   "cell_type": "code",
   "execution_count": 7,
   "metadata": {},
   "outputs": [
    {
     "data": {
      "text/html": [
       "<table>\n",
       "<thead><tr><th scope=col>country</th><th scope=col>1999</th><th scope=col>2000</th></tr></thead>\n",
       "<tbody>\n",
       "\t<tr><td>Afghanistan</td><td>   745     </td><td>  2666     </td></tr>\n",
       "\t<tr><td>Brazil     </td><td> 37737     </td><td> 80488     </td></tr>\n",
       "\t<tr><td>China      </td><td>212258     </td><td>213766     </td></tr>\n",
       "</tbody>\n",
       "</table>\n"
      ],
      "text/latex": [
       "\\begin{tabular}{r|lll}\n",
       " country & 1999 & 2000\\\\\n",
       "\\hline\n",
       "\t Afghanistan &    745      &   2666     \\\\\n",
       "\t Brazil      &  37737      &  80488     \\\\\n",
       "\t China       & 212258      & 213766     \\\\\n",
       "\\end{tabular}\n"
      ],
      "text/markdown": [
       "\n",
       "country | 1999 | 2000 | \n",
       "|---|---|---|\n",
       "| Afghanistan |    745      |   2666      | \n",
       "| Brazil      |  37737      |  80488      | \n",
       "| China       | 212258      | 213766      | \n",
       "\n",
       "\n"
      ],
      "text/plain": [
       "  country     1999   2000  \n",
       "1 Afghanistan    745   2666\n",
       "2 Brazil       37737  80488\n",
       "3 China       212258 213766"
      ]
     },
     "metadata": {},
     "output_type": "display_data"
    }
   ],
   "source": [
    "table4a"
   ]
  },
  {
   "cell_type": "markdown",
   "metadata": {},
   "source": [
    "To tidy a dataset like this, we need to \"gather\" those columns into a new pair of variables. To describe that operation we need three parameters:\n",
    "\n",
    "* The set of columns that represent values, not variables. In this example, those are the columns `1999` and `2000`.\n",
    "* The name of the variable whose values form the column names. That is called `key`, and here it is `year`.\n",
    "* The name of the variable whose values are spread over the cells. That is called `value`, and here it's the number of `cases`.\n",
    "\n",
    "Together those parameters generate the call to `gather()`:"
   ]
  },
  {
   "cell_type": "code",
   "execution_count": 8,
   "metadata": {},
   "outputs": [
    {
     "data": {
      "text/html": [
       "<table>\n",
       "<thead><tr><th scope=col>country</th><th scope=col>year</th><th scope=col>cases</th></tr></thead>\n",
       "<tbody>\n",
       "\t<tr><td>Afghanistan</td><td>1999       </td><td>   745     </td></tr>\n",
       "\t<tr><td>Brazil     </td><td>1999       </td><td> 37737     </td></tr>\n",
       "\t<tr><td>China      </td><td>1999       </td><td>212258     </td></tr>\n",
       "\t<tr><td>Afghanistan</td><td>2000       </td><td>  2666     </td></tr>\n",
       "\t<tr><td>Brazil     </td><td>2000       </td><td> 80488     </td></tr>\n",
       "\t<tr><td>China      </td><td>2000       </td><td>213766     </td></tr>\n",
       "</tbody>\n",
       "</table>\n"
      ],
      "text/latex": [
       "\\begin{tabular}{r|lll}\n",
       " country & year & cases\\\\\n",
       "\\hline\n",
       "\t Afghanistan & 1999        &    745     \\\\\n",
       "\t Brazil      & 1999        &  37737     \\\\\n",
       "\t China       & 1999        & 212258     \\\\\n",
       "\t Afghanistan & 2000        &   2666     \\\\\n",
       "\t Brazil      & 2000        &  80488     \\\\\n",
       "\t China       & 2000        & 213766     \\\\\n",
       "\\end{tabular}\n"
      ],
      "text/markdown": [
       "\n",
       "country | year | cases | \n",
       "|---|---|---|---|---|---|\n",
       "| Afghanistan | 1999        |    745      | \n",
       "| Brazil      | 1999        |  37737      | \n",
       "| China       | 1999        | 212258      | \n",
       "| Afghanistan | 2000        |   2666      | \n",
       "| Brazil      | 2000        |  80488      | \n",
       "| China       | 2000        | 213766      | \n",
       "\n",
       "\n"
      ],
      "text/plain": [
       "  country     year cases \n",
       "1 Afghanistan 1999    745\n",
       "2 Brazil      1999  37737\n",
       "3 China       1999 212258\n",
       "4 Afghanistan 2000   2666\n",
       "5 Brazil      2000  80488\n",
       "6 China       2000 213766"
      ]
     },
     "metadata": {},
     "output_type": "display_data"
    }
   ],
   "source": [
    "table4a %>% \n",
    "  gather(`1999`, `2000`, key = \"year\", value = \"cases\")"
   ]
  },
  {
   "cell_type": "markdown",
   "metadata": {},
   "source": [
    "In the final result, the gathered columns are dropped, and we get new `key` and `value` columns. Otherwise, the relationships between the original variables are preserved. Visually, this is shown in figure below \n",
    "\n",
    "<img src=\"../png/gather-table4a.png\" width=\"550px\" align=\"center\">\n",
    "\n",
    "We can use `gather()` to tidy `table4b` in a similar fashion. The only difference is the variable stored in the cell values:"
   ]
  },
  {
   "cell_type": "code",
   "execution_count": 9,
   "metadata": {},
   "outputs": [
    {
     "data": {
      "text/html": [
       "<table>\n",
       "<thead><tr><th scope=col>country</th><th scope=col>year</th><th scope=col>population</th></tr></thead>\n",
       "<tbody>\n",
       "\t<tr><td>Afghanistan</td><td>1999       </td><td>  19987071 </td></tr>\n",
       "\t<tr><td>Brazil     </td><td>1999       </td><td> 172006362 </td></tr>\n",
       "\t<tr><td>China      </td><td>1999       </td><td>1272915272 </td></tr>\n",
       "\t<tr><td>Afghanistan</td><td>2000       </td><td>  20595360 </td></tr>\n",
       "\t<tr><td>Brazil     </td><td>2000       </td><td> 174504898 </td></tr>\n",
       "\t<tr><td>China      </td><td>2000       </td><td>1280428583 </td></tr>\n",
       "</tbody>\n",
       "</table>\n"
      ],
      "text/latex": [
       "\\begin{tabular}{r|lll}\n",
       " country & year & population\\\\\n",
       "\\hline\n",
       "\t Afghanistan & 1999        &   19987071 \\\\\n",
       "\t Brazil      & 1999        &  172006362 \\\\\n",
       "\t China       & 1999        & 1272915272 \\\\\n",
       "\t Afghanistan & 2000        &   20595360 \\\\\n",
       "\t Brazil      & 2000        &  174504898 \\\\\n",
       "\t China       & 2000        & 1280428583 \\\\\n",
       "\\end{tabular}\n"
      ],
      "text/markdown": [
       "\n",
       "country | year | population | \n",
       "|---|---|---|---|---|---|\n",
       "| Afghanistan | 1999        |   19987071  | \n",
       "| Brazil      | 1999        |  172006362  | \n",
       "| China       | 1999        | 1272915272  | \n",
       "| Afghanistan | 2000        |   20595360  | \n",
       "| Brazil      | 2000        |  174504898  | \n",
       "| China       | 2000        | 1280428583  | \n",
       "\n",
       "\n"
      ],
      "text/plain": [
       "  country     year population\n",
       "1 Afghanistan 1999   19987071\n",
       "2 Brazil      1999  172006362\n",
       "3 China       1999 1272915272\n",
       "4 Afghanistan 2000   20595360\n",
       "5 Brazil      2000  174504898\n",
       "6 China       2000 1280428583"
      ]
     },
     "metadata": {},
     "output_type": "display_data"
    }
   ],
   "source": [
    "table4b %>% \n",
    "  gather(`1999`, `2000`, key = \"year\", value = \"population\")"
   ]
  },
  {
   "cell_type": "markdown",
   "metadata": {},
   "source": [
    "To combine the tidied versions of `table4a` and `table4b` into a single tibble, we need to use `dplyr::left_join()`, which you will learn later in this notebook:"
   ]
  },
  {
   "cell_type": "code",
   "execution_count": 10,
   "metadata": {},
   "outputs": [
    {
     "name": "stderr",
     "output_type": "stream",
     "text": [
      "Joining, by = c(\"country\", \"year\")\n"
     ]
    },
    {
     "data": {
      "text/html": [
       "<table>\n",
       "<thead><tr><th scope=col>country</th><th scope=col>year</th><th scope=col>cases</th><th scope=col>population</th></tr></thead>\n",
       "<tbody>\n",
       "\t<tr><td>Afghanistan</td><td>1999       </td><td>   745     </td><td>  19987071 </td></tr>\n",
       "\t<tr><td>Brazil     </td><td>1999       </td><td> 37737     </td><td> 172006362 </td></tr>\n",
       "\t<tr><td>China      </td><td>1999       </td><td>212258     </td><td>1272915272 </td></tr>\n",
       "\t<tr><td>Afghanistan</td><td>2000       </td><td>  2666     </td><td>  20595360 </td></tr>\n",
       "\t<tr><td>Brazil     </td><td>2000       </td><td> 80488     </td><td> 174504898 </td></tr>\n",
       "\t<tr><td>China      </td><td>2000       </td><td>213766     </td><td>1280428583 </td></tr>\n",
       "</tbody>\n",
       "</table>\n"
      ],
      "text/latex": [
       "\\begin{tabular}{r|llll}\n",
       " country & year & cases & population\\\\\n",
       "\\hline\n",
       "\t Afghanistan & 1999        &    745      &   19987071 \\\\\n",
       "\t Brazil      & 1999        &  37737      &  172006362 \\\\\n",
       "\t China       & 1999        & 212258      & 1272915272 \\\\\n",
       "\t Afghanistan & 2000        &   2666      &   20595360 \\\\\n",
       "\t Brazil      & 2000        &  80488      &  174504898 \\\\\n",
       "\t China       & 2000        & 213766      & 1280428583 \\\\\n",
       "\\end{tabular}\n"
      ],
      "text/markdown": [
       "\n",
       "country | year | cases | population | \n",
       "|---|---|---|---|---|---|\n",
       "| Afghanistan | 1999        |    745      |   19987071  | \n",
       "| Brazil      | 1999        |  37737      |  172006362  | \n",
       "| China       | 1999        | 212258      | 1272915272  | \n",
       "| Afghanistan | 2000        |   2666      |   20595360  | \n",
       "| Brazil      | 2000        |  80488      |  174504898  | \n",
       "| China       | 2000        | 213766      | 1280428583  | \n",
       "\n",
       "\n"
      ],
      "text/plain": [
       "  country     year cases  population\n",
       "1 Afghanistan 1999    745   19987071\n",
       "2 Brazil      1999  37737  172006362\n",
       "3 China       1999 212258 1272915272\n",
       "4 Afghanistan 2000   2666   20595360\n",
       "5 Brazil      2000  80488  174504898\n",
       "6 China       2000 213766 1280428583"
      ]
     },
     "metadata": {},
     "output_type": "display_data"
    }
   ],
   "source": [
    "tidy4a <- table4a %>% \n",
    "  gather(`1999`, `2000`, key = \"year\", value = \"cases\")\n",
    "tidy4b <- table4b %>% \n",
    "  gather(`1999`, `2000`, key = \"year\", value = \"population\")\n",
    "left_join(tidy4a, tidy4b)"
   ]
  },
  {
   "cell_type": "markdown",
   "metadata": {},
   "source": [
    "#### Spreading\n",
    "Spreading is the opposite of gathering. You use it when an observation is scattered across multiple rows. For example, take `table2`: an observation is a country in a year, but each observation is spread across two rows:"
   ]
  },
  {
   "cell_type": "code",
   "execution_count": 11,
   "metadata": {},
   "outputs": [
    {
     "data": {
      "text/html": [
       "<table>\n",
       "<thead><tr><th scope=col>country</th><th scope=col>year</th><th scope=col>type</th><th scope=col>count</th></tr></thead>\n",
       "<tbody>\n",
       "\t<tr><td>Afghanistan</td><td>1999       </td><td>cases      </td><td>       745 </td></tr>\n",
       "\t<tr><td>Afghanistan</td><td>1999       </td><td>population </td><td>  19987071 </td></tr>\n",
       "\t<tr><td>Afghanistan</td><td>2000       </td><td>cases      </td><td>      2666 </td></tr>\n",
       "\t<tr><td>Afghanistan</td><td>2000       </td><td>population </td><td>  20595360 </td></tr>\n",
       "\t<tr><td>Brazil     </td><td>1999       </td><td>cases      </td><td>     37737 </td></tr>\n",
       "\t<tr><td>Brazil     </td><td>1999       </td><td>population </td><td> 172006362 </td></tr>\n",
       "\t<tr><td>Brazil     </td><td>2000       </td><td>cases      </td><td>     80488 </td></tr>\n",
       "\t<tr><td>Brazil     </td><td>2000       </td><td>population </td><td> 174504898 </td></tr>\n",
       "\t<tr><td>China      </td><td>1999       </td><td>cases      </td><td>    212258 </td></tr>\n",
       "\t<tr><td>China      </td><td>1999       </td><td>population </td><td>1272915272 </td></tr>\n",
       "\t<tr><td>China      </td><td>2000       </td><td>cases      </td><td>    213766 </td></tr>\n",
       "\t<tr><td>China      </td><td>2000       </td><td>population </td><td>1280428583 </td></tr>\n",
       "</tbody>\n",
       "</table>\n"
      ],
      "text/latex": [
       "\\begin{tabular}{r|llll}\n",
       " country & year & type & count\\\\\n",
       "\\hline\n",
       "\t Afghanistan & 1999        & cases       &        745 \\\\\n",
       "\t Afghanistan & 1999        & population  &   19987071 \\\\\n",
       "\t Afghanistan & 2000        & cases       &       2666 \\\\\n",
       "\t Afghanistan & 2000        & population  &   20595360 \\\\\n",
       "\t Brazil      & 1999        & cases       &      37737 \\\\\n",
       "\t Brazil      & 1999        & population  &  172006362 \\\\\n",
       "\t Brazil      & 2000        & cases       &      80488 \\\\\n",
       "\t Brazil      & 2000        & population  &  174504898 \\\\\n",
       "\t China       & 1999        & cases       &     212258 \\\\\n",
       "\t China       & 1999        & population  & 1272915272 \\\\\n",
       "\t China       & 2000        & cases       &     213766 \\\\\n",
       "\t China       & 2000        & population  & 1280428583 \\\\\n",
       "\\end{tabular}\n"
      ],
      "text/markdown": [
       "\n",
       "country | year | type | count | \n",
       "|---|---|---|---|---|---|---|---|---|---|---|---|\n",
       "| Afghanistan | 1999        | cases       |        745  | \n",
       "| Afghanistan | 1999        | population  |   19987071  | \n",
       "| Afghanistan | 2000        | cases       |       2666  | \n",
       "| Afghanistan | 2000        | population  |   20595360  | \n",
       "| Brazil      | 1999        | cases       |      37737  | \n",
       "| Brazil      | 1999        | population  |  172006362  | \n",
       "| Brazil      | 2000        | cases       |      80488  | \n",
       "| Brazil      | 2000        | population  |  174504898  | \n",
       "| China       | 1999        | cases       |     212258  | \n",
       "| China       | 1999        | population  | 1272915272  | \n",
       "| China       | 2000        | cases       |     213766  | \n",
       "| China       | 2000        | population  | 1280428583  | \n",
       "\n",
       "\n"
      ],
      "text/plain": [
       "   country     year type       count     \n",
       "1  Afghanistan 1999 cases             745\n",
       "2  Afghanistan 1999 population   19987071\n",
       "3  Afghanistan 2000 cases            2666\n",
       "4  Afghanistan 2000 population   20595360\n",
       "5  Brazil      1999 cases           37737\n",
       "6  Brazil      1999 population  172006362\n",
       "7  Brazil      2000 cases           80488\n",
       "8  Brazil      2000 population  174504898\n",
       "9  China       1999 cases          212258\n",
       "10 China       1999 population 1272915272\n",
       "11 China       2000 cases          213766\n",
       "12 China       2000 population 1280428583"
      ]
     },
     "metadata": {},
     "output_type": "display_data"
    }
   ],
   "source": [
    "table2"
   ]
  },
  {
   "cell_type": "markdown",
   "metadata": {},
   "source": [
    "To tidy this up, we first analyze the representation in similar way to `gather()`. This time, however, we only need two parameters:\n",
    "\n",
    "* The column that contains variable names, the `key` column. Here, it's `type`.\n",
    "* The column that contains values from multiple variables, the `value` column. Here it's `count`.\n",
    "\n",
    "Once we've figured that out, we can use `spread()`:"
   ]
  },
  {
   "cell_type": "code",
   "execution_count": 12,
   "metadata": {},
   "outputs": [
    {
     "data": {
      "text/html": [
       "<table>\n",
       "<thead><tr><th scope=col>country</th><th scope=col>year</th><th scope=col>cases</th><th scope=col>population</th></tr></thead>\n",
       "<tbody>\n",
       "\t<tr><td>Afghanistan</td><td>1999       </td><td>   745     </td><td>  19987071 </td></tr>\n",
       "\t<tr><td>Afghanistan</td><td>2000       </td><td>  2666     </td><td>  20595360 </td></tr>\n",
       "\t<tr><td>Brazil     </td><td>1999       </td><td> 37737     </td><td> 172006362 </td></tr>\n",
       "\t<tr><td>Brazil     </td><td>2000       </td><td> 80488     </td><td> 174504898 </td></tr>\n",
       "\t<tr><td>China      </td><td>1999       </td><td>212258     </td><td>1272915272 </td></tr>\n",
       "\t<tr><td>China      </td><td>2000       </td><td>213766     </td><td>1280428583 </td></tr>\n",
       "</tbody>\n",
       "</table>\n"
      ],
      "text/latex": [
       "\\begin{tabular}{r|llll}\n",
       " country & year & cases & population\\\\\n",
       "\\hline\n",
       "\t Afghanistan & 1999        &    745      &   19987071 \\\\\n",
       "\t Afghanistan & 2000        &   2666      &   20595360 \\\\\n",
       "\t Brazil      & 1999        &  37737      &  172006362 \\\\\n",
       "\t Brazil      & 2000        &  80488      &  174504898 \\\\\n",
       "\t China       & 1999        & 212258      & 1272915272 \\\\\n",
       "\t China       & 2000        & 213766      & 1280428583 \\\\\n",
       "\\end{tabular}\n"
      ],
      "text/markdown": [
       "\n",
       "country | year | cases | population | \n",
       "|---|---|---|---|---|---|\n",
       "| Afghanistan | 1999        |    745      |   19987071  | \n",
       "| Afghanistan | 2000        |   2666      |   20595360  | \n",
       "| Brazil      | 1999        |  37737      |  172006362  | \n",
       "| Brazil      | 2000        |  80488      |  174504898  | \n",
       "| China       | 1999        | 212258      | 1272915272  | \n",
       "| China       | 2000        | 213766      | 1280428583  | \n",
       "\n",
       "\n"
      ],
      "text/plain": [
       "  country     year cases  population\n",
       "1 Afghanistan 1999    745   19987071\n",
       "2 Afghanistan 2000   2666   20595360\n",
       "3 Brazil      1999  37737  172006362\n",
       "4 Brazil      2000  80488  174504898\n",
       "5 China       1999 212258 1272915272\n",
       "6 China       2000 213766 1280428583"
      ]
     },
     "metadata": {},
     "output_type": "display_data"
    }
   ],
   "source": [
    "table2 %>%\n",
    "  spread(key = type, value = count)"
   ]
  },
  {
   "cell_type": "markdown",
   "metadata": {},
   "source": [
    "<img src=\"../png/spread-table2.png\" width=\"550px\" align=\"center\">\n",
    "\n",
    "As you might have guessed from the common `key` and `value` arguments, `spread()` and `gather()` are complements. `gather()` makes wide tables narrower and longer; `spread()` makes long tables shorter and wider."
   ]
  },
  {
   "cell_type": "markdown",
   "metadata": {},
   "source": [
    "---\n",
    "#### Exercise 1\n",
    "Why does spreading this tibble fail? How could you add a new column to fix the problem?"
   ]
  },
  {
   "cell_type": "code",
   "execution_count": 13,
   "metadata": {},
   "outputs": [
    {
     "data": {
      "text/html": [
       "<table>\n",
       "<thead><tr><th scope=col>name</th><th scope=col>key</th><th scope=col>value</th></tr></thead>\n",
       "<tbody>\n",
       "\t<tr><td>Phillip Woods  </td><td>age            </td><td> 45            </td></tr>\n",
       "\t<tr><td>Phillip Woods  </td><td>height         </td><td>186            </td></tr>\n",
       "\t<tr><td>Phillip Woods  </td><td>age            </td><td> 50            </td></tr>\n",
       "\t<tr><td>Jessica Cordero</td><td>age            </td><td> 37            </td></tr>\n",
       "\t<tr><td>Jessica Cordero</td><td>height         </td><td>156            </td></tr>\n",
       "</tbody>\n",
       "</table>\n"
      ],
      "text/latex": [
       "\\begin{tabular}{r|lll}\n",
       " name & key & value\\\\\n",
       "\\hline\n",
       "\t Phillip Woods   & age             &  45            \\\\\n",
       "\t Phillip Woods   & height          & 186            \\\\\n",
       "\t Phillip Woods   & age             &  50            \\\\\n",
       "\t Jessica Cordero & age             &  37            \\\\\n",
       "\t Jessica Cordero & height          & 156            \\\\\n",
       "\\end{tabular}\n"
      ],
      "text/markdown": [
       "\n",
       "name | key | value | \n",
       "|---|---|---|---|---|\n",
       "| Phillip Woods   | age             |  45             | \n",
       "| Phillip Woods   | height          | 186             | \n",
       "| Phillip Woods   | age             |  50             | \n",
       "| Jessica Cordero | age             |  37             | \n",
       "| Jessica Cordero | height          | 156             | \n",
       "\n",
       "\n"
      ],
      "text/plain": [
       "  name            key    value\n",
       "1 Phillip Woods   age     45  \n",
       "2 Phillip Woods   height 186  \n",
       "3 Phillip Woods   age     50  \n",
       "4 Jessica Cordero age     37  \n",
       "5 Jessica Cordero height 156  "
      ]
     },
     "metadata": {},
     "output_type": "display_data"
    }
   ],
   "source": [
    "people <- tribble(\n",
    "  ~name,             ~key,    ~value,\n",
    "  #-----------------|--------|------\n",
    "  \"Phillip Woods\",   \"age\",       45,\n",
    "  \"Phillip Woods\",   \"height\",   186,\n",
    "  \"Phillip Woods\",   \"age\",       50,\n",
    "  \"Jessica Cordero\", \"age\",       37,\n",
    "  \"Jessica Cordero\", \"height\",   156\n",
    ")\n",
    "people"
   ]
  },
  {
   "cell_type": "code",
   "execution_count": 14,
   "metadata": {},
   "outputs": [],
   "source": [
    "# Your answer goes here"
   ]
  },
  {
   "cell_type": "markdown",
   "metadata": {},
   "source": [
    "---\n",
    "#### Exercise 2\n",
    "Tidy the simple tibble below. Do you need to spread or gather it? What are the variables?"
   ]
  },
  {
   "cell_type": "code",
   "execution_count": 15,
   "metadata": {},
   "outputs": [],
   "source": [
    "preg <- tribble(\n",
    "  ~pregnant, ~male, ~female,\n",
    "  \"yes\",     NA,    10,\n",
    "  \"no\",      20,    12\n",
    ")"
   ]
  },
  {
   "cell_type": "code",
   "execution_count": 16,
   "metadata": {},
   "outputs": [],
   "source": [
    "# Your answer goes here"
   ]
  },
  {
   "cell_type": "markdown",
   "metadata": {},
   "source": [
    "<div style=\"text-align: right\"> [[Jump to top]](#jump_to_top) </div>\n",
    "\n",
    "---\n",
    "<a class=\"anchor\" id=\"saparate-unit\"></a>\n",
    "### Separating and uniting\n",
    "So far you've learned how to tidy `table2` and `table4`, but not `table3`. `table3` has a different problem: we have one column (`rate`) that contains two variables (`cases` and `population`). To fix this problem, we'll need the `separate()` function. You'll also learn about the complement of `separate()`: `unite()`, which you use if a single variable is spread across multiple columns.\n",
    "\n",
    "#### Separate\n",
    "`separate()` pulls apart one column into multiple columns, by splitting wherever a separator character appears. Take `table3`:"
   ]
  },
  {
   "cell_type": "code",
   "execution_count": 17,
   "metadata": {},
   "outputs": [
    {
     "data": {
      "text/html": [
       "<table>\n",
       "<thead><tr><th scope=col>country</th><th scope=col>year</th><th scope=col>rate</th></tr></thead>\n",
       "<tbody>\n",
       "\t<tr><td>Afghanistan      </td><td>1999             </td><td>745/19987071     </td></tr>\n",
       "\t<tr><td>Afghanistan      </td><td>2000             </td><td>2666/20595360    </td></tr>\n",
       "\t<tr><td>Brazil           </td><td>1999             </td><td>37737/172006362  </td></tr>\n",
       "\t<tr><td>Brazil           </td><td>2000             </td><td>80488/174504898  </td></tr>\n",
       "\t<tr><td>China            </td><td>1999             </td><td>212258/1272915272</td></tr>\n",
       "\t<tr><td>China            </td><td>2000             </td><td>213766/1280428583</td></tr>\n",
       "</tbody>\n",
       "</table>\n"
      ],
      "text/latex": [
       "\\begin{tabular}{r|lll}\n",
       " country & year & rate\\\\\n",
       "\\hline\n",
       "\t Afghanistan       & 1999              & 745/19987071     \\\\\n",
       "\t Afghanistan       & 2000              & 2666/20595360    \\\\\n",
       "\t Brazil            & 1999              & 37737/172006362  \\\\\n",
       "\t Brazil            & 2000              & 80488/174504898  \\\\\n",
       "\t China             & 1999              & 212258/1272915272\\\\\n",
       "\t China             & 2000              & 213766/1280428583\\\\\n",
       "\\end{tabular}\n"
      ],
      "text/markdown": [
       "\n",
       "country | year | rate | \n",
       "|---|---|---|---|---|---|\n",
       "| Afghanistan       | 1999              | 745/19987071      | \n",
       "| Afghanistan       | 2000              | 2666/20595360     | \n",
       "| Brazil            | 1999              | 37737/172006362   | \n",
       "| Brazil            | 2000              | 80488/174504898   | \n",
       "| China             | 1999              | 212258/1272915272 | \n",
       "| China             | 2000              | 213766/1280428583 | \n",
       "\n",
       "\n"
      ],
      "text/plain": [
       "  country     year rate             \n",
       "1 Afghanistan 1999 745/19987071     \n",
       "2 Afghanistan 2000 2666/20595360    \n",
       "3 Brazil      1999 37737/172006362  \n",
       "4 Brazil      2000 80488/174504898  \n",
       "5 China       1999 212258/1272915272\n",
       "6 China       2000 213766/1280428583"
      ]
     },
     "metadata": {},
     "output_type": "display_data"
    }
   ],
   "source": [
    "table3"
   ]
  },
  {
   "cell_type": "code",
   "execution_count": 18,
   "metadata": {},
   "outputs": [
    {
     "data": {
      "text/html": [
       "<table>\n",
       "<thead><tr><th scope=col>country</th><th scope=col>year</th><th scope=col>cases</th><th scope=col>population</th></tr></thead>\n",
       "<tbody>\n",
       "\t<tr><td>Afghanistan</td><td>1999       </td><td>745        </td><td>19987071   </td></tr>\n",
       "\t<tr><td>Afghanistan</td><td>2000       </td><td>2666       </td><td>20595360   </td></tr>\n",
       "\t<tr><td>Brazil     </td><td>1999       </td><td>37737      </td><td>172006362  </td></tr>\n",
       "\t<tr><td>Brazil     </td><td>2000       </td><td>80488      </td><td>174504898  </td></tr>\n",
       "\t<tr><td>China      </td><td>1999       </td><td>212258     </td><td>1272915272 </td></tr>\n",
       "\t<tr><td>China      </td><td>2000       </td><td>213766     </td><td>1280428583 </td></tr>\n",
       "</tbody>\n",
       "</table>\n"
      ],
      "text/latex": [
       "\\begin{tabular}{r|llll}\n",
       " country & year & cases & population\\\\\n",
       "\\hline\n",
       "\t Afghanistan & 1999        & 745         & 19987071   \\\\\n",
       "\t Afghanistan & 2000        & 2666        & 20595360   \\\\\n",
       "\t Brazil      & 1999        & 37737       & 172006362  \\\\\n",
       "\t Brazil      & 2000        & 80488       & 174504898  \\\\\n",
       "\t China       & 1999        & 212258      & 1272915272 \\\\\n",
       "\t China       & 2000        & 213766      & 1280428583 \\\\\n",
       "\\end{tabular}\n"
      ],
      "text/markdown": [
       "\n",
       "country | year | cases | population | \n",
       "|---|---|---|---|---|---|\n",
       "| Afghanistan | 1999        | 745         | 19987071    | \n",
       "| Afghanistan | 2000        | 2666        | 20595360    | \n",
       "| Brazil      | 1999        | 37737       | 172006362   | \n",
       "| Brazil      | 2000        | 80488       | 174504898   | \n",
       "| China       | 1999        | 212258      | 1272915272  | \n",
       "| China       | 2000        | 213766      | 1280428583  | \n",
       "\n",
       "\n"
      ],
      "text/plain": [
       "  country     year cases  population\n",
       "1 Afghanistan 1999 745    19987071  \n",
       "2 Afghanistan 2000 2666   20595360  \n",
       "3 Brazil      1999 37737  172006362 \n",
       "4 Brazil      2000 80488  174504898 \n",
       "5 China       1999 212258 1272915272\n",
       "6 China       2000 213766 1280428583"
      ]
     },
     "metadata": {},
     "output_type": "display_data"
    }
   ],
   "source": [
    "table3 %>% \n",
    "  separate(rate, into = c(\"cases\", \"population\"))"
   ]
  },
  {
   "cell_type": "markdown",
   "metadata": {},
   "source": [
    "<img src=\"../png/separate.png\" width=\"550px\" align=\"center\">\n",
    "\n",
    "We could specify the separator if it is not automatically detected by `sep = \"/\"` parameter. \n",
    "\n",
    "By default the new columns will have a character type. We can ask `separate()` to detect the type and convert:"
   ]
  },
  {
   "cell_type": "code",
   "execution_count": 19,
   "metadata": {},
   "outputs": [
    {
     "data": {
      "text/html": [
       "<table>\n",
       "<thead><tr><th scope=col>country</th><th scope=col>year</th><th scope=col>cases</th><th scope=col>population</th></tr></thead>\n",
       "<tbody>\n",
       "\t<tr><td>Afghanistan</td><td>1999       </td><td>   745     </td><td>  19987071 </td></tr>\n",
       "\t<tr><td>Afghanistan</td><td>2000       </td><td>  2666     </td><td>  20595360 </td></tr>\n",
       "\t<tr><td>Brazil     </td><td>1999       </td><td> 37737     </td><td> 172006362 </td></tr>\n",
       "\t<tr><td>Brazil     </td><td>2000       </td><td> 80488     </td><td> 174504898 </td></tr>\n",
       "\t<tr><td>China      </td><td>1999       </td><td>212258     </td><td>1272915272 </td></tr>\n",
       "\t<tr><td>China      </td><td>2000       </td><td>213766     </td><td>1280428583 </td></tr>\n",
       "</tbody>\n",
       "</table>\n"
      ],
      "text/latex": [
       "\\begin{tabular}{r|llll}\n",
       " country & year & cases & population\\\\\n",
       "\\hline\n",
       "\t Afghanistan & 1999        &    745      &   19987071 \\\\\n",
       "\t Afghanistan & 2000        &   2666      &   20595360 \\\\\n",
       "\t Brazil      & 1999        &  37737      &  172006362 \\\\\n",
       "\t Brazil      & 2000        &  80488      &  174504898 \\\\\n",
       "\t China       & 1999        & 212258      & 1272915272 \\\\\n",
       "\t China       & 2000        & 213766      & 1280428583 \\\\\n",
       "\\end{tabular}\n"
      ],
      "text/markdown": [
       "\n",
       "country | year | cases | population | \n",
       "|---|---|---|---|---|---|\n",
       "| Afghanistan | 1999        |    745      |   19987071  | \n",
       "| Afghanistan | 2000        |   2666      |   20595360  | \n",
       "| Brazil      | 1999        |  37737      |  172006362  | \n",
       "| Brazil      | 2000        |  80488      |  174504898  | \n",
       "| China       | 1999        | 212258      | 1272915272  | \n",
       "| China       | 2000        | 213766      | 1280428583  | \n",
       "\n",
       "\n"
      ],
      "text/plain": [
       "  country     year cases  population\n",
       "1 Afghanistan 1999    745   19987071\n",
       "2 Afghanistan 2000   2666   20595360\n",
       "3 Brazil      1999  37737  172006362\n",
       "4 Brazil      2000  80488  174504898\n",
       "5 China       1999 212258 1272915272\n",
       "6 China       2000 213766 1280428583"
      ]
     },
     "metadata": {},
     "output_type": "display_data"
    }
   ],
   "source": [
    "table3 %>% \n",
    "  separate(rate, into = c(\"cases\", \"population\"), convert = TRUE)"
   ]
  },
  {
   "cell_type": "markdown",
   "metadata": {},
   "source": [
    "#### Unite\n",
    "`unite()` is the inverse of `separate()`: it combines multiple columns into a single column. You'll need it much less frequently than `separate()`, but it's still a useful tool to have in your back pocket.\n",
    "\n",
    "Consider `table5`:"
   ]
  },
  {
   "cell_type": "code",
   "execution_count": 20,
   "metadata": {},
   "outputs": [
    {
     "data": {
      "text/html": [
       "<table>\n",
       "<thead><tr><th scope=col>country</th><th scope=col>century</th><th scope=col>year</th><th scope=col>rate</th></tr></thead>\n",
       "<tbody>\n",
       "\t<tr><td>Afghanistan      </td><td>19               </td><td>99               </td><td>745/19987071     </td></tr>\n",
       "\t<tr><td>Afghanistan      </td><td>20               </td><td>00               </td><td>2666/20595360    </td></tr>\n",
       "\t<tr><td>Brazil           </td><td>19               </td><td>99               </td><td>37737/172006362  </td></tr>\n",
       "\t<tr><td>Brazil           </td><td>20               </td><td>00               </td><td>80488/174504898  </td></tr>\n",
       "\t<tr><td>China            </td><td>19               </td><td>99               </td><td>212258/1272915272</td></tr>\n",
       "\t<tr><td>China            </td><td>20               </td><td>00               </td><td>213766/1280428583</td></tr>\n",
       "</tbody>\n",
       "</table>\n"
      ],
      "text/latex": [
       "\\begin{tabular}{r|llll}\n",
       " country & century & year & rate\\\\\n",
       "\\hline\n",
       "\t Afghanistan       & 19                & 99                & 745/19987071     \\\\\n",
       "\t Afghanistan       & 20                & 00                & 2666/20595360    \\\\\n",
       "\t Brazil            & 19                & 99                & 37737/172006362  \\\\\n",
       "\t Brazil            & 20                & 00                & 80488/174504898  \\\\\n",
       "\t China             & 19                & 99                & 212258/1272915272\\\\\n",
       "\t China             & 20                & 00                & 213766/1280428583\\\\\n",
       "\\end{tabular}\n"
      ],
      "text/markdown": [
       "\n",
       "country | century | year | rate | \n",
       "|---|---|---|---|---|---|\n",
       "| Afghanistan       | 19                | 99                | 745/19987071      | \n",
       "| Afghanistan       | 20                | 00                | 2666/20595360     | \n",
       "| Brazil            | 19                | 99                | 37737/172006362   | \n",
       "| Brazil            | 20                | 00                | 80488/174504898   | \n",
       "| China             | 19                | 99                | 212258/1272915272 | \n",
       "| China             | 20                | 00                | 213766/1280428583 | \n",
       "\n",
       "\n"
      ],
      "text/plain": [
       "  country     century year rate             \n",
       "1 Afghanistan 19      99   745/19987071     \n",
       "2 Afghanistan 20      00   2666/20595360    \n",
       "3 Brazil      19      99   37737/172006362  \n",
       "4 Brazil      20      00   80488/174504898  \n",
       "5 China       19      99   212258/1272915272\n",
       "6 China       20      00   213766/1280428583"
      ]
     },
     "metadata": {},
     "output_type": "display_data"
    }
   ],
   "source": [
    "table5"
   ]
  },
  {
   "cell_type": "code",
   "execution_count": 21,
   "metadata": {},
   "outputs": [
    {
     "data": {
      "text/html": [
       "<table>\n",
       "<thead><tr><th scope=col>country</th><th scope=col>year</th><th scope=col>rate</th></tr></thead>\n",
       "<tbody>\n",
       "\t<tr><td>Afghanistan      </td><td>19_99            </td><td>745/19987071     </td></tr>\n",
       "\t<tr><td>Afghanistan      </td><td>20_00            </td><td>2666/20595360    </td></tr>\n",
       "\t<tr><td>Brazil           </td><td>19_99            </td><td>37737/172006362  </td></tr>\n",
       "\t<tr><td>Brazil           </td><td>20_00            </td><td>80488/174504898  </td></tr>\n",
       "\t<tr><td>China            </td><td>19_99            </td><td>212258/1272915272</td></tr>\n",
       "\t<tr><td>China            </td><td>20_00            </td><td>213766/1280428583</td></tr>\n",
       "</tbody>\n",
       "</table>\n"
      ],
      "text/latex": [
       "\\begin{tabular}{r|lll}\n",
       " country & year & rate\\\\\n",
       "\\hline\n",
       "\t Afghanistan       & 19\\_99           & 745/19987071     \\\\\n",
       "\t Afghanistan       & 20\\_00           & 2666/20595360    \\\\\n",
       "\t Brazil            & 19\\_99           & 37737/172006362  \\\\\n",
       "\t Brazil            & 20\\_00           & 80488/174504898  \\\\\n",
       "\t China             & 19\\_99           & 212258/1272915272\\\\\n",
       "\t China             & 20\\_00           & 213766/1280428583\\\\\n",
       "\\end{tabular}\n"
      ],
      "text/markdown": [
       "\n",
       "country | year | rate | \n",
       "|---|---|---|---|---|---|\n",
       "| Afghanistan       | 19_99             | 745/19987071      | \n",
       "| Afghanistan       | 20_00             | 2666/20595360     | \n",
       "| Brazil            | 19_99             | 37737/172006362   | \n",
       "| Brazil            | 20_00             | 80488/174504898   | \n",
       "| China             | 19_99             | 212258/1272915272 | \n",
       "| China             | 20_00             | 213766/1280428583 | \n",
       "\n",
       "\n"
      ],
      "text/plain": [
       "  country     year  rate             \n",
       "1 Afghanistan 19_99 745/19987071     \n",
       "2 Afghanistan 20_00 2666/20595360    \n",
       "3 Brazil      19_99 37737/172006362  \n",
       "4 Brazil      20_00 80488/174504898  \n",
       "5 China       19_99 212258/1272915272\n",
       "6 China       20_00 213766/1280428583"
      ]
     },
     "metadata": {},
     "output_type": "display_data"
    }
   ],
   "source": [
    "table5 %>% \n",
    "  unite(year, century, year)"
   ]
  },
  {
   "cell_type": "markdown",
   "metadata": {},
   "source": [
    "<img src=\"../png/unite.png\" width=\"550px\" align=\"center\">\n"
   ]
  },
  {
   "cell_type": "markdown",
   "metadata": {},
   "source": [
    "<div style=\"text-align: right\"> [[Jump to top]](#jump_to_top) </div>\n",
    "\n",
    "---\n",
    "<a class=\"anchor\" id=\"na\"></a>\n",
    "## Missing values\n",
    "Changing the representation of a dataset brings up an important subtlety of missing values. Surprisingly, a value can be missing in one of two possible ways:\n",
    "\n",
    "* Explicitly, i.e. flagged with `NA`.\n",
    "* Implicitly, i.e. simply not present in the data.\n",
    "\n",
    "Let's illustrate this idea with a very simple dataset:"
   ]
  },
  {
   "cell_type": "code",
   "execution_count": 22,
   "metadata": {},
   "outputs": [
    {
     "data": {
      "text/html": [
       "<table>\n",
       "<thead><tr><th scope=col>year</th><th scope=col>qtr</th><th scope=col>return</th></tr></thead>\n",
       "<tbody>\n",
       "\t<tr><td>2015</td><td>1   </td><td>1.88</td></tr>\n",
       "\t<tr><td>2015</td><td>2   </td><td>0.59</td></tr>\n",
       "\t<tr><td>2015</td><td>3   </td><td>0.35</td></tr>\n",
       "\t<tr><td>2015</td><td>4   </td><td>  NA</td></tr>\n",
       "\t<tr><td>2016</td><td>2   </td><td>0.92</td></tr>\n",
       "\t<tr><td>2016</td><td>3   </td><td>0.17</td></tr>\n",
       "\t<tr><td>2016</td><td>4   </td><td>2.66</td></tr>\n",
       "</tbody>\n",
       "</table>\n"
      ],
      "text/latex": [
       "\\begin{tabular}{r|lll}\n",
       " year & qtr & return\\\\\n",
       "\\hline\n",
       "\t 2015 & 1    & 1.88\\\\\n",
       "\t 2015 & 2    & 0.59\\\\\n",
       "\t 2015 & 3    & 0.35\\\\\n",
       "\t 2015 & 4    &   NA\\\\\n",
       "\t 2016 & 2    & 0.92\\\\\n",
       "\t 2016 & 3    & 0.17\\\\\n",
       "\t 2016 & 4    & 2.66\\\\\n",
       "\\end{tabular}\n"
      ],
      "text/markdown": [
       "\n",
       "year | qtr | return | \n",
       "|---|---|---|---|---|---|---|\n",
       "| 2015 | 1    | 1.88 | \n",
       "| 2015 | 2    | 0.59 | \n",
       "| 2015 | 3    | 0.35 | \n",
       "| 2015 | 4    |   NA | \n",
       "| 2016 | 2    | 0.92 | \n",
       "| 2016 | 3    | 0.17 | \n",
       "| 2016 | 4    | 2.66 | \n",
       "\n",
       "\n"
      ],
      "text/plain": [
       "  year qtr return\n",
       "1 2015 1   1.88  \n",
       "2 2015 2   0.59  \n",
       "3 2015 3   0.35  \n",
       "4 2015 4     NA  \n",
       "5 2016 2   0.92  \n",
       "6 2016 3   0.17  \n",
       "7 2016 4   2.66  "
      ]
     },
     "metadata": {},
     "output_type": "display_data"
    }
   ],
   "source": [
    "stocks <- tibble(\n",
    "  year   = c(2015, 2015, 2015, 2015, 2016, 2016, 2016),\n",
    "  qtr    = c(   1,    2,    3,    4,    2,    3,    4),\n",
    "  return = c(1.88, 0.59, 0.35,   NA, 0.92, 0.17, 2.66)\n",
    ")\n",
    "stocks"
   ]
  },
  {
   "cell_type": "markdown",
   "metadata": {},
   "source": [
    "There are two missing values in this dataset:\n",
    "\n",
    "* The return for the fourth quarter of 2015 is explicitly missing\n",
    "* The return for the first quarter of 2016 is implicitly missing, because it simply does not appear in the dataset.\n",
    "\n",
    "The way that a dataset is represented can make implicit values explicit. For example, we can make the implicit missing value explicit by putting years in the columns:"
   ]
  },
  {
   "cell_type": "code",
   "execution_count": 23,
   "metadata": {},
   "outputs": [
    {
     "data": {
      "text/html": [
       "<table>\n",
       "<thead><tr><th scope=col>qtr</th><th scope=col>2015</th><th scope=col>2016</th></tr></thead>\n",
       "<tbody>\n",
       "\t<tr><td>1   </td><td>1.88</td><td>  NA</td></tr>\n",
       "\t<tr><td>2   </td><td>0.59</td><td>0.92</td></tr>\n",
       "\t<tr><td>3   </td><td>0.35</td><td>0.17</td></tr>\n",
       "\t<tr><td>4   </td><td>  NA</td><td>2.66</td></tr>\n",
       "</tbody>\n",
       "</table>\n"
      ],
      "text/latex": [
       "\\begin{tabular}{r|lll}\n",
       " qtr & 2015 & 2016\\\\\n",
       "\\hline\n",
       "\t 1    & 1.88 &   NA\\\\\n",
       "\t 2    & 0.59 & 0.92\\\\\n",
       "\t 3    & 0.35 & 0.17\\\\\n",
       "\t 4    &   NA & 2.66\\\\\n",
       "\\end{tabular}\n"
      ],
      "text/markdown": [
       "\n",
       "qtr | 2015 | 2016 | \n",
       "|---|---|---|---|\n",
       "| 1    | 1.88 |   NA | \n",
       "| 2    | 0.59 | 0.92 | \n",
       "| 3    | 0.35 | 0.17 | \n",
       "| 4    |   NA | 2.66 | \n",
       "\n",
       "\n"
      ],
      "text/plain": [
       "  qtr 2015 2016\n",
       "1 1   1.88   NA\n",
       "2 2   0.59 0.92\n",
       "3 3   0.35 0.17\n",
       "4 4     NA 2.66"
      ]
     },
     "metadata": {},
     "output_type": "display_data"
    }
   ],
   "source": [
    "stocks %>%\n",
    "  spread(key = \"year\", value = \"return\")"
   ]
  },
  {
   "cell_type": "markdown",
   "metadata": {},
   "source": [
    "We can then use `gather()` to reshape it back to tidy, but this time with all the explicit and implicit missing values:"
   ]
  },
  {
   "cell_type": "code",
   "execution_count": 24,
   "metadata": {},
   "outputs": [
    {
     "data": {
      "text/html": [
       "<table>\n",
       "<thead><tr><th scope=col>qtr</th><th scope=col>year</th><th scope=col>return</th></tr></thead>\n",
       "<tbody>\n",
       "\t<tr><td>1   </td><td>2015</td><td>1.88</td></tr>\n",
       "\t<tr><td>2   </td><td>2015</td><td>0.59</td></tr>\n",
       "\t<tr><td>3   </td><td>2015</td><td>0.35</td></tr>\n",
       "\t<tr><td>4   </td><td>2015</td><td>  NA</td></tr>\n",
       "\t<tr><td>1   </td><td>2016</td><td>  NA</td></tr>\n",
       "\t<tr><td>2   </td><td>2016</td><td>0.92</td></tr>\n",
       "\t<tr><td>3   </td><td>2016</td><td>0.17</td></tr>\n",
       "\t<tr><td>4   </td><td>2016</td><td>2.66</td></tr>\n",
       "</tbody>\n",
       "</table>\n"
      ],
      "text/latex": [
       "\\begin{tabular}{r|lll}\n",
       " qtr & year & return\\\\\n",
       "\\hline\n",
       "\t 1    & 2015 & 1.88\\\\\n",
       "\t 2    & 2015 & 0.59\\\\\n",
       "\t 3    & 2015 & 0.35\\\\\n",
       "\t 4    & 2015 &   NA\\\\\n",
       "\t 1    & 2016 &   NA\\\\\n",
       "\t 2    & 2016 & 0.92\\\\\n",
       "\t 3    & 2016 & 0.17\\\\\n",
       "\t 4    & 2016 & 2.66\\\\\n",
       "\\end{tabular}\n"
      ],
      "text/markdown": [
       "\n",
       "qtr | year | return | \n",
       "|---|---|---|---|---|---|---|---|\n",
       "| 1    | 2015 | 1.88 | \n",
       "| 2    | 2015 | 0.59 | \n",
       "| 3    | 2015 | 0.35 | \n",
       "| 4    | 2015 |   NA | \n",
       "| 1    | 2016 |   NA | \n",
       "| 2    | 2016 | 0.92 | \n",
       "| 3    | 2016 | 0.17 | \n",
       "| 4    | 2016 | 2.66 | \n",
       "\n",
       "\n"
      ],
      "text/plain": [
       "  qtr year return\n",
       "1 1   2015 1.88  \n",
       "2 2   2015 0.59  \n",
       "3 3   2015 0.35  \n",
       "4 4   2015   NA  \n",
       "5 1   2016   NA  \n",
       "6 2   2016 0.92  \n",
       "7 3   2016 0.17  \n",
       "8 4   2016 2.66  "
      ]
     },
     "metadata": {},
     "output_type": "display_data"
    }
   ],
   "source": [
    "stocks %>% \n",
    "  spread(year, return) %>% \n",
    "  gather(year, return, `2015`:`2016`)"
   ]
  },
  {
   "cell_type": "markdown",
   "metadata": {},
   "source": [
    "Because these explicit missing values may not be important in other representations of the data, you can set `na.rm = TRUE` in `gather()` to turn explicit missing values implicit:"
   ]
  },
  {
   "cell_type": "code",
   "execution_count": 25,
   "metadata": {},
   "outputs": [
    {
     "data": {
      "text/html": [
       "<table>\n",
       "<thead><tr><th></th><th scope=col>qtr</th><th scope=col>year</th><th scope=col>return</th></tr></thead>\n",
       "<tbody>\n",
       "\t<tr><th scope=row>1</th><td>1   </td><td>2015</td><td>1.88</td></tr>\n",
       "\t<tr><th scope=row>2</th><td>2   </td><td>2015</td><td>0.59</td></tr>\n",
       "\t<tr><th scope=row>3</th><td>3   </td><td>2015</td><td>0.35</td></tr>\n",
       "\t<tr><th scope=row>6</th><td>2   </td><td>2016</td><td>0.92</td></tr>\n",
       "\t<tr><th scope=row>7</th><td>3   </td><td>2016</td><td>0.17</td></tr>\n",
       "\t<tr><th scope=row>8</th><td>4   </td><td>2016</td><td>2.66</td></tr>\n",
       "</tbody>\n",
       "</table>\n"
      ],
      "text/latex": [
       "\\begin{tabular}{r|lll}\n",
       "  & qtr & year & return\\\\\n",
       "\\hline\n",
       "\t1 & 1    & 2015 & 1.88\\\\\n",
       "\t2 & 2    & 2015 & 0.59\\\\\n",
       "\t3 & 3    & 2015 & 0.35\\\\\n",
       "\t6 & 2    & 2016 & 0.92\\\\\n",
       "\t7 & 3    & 2016 & 0.17\\\\\n",
       "\t8 & 4    & 2016 & 2.66\\\\\n",
       "\\end{tabular}\n"
      ],
      "text/markdown": [
       "\n",
       "| <!--/--> | qtr | year | return | \n",
       "|---|---|---|---|---|---|\n",
       "| 1 | 1    | 2015 | 1.88 | \n",
       "| 2 | 2    | 2015 | 0.59 | \n",
       "| 3 | 3    | 2015 | 0.35 | \n",
       "| 6 | 2    | 2016 | 0.92 | \n",
       "| 7 | 3    | 2016 | 0.17 | \n",
       "| 8 | 4    | 2016 | 2.66 | \n",
       "\n",
       "\n"
      ],
      "text/plain": [
       "  qtr year return\n",
       "1 1   2015 1.88  \n",
       "2 2   2015 0.59  \n",
       "3 3   2015 0.35  \n",
       "6 2   2016 0.92  \n",
       "7 3   2016 0.17  \n",
       "8 4   2016 2.66  "
      ]
     },
     "metadata": {},
     "output_type": "display_data"
    }
   ],
   "source": [
    "stocks %>% \n",
    "  spread(year, return) %>% \n",
    "  gather(year, return, `2015`:`2016`, na.rm = TRUE)"
   ]
  },
  {
   "cell_type": "markdown",
   "metadata": {},
   "source": [
    "Another important tool for making missing values explicit in tidy data is `complete()`:"
   ]
  },
  {
   "cell_type": "code",
   "execution_count": 26,
   "metadata": {},
   "outputs": [
    {
     "data": {
      "text/html": [
       "<table>\n",
       "<thead><tr><th scope=col>year</th><th scope=col>qtr</th><th scope=col>return</th></tr></thead>\n",
       "<tbody>\n",
       "\t<tr><td>2015</td><td>1   </td><td>1.88</td></tr>\n",
       "\t<tr><td>2015</td><td>2   </td><td>0.59</td></tr>\n",
       "\t<tr><td>2015</td><td>3   </td><td>0.35</td></tr>\n",
       "\t<tr><td>2015</td><td>4   </td><td>  NA</td></tr>\n",
       "\t<tr><td>2016</td><td>1   </td><td>  NA</td></tr>\n",
       "\t<tr><td>2016</td><td>2   </td><td>0.92</td></tr>\n",
       "\t<tr><td>2016</td><td>3   </td><td>0.17</td></tr>\n",
       "\t<tr><td>2016</td><td>4   </td><td>2.66</td></tr>\n",
       "</tbody>\n",
       "</table>\n"
      ],
      "text/latex": [
       "\\begin{tabular}{r|lll}\n",
       " year & qtr & return\\\\\n",
       "\\hline\n",
       "\t 2015 & 1    & 1.88\\\\\n",
       "\t 2015 & 2    & 0.59\\\\\n",
       "\t 2015 & 3    & 0.35\\\\\n",
       "\t 2015 & 4    &   NA\\\\\n",
       "\t 2016 & 1    &   NA\\\\\n",
       "\t 2016 & 2    & 0.92\\\\\n",
       "\t 2016 & 3    & 0.17\\\\\n",
       "\t 2016 & 4    & 2.66\\\\\n",
       "\\end{tabular}\n"
      ],
      "text/markdown": [
       "\n",
       "year | qtr | return | \n",
       "|---|---|---|---|---|---|---|---|\n",
       "| 2015 | 1    | 1.88 | \n",
       "| 2015 | 2    | 0.59 | \n",
       "| 2015 | 3    | 0.35 | \n",
       "| 2015 | 4    |   NA | \n",
       "| 2016 | 1    |   NA | \n",
       "| 2016 | 2    | 0.92 | \n",
       "| 2016 | 3    | 0.17 | \n",
       "| 2016 | 4    | 2.66 | \n",
       "\n",
       "\n"
      ],
      "text/plain": [
       "  year qtr return\n",
       "1 2015 1   1.88  \n",
       "2 2015 2   0.59  \n",
       "3 2015 3   0.35  \n",
       "4 2015 4     NA  \n",
       "5 2016 1     NA  \n",
       "6 2016 2   0.92  \n",
       "7 2016 3   0.17  \n",
       "8 2016 4   2.66  "
      ]
     },
     "metadata": {},
     "output_type": "display_data"
    }
   ],
   "source": [
    "stocks %>% \n",
    "  complete(year, qtr)"
   ]
  },
  {
   "cell_type": "markdown",
   "metadata": {},
   "source": [
    "`complete()` takes a set of columns, and finds all unique combinations. It then ensures the original dataset contains all those values, filling in explicit `NA`s where necessary.\n",
    "\n",
    "#### Practice\n",
    "Chapter 12.6 of **R for Data Science** represents a real-world data tidying case study. For better understanding of the steps needed to tidy a dataset I recommend reading through this chapter and experiment with the tidyr functions for yourself."
   ]
  },
  {
   "cell_type": "markdown",
   "metadata": {},
   "source": [
    "<div style=\"text-align: right\"> [[Jump to top]](#jump_to_top) </div>\n",
    "\n",
    "---\n",
    "<a class=\"anchor\" id=\"Relational\"></a>\n",
    "## Relational Data with dplyr\n",
    "Typically we will be using more than one table of data for an analysis. Multiple tables of data are called relational data. Relations are always defined between a pair of tables.\n",
    "\n",
    "Most common place to find relational data is relational databases. If you have used SQL for accessing a database, you will find most of the concepts and operations defined here very similar.\n",
    "\n",
    "To work with relational data you need verbs (functions) that work with pairs of tables. There are three families of verbs designed to work with relational data:\n",
    "\n",
    "* **Mutating joins**, which add new variables to one dataframe from matching observations in another.\n",
    "* **Filtering joins**, which filter observations from one dataframe based on whether or not they match an observation in the other table.\n",
    "* **Set operations**, which treat observations as if they were set elements.\n",
    "\n",
    "**dplyr** provides a variety of two-table verbs that we will introduce them here.\n",
    "\n",
    "#### nycflights13 package\n",
    "We will use the nycflights13 package to learn about relational data. nycflights13 contains four tibbles that are related to the `flights`, the dataframe that we used in the previous notebook.\n",
    "\n",
    "The drawing below shows how this relationship is defined:\n",
    "<img src=\"../png/nycflights13.png\" width=\"600px\" align=\"center\">"
   ]
  },
  {
   "cell_type": "code",
   "execution_count": 27,
   "metadata": {},
   "outputs": [
    {
     "name": "stdout",
     "output_type": "stream",
     "text": [
      "# A tibble: 16 x 2\n",
      "   carrier name                       \n",
      "   <chr>   <chr>                      \n",
      " 1 9E      Endeavor Air Inc.          \n",
      " 2 AA      American Airlines Inc.     \n",
      " 3 AS      Alaska Airlines Inc.       \n",
      " 4 B6      JetBlue Airways            \n",
      " 5 DL      Delta Air Lines Inc.       \n",
      " 6 EV      ExpressJet Airlines Inc.   \n",
      " 7 F9      Frontier Airlines Inc.     \n",
      " 8 FL      AirTran Airways Corporation\n",
      " 9 HA      Hawaiian Airlines Inc.     \n",
      "10 MQ      Envoy Air                  \n",
      "11 OO      SkyWest Airlines Inc.      \n",
      "12 UA      United Air Lines Inc.      \n",
      "13 US      US Airways Inc.            \n",
      "14 VX      Virgin America             \n",
      "15 WN      Southwest Airlines Co.     \n",
      "16 YV      Mesa Airlines Inc.         \n"
     ]
    }
   ],
   "source": [
    "print(airlines)"
   ]
  },
  {
   "cell_type": "code",
   "execution_count": 28,
   "metadata": {},
   "outputs": [
    {
     "name": "stdout",
     "output_type": "stream",
     "text": [
      "# A tibble: 1,458 x 8\n",
      "   faa   name                      lat    lon   alt    tz dst   tzone          \n",
      "   <chr> <chr>                   <dbl>  <dbl> <int> <dbl> <chr> <chr>          \n",
      " 1 04G   Lansdowne Airport        41.1  -80.6  1044    -5 A     America/New_Yo…\n",
      " 2 06A   Moton Field Municipal …  32.5  -85.7   264    -6 A     America/Chicago\n",
      " 3 06C   Schaumburg Regional      42.0  -88.1   801    -6 A     America/Chicago\n",
      " 4 06N   Randall Airport          41.4  -74.4   523    -5 A     America/New_Yo…\n",
      " 5 09J   Jekyll Island Airport    31.1  -81.4    11    -5 A     America/New_Yo…\n",
      " 6 0A9   Elizabethton Municipal…  36.4  -82.2  1593    -5 A     America/New_Yo…\n",
      " 7 0G6   Williams County Airport  41.5  -84.5   730    -5 A     America/New_Yo…\n",
      " 8 0G7   Finger Lakes Regional …  42.9  -76.8   492    -5 A     America/New_Yo…\n",
      " 9 0P2   Shoestring Aviation Ai…  39.8  -76.6  1000    -5 U     America/New_Yo…\n",
      "10 0S9   Jefferson County Intl    48.1 -123.    108    -8 A     America/Los_An…\n",
      "# ... with 1,448 more rows\n"
     ]
    }
   ],
   "source": [
    "print(airports)"
   ]
  },
  {
   "cell_type": "code",
   "execution_count": 29,
   "metadata": {},
   "outputs": [
    {
     "name": "stdout",
     "output_type": "stream",
     "text": [
      "# A tibble: 3,322 x 9\n",
      "   tailnum  year type         manufacturer   model  engines seats speed engine \n",
      "   <chr>   <int> <chr>        <chr>          <chr>    <int> <int> <int> <chr>  \n",
      " 1 N10156   2004 Fixed wing … EMBRAER        EMB-1…       2    55    NA Turbo-…\n",
      " 2 N102UW   1998 Fixed wing … AIRBUS INDUST… A320-…       2   182    NA Turbo-…\n",
      " 3 N103US   1999 Fixed wing … AIRBUS INDUST… A320-…       2   182    NA Turbo-…\n",
      " 4 N104UW   1999 Fixed wing … AIRBUS INDUST… A320-…       2   182    NA Turbo-…\n",
      " 5 N10575   2002 Fixed wing … EMBRAER        EMB-1…       2    55    NA Turbo-…\n",
      " 6 N105UW   1999 Fixed wing … AIRBUS INDUST… A320-…       2   182    NA Turbo-…\n",
      " 7 N107US   1999 Fixed wing … AIRBUS INDUST… A320-…       2   182    NA Turbo-…\n",
      " 8 N108UW   1999 Fixed wing … AIRBUS INDUST… A320-…       2   182    NA Turbo-…\n",
      " 9 N109UW   1999 Fixed wing … AIRBUS INDUST… A320-…       2   182    NA Turbo-…\n",
      "10 N110UW   1999 Fixed wing … AIRBUS INDUST… A320-…       2   182    NA Turbo-…\n",
      "# ... with 3,312 more rows\n"
     ]
    }
   ],
   "source": [
    "print(planes)"
   ]
  },
  {
   "cell_type": "code",
   "execution_count": 30,
   "metadata": {},
   "outputs": [
    {
     "name": "stdout",
     "output_type": "stream",
     "text": [
      "# A tibble: 26,115 x 15\n",
      "   origin  year month   day  hour  temp  dewp humid wind_dir wind_speed\n",
      "   <chr>  <dbl> <dbl> <int> <int> <dbl> <dbl> <dbl>    <dbl>      <dbl>\n",
      " 1 EWR     2013     1     1     1  39.0  26.1  59.4      270      10.4 \n",
      " 2 EWR     2013     1     1     2  39.0  27.0  61.6      250       8.06\n",
      " 3 EWR     2013     1     1     3  39.0  28.0  64.4      240      11.5 \n",
      " 4 EWR     2013     1     1     4  39.9  28.0  62.2      250      12.7 \n",
      " 5 EWR     2013     1     1     5  39.0  28.0  64.4      260      12.7 \n",
      " 6 EWR     2013     1     1     6  37.9  28.0  67.2      240      11.5 \n",
      " 7 EWR     2013     1     1     7  39.0  28.0  64.4      240      15.0 \n",
      " 8 EWR     2013     1     1     8  39.9  28.0  62.2      250      10.4 \n",
      " 9 EWR     2013     1     1     9  39.9  28.0  62.2      260      15.0 \n",
      "10 EWR     2013     1     1    10  41    28.0  59.6      260      13.8 \n",
      "# ... with 26,105 more rows, and 5 more variables: wind_gust <dbl>,\n",
      "#   precip <dbl>, pressure <dbl>, visib <dbl>, time_hour <dttm>\n"
     ]
    }
   ],
   "source": [
    "print(weather)"
   ]
  },
  {
   "cell_type": "markdown",
   "metadata": {},
   "source": [
    "For nycflights13:\n",
    "\n",
    "* `flights` connects to `planes` via a single variable, `tailnum`.\n",
    "* `flights` connects to `airlines` through the `carrier` variable.\n",
    "* `flights` connects to `airports` in two ways: via the `origin` and `dest` variables.\n",
    "* `flights` connects to `weather` via `origin` (the location), and `year`, `month`, `day` and `hour` (the time)."
   ]
  },
  {
   "cell_type": "markdown",
   "metadata": {},
   "source": [
    "<div style=\"text-align: right\"> [[Jump to top]](#jump_to_top) </div>\n",
    "\n",
    "---\n",
    "<a class=\"anchor\" id=\"Keys\"></a>\n",
    "### Keys\n",
    "The variables used to connect each pair of tables are called keys. A key is a variable (or set of variables) that uniquely identifies an observation. In simple cases, a single variable is sufficient to identify an observation. For example, each plane is uniquely identified by its `tailnum`. In other cases, multiple variables may be needed. For example, to identify an observation in weather you need five variables: `year`, `month`, `day`, `hour`, and `origin`.\n",
    "\n",
    "There are two types of keys:\n",
    "\n",
    "* A **primary key** uniquely identifies an observation in its own table. For example, `planes$tailnum` is a primary key because it uniquely identifies each plane in the planes table.\n",
    "* A **foreign key** uniquely identifies an observation in another table. For example, the `flights$tailnum` is a foreign key because it appears in the flights table where it matches each flight to a unique plane.\n",
    "\n",
    "A variable can be both a primary key and a foreign key. For example, `origin` is part of the `weather` primary key, and is also a foreign key for the `airport` table.\n",
    "\n",
    "Once you've identified the primary keys in your tables, it's good practice to verify that they do indeed uniquely identify each observation. One way to do that is to `count()` the primary keys and look for entries where n is greater than one:"
   ]
  },
  {
   "cell_type": "code",
   "execution_count": 31,
   "metadata": {},
   "outputs": [
    {
     "data": {
      "text/html": [
       "<table>\n",
       "<thead><tr><th scope=col>tailnum</th><th scope=col>n</th></tr></thead>\n",
       "<tbody>\n",
       "</tbody>\n",
       "</table>\n"
      ],
      "text/latex": [
       "\\begin{tabular}{r|ll}\n",
       " tailnum & n\\\\\n",
       "\\hline\n",
       "\\end{tabular}\n"
      ],
      "text/markdown": [
       "\n",
       "tailnum | n | \n",
       "||\n",
       "\n",
       "\n"
      ],
      "text/plain": [
       "     tailnum n"
      ]
     },
     "metadata": {},
     "output_type": "display_data"
    }
   ],
   "source": [
    "planes %>% \n",
    "  count(tailnum) %>% \n",
    "  filter(n > 1)"
   ]
  },
  {
   "cell_type": "markdown",
   "metadata": {},
   "source": [
    "Sometimes a table doesn't have an explicit primary key: each row is an observation, but no combination of variables reliably identifies it. For example:"
   ]
  },
  {
   "cell_type": "code",
   "execution_count": 32,
   "metadata": {},
   "outputs": [
    {
     "data": {
      "text/html": [
       "<table>\n",
       "<thead><tr><th scope=col>year</th><th scope=col>month</th><th scope=col>day</th><th scope=col>hour</th><th scope=col>origin</th><th scope=col>n</th></tr></thead>\n",
       "<tbody>\n",
       "\t<tr><td>2013</td><td>11  </td><td>3   </td><td>1   </td><td>EWR </td><td>2   </td></tr>\n",
       "\t<tr><td>2013</td><td>11  </td><td>3   </td><td>1   </td><td>JFK </td><td>2   </td></tr>\n",
       "\t<tr><td>2013</td><td>11  </td><td>3   </td><td>1   </td><td>LGA </td><td>2   </td></tr>\n",
       "</tbody>\n",
       "</table>\n"
      ],
      "text/latex": [
       "\\begin{tabular}{r|llllll}\n",
       " year & month & day & hour & origin & n\\\\\n",
       "\\hline\n",
       "\t 2013 & 11   & 3    & 1    & EWR  & 2   \\\\\n",
       "\t 2013 & 11   & 3    & 1    & JFK  & 2   \\\\\n",
       "\t 2013 & 11   & 3    & 1    & LGA  & 2   \\\\\n",
       "\\end{tabular}\n"
      ],
      "text/markdown": [
       "\n",
       "year | month | day | hour | origin | n | \n",
       "|---|---|---|\n",
       "| 2013 | 11   | 3    | 1    | EWR  | 2    | \n",
       "| 2013 | 11   | 3    | 1    | JFK  | 2    | \n",
       "| 2013 | 11   | 3    | 1    | LGA  | 2    | \n",
       "\n",
       "\n"
      ],
      "text/plain": [
       "  year month day hour origin n\n",
       "1 2013 11    3   1    EWR    2\n",
       "2 2013 11    3   1    JFK    2\n",
       "3 2013 11    3   1    LGA    2"
      ]
     },
     "metadata": {},
     "output_type": "display_data"
    }
   ],
   "source": [
    "weather %>% \n",
    "  count(year, month, day, hour, origin) %>% \n",
    "  filter(n > 1)"
   ]
  },
  {
   "cell_type": "markdown",
   "metadata": {},
   "source": [
    "what's the primary key in the flights table? You might think it would be the date plus the flight or tail number, but neither of those are unique:"
   ]
  },
  {
   "cell_type": "code",
   "execution_count": 33,
   "metadata": {},
   "outputs": [
    {
     "data": {
      "text/html": [
       "<table>\n",
       "<thead><tr><th scope=col>year</th><th scope=col>month</th><th scope=col>day</th><th scope=col>flight</th><th scope=col>n</th></tr></thead>\n",
       "<tbody>\n",
       "\t<tr><td>2013</td><td>1   </td><td>1   </td><td> 1  </td><td>2   </td></tr>\n",
       "\t<tr><td>2013</td><td>1   </td><td>1   </td><td> 3  </td><td>2   </td></tr>\n",
       "\t<tr><td>2013</td><td>1   </td><td>1   </td><td> 4  </td><td>2   </td></tr>\n",
       "\t<tr><td>2013</td><td>1   </td><td>1   </td><td>11  </td><td>3   </td></tr>\n",
       "\t<tr><td>2013</td><td>1   </td><td>1   </td><td>15  </td><td>2   </td></tr>\n",
       "\t<tr><td>2013</td><td>1   </td><td>1   </td><td>21  </td><td>2   </td></tr>\n",
       "</tbody>\n",
       "</table>\n"
      ],
      "text/latex": [
       "\\begin{tabular}{r|lllll}\n",
       " year & month & day & flight & n\\\\\n",
       "\\hline\n",
       "\t 2013 & 1    & 1    &  1   & 2   \\\\\n",
       "\t 2013 & 1    & 1    &  3   & 2   \\\\\n",
       "\t 2013 & 1    & 1    &  4   & 2   \\\\\n",
       "\t 2013 & 1    & 1    & 11   & 3   \\\\\n",
       "\t 2013 & 1    & 1    & 15   & 2   \\\\\n",
       "\t 2013 & 1    & 1    & 21   & 2   \\\\\n",
       "\\end{tabular}\n"
      ],
      "text/markdown": [
       "\n",
       "year | month | day | flight | n | \n",
       "|---|---|---|---|---|---|\n",
       "| 2013 | 1    | 1    |  1   | 2    | \n",
       "| 2013 | 1    | 1    |  3   | 2    | \n",
       "| 2013 | 1    | 1    |  4   | 2    | \n",
       "| 2013 | 1    | 1    | 11   | 3    | \n",
       "| 2013 | 1    | 1    | 15   | 2    | \n",
       "| 2013 | 1    | 1    | 21   | 2    | \n",
       "\n",
       "\n"
      ],
      "text/plain": [
       "  year month day flight n\n",
       "1 2013 1     1    1     2\n",
       "2 2013 1     1    3     2\n",
       "3 2013 1     1    4     2\n",
       "4 2013 1     1   11     3\n",
       "5 2013 1     1   15     2\n",
       "6 2013 1     1   21     2"
      ]
     },
     "metadata": {},
     "output_type": "display_data"
    }
   ],
   "source": [
    "flights %>% \n",
    "  count(year, month, day, flight) %>% \n",
    "  filter(n > 1) %>%\n",
    "  head"
   ]
  },
  {
   "cell_type": "code",
   "execution_count": 34,
   "metadata": {},
   "outputs": [
    {
     "data": {
      "text/html": [
       "<table>\n",
       "<thead><tr><th scope=col>year</th><th scope=col>month</th><th scope=col>day</th><th scope=col>tailnum</th><th scope=col>n</th></tr></thead>\n",
       "<tbody>\n",
       "\t<tr><td>2013  </td><td>1     </td><td>1     </td><td>N0EGMQ</td><td>2     </td></tr>\n",
       "\t<tr><td>2013  </td><td>1     </td><td>1     </td><td>N11189</td><td>2     </td></tr>\n",
       "\t<tr><td>2013  </td><td>1     </td><td>1     </td><td>N11536</td><td>2     </td></tr>\n",
       "\t<tr><td>2013  </td><td>1     </td><td>1     </td><td>N11544</td><td>3     </td></tr>\n",
       "\t<tr><td>2013  </td><td>1     </td><td>1     </td><td>N11551</td><td>2     </td></tr>\n",
       "\t<tr><td>2013  </td><td>1     </td><td>1     </td><td>N12540</td><td>2     </td></tr>\n",
       "</tbody>\n",
       "</table>\n"
      ],
      "text/latex": [
       "\\begin{tabular}{r|lllll}\n",
       " year & month & day & tailnum & n\\\\\n",
       "\\hline\n",
       "\t 2013   & 1      & 1      & N0EGMQ & 2     \\\\\n",
       "\t 2013   & 1      & 1      & N11189 & 2     \\\\\n",
       "\t 2013   & 1      & 1      & N11536 & 2     \\\\\n",
       "\t 2013   & 1      & 1      & N11544 & 3     \\\\\n",
       "\t 2013   & 1      & 1      & N11551 & 2     \\\\\n",
       "\t 2013   & 1      & 1      & N12540 & 2     \\\\\n",
       "\\end{tabular}\n"
      ],
      "text/markdown": [
       "\n",
       "year | month | day | tailnum | n | \n",
       "|---|---|---|---|---|---|\n",
       "| 2013   | 1      | 1      | N0EGMQ | 2      | \n",
       "| 2013   | 1      | 1      | N11189 | 2      | \n",
       "| 2013   | 1      | 1      | N11536 | 2      | \n",
       "| 2013   | 1      | 1      | N11544 | 3      | \n",
       "| 2013   | 1      | 1      | N11551 | 2      | \n",
       "| 2013   | 1      | 1      | N12540 | 2      | \n",
       "\n",
       "\n"
      ],
      "text/plain": [
       "  year month day tailnum n\n",
       "1 2013 1     1   N0EGMQ  2\n",
       "2 2013 1     1   N11189  2\n",
       "3 2013 1     1   N11536  2\n",
       "4 2013 1     1   N11544  3\n",
       "5 2013 1     1   N11551  2\n",
       "6 2013 1     1   N12540  2"
      ]
     },
     "metadata": {},
     "output_type": "display_data"
    }
   ],
   "source": [
    "flights %>% \n",
    "  count(year, month, day, tailnum) %>% \n",
    "  filter(n > 1) %>%\n",
    "  head"
   ]
  },
  {
   "cell_type": "markdown",
   "metadata": {},
   "source": [
    "Each flight number can be used more than once a day. With the existing data in `flights` table we can see the following combination could be the key:\n",
    "\n",
    "`year, month, day, flight, origin, dest, tailnum`"
   ]
  },
  {
   "cell_type": "code",
   "execution_count": 35,
   "metadata": {},
   "outputs": [
    {
     "data": {
      "text/html": [
       "<table>\n",
       "<thead><tr><th scope=col>year</th><th scope=col>month</th><th scope=col>day</th><th scope=col>flight</th><th scope=col>origin</th><th scope=col>dest</th><th scope=col>tailnum</th><th scope=col>n</th></tr></thead>\n",
       "<tbody>\n",
       "</tbody>\n",
       "</table>\n"
      ],
      "text/latex": [
       "\\begin{tabular}{r|llllllll}\n",
       " year & month & day & flight & origin & dest & tailnum & n\\\\\n",
       "\\hline\n",
       "\\end{tabular}\n"
      ],
      "text/markdown": [
       "\n",
       "year | month | day | flight | origin | dest | tailnum | n | \n",
       "||\n",
       "\n",
       "\n"
      ],
      "text/plain": [
       "     year month day flight origin dest tailnum n"
      ]
     },
     "metadata": {},
     "output_type": "display_data"
    }
   ],
   "source": [
    "flights %>% \n",
    "  count(year, month, day, flight, origin, dest, tailnum) %>% \n",
    "  filter(n > 1)"
   ]
  },
  {
   "cell_type": "markdown",
   "metadata": {},
   "source": [
    "We should be cautious when defining the primary key (PK) for a table. It could be that for the existing data a combination of variables would work as a PK but it won't stand unique for the future data. If a table lacks a primary key, it's sometimes useful to add one with `mutate()` and `row_number()`."
   ]
  },
  {
   "cell_type": "code",
   "execution_count": 36,
   "metadata": {},
   "outputs": [
    {
     "name": "stdout",
     "output_type": "stream",
     "text": [
      "# A tibble: 336,776 x 20\n",
      "   row_n  year month   day dep_time sched_dep_time dep_delay arr_time\n",
      "   <int> <int> <int> <int>    <int>          <int>     <dbl>    <int>\n",
      " 1     1  2013     1     1     1655           1621        34     1804\n",
      " 2     2  2013     1     1     1315           1317        -2     1413\n",
      " 3     3  2013     1     1     2056           2004        52     2156\n",
      " 4     4  2013     1     1      857            900        -3     1124\n",
      " 5     5  2013     1     1      615            615         0      833\n",
      " 6     6  2013     1     1     1547           1545         2     1823\n",
      " 7     7  2013     1     1     1707           1705         2     1928\n",
      " 8     8  2013     1     1     1203           1205        -2     1501\n",
      " 9     9  2013     1     1     1649           1639        10     1937\n",
      "10    10  2013     1     1     1144           1145        -1     1422\n",
      "# ... with 336,766 more rows, and 12 more variables: sched_arr_time <int>,\n",
      "#   arr_delay <dbl>, carrier <chr>, flight <int>, tailnum <chr>, origin <chr>,\n",
      "#   dest <chr>, air_time <dbl>, distance <dbl>, hour <dbl>, minute <dbl>,\n",
      "#   time_hour <dttm>\n"
     ]
    }
   ],
   "source": [
    "flights %>%\n",
    "  arrange(year, month, day, origin, dest, flight, tailnum) %>%\n",
    "  mutate(row_n = row_number()) %>%\n",
    "  select(row_n, everything()) %>%\n",
    "  print"
   ]
  },
  {
   "cell_type": "markdown",
   "metadata": {},
   "source": [
    "That makes it easier to match observations if you've done some filtering and want to check back in with the original data.\n",
    "\n",
    "A primary key and the corresponding foreign key in another table form a relation."
   ]
  },
  {
   "cell_type": "markdown",
   "metadata": {},
   "source": [
    "---\n",
    "#### Exercise 3\n",
    "Identify the keys in ggplot2::diamonds"
   ]
  },
  {
   "cell_type": "code",
   "execution_count": 37,
   "metadata": {},
   "outputs": [],
   "source": [
    "# Your answer goes here"
   ]
  },
  {
   "cell_type": "markdown",
   "metadata": {},
   "source": [
    "<div style=\"text-align: right\"> [[Jump to top]](#jump_to_top) </div>\n",
    "\n",
    "---\n",
    "<a class=\"anchor\" id=\"Joins\"></a>\n",
    "### Mutating Joins\n",
    "Joins are used to combine a pair of tables. These are known as mutating joins because we will be adding new variables from another table. This is possible through the foreign key. For instance, we can combine `flights` dataframe with `airlines` to get the full names of 2-letter `carrier` by using a **left join**:"
   ]
  },
  {
   "cell_type": "code",
   "execution_count": 38,
   "metadata": {},
   "outputs": [
    {
     "data": {
      "text/html": [
       "<table>\n",
       "<thead><tr><th scope=col>carrier</th><th scope=col>name</th><th scope=col>year</th><th scope=col>month</th><th scope=col>day</th><th scope=col>dep_time</th><th scope=col>sched_dep_time</th><th scope=col>dep_delay</th><th scope=col>arr_time</th><th scope=col>sched_arr_time</th><th scope=col>arr_delay</th><th scope=col>flight</th><th scope=col>tailnum</th><th scope=col>origin</th><th scope=col>dest</th><th scope=col>air_time</th><th scope=col>distance</th><th scope=col>hour</th><th scope=col>minute</th><th scope=col>time_hour</th></tr></thead>\n",
       "<tbody>\n",
       "\t<tr><td>UA                    </td><td>United Air Lines Inc. </td><td>2013                  </td><td>1                     </td><td>1                     </td><td>517                   </td><td>515                   </td><td> 2                    </td><td> 830                  </td><td> 819                  </td><td> 11                   </td><td>1545                  </td><td>N14228                </td><td>EWR                   </td><td>IAH                   </td><td>227                   </td><td>1400                  </td><td>5                     </td><td>15                    </td><td>2013-01-01 05:00:00   </td></tr>\n",
       "\t<tr><td>UA                    </td><td>United Air Lines Inc. </td><td>2013                  </td><td>1                     </td><td>1                     </td><td>533                   </td><td>529                   </td><td> 4                    </td><td> 850                  </td><td> 830                  </td><td> 20                   </td><td>1714                  </td><td>N24211                </td><td>LGA                   </td><td>IAH                   </td><td>227                   </td><td>1416                  </td><td>5                     </td><td>29                    </td><td>2013-01-01 05:00:00   </td></tr>\n",
       "\t<tr><td>AA                    </td><td>American Airlines Inc.</td><td>2013                  </td><td>1                     </td><td>1                     </td><td>542                   </td><td>540                   </td><td> 2                    </td><td> 923                  </td><td> 850                  </td><td> 33                   </td><td>1141                  </td><td>N619AA                </td><td>JFK                   </td><td>MIA                   </td><td>160                   </td><td>1089                  </td><td>5                     </td><td>40                    </td><td>2013-01-01 05:00:00   </td></tr>\n",
       "\t<tr><td>B6                    </td><td>JetBlue Airways       </td><td>2013                  </td><td>1                     </td><td>1                     </td><td>544                   </td><td>545                   </td><td>-1                    </td><td>1004                  </td><td>1022                  </td><td>-18                   </td><td> 725                  </td><td>N804JB                </td><td>JFK                   </td><td>BQN                   </td><td>183                   </td><td>1576                  </td><td>5                     </td><td>45                    </td><td>2013-01-01 05:00:00   </td></tr>\n",
       "\t<tr><td>DL                    </td><td>Delta Air Lines Inc.  </td><td>2013                  </td><td>1                     </td><td>1                     </td><td>554                   </td><td>600                   </td><td>-6                    </td><td> 812                  </td><td> 837                  </td><td>-25                   </td><td> 461                  </td><td>N668DN                </td><td>LGA                   </td><td>ATL                   </td><td>116                   </td><td> 762                  </td><td>6                     </td><td> 0                    </td><td>2013-01-01 06:00:00   </td></tr>\n",
       "\t<tr><td>UA                    </td><td>United Air Lines Inc. </td><td>2013                  </td><td>1                     </td><td>1                     </td><td>554                   </td><td>558                   </td><td>-4                    </td><td> 740                  </td><td> 728                  </td><td> 12                   </td><td>1696                  </td><td>N39463                </td><td>EWR                   </td><td>ORD                   </td><td>150                   </td><td> 719                  </td><td>5                     </td><td>58                    </td><td>2013-01-01 05:00:00   </td></tr>\n",
       "</tbody>\n",
       "</table>\n"
      ],
      "text/latex": [
       "\\begin{tabular}{r|llllllllllllllllllll}\n",
       " carrier & name & year & month & day & dep\\_time & sched\\_dep\\_time & dep\\_delay & arr\\_time & sched\\_arr\\_time & arr\\_delay & flight & tailnum & origin & dest & air\\_time & distance & hour & minute & time\\_hour\\\\\n",
       "\\hline\n",
       "\t UA                     & United Air Lines Inc.  & 2013                   & 1                      & 1                      & 517                    & 515                    &  2                     &  830                   &  819                   &  11                    & 1545                   & N14228                 & EWR                    & IAH                    & 227                    & 1400                   & 5                      & 15                     & 2013-01-01 05:00:00   \\\\\n",
       "\t UA                     & United Air Lines Inc.  & 2013                   & 1                      & 1                      & 533                    & 529                    &  4                     &  850                   &  830                   &  20                    & 1714                   & N24211                 & LGA                    & IAH                    & 227                    & 1416                   & 5                      & 29                     & 2013-01-01 05:00:00   \\\\\n",
       "\t AA                     & American Airlines Inc. & 2013                   & 1                      & 1                      & 542                    & 540                    &  2                     &  923                   &  850                   &  33                    & 1141                   & N619AA                 & JFK                    & MIA                    & 160                    & 1089                   & 5                      & 40                     & 2013-01-01 05:00:00   \\\\\n",
       "\t B6                     & JetBlue Airways        & 2013                   & 1                      & 1                      & 544                    & 545                    & -1                     & 1004                   & 1022                   & -18                    &  725                   & N804JB                 & JFK                    & BQN                    & 183                    & 1576                   & 5                      & 45                     & 2013-01-01 05:00:00   \\\\\n",
       "\t DL                     & Delta Air Lines Inc.   & 2013                   & 1                      & 1                      & 554                    & 600                    & -6                     &  812                   &  837                   & -25                    &  461                   & N668DN                 & LGA                    & ATL                    & 116                    &  762                   & 6                      &  0                     & 2013-01-01 06:00:00   \\\\\n",
       "\t UA                     & United Air Lines Inc.  & 2013                   & 1                      & 1                      & 554                    & 558                    & -4                     &  740                   &  728                   &  12                    & 1696                   & N39463                 & EWR                    & ORD                    & 150                    &  719                   & 5                      & 58                     & 2013-01-01 05:00:00   \\\\\n",
       "\\end{tabular}\n"
      ],
      "text/markdown": [
       "\n",
       "carrier | name | year | month | day | dep_time | sched_dep_time | dep_delay | arr_time | sched_arr_time | arr_delay | flight | tailnum | origin | dest | air_time | distance | hour | minute | time_hour | \n",
       "|---|---|---|---|---|---|\n",
       "| UA                     | United Air Lines Inc.  | 2013                   | 1                      | 1                      | 517                    | 515                    |  2                     |  830                   |  819                   |  11                    | 1545                   | N14228                 | EWR                    | IAH                    | 227                    | 1400                   | 5                      | 15                     | 2013-01-01 05:00:00    | \n",
       "| UA                     | United Air Lines Inc.  | 2013                   | 1                      | 1                      | 533                    | 529                    |  4                     |  850                   |  830                   |  20                    | 1714                   | N24211                 | LGA                    | IAH                    | 227                    | 1416                   | 5                      | 29                     | 2013-01-01 05:00:00    | \n",
       "| AA                     | American Airlines Inc. | 2013                   | 1                      | 1                      | 542                    | 540                    |  2                     |  923                   |  850                   |  33                    | 1141                   | N619AA                 | JFK                    | MIA                    | 160                    | 1089                   | 5                      | 40                     | 2013-01-01 05:00:00    | \n",
       "| B6                     | JetBlue Airways        | 2013                   | 1                      | 1                      | 544                    | 545                    | -1                     | 1004                   | 1022                   | -18                    |  725                   | N804JB                 | JFK                    | BQN                    | 183                    | 1576                   | 5                      | 45                     | 2013-01-01 05:00:00    | \n",
       "| DL                     | Delta Air Lines Inc.   | 2013                   | 1                      | 1                      | 554                    | 600                    | -6                     |  812                   |  837                   | -25                    |  461                   | N668DN                 | LGA                    | ATL                    | 116                    |  762                   | 6                      |  0                     | 2013-01-01 06:00:00    | \n",
       "| UA                     | United Air Lines Inc.  | 2013                   | 1                      | 1                      | 554                    | 558                    | -4                     |  740                   |  728                   |  12                    | 1696                   | N39463                 | EWR                    | ORD                    | 150                    |  719                   | 5                      | 58                     | 2013-01-01 05:00:00    | \n",
       "\n",
       "\n"
      ],
      "text/plain": [
       "  carrier name                   year month day dep_time sched_dep_time\n",
       "1 UA      United Air Lines Inc.  2013 1     1   517      515           \n",
       "2 UA      United Air Lines Inc.  2013 1     1   533      529           \n",
       "3 AA      American Airlines Inc. 2013 1     1   542      540           \n",
       "4 B6      JetBlue Airways        2013 1     1   544      545           \n",
       "5 DL      Delta Air Lines Inc.   2013 1     1   554      600           \n",
       "6 UA      United Air Lines Inc.  2013 1     1   554      558           \n",
       "  dep_delay arr_time sched_arr_time arr_delay flight tailnum origin dest\n",
       "1  2         830      819            11       1545   N14228  EWR    IAH \n",
       "2  4         850      830            20       1714   N24211  LGA    IAH \n",
       "3  2         923      850            33       1141   N619AA  JFK    MIA \n",
       "4 -1        1004     1022           -18        725   N804JB  JFK    BQN \n",
       "5 -6         812      837           -25        461   N668DN  LGA    ATL \n",
       "6 -4         740      728            12       1696   N39463  EWR    ORD \n",
       "  air_time distance hour minute time_hour          \n",
       "1 227      1400     5    15     2013-01-01 05:00:00\n",
       "2 227      1416     5    29     2013-01-01 05:00:00\n",
       "3 160      1089     5    40     2013-01-01 05:00:00\n",
       "4 183      1576     5    45     2013-01-01 05:00:00\n",
       "5 116       762     6     0     2013-01-01 06:00:00\n",
       "6 150       719     5    58     2013-01-01 05:00:00"
      ]
     },
     "metadata": {},
     "output_type": "display_data"
    }
   ],
   "source": [
    "flights %>%\n",
    "  left_join(airlines, by = \"carrier\") %>%\n",
    "  select(carrier, name, everything()) %>%\n",
    "  head"
   ]
  },
  {
   "cell_type": "markdown",
   "metadata": {},
   "source": [
    "We are going to use a visual representation to illustrate different types of joins. Consider these 2 dataframes: `x` and `y`\n",
    "\n",
    "<img src=\"../png/join-df.png\" align=\"center\" width=\"200px\">"
   ]
  },
  {
   "cell_type": "code",
   "execution_count": 39,
   "metadata": {},
   "outputs": [
    {
     "data": {
      "text/html": [
       "<table>\n",
       "<thead><tr><th scope=col>key</th><th scope=col>val_x</th></tr></thead>\n",
       "<tbody>\n",
       "\t<tr><td>1 </td><td>x1</td></tr>\n",
       "\t<tr><td>2 </td><td>x2</td></tr>\n",
       "\t<tr><td>3 </td><td>x3</td></tr>\n",
       "</tbody>\n",
       "</table>\n"
      ],
      "text/latex": [
       "\\begin{tabular}{r|ll}\n",
       " key & val\\_x\\\\\n",
       "\\hline\n",
       "\t 1  & x1\\\\\n",
       "\t 2  & x2\\\\\n",
       "\t 3  & x3\\\\\n",
       "\\end{tabular}\n"
      ],
      "text/markdown": [
       "\n",
       "key | val_x | \n",
       "|---|---|---|\n",
       "| 1  | x1 | \n",
       "| 2  | x2 | \n",
       "| 3  | x3 | \n",
       "\n",
       "\n"
      ],
      "text/plain": [
       "  key val_x\n",
       "1 1   x1   \n",
       "2 2   x2   \n",
       "3 3   x3   "
      ]
     },
     "metadata": {},
     "output_type": "display_data"
    }
   ],
   "source": [
    "x <- tribble(\n",
    "  ~key, ~val_x,\n",
    "     1, \"x1\",\n",
    "     2, \"x2\",\n",
    "     3, \"x3\"\n",
    ")\n",
    "x"
   ]
  },
  {
   "cell_type": "code",
   "execution_count": 40,
   "metadata": {},
   "outputs": [
    {
     "data": {
      "text/html": [
       "<table>\n",
       "<thead><tr><th scope=col>key</th><th scope=col>val_y</th></tr></thead>\n",
       "<tbody>\n",
       "\t<tr><td>1 </td><td>y1</td></tr>\n",
       "\t<tr><td>2 </td><td>y2</td></tr>\n",
       "\t<tr><td>4 </td><td>y3</td></tr>\n",
       "</tbody>\n",
       "</table>\n"
      ],
      "text/latex": [
       "\\begin{tabular}{r|ll}\n",
       " key & val\\_y\\\\\n",
       "\\hline\n",
       "\t 1  & y1\\\\\n",
       "\t 2  & y2\\\\\n",
       "\t 4  & y3\\\\\n",
       "\\end{tabular}\n"
      ],
      "text/markdown": [
       "\n",
       "key | val_y | \n",
       "|---|---|---|\n",
       "| 1  | y1 | \n",
       "| 2  | y2 | \n",
       "| 4  | y3 | \n",
       "\n",
       "\n"
      ],
      "text/plain": [
       "  key val_y\n",
       "1 1   y1   \n",
       "2 2   y2   \n",
       "3 4   y3   "
      ]
     },
     "metadata": {},
     "output_type": "display_data"
    }
   ],
   "source": [
    "y <- tribble(\n",
    "  ~key, ~val_y,\n",
    "     1, \"y1\",\n",
    "     2, \"y2\",\n",
    "     4, \"y3\"\n",
    ")\n",
    "y"
   ]
  },
  {
   "cell_type": "markdown",
   "metadata": {},
   "source": [
    "First column with colored numerical values is the key for both tibbles and is used to find the matching records across the tables.\n",
    "\n",
    "A join is a way of connecting each row in x to zero, one, or more rows in y. The following diagram shows each potential match as an intersection of a pair of lines. For illustration purposes we have switched the order of `key` and `val_x` in `x`:\n",
    "\n",
    "<img src=\"../png/join-pot-match.png\" align=\"center\" width=\"250px\">\n",
    "\n",
    "In an actual join, matches will be indicated with dots. The number of dots = the number of matches = the number of rows in the output.\n",
    "\n",
    "<img src=\"../png/join-dot.png\" align=\"center\" width=\"450px\">"
   ]
  },
  {
   "cell_type": "markdown",
   "metadata": {},
   "source": [
    "<div style=\"text-align: right\"> [[Jump to top]](#jump_to_top) </div>\n",
    "\n",
    "---\n",
    "<a class=\"anchor\" id=\"inner\"></a>\n",
    "### Inner join\n",
    "The simplest type of join is the inner join. An inner join matches pairs of observations whenever their keys are equal:\n",
    "\n",
    "<img src=\"../png/join-inner.png\" align=\"center\" width=\"450px\">\n",
    "\n",
    "We use `by` parameter to tell dplyr which variable is the key:"
   ]
  },
  {
   "cell_type": "code",
   "execution_count": 41,
   "metadata": {},
   "outputs": [
    {
     "data": {
      "text/html": [
       "<table>\n",
       "<thead><tr><th scope=col>key</th><th scope=col>val_x</th><th scope=col>val_y</th></tr></thead>\n",
       "<tbody>\n",
       "\t<tr><td>1 </td><td>x1</td><td>y1</td></tr>\n",
       "\t<tr><td>2 </td><td>x2</td><td>y2</td></tr>\n",
       "</tbody>\n",
       "</table>\n"
      ],
      "text/latex": [
       "\\begin{tabular}{r|lll}\n",
       " key & val\\_x & val\\_y\\\\\n",
       "\\hline\n",
       "\t 1  & x1 & y1\\\\\n",
       "\t 2  & x2 & y2\\\\\n",
       "\\end{tabular}\n"
      ],
      "text/markdown": [
       "\n",
       "key | val_x | val_y | \n",
       "|---|---|\n",
       "| 1  | x1 | y1 | \n",
       "| 2  | x2 | y2 | \n",
       "\n",
       "\n"
      ],
      "text/plain": [
       "  key val_x val_y\n",
       "1 1   x1    y1   \n",
       "2 2   x2    y2   "
      ]
     },
     "metadata": {},
     "output_type": "display_data"
    }
   ],
   "source": [
    "x %>% \n",
    "  inner_join(y, by = \"key\")"
   ]
  },
  {
   "cell_type": "markdown",
   "metadata": {},
   "source": [
    "Note that unmatched rows are not included in the result. This means that inner joins are usually not appropriate for use in analysis because it's too easy to lose observations."
   ]
  },
  {
   "cell_type": "markdown",
   "metadata": {},
   "source": [
    "<div style=\"text-align: right\"> [[Jump to top]](#jump_to_top) </div>\n",
    "\n",
    "---\n",
    "<a class=\"anchor\" id=\"outer\"></a>\n",
    "## Outer joins\n",
    "An inner join keeps observations that appear in both tables. An outer join keeps observations that appear in at least one of the tables. There are three types of outer joins:\n",
    "\n",
    "* A **left join** keeps all observations in `x`.\n",
    "* A **right join** keeps all observations in `y`.\n",
    "* A **full join** keeps all observations in `x` and `y`.\n",
    "\n",
    "<img src=\"../png/join-outer.png\" align=\"center\" width=\"450px\">\n",
    "\n",
    "The most commonly used join is the left join: you use this whenever you look up additional data from another table, because it preserves the original observations even when there isn't a match. The left join should be your default join: use it unless you have a strong reason to prefer one of the others.\n",
    "\n",
    "Another way to visually represent these joins:\n",
    "\n",
    "<img src=\"../png/join-diagram.png\" align=\"center\" width=\"600px\">"
   ]
  },
  {
   "cell_type": "code",
   "execution_count": 42,
   "metadata": {},
   "outputs": [
    {
     "data": {
      "text/html": [
       "<table>\n",
       "<thead><tr><th scope=col>key</th><th scope=col>val_x</th><th scope=col>val_y</th></tr></thead>\n",
       "<tbody>\n",
       "\t<tr><td>1 </td><td>x1</td><td>y1</td></tr>\n",
       "\t<tr><td>2 </td><td>x2</td><td>y2</td></tr>\n",
       "\t<tr><td>3 </td><td>x3</td><td>NA</td></tr>\n",
       "</tbody>\n",
       "</table>\n"
      ],
      "text/latex": [
       "\\begin{tabular}{r|lll}\n",
       " key & val\\_x & val\\_y\\\\\n",
       "\\hline\n",
       "\t 1  & x1 & y1\\\\\n",
       "\t 2  & x2 & y2\\\\\n",
       "\t 3  & x3 & NA\\\\\n",
       "\\end{tabular}\n"
      ],
      "text/markdown": [
       "\n",
       "key | val_x | val_y | \n",
       "|---|---|---|\n",
       "| 1  | x1 | y1 | \n",
       "| 2  | x2 | y2 | \n",
       "| 3  | x3 | NA | \n",
       "\n",
       "\n"
      ],
      "text/plain": [
       "  key val_x val_y\n",
       "1 1   x1    y1   \n",
       "2 2   x2    y2   \n",
       "3 3   x3    NA   "
      ]
     },
     "metadata": {},
     "output_type": "display_data"
    }
   ],
   "source": [
    "# Left join\n",
    "x %>% \n",
    "  left_join(y, by = \"key\")"
   ]
  },
  {
   "cell_type": "code",
   "execution_count": 43,
   "metadata": {},
   "outputs": [
    {
     "data": {
      "text/html": [
       "<table>\n",
       "<thead><tr><th scope=col>key</th><th scope=col>val_x</th><th scope=col>val_y</th></tr></thead>\n",
       "<tbody>\n",
       "\t<tr><td>1 </td><td>x1</td><td>y1</td></tr>\n",
       "\t<tr><td>2 </td><td>x2</td><td>y2</td></tr>\n",
       "\t<tr><td>4 </td><td>NA</td><td>y3</td></tr>\n",
       "</tbody>\n",
       "</table>\n"
      ],
      "text/latex": [
       "\\begin{tabular}{r|lll}\n",
       " key & val\\_x & val\\_y\\\\\n",
       "\\hline\n",
       "\t 1  & x1 & y1\\\\\n",
       "\t 2  & x2 & y2\\\\\n",
       "\t 4  & NA & y3\\\\\n",
       "\\end{tabular}\n"
      ],
      "text/markdown": [
       "\n",
       "key | val_x | val_y | \n",
       "|---|---|---|\n",
       "| 1  | x1 | y1 | \n",
       "| 2  | x2 | y2 | \n",
       "| 4  | NA | y3 | \n",
       "\n",
       "\n"
      ],
      "text/plain": [
       "  key val_x val_y\n",
       "1 1   x1    y1   \n",
       "2 2   x2    y2   \n",
       "3 4   NA    y3   "
      ]
     },
     "metadata": {},
     "output_type": "display_data"
    }
   ],
   "source": [
    "# Right join\n",
    "x %>% \n",
    "  right_join(y, by = \"key\")"
   ]
  },
  {
   "cell_type": "code",
   "execution_count": 44,
   "metadata": {},
   "outputs": [
    {
     "data": {
      "text/html": [
       "<table>\n",
       "<thead><tr><th scope=col>key</th><th scope=col>val_x</th><th scope=col>val_y</th></tr></thead>\n",
       "<tbody>\n",
       "\t<tr><td>1 </td><td>x1</td><td>y1</td></tr>\n",
       "\t<tr><td>2 </td><td>x2</td><td>y2</td></tr>\n",
       "\t<tr><td>3 </td><td>x3</td><td>NA</td></tr>\n",
       "\t<tr><td>4 </td><td>NA</td><td>y3</td></tr>\n",
       "</tbody>\n",
       "</table>\n"
      ],
      "text/latex": [
       "\\begin{tabular}{r|lll}\n",
       " key & val\\_x & val\\_y\\\\\n",
       "\\hline\n",
       "\t 1  & x1 & y1\\\\\n",
       "\t 2  & x2 & y2\\\\\n",
       "\t 3  & x3 & NA\\\\\n",
       "\t 4  & NA & y3\\\\\n",
       "\\end{tabular}\n"
      ],
      "text/markdown": [
       "\n",
       "key | val_x | val_y | \n",
       "|---|---|---|---|\n",
       "| 1  | x1 | y1 | \n",
       "| 2  | x2 | y2 | \n",
       "| 3  | x3 | NA | \n",
       "| 4  | NA | y3 | \n",
       "\n",
       "\n"
      ],
      "text/plain": [
       "  key val_x val_y\n",
       "1 1   x1    y1   \n",
       "2 2   x2    y2   \n",
       "3 3   x3    NA   \n",
       "4 4   NA    y3   "
      ]
     },
     "metadata": {},
     "output_type": "display_data"
    }
   ],
   "source": [
    "# Full join\n",
    "x %>% \n",
    "  full_join(y, by = \"key\")"
   ]
  },
  {
   "cell_type": "markdown",
   "metadata": {},
   "source": [
    "SQL is the inspiration for dplyr's conventions, so the translation is straightforward:\n",
    "\n",
    "| dplyr                      | SQL                                          |\n",
    "| :------------------------- | :------------------------------------------- |\n",
    "| inner_join(x, y, by = \"z\") | SELECT * FROM x INNER JOIN y USING (z)       |\n",
    "| left_join(x, y, by = \"z\")  | SELECT * FROM x LEFT OUTER JOIN y USING (z)  |\n",
    "| right_join(x, y, by = \"z\") | SELECT * FROM x RIGHT OUTER JOIN y USING (z) |\n",
    "| full_join(x, y, by = \"z\")  | SELECT * FROM x FULL OUTER JOIN y USING (z)  |\t\n",
    "\n",
    "Base R also provides join functionality by `merge()` function, but using dplyr joining is much faster, more consistent and unlike `merge()` dplyr doesn't change the order of the rows after the join.\n",
    "\n",
    "**Handling duplicate keys:**"
   ]
  },
  {
   "cell_type": "code",
   "execution_count": 45,
   "metadata": {},
   "outputs": [
    {
     "data": {
      "text/html": [
       "<table>\n",
       "<thead><tr><th scope=col>key</th><th scope=col>val_x</th><th scope=col>val_y</th></tr></thead>\n",
       "<tbody>\n",
       "\t<tr><td>1 </td><td>x1</td><td>y1</td></tr>\n",
       "\t<tr><td>2 </td><td>x2</td><td>y2</td></tr>\n",
       "\t<tr><td>2 </td><td>x2</td><td>y3</td></tr>\n",
       "\t<tr><td>2 </td><td>x3</td><td>y2</td></tr>\n",
       "\t<tr><td>2 </td><td>x3</td><td>y3</td></tr>\n",
       "\t<tr><td>3 </td><td>x4</td><td>y4</td></tr>\n",
       "</tbody>\n",
       "</table>\n"
      ],
      "text/latex": [
       "\\begin{tabular}{r|lll}\n",
       " key & val\\_x & val\\_y\\\\\n",
       "\\hline\n",
       "\t 1  & x1 & y1\\\\\n",
       "\t 2  & x2 & y2\\\\\n",
       "\t 2  & x2 & y3\\\\\n",
       "\t 2  & x3 & y2\\\\\n",
       "\t 2  & x3 & y3\\\\\n",
       "\t 3  & x4 & y4\\\\\n",
       "\\end{tabular}\n"
      ],
      "text/markdown": [
       "\n",
       "key | val_x | val_y | \n",
       "|---|---|---|---|---|---|\n",
       "| 1  | x1 | y1 | \n",
       "| 2  | x2 | y2 | \n",
       "| 2  | x2 | y3 | \n",
       "| 2  | x3 | y2 | \n",
       "| 2  | x3 | y3 | \n",
       "| 3  | x4 | y4 | \n",
       "\n",
       "\n"
      ],
      "text/plain": [
       "  key val_x val_y\n",
       "1 1   x1    y1   \n",
       "2 2   x2    y2   \n",
       "3 2   x2    y3   \n",
       "4 2   x3    y2   \n",
       "5 2   x3    y3   \n",
       "6 3   x4    y4   "
      ]
     },
     "metadata": {},
     "output_type": "display_data"
    }
   ],
   "source": [
    "x <- tribble(\n",
    "  ~key, ~val_x,\n",
    "     1, \"x1\",\n",
    "     2, \"x2\",\n",
    "     2, \"x3\",\n",
    "     3, \"x4\"\n",
    ")\n",
    "y <- tribble(\n",
    "  ~key, ~val_y,\n",
    "     1, \"y1\",\n",
    "     2, \"y2\",\n",
    "     2, \"y3\",\n",
    "     3, \"y4\"\n",
    ")\n",
    "left_join(x, y, by = \"key\")"
   ]
  },
  {
   "cell_type": "markdown",
   "metadata": {},
   "source": [
    "#### Defining the key columns\n",
    "The default, `by = NULL`, uses all variables that appear in both tables, the so called natural join. For example, the `flights` and `weather` tables match on their common variables: `year`, `month`, `day`, `hour` and `origin`:"
   ]
  },
  {
   "cell_type": "code",
   "execution_count": 46,
   "metadata": {},
   "outputs": [
    {
     "name": "stderr",
     "output_type": "stream",
     "text": [
      "Joining, by = c(\"year\", \"month\", \"day\", \"origin\", \"hour\", \"time_hour\")\n"
     ]
    },
    {
     "name": "stdout",
     "output_type": "stream",
     "text": [
      "# A tibble: 336,776 x 28\n",
      "    year month   day dep_time sched_dep_time dep_delay arr_time sched_arr_time\n",
      "   <dbl> <dbl> <int>    <int>          <int>     <dbl>    <int>          <int>\n",
      " 1  2013     1     1      517            515         2      830            819\n",
      " 2  2013     1     1      533            529         4      850            830\n",
      " 3  2013     1     1      542            540         2      923            850\n",
      " 4  2013     1     1      544            545        -1     1004           1022\n",
      " 5  2013     1     1      554            600        -6      812            837\n",
      " 6  2013     1     1      554            558        -4      740            728\n",
      " 7  2013     1     1      555            600        -5      913            854\n",
      " 8  2013     1     1      557            600        -3      709            723\n",
      " 9  2013     1     1      557            600        -3      838            846\n",
      "10  2013     1     1      558            600        -2      753            745\n",
      "# ... with 336,766 more rows, and 20 more variables: arr_delay <dbl>,\n",
      "#   carrier <chr>, flight <int>, tailnum <chr>, origin <chr>, dest <chr>,\n",
      "#   air_time <dbl>, distance <dbl>, hour <dbl>, minute <dbl>, time_hour <dttm>,\n",
      "#   temp <dbl>, dewp <dbl>, humid <dbl>, wind_dir <dbl>, wind_speed <dbl>,\n",
      "#   wind_gust <dbl>, precip <dbl>, pressure <dbl>, visib <dbl>\n"
     ]
    }
   ],
   "source": [
    "flights %>% \n",
    "  left_join(weather) %>%\n",
    "  print"
   ]
  },
  {
   "cell_type": "markdown",
   "metadata": {},
   "source": [
    "We can also specify what key to use:"
   ]
  },
  {
   "cell_type": "code",
   "execution_count": 47,
   "metadata": {},
   "outputs": [
    {
     "name": "stdout",
     "output_type": "stream",
     "text": [
      "# A tibble: 336,776 x 27\n",
      "   year.x month   day dep_time sched_dep_time dep_delay arr_time sched_arr_time\n",
      "    <int> <int> <int>    <int>          <int>     <dbl>    <int>          <int>\n",
      " 1   2013     1     1      517            515         2      830            819\n",
      " 2   2013     1     1      533            529         4      850            830\n",
      " 3   2013     1     1      542            540         2      923            850\n",
      " 4   2013     1     1      544            545        -1     1004           1022\n",
      " 5   2013     1     1      554            600        -6      812            837\n",
      " 6   2013     1     1      554            558        -4      740            728\n",
      " 7   2013     1     1      555            600        -5      913            854\n",
      " 8   2013     1     1      557            600        -3      709            723\n",
      " 9   2013     1     1      557            600        -3      838            846\n",
      "10   2013     1     1      558            600        -2      753            745\n",
      "# ... with 336,766 more rows, and 19 more variables: arr_delay <dbl>,\n",
      "#   carrier <chr>, flight <int>, tailnum <chr>, origin <chr>, dest <chr>,\n",
      "#   air_time <dbl>, distance <dbl>, hour <dbl>, minute <dbl>, time_hour <dttm>,\n",
      "#   year.y <int>, type <chr>, manufacturer <chr>, model <chr>, engines <int>,\n",
      "#   seats <int>, speed <int>, engine <chr>\n"
     ]
    }
   ],
   "source": [
    "flights %>% \n",
    "  left_join(planes, by = \"tailnum\") %>%\n",
    "  print"
   ]
  },
  {
   "cell_type": "markdown",
   "metadata": {},
   "source": [
    "`by = c(\"a\" = \"b\")`. This will match variable `a` in table `x` to variable `b` in table `y`. The variables from `x` will be used in the output:"
   ]
  },
  {
   "cell_type": "code",
   "execution_count": 48,
   "metadata": {},
   "outputs": [
    {
     "name": "stdout",
     "output_type": "stream",
     "text": [
      "# A tibble: 336,776 x 26\n",
      "    year month   day dep_time sched_dep_time dep_delay arr_time sched_arr_time\n",
      "   <int> <int> <int>    <int>          <int>     <dbl>    <int>          <int>\n",
      " 1  2013     1     1      517            515         2      830            819\n",
      " 2  2013     1     1      533            529         4      850            830\n",
      " 3  2013     1     1      542            540         2      923            850\n",
      " 4  2013     1     1      544            545        -1     1004           1022\n",
      " 5  2013     1     1      554            600        -6      812            837\n",
      " 6  2013     1     1      554            558        -4      740            728\n",
      " 7  2013     1     1      555            600        -5      913            854\n",
      " 8  2013     1     1      557            600        -3      709            723\n",
      " 9  2013     1     1      557            600        -3      838            846\n",
      "10  2013     1     1      558            600        -2      753            745\n",
      "# ... with 336,766 more rows, and 18 more variables: arr_delay <dbl>,\n",
      "#   carrier <chr>, flight <int>, tailnum <chr>, origin <chr>, dest <chr>,\n",
      "#   air_time <dbl>, distance <dbl>, hour <dbl>, minute <dbl>, time_hour <dttm>,\n",
      "#   name <chr>, lat <dbl>, lon <dbl>, alt <int>, tz <dbl>, dst <chr>,\n",
      "#   tzone <chr>\n"
     ]
    }
   ],
   "source": [
    "flights %>% \n",
    "  left_join(airports, by = c(\"dest\" = \"faa\")) %>%\n",
    "  print"
   ]
  },
  {
   "cell_type": "markdown",
   "metadata": {},
   "source": [
    "<div style=\"text-align: right\"> [[Jump to top]](#jump_to_top) </div>\n",
    "\n",
    "---\n",
    "#### Exercise 4\n",
    "Add the location of the origin and destination (i.e. the `lat` and `lon`) to flights."
   ]
  },
  {
   "cell_type": "code",
   "execution_count": 49,
   "metadata": {},
   "outputs": [],
   "source": [
    "# Your answer goes here."
   ]
  },
  {
   "cell_type": "markdown",
   "metadata": {},
   "source": [
    "---\n",
    "#### Exercise 5\n",
    "What happened on June 13 2013? Display the spatial pattern of delays, and then use Google to cross-reference with the weather.\n",
    "\n",
    "Hint: Use the following code as a template for creating a simple US map and annotate it useful information. \n",
    "\n",
    "Note: You may need to install/load **maps** library."
   ]
  },
  {
   "cell_type": "code",
   "execution_count": 50,
   "metadata": {},
   "outputs": [
    {
     "name": "stderr",
     "output_type": "stream",
     "text": [
      "\n",
      "Attaching package: ‘maps’\n",
      "\n",
      "The following object is masked from ‘package:purrr’:\n",
      "\n",
      "    map\n",
      "\n"
     ]
    },
    {
     "data": {},
     "metadata": {},
     "output_type": "display_data"
    },
    {
     "data": {
      "image/png": "[encoded data removed]",
      "text/plain": [
       "plot without title"
      ]
     },
     "metadata": {},
     "output_type": "display_data"
    }
   ],
   "source": [
    "airports %>%\n",
    "  filter(lon < 0 & between(lat, 25, 50)) %>%  # limiting the map to US mainland boarders for clarity\n",
    "  ggplot(aes(lon, lat)) +\n",
    "    borders(\"state\") +\n",
    "    geom_point(size = 0.5) +\n",
    "    coord_quickmap()"
   ]
  },
  {
   "cell_type": "code",
   "execution_count": 51,
   "metadata": {},
   "outputs": [],
   "source": [
    "# Your answer goes here."
   ]
  },
  {
   "cell_type": "markdown",
   "metadata": {},
   "source": [
    "<div style=\"text-align: right\"> [[Jump to top]](#jump_to_top) </div>\n",
    "\n",
    "---\n",
    "<a class=\"anchor\" id=\"filterjoin\"></a>\n",
    "### Filtering Joins \n",
    "Filtering joins match observations in the same way as mutating joins, but affect the observations, not the variables. There are two types:\n",
    "\n",
    "* `semi_join(x, y)` **keeps** all observations in `x` that have a match in `y`.\n",
    "* `anti_join(x, y)` **drops** all observations in `x` that have a match in `y`.\n",
    "\n",
    "Semi-joins are useful for matching filtered summary tables back to the original rows. For example:"
   ]
  },
  {
   "cell_type": "code",
   "execution_count": 52,
   "metadata": {},
   "outputs": [],
   "source": [
    "# Top 10 most favorite destinations\n",
    "top_dest <- flights %>%\n",
    "  count(dest, sort = TRUE) %>%\n",
    "  head(10)"
   ]
  },
  {
   "cell_type": "markdown",
   "metadata": {},
   "source": [
    "The following gives all the flight records to the top 10 destinations:"
   ]
  },
  {
   "cell_type": "code",
   "execution_count": 53,
   "metadata": {},
   "outputs": [
    {
     "name": "stderr",
     "output_type": "stream",
     "text": [
      "Joining, by = \"dest\"\n"
     ]
    },
    {
     "name": "stdout",
     "output_type": "stream",
     "text": [
      "# A tibble: 141,145 x 19\n",
      "    year month   day dep_time sched_dep_time dep_delay arr_time sched_arr_time\n",
      "   <int> <int> <int>    <int>          <int>     <dbl>    <int>          <int>\n",
      " 1  2013     1     1      542            540         2      923            850\n",
      " 2  2013     1     1      554            600        -6      812            837\n",
      " 3  2013     1     1      554            558        -4      740            728\n",
      " 4  2013     1     1      555            600        -5      913            854\n",
      " 5  2013     1     1      557            600        -3      838            846\n",
      " 6  2013     1     1      558            600        -2      753            745\n",
      " 7  2013     1     1      558            600        -2      924            917\n",
      " 8  2013     1     1      558            600        -2      923            937\n",
      " 9  2013     1     1      559            559         0      702            706\n",
      "10  2013     1     1      600            600         0      851            858\n",
      "# ... with 141,135 more rows, and 11 more variables: arr_delay <dbl>,\n",
      "#   carrier <chr>, flight <int>, tailnum <chr>, origin <chr>, dest <chr>,\n",
      "#   air_time <dbl>, distance <dbl>, hour <dbl>, minute <dbl>, time_hour <dttm>\n"
     ]
    }
   ],
   "source": [
    "flights %>% \n",
    "  semi_join(top_dest) %>%\n",
    "  print"
   ]
  },
  {
   "cell_type": "markdown",
   "metadata": {},
   "source": [
    "Graphically, a semi-join looks like this:\n",
    "\n",
    "<img src=\"../png/semi-join.png\" align=\"center\" width=\"450px\">\n",
    "\n",
    "Only the existence of a match is important; it doesn't matter which observation is matched. This means that filtering joins never duplicate rows like mutating joins do.\n",
    "\n",
    "The inverse of a semi-join is an anti-join. An anti-join keeps the rows that don't have a match:\n",
    "\n",
    "<img src=\"../png/anti-join.png\" align=\"center\" width=\"450px\">\n",
    "\n",
    "Anti-joins are useful for diagnosing join mismatches. For example, when connecting flights and planes, you might be interested to know that there are many flights that don't have a match in `planes`:"
   ]
  },
  {
   "cell_type": "code",
   "execution_count": 54,
   "metadata": {},
   "outputs": [
    {
     "name": "stdout",
     "output_type": "stream",
     "text": [
      "# A tibble: 722 x 2\n",
      "   tailnum     n\n",
      "   <chr>   <int>\n",
      " 1 <NA>     2512\n",
      " 2 N725MQ    575\n",
      " 3 N722MQ    513\n",
      " 4 N723MQ    507\n",
      " 5 N713MQ    483\n",
      " 6 N735MQ    396\n",
      " 7 N0EGMQ    371\n",
      " 8 N534MQ    364\n",
      " 9 N542MQ    363\n",
      "10 N531MQ    349\n",
      "# ... with 712 more rows\n"
     ]
    }
   ],
   "source": [
    "flights %>%\n",
    "  anti_join(planes, by = \"tailnum\") %>%\n",
    "  count(tailnum, sort = TRUE) %>%\n",
    "  print"
   ]
  },
  {
   "cell_type": "markdown",
   "metadata": {},
   "source": [
    "---\n",
    "#### Exercise 6\n",
    "What does it mean for a flight to have a missing `tailnum`? What do the tail numbers that don't have a matching record in planes have in common? (Hint: one variable explains ~90% of the problems.)"
   ]
  },
  {
   "cell_type": "code",
   "execution_count": 55,
   "metadata": {},
   "outputs": [],
   "source": [
    "# Your answer goes here"
   ]
  },
  {
   "cell_type": "markdown",
   "metadata": {},
   "source": [
    "---\n",
    "#### Exercise 7\n",
    "Filter `flights` to only show flights with planes that have flown at least 100 flights."
   ]
  },
  {
   "cell_type": "code",
   "execution_count": 56,
   "metadata": {},
   "outputs": [],
   "source": [
    "# Your answer goes here"
   ]
  },
  {
   "cell_type": "markdown",
   "metadata": {},
   "source": [
    "---\n",
    "#### Exercise 8\n",
    "* What does `anti_join(flights, airports, by = c(\"dest\" = \"faa\"))` tell you? \n",
    "* What does `anti_join(airports, flights, by = c(\"faa\" = \"dest\"))` tell you?"
   ]
  },
  {
   "cell_type": "code",
   "execution_count": 57,
   "metadata": {},
   "outputs": [],
   "source": [
    "# Your answer goes here"
   ]
  },
  {
   "cell_type": "markdown",
   "metadata": {},
   "source": [
    "<div style=\"text-align: right\"> [[Jump to top]](#jump_to_top) </div>\n",
    "\n",
    "---\n",
    "<a class=\"anchor\" id=\"problems\"></a>\n",
    "### Join problems\n",
    "We have been working with clean data, this is often not the case in real world. Have the following points in mind when joining dataframes to avoid making mistakes:\n",
    "\n",
    "1. Start by identifying the variables that form the primary key in each table. You should usually do this based on your understanding of the data, not empirically by looking for a combination of variables that give a unique identifier. If you just look for variables without thinking about what they mean, you might get (un)lucky and find a combination that's unique in your current data but the relationship might not be true in general.\n",
    "    * For example, the altitude and longitude uniquely identify each airport, but they are not good identifiers!\n",
    "\n",
    "\n",
    "2. Check that none of the variables in the primary key are missing. If a value is missing then it can't identify an observation!\n",
    "\n",
    "\n",
    "3. Check that your foreign keys match primary keys in another table. The best way to do this is with an `anti_join()`. It's common for keys not to match because of data entry errors. Fixing these is often a lot of work.\n",
    "\n",
    "\n",
    "4. Be aware that simply checking the number of rows before and after the join is not sufficient to ensure that your join has gone smoothly. If you have an inner join with duplicate keys in both tables, you might get unlucky as the number of dropped rows might exactly equal the number of duplicated rows!"
   ]
  },
  {
   "cell_type": "markdown",
   "metadata": {},
   "source": [
    "<div style=\"text-align: right\"> [[Jump to top]](#jump_to_top) </div>\n",
    "\n",
    "---\n",
    "<a class=\"anchor\" id=\"set\"></a>\n",
    "### Set operations\n",
    "All these operations work with a complete row, comparing the values of every variable. These expect the `x` and `y` inputs to have the same variables, and treat the observations like sets:\n",
    "\n",
    "* `intersect(x, y)`: return only observations in both `x` and `y`.\n",
    "* `union(x, y)`: return unique observations in `x` and `y`.\n",
    "* `setdiff(x, y)`: return observations in `x`, but not in `y`.\n",
    "\n",
    "Given this simple data:"
   ]
  },
  {
   "cell_type": "code",
   "execution_count": 58,
   "metadata": {},
   "outputs": [],
   "source": [
    "df1 <- tribble(\n",
    "  ~x, ~y,\n",
    "   1,  1,\n",
    "   2,  1\n",
    ")\n",
    "df2 <- tribble(\n",
    "  ~x, ~y,\n",
    "   1,  1,\n",
    "   1,  2\n",
    ")"
   ]
  },
  {
   "cell_type": "markdown",
   "metadata": {},
   "source": [
    "The four possibilities are:"
   ]
  },
  {
   "cell_type": "code",
   "execution_count": 59,
   "metadata": {},
   "outputs": [
    {
     "data": {
      "text/html": [
       "<table>\n",
       "<thead><tr><th scope=col>x</th><th scope=col>y</th></tr></thead>\n",
       "<tbody>\n",
       "\t<tr><td>1</td><td>1</td></tr>\n",
       "</tbody>\n",
       "</table>\n"
      ],
      "text/latex": [
       "\\begin{tabular}{r|ll}\n",
       " x & y\\\\\n",
       "\\hline\n",
       "\t 1 & 1\\\\\n",
       "\\end{tabular}\n"
      ],
      "text/markdown": [
       "\n",
       "x | y | \n",
       "|---|\n",
       "| 1 | 1 | \n",
       "\n",
       "\n"
      ],
      "text/plain": [
       "  x y\n",
       "1 1 1"
      ]
     },
     "metadata": {},
     "output_type": "display_data"
    }
   ],
   "source": [
    "intersect(df1, df2)"
   ]
  },
  {
   "cell_type": "markdown",
   "metadata": {},
   "source": [
    "note that union automatically filters the overlapping records, hence 3 rows!"
   ]
  },
  {
   "cell_type": "code",
   "execution_count": 60,
   "metadata": {},
   "outputs": [
    {
     "data": {
      "text/html": [
       "<table>\n",
       "<thead><tr><th scope=col>x</th><th scope=col>y</th></tr></thead>\n",
       "<tbody>\n",
       "\t<tr><td>1</td><td>2</td></tr>\n",
       "\t<tr><td>2</td><td>1</td></tr>\n",
       "\t<tr><td>1</td><td>1</td></tr>\n",
       "</tbody>\n",
       "</table>\n"
      ],
      "text/latex": [
       "\\begin{tabular}{r|ll}\n",
       " x & y\\\\\n",
       "\\hline\n",
       "\t 1 & 2\\\\\n",
       "\t 2 & 1\\\\\n",
       "\t 1 & 1\\\\\n",
       "\\end{tabular}\n"
      ],
      "text/markdown": [
       "\n",
       "x | y | \n",
       "|---|---|---|\n",
       "| 1 | 2 | \n",
       "| 2 | 1 | \n",
       "| 1 | 1 | \n",
       "\n",
       "\n"
      ],
      "text/plain": [
       "  x y\n",
       "1 1 2\n",
       "2 2 1\n",
       "3 1 1"
      ]
     },
     "metadata": {},
     "output_type": "display_data"
    }
   ],
   "source": [
    "union(df1, df2)"
   ]
  },
  {
   "cell_type": "code",
   "execution_count": 61,
   "metadata": {},
   "outputs": [
    {
     "data": {
      "text/html": [
       "<table>\n",
       "<thead><tr><th scope=col>x</th><th scope=col>y</th></tr></thead>\n",
       "<tbody>\n",
       "\t<tr><td>2</td><td>1</td></tr>\n",
       "</tbody>\n",
       "</table>\n"
      ],
      "text/latex": [
       "\\begin{tabular}{r|ll}\n",
       " x & y\\\\\n",
       "\\hline\n",
       "\t 2 & 1\\\\\n",
       "\\end{tabular}\n"
      ],
      "text/markdown": [
       "\n",
       "x | y | \n",
       "|---|\n",
       "| 2 | 1 | \n",
       "\n",
       "\n"
      ],
      "text/plain": [
       "  x y\n",
       "1 2 1"
      ]
     },
     "metadata": {},
     "output_type": "display_data"
    }
   ],
   "source": [
    "setdiff(df1, df2)"
   ]
  },
  {
   "cell_type": "code",
   "execution_count": 62,
   "metadata": {},
   "outputs": [
    {
     "data": {
      "text/html": [
       "<table>\n",
       "<thead><tr><th scope=col>x</th><th scope=col>y</th></tr></thead>\n",
       "<tbody>\n",
       "\t<tr><td>1</td><td>2</td></tr>\n",
       "</tbody>\n",
       "</table>\n"
      ],
      "text/latex": [
       "\\begin{tabular}{r|ll}\n",
       " x & y\\\\\n",
       "\\hline\n",
       "\t 1 & 2\\\\\n",
       "\\end{tabular}\n"
      ],
      "text/markdown": [
       "\n",
       "x | y | \n",
       "|---|\n",
       "| 1 | 2 | \n",
       "\n",
       "\n"
      ],
      "text/plain": [
       "  x y\n",
       "1 1 2"
      ]
     },
     "metadata": {},
     "output_type": "display_data"
    }
   ],
   "source": [
    "setdiff(df2, df1)"
   ]
  },
  {
   "cell_type": "markdown",
   "metadata": {},
   "source": [
    "<div style=\"text-align: right\"> [[Jump to top]](#jump_to_top) </div>"
   ]
  }
 ],
 "metadata": {
  "kernelspec": {
   "display_name": "R",
   "language": "R",
   "name": "ir"
  },
  "language_info": {
   "codemirror_mode": "r",
   "file_extension": ".r",
   "mimetype": "text/x-r-source",
   "name": "R",
   "pygments_lexer": "r",
   "version": "3.5.1"
  }
 },
 "nbformat": 4,
 "nbformat_minor": 2
}
