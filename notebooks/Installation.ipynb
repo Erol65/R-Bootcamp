{
 "cells": [
  {
   "cell_type": "markdown",
   "metadata": {},
   "source": [
    "<img src=\"../png/R.png\" width=\"100px\" style=\"float: left;\">"
   ]
  },
  {
   "cell_type": "markdown",
   "metadata": {},
   "source": [
    "Download the latest version of R. Go to [CRAN](https://cran.r-project.org/mirrors.html), the comprehensive R archive network. Use the cloud mirror, https://cloud.r-project.org, which automatically will figure a mirror that's close to you.\n",
    "\n",
    "Every year a major version of is released, and typically a few minor versions. It's a good practice to periodically upgrade your R, especially when the major version becomes available."
   ]
  },
  {
   "cell_type": "markdown",
   "metadata": {},
   "source": [
    "<img src=\"../png/RStudio.png\" width=\"300px\" style=\"float: left;\">"
   ]
  },
  {
   "cell_type": "markdown",
   "metadata": {},
   "source": [
    "# RStudio\n",
    "\n",
    "RStudio is a free and open-source integrated development environment, IDE, for R programming. "
   ]
  },
  {
   "cell_type": "markdown",
   "metadata": {},
   "source": []
  },
  {
   "cell_type": "code",
   "execution_count": null,
   "metadata": {
    "collapsed": true
   },
   "outputs": [],
   "source": []
  }
 ],
 "metadata": {
  "kernelspec": {
   "display_name": "R",
   "language": "R",
   "name": "ir"
  },
  "language_info": {
   "codemirror_mode": "r",
   "file_extension": ".r",
   "mimetype": "text/x-r-source",
   "name": "R",
   "pygments_lexer": "r",
   "version": "3.5.1"
  }
 },
 "nbformat": 4,
 "nbformat_minor": 2
}
