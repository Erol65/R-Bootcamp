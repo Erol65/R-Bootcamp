{
 "cells": [
  {
   "cell_type": "markdown",
   "metadata": {},
   "source": [
    "<a class=\"anchor\" id=\"jump_to_top\"></a>\n",
    "# Data Import and Export\n",
    "---\n",
    "\n",
    "### Table of Contents\n",
    "* [Reading flat files into data frames](#read_flat)\n",
    "* [Reading from inline](#inline)\n",
    "* [Parsing a vector](#parse)\n",
    "* [Writing to a file](#write)\n",
    "* [Read Excel files](#read_excel)\n",
    "* [Write to an Excel file](#write_excel)\n",
    "\n",
    "As you saw in the earlier notebooks some of R packages provide sample data for educational purposes. In the real world we would want to import our own data for analysis. Base R provides functions for reading and exporting data files but it's not as convenient, and fast as some of the other packages available to us. Here we will use the package **readr**, it is a part of *tidyverse* suite so no need to install it since we already have tidyverse. In order to use it we need to load tidyverse (or directly readr)"
   ]
  },
  {
   "cell_type": "code",
   "execution_count": 1,
   "metadata": {},
   "outputs": [
    {
     "name": "stderr",
     "output_type": "stream",
     "text": [
      "── Attaching packages ─────────────────────────────────────── tidyverse 1.2.1 ──\n",
      "✔ ggplot2 3.0.0     ✔ purrr   0.2.5\n",
      "✔ tibble  1.4.2     ✔ dplyr   0.7.6\n",
      "✔ tidyr   0.8.1     ✔ stringr 1.3.1\n",
      "✔ readr   1.1.1     ✔ forcats 0.3.0\n",
      "── Conflicts ────────────────────────────────────────── tidyverse_conflicts() ──\n",
      "✖ dplyr::filter() masks stats::filter()\n",
      "✖ dplyr::lag()    masks stats::lag()\n"
     ]
    }
   ],
   "source": [
    "# Libraries\n",
    "library(tidyverse)\n",
    "library(openxlsx)  # for writing to Excel files\n",
    "library(readxl)  # for reading Excel files"
   ]
  },
  {
   "cell_type": "markdown",
   "metadata": {},
   "source": [
    "<a class=\"anchor\" id=\"read_flat\"></a>\n",
    "## Reading flat files into data frames\n",
    "Under the *data* folder we have a comma-separated value (CSV) file called `Telco-Customer-Churn.csv`. Let's try to load it using `read_csv()` function from readr:"
   ]
  },
  {
   "cell_type": "code",
   "execution_count": 2,
   "metadata": {},
   "outputs": [
    {
     "name": "stderr",
     "output_type": "stream",
     "text": [
      "Parsed with column specification:\n",
      "cols(\n",
      "  .default = col_character(),\n",
      "  SeniorCitizen = col_integer(),\n",
      "  tenure = col_integer(),\n",
      "  MonthlyCharges = col_double(),\n",
      "  TotalCharges = col_double()\n",
      ")\n",
      "See spec(...) for full column specifications.\n"
     ]
    },
    {
     "name": "stdout",
     "output_type": "stream",
     "text": [
      "# A tibble: 7,043 x 21\n",
      "   customerID gender SeniorCitizen Partner Dependents tenure PhoneService\n",
      "   <chr>      <chr>          <int> <chr>   <chr>       <int> <chr>       \n",
      " 1 7590-VHVEG Female             0 Yes     No              1 No          \n",
      " 2 5575-GNVDE Male               0 No      No             34 Yes         \n",
      " 3 3668-QPYBK Male               0 No      No              2 Yes         \n",
      " 4 7795-CFOCW Male               0 No      No             45 No          \n",
      " 5 9237-HQITU Female             0 No      No              2 Yes         \n",
      " 6 9305-CDSKC Female             0 No      No              8 Yes         \n",
      " 7 1452-KIOVK Male               0 No      Yes            22 Yes         \n",
      " 8 6713-OKOMC Female             0 No      No             10 No          \n",
      " 9 7892-POOKP Female             0 Yes     No             28 Yes         \n",
      "10 6388-TABGU Male               0 No      Yes            62 Yes         \n",
      "# ... with 7,033 more rows, and 14 more variables: MultipleLines <chr>,\n",
      "#   InternetService <chr>, OnlineSecurity <chr>, OnlineBackup <chr>,\n",
      "#   DeviceProtection <chr>, TechSupport <chr>, StreamingTV <chr>,\n",
      "#   StreamingMovies <chr>, Contract <chr>, PaperlessBilling <chr>,\n",
      "#   PaymentMethod <chr>, MonthlyCharges <dbl>, TotalCharges <dbl>, Churn <chr>\n"
     ]
    }
   ],
   "source": [
    "telcoChurnDf <- read_csv(\"../data/Telco-Customer-Churn.csv\")\n",
    "print(telcoChurnDf)"
   ]
  },
  {
   "cell_type": "markdown",
   "metadata": {},
   "source": [
    "Note that I used `\"../data/Telco-Customer-Churn.csv\"` as the relative path to my notebook. If you are in your R-Bootcamp RProj you can simply provide the relative path from the parent directory, i.e. `\"data/Telco-Customer-Churn.csv\"`. This is particularly useful because let's say you need to copy this part of your code and use it in a different folder, e.g. sandbox, then you don't need to change the path.\n",
    "\n",
    "As it appears from the look of printed data frame we immediately realize that `read_csv()` has automatically loaded our CSV file into a tibble data frame and associated it with the name we provided. We can also check its class:"
   ]
  },
  {
   "cell_type": "code",
   "execution_count": 3,
   "metadata": {},
   "outputs": [
    {
     "data": {
      "text/html": [
       "<ol class=list-inline>\n",
       "\t<li>'tbl_df'</li>\n",
       "\t<li>'tbl'</li>\n",
       "\t<li>'data.frame'</li>\n",
       "</ol>\n"
      ],
      "text/latex": [
       "\\begin{enumerate*}\n",
       "\\item 'tbl\\_df'\n",
       "\\item 'tbl'\n",
       "\\item 'data.frame'\n",
       "\\end{enumerate*}\n"
      ],
      "text/markdown": [
       "1. 'tbl_df'\n",
       "2. 'tbl'\n",
       "3. 'data.frame'\n",
       "\n",
       "\n"
      ],
      "text/plain": [
       "[1] \"tbl_df\"     \"tbl\"        \"data.frame\""
      ]
     },
     "metadata": {},
     "output_type": "display_data"
    }
   ],
   "source": [
    "class(telcoChurnDf)"
   ]
  },
  {
   "cell_type": "markdown",
   "metadata": {},
   "source": [
    "If we look at the help page for `read_csv()` we can see what defaults were used for importing the file:\n",
    "\n",
    "```read_csv(file, col_names = TRUE, col_types = NULL,\n",
    "  locale = default_locale(), na = c(\"\", \"NA\"), quoted_na = TRUE,\n",
    "  quote = \"\\\"\", comment = \"\", trim_ws = TRUE, skip = 0, n_max = Inf,\n",
    "  guess_max = min(1000, n_max), progress = show_progress())```\n",
    "  \n",
    "To get details for each of these parameters scroll down to see descriptions and examples.\n",
    "\n",
    "We started with `read_csv()` since it's by far the most popular *flat file*. But not all the rectangular files have their fields separated by a comma (\",\"). Most common *delimiter-separated values* (DSV) files are: comma (\",\", also CSV), tab (\"    \", also TSV), colon (\";\"), and pipe (\"|\"). `read_delim()` is a generic function that can handle different delimiters, note that the second argument `delim` must be provided:\n",
    "\n",
    "\n",
    "```read_delim(file, delim, quote = \"\\\"\", escape_backslash = FALSE,\n",
    "  escape_double = TRUE, col_names = TRUE, col_types = NULL,\n",
    "  locale = default_locale(), na = c(\"\", \"NA\"), quoted_na = TRUE,\n",
    "  comment = \"\", trim_ws = FALSE, skip = 0, n_max = Inf,\n",
    "  guess_max = min(1000, n_max), progress = show_progress())```\n",
    "\n",
    "There are several different functions to support other formats such as fixed width files, and log files. To learn more visit [readr.tidyverse.org](https://readr.tidyverse.org/)\n",
    "\n",
    "<div style=\"text-align: right\"> [[Jump to top]](#jump_to_top) </div>\n",
    "<a class=\"anchor\" id=\"inline\"></a>\n",
    "## Reading from inline \n",
    "Any of these functions will work with reading inline instead of a file. This is primarily useful for experimentation:"
   ]
  },
  {
   "cell_type": "code",
   "execution_count": 4,
   "metadata": {},
   "outputs": [
    {
     "data": {
      "text/html": [
       "<table>\n",
       "<thead><tr><th scope=col>a</th><th scope=col>b</th><th scope=col>c</th></tr></thead>\n",
       "<tbody>\n",
       "\t<tr><td>1</td><td>2</td><td>3</td></tr>\n",
       "\t<tr><td>4</td><td>5</td><td>6</td></tr>\n",
       "</tbody>\n",
       "</table>\n"
      ],
      "text/latex": [
       "\\begin{tabular}{r|lll}\n",
       " a & b & c\\\\\n",
       "\\hline\n",
       "\t 1 & 2 & 3\\\\\n",
       "\t 4 & 5 & 6\\\\\n",
       "\\end{tabular}\n"
      ],
      "text/markdown": [
       "\n",
       "a | b | c | \n",
       "|---|---|\n",
       "| 1 | 2 | 3 | \n",
       "| 4 | 5 | 6 | \n",
       "\n",
       "\n"
      ],
      "text/plain": [
       "  a b c\n",
       "1 1 2 3\n",
       "2 4 5 6"
      ]
     },
     "metadata": {},
     "output_type": "display_data"
    }
   ],
   "source": [
    "read_csv(\"a,b,c\n",
    "1,2,3\n",
    "4,5,6\")"
   ]
  },
  {
   "cell_type": "code",
   "execution_count": 5,
   "metadata": {},
   "outputs": [
    {
     "name": "stdout",
     "output_type": "stream",
     "text": [
      "# A tibble: 2 x 3\n",
      "      a     b     c\n",
      "  <int> <int> <int>\n",
      "1     1     2     3\n",
      "2     4     5     6\n"
     ]
    }
   ],
   "source": [
    "sampleDf <- read_csv(\"a,b,c\n",
    "1,2,3\n",
    "4,5,6\")\n",
    "print(sampleDf)"
   ]
  },
  {
   "cell_type": "code",
   "execution_count": 6,
   "metadata": {},
   "outputs": [
    {
     "data": {
      "text/html": [
       "<table>\n",
       "<thead><tr><th scope=col>Mon</th><th scope=col>Tue</th><th scope=col>Wed</th><th scope=col>Thu</th><th scope=col>Fri</th><th scope=col>MONTH</th></tr></thead>\n",
       "<tbody>\n",
       "\t<tr><td> 3       </td><td> 4       </td><td> 5       </td><td> 6       </td><td> 7       </td><td>September</td></tr>\n",
       "\t<tr><td>10       </td><td>11       </td><td>12       </td><td>13       </td><td>14       </td><td>September</td></tr>\n",
       "\t<tr><td>17       </td><td>18       </td><td>19       </td><td>20       </td><td>21       </td><td>September</td></tr>\n",
       "\t<tr><td>24       </td><td>25       </td><td>26       </td><td>27       </td><td>28       </td><td>September</td></tr>\n",
       "</tbody>\n",
       "</table>\n"
      ],
      "text/latex": [
       "\\begin{tabular}{r|llllll}\n",
       " Mon & Tue & Wed & Thu & Fri & MONTH\\\\\n",
       "\\hline\n",
       "\t  3        &  4        &  5        &  6        &  7        & September\\\\\n",
       "\t 10        & 11        & 12        & 13        & 14        & September\\\\\n",
       "\t 17        & 18        & 19        & 20        & 21        & September\\\\\n",
       "\t 24        & 25        & 26        & 27        & 28        & September\\\\\n",
       "\\end{tabular}\n"
      ],
      "text/markdown": [
       "\n",
       "Mon | Tue | Wed | Thu | Fri | MONTH | \n",
       "|---|---|---|---|\n",
       "|  3        |  4        |  5        |  6        |  7        | September | \n",
       "| 10        | 11        | 12        | 13        | 14        | September | \n",
       "| 17        | 18        | 19        | 20        | 21        | September | \n",
       "| 24        | 25        | 26        | 27        | 28        | September | \n",
       "\n",
       "\n"
      ],
      "text/plain": [
       "  Mon Tue Wed Thu Fri MONTH    \n",
       "1  3   4   5   6   7  September\n",
       "2 10  11  12  13  14  September\n",
       "3 17  18  19  20  21  September\n",
       "4 24  25  26  27  28  September"
      ]
     },
     "metadata": {},
     "output_type": "display_data"
    }
   ],
   "source": [
    "calDf <- read_delim(\"First 2 lines to be skipped!\n",
    "Calendar for September 2018\n",
    "Mon|Tue|Wed|Thu|Fri|MONTH\n",
    "3|4|5|6|7|September\n",
    "10|11|12|13|14|September\n",
    "17|18|19|20|21|September\n",
    "24|25|26|27|28|September\",\n",
    "delim = \"|\",\n",
    "skip = 2)\n",
    "\n",
    "calDf"
   ]
  },
  {
   "cell_type": "code",
   "execution_count": 7,
   "metadata": {},
   "outputs": [
    {
     "name": "stdout",
     "output_type": "stream",
     "text": [
      "# A tibble: 4 x 6\n",
      "    Mon   Tue   Wed   Thu   Fri MONTH    \n",
      "  <int> <int> <int> <int> <int> <chr>    \n",
      "1     3     4     5     6     7 September\n",
      "2    10    11    12    13    14 September\n",
      "3    17    18    19    20    21 September\n",
      "4    24    25    26    27    28 September\n"
     ]
    }
   ],
   "source": [
    "print(calDf)"
   ]
  },
  {
   "cell_type": "markdown",
   "metadata": {},
   "source": [
    "The data might not come with column name, we can tell the function that don't use the first row as column name by `col_names = FALSE`, which is the default behavior:"
   ]
  },
  {
   "cell_type": "code",
   "execution_count": 8,
   "metadata": {},
   "outputs": [
    {
     "data": {
      "text/html": [
       "<table>\n",
       "<thead><tr><th scope=col>X1</th><th scope=col>X2</th><th scope=col>X3</th></tr></thead>\n",
       "<tbody>\n",
       "\t<tr><td>1</td><td>2</td><td>3</td></tr>\n",
       "\t<tr><td>4</td><td>5</td><td>6</td></tr>\n",
       "</tbody>\n",
       "</table>\n"
      ],
      "text/latex": [
       "\\begin{tabular}{r|lll}\n",
       " X1 & X2 & X3\\\\\n",
       "\\hline\n",
       "\t 1 & 2 & 3\\\\\n",
       "\t 4 & 5 & 6\\\\\n",
       "\\end{tabular}\n"
      ],
      "text/markdown": [
       "\n",
       "X1 | X2 | X3 | \n",
       "|---|---|\n",
       "| 1 | 2 | 3 | \n",
       "| 4 | 5 | 6 | \n",
       "\n",
       "\n"
      ],
      "text/plain": [
       "  X1 X2 X3\n",
       "1 1  2  3 \n",
       "2 4  5  6 "
      ]
     },
     "metadata": {},
     "output_type": "display_data"
    }
   ],
   "source": [
    "read_csv(\"1,2,3\\n4,5,6\", col_names = FALSE)"
   ]
  },
  {
   "cell_type": "markdown",
   "metadata": {},
   "source": [
    "`read_csv()` is providing names for the columns, we can also specify them manually:"
   ]
  },
  {
   "cell_type": "code",
   "execution_count": 9,
   "metadata": {},
   "outputs": [
    {
     "data": {
      "text/html": [
       "<table>\n",
       "<thead><tr><th scope=col>x</th><th scope=col>y</th><th scope=col>z</th></tr></thead>\n",
       "<tbody>\n",
       "\t<tr><td>1</td><td>2</td><td>3</td></tr>\n",
       "\t<tr><td>4</td><td>5</td><td>6</td></tr>\n",
       "</tbody>\n",
       "</table>\n"
      ],
      "text/latex": [
       "\\begin{tabular}{r|lll}\n",
       " x & y & z\\\\\n",
       "\\hline\n",
       "\t 1 & 2 & 3\\\\\n",
       "\t 4 & 5 & 6\\\\\n",
       "\\end{tabular}\n"
      ],
      "text/markdown": [
       "\n",
       "x | y | z | \n",
       "|---|---|\n",
       "| 1 | 2 | 3 | \n",
       "| 4 | 5 | 6 | \n",
       "\n",
       "\n"
      ],
      "text/plain": [
       "  x y z\n",
       "1 1 2 3\n",
       "2 4 5 6"
      ]
     },
     "metadata": {},
     "output_type": "display_data"
    }
   ],
   "source": [
    "read_csv(\"1,2,3\\n4,5,6\", col_names = c(\"x\", \"y\", \"z\"))"
   ]
  },
  {
   "cell_type": "markdown",
   "metadata": {},
   "source": [
    "---\n",
    "<div style=\"text-align: right\"> [[Jump to top]](#jump_to_top) </div>\n",
    "\n",
    "### Exercise 1\n",
    "Sometimes strings in a CSV file contain commas. To prevent them from causing problems they need to be surrounded by a quoting character, like `\"` or `'`. By convention, `read_csv()` assumes that the quoting character will be `\"`, and if you want to change it you'll need to use `read_delim()` instead. What arguments do you need to specify to read the following text into a data frame?\n",
    "\n",
    "> `\"x,y\\n1,'a,b'\"`"
   ]
  },
  {
   "cell_type": "markdown",
   "metadata": {},
   "source": [
    "---\n",
    "### Exercise 2\n",
    "Identify what is wrong with each of the following inline CSV files. What happens when you run the code?\n",
    "\n",
    "> ```\n",
    "read_csv(\"a,b\\n1,2,3\\n4,5,6\")\n",
    "read_csv(\"a,b,c\\n1,2\\n1,2,3,4\")\n",
    "read_csv(\"a,b\\n1,2\\na,b\")\n",
    "read_csv(\"a;b\\n1;3\")```"
   ]
  },
  {
   "cell_type": "markdown",
   "metadata": {},
   "source": [
    "---\n",
    "<div style=\"text-align: right\"> [[Jump to top]](#jump_to_top) </div>\n",
    "\n",
    "<a class=\"anchor\" id=\"parse\"></a>\n",
    "## Parsing a vector\n",
    "Behind the scene readr is using a series of functions called `parse_*()` to import the columns in the data. For instance"
   ]
  },
  {
   "cell_type": "code",
   "execution_count": 10,
   "metadata": {},
   "outputs": [
    {
     "data": {
      "text/html": [
       "<ol class=list-inline>\n",
       "\t<li>TRUE</li>\n",
       "\t<li>FALSE</li>\n",
       "\t<li>&lt;NA&gt;</li>\n",
       "</ol>\n"
      ],
      "text/latex": [
       "\\begin{enumerate*}\n",
       "\\item TRUE\n",
       "\\item FALSE\n",
       "\\item <NA>\n",
       "\\end{enumerate*}\n"
      ],
      "text/markdown": [
       "1. TRUE\n",
       "2. FALSE\n",
       "3. &lt;NA&gt;\n",
       "\n",
       "\n"
      ],
      "text/plain": [
       "[1]  TRUE FALSE    NA"
      ]
     },
     "metadata": {},
     "output_type": "display_data"
    }
   ],
   "source": [
    "parse_logical(c(\"TRUE\", \"FALSE\", \"NA\"))"
   ]
  },
  {
   "cell_type": "code",
   "execution_count": 11,
   "metadata": {},
   "outputs": [
    {
     "data": {
      "text/html": [
       "<ol class=list-inline>\n",
       "\t<li>1</li>\n",
       "\t<li>2</li>\n",
       "\t<li>3</li>\n",
       "</ol>\n"
      ],
      "text/latex": [
       "\\begin{enumerate*}\n",
       "\\item 1\n",
       "\\item 2\n",
       "\\item 3\n",
       "\\end{enumerate*}\n"
      ],
      "text/markdown": [
       "1. 1\n",
       "2. 2\n",
       "3. 3\n",
       "\n",
       "\n"
      ],
      "text/plain": [
       "[1] 1 2 3"
      ]
     },
     "metadata": {},
     "output_type": "display_data"
    }
   ],
   "source": [
    "parse_integer(c(\"1\", \"2\", \"3\"))"
   ]
  },
  {
   "cell_type": "code",
   "execution_count": 12,
   "metadata": {},
   "outputs": [
    {
     "data": {
      "text/html": [
       "<ol class=list-inline>\n",
       "\t<li><time datetime=\"2010-01-01\">2010-01-01</time></li>\n",
       "\t<li><time datetime=\"1979-10-14\">1979-10-14</time></li>\n",
       "</ol>\n"
      ],
      "text/latex": [
       "\\begin{enumerate*}\n",
       "\\item 2010-01-01\n",
       "\\item 1979-10-14\n",
       "\\end{enumerate*}\n"
      ],
      "text/markdown": [
       "1. 2010-01-01\n",
       "2. 1979-10-14\n",
       "\n",
       "\n"
      ],
      "text/plain": [
       "[1] \"2010-01-01\" \"1979-10-14\""
      ]
     },
     "metadata": {},
     "output_type": "display_data"
    }
   ],
   "source": [
    "parse_date(c(\"2010-01-01\", \"1979-10-14\"))"
   ]
  },
  {
   "cell_type": "markdown",
   "metadata": {},
   "source": [
    "We can specify the `NA` values as they appear differently in various datasets:"
   ]
  },
  {
   "cell_type": "code",
   "execution_count": 13,
   "metadata": {},
   "outputs": [
    {
     "data": {
      "text/html": [
       "<ol class=list-inline>\n",
       "\t<li>1</li>\n",
       "\t<li>231</li>\n",
       "\t<li>&lt;NA&gt;</li>\n",
       "\t<li>456</li>\n",
       "</ol>\n"
      ],
      "text/latex": [
       "\\begin{enumerate*}\n",
       "\\item 1\n",
       "\\item 231\n",
       "\\item <NA>\n",
       "\\item 456\n",
       "\\end{enumerate*}\n"
      ],
      "text/markdown": [
       "1. 1\n",
       "2. 231\n",
       "3. &lt;NA&gt;\n",
       "4. 456\n",
       "\n",
       "\n"
      ],
      "text/plain": [
       "[1]   1 231  NA 456"
      ]
     },
     "metadata": {},
     "output_type": "display_data"
    }
   ],
   "source": [
    "parse_integer(c(\"1\", \"231\", \".\", \"456\"), na = \".\")"
   ]
  },
  {
   "cell_type": "markdown",
   "metadata": {},
   "source": [
    "When parsing fails we get a warning"
   ]
  },
  {
   "cell_type": "code",
   "execution_count": 14,
   "metadata": {},
   "outputs": [
    {
     "name": "stderr",
     "output_type": "stream",
     "text": [
      "Warning message in rbind(names(probs), probs_f):\n",
      "“number of columns of result is not a multiple of vector length (arg 1)”Warning message:\n",
      "“2 parsing failures.\n",
      "row # A tibble: 2 x 4 col     row   col expected               actual expected   <int> <int> <chr>                  <chr>  actual 1     3    NA an integer             abc    row 2     4    NA no trailing characters .45   \n",
      "”"
     ]
    }
   ],
   "source": [
    "x <- parse_integer(c(\"123\", \"345\", \"abc\", \"123.45\"))"
   ]
  },
  {
   "cell_type": "code",
   "execution_count": 15,
   "metadata": {},
   "outputs": [
    {
     "data": {
      "text/html": [
       "<ol class=list-inline>\n",
       "\t<li>123</li>\n",
       "\t<li>345</li>\n",
       "\t<li>&lt;NA&gt;</li>\n",
       "\t<li>&lt;NA&gt;</li>\n",
       "</ol>\n"
      ],
      "text/latex": [
       "\\begin{enumerate*}\n",
       "\\item 123\n",
       "\\item 345\n",
       "\\item <NA>\n",
       "\\item <NA>\n",
       "\\end{enumerate*}\n"
      ],
      "text/markdown": [
       "1. 123\n",
       "2. 345\n",
       "3. &lt;NA&gt;\n",
       "4. &lt;NA&gt;\n",
       "\n",
       "\n"
      ],
      "text/plain": [
       "[1] 123 345  NA  NA\n",
       "attr(,\"problems\")\n",
       "# A tibble: 2 x 4\n",
       "    row   col expected               actual\n",
       "  <int> <int> <chr>                  <chr> \n",
       "1     3    NA an integer             abc   \n",
       "2     4    NA no trailing characters .45   "
      ]
     },
     "metadata": {},
     "output_type": "display_data"
    }
   ],
   "source": [
    "x"
   ]
  },
  {
   "cell_type": "code",
   "execution_count": 16,
   "metadata": {},
   "outputs": [
    {
     "data": {
      "text/html": [
       "<table>\n",
       "<thead><tr><th scope=col>row</th><th scope=col>col</th><th scope=col>expected</th><th scope=col>actual</th></tr></thead>\n",
       "<tbody>\n",
       "\t<tr><td>3                     </td><td>NA                    </td><td>an integer            </td><td>abc                   </td></tr>\n",
       "\t<tr><td>4                     </td><td>NA                    </td><td>no trailing characters</td><td>.45                   </td></tr>\n",
       "</tbody>\n",
       "</table>\n"
      ],
      "text/latex": [
       "\\begin{tabular}{r|llll}\n",
       " row & col & expected & actual\\\\\n",
       "\\hline\n",
       "\t 3                      & NA                     & an integer             & abc                   \\\\\n",
       "\t 4                      & NA                     & no trailing characters & .45                   \\\\\n",
       "\\end{tabular}\n"
      ],
      "text/markdown": [
       "\n",
       "row | col | expected | actual | \n",
       "|---|---|\n",
       "| 3                      | NA                     | an integer             | abc                    | \n",
       "| 4                      | NA                     | no trailing characters | .45                    | \n",
       "\n",
       "\n"
      ],
      "text/plain": [
       "  row col expected               actual\n",
       "1 3   NA  an integer             abc   \n",
       "2 4   NA  no trailing characters .45   "
      ]
     },
     "metadata": {},
     "output_type": "display_data"
    }
   ],
   "source": [
    "# If we get too many warning we can use `problems()` to list all of them:\n",
    "problems(x)"
   ]
  },
  {
   "cell_type": "markdown",
   "metadata": {},
   "source": [
    "---\n",
    "<div style=\"text-align: right\"> [[Jump to top]](#jump_to_top) </div>\n",
    "<a class=\"anchor\" id=\"write\"></a>\n",
    "## Writing to a file\n",
    "Similar to how we read a file from disk we can write one. We can use `write_csv()`, `write_delim()`, and other functions depending on our need. Earlier in this notebook we created `calDf`, a data frame from an inline text which was delimited by \"|\". Let's write this data frame to file, we can use any of the common delimiters, I pick CSV here:"
   ]
  },
  {
   "cell_type": "code",
   "execution_count": 17,
   "metadata": {},
   "outputs": [
    {
     "data": {
      "text/html": [
       "<table>\n",
       "<thead><tr><th scope=col>Mon</th><th scope=col>Tue</th><th scope=col>Wed</th><th scope=col>Thu</th><th scope=col>Fri</th><th scope=col>MONTH</th></tr></thead>\n",
       "<tbody>\n",
       "\t<tr><td> 3       </td><td> 4       </td><td> 5       </td><td> 6       </td><td> 7       </td><td>September</td></tr>\n",
       "\t<tr><td>10       </td><td>11       </td><td>12       </td><td>13       </td><td>14       </td><td>September</td></tr>\n",
       "\t<tr><td>17       </td><td>18       </td><td>19       </td><td>20       </td><td>21       </td><td>September</td></tr>\n",
       "\t<tr><td>24       </td><td>25       </td><td>26       </td><td>27       </td><td>28       </td><td>September</td></tr>\n",
       "</tbody>\n",
       "</table>\n"
      ],
      "text/latex": [
       "\\begin{tabular}{r|llllll}\n",
       " Mon & Tue & Wed & Thu & Fri & MONTH\\\\\n",
       "\\hline\n",
       "\t  3        &  4        &  5        &  6        &  7        & September\\\\\n",
       "\t 10        & 11        & 12        & 13        & 14        & September\\\\\n",
       "\t 17        & 18        & 19        & 20        & 21        & September\\\\\n",
       "\t 24        & 25        & 26        & 27        & 28        & September\\\\\n",
       "\\end{tabular}\n"
      ],
      "text/markdown": [
       "\n",
       "Mon | Tue | Wed | Thu | Fri | MONTH | \n",
       "|---|---|---|---|\n",
       "|  3        |  4        |  5        |  6        |  7        | September | \n",
       "| 10        | 11        | 12        | 13        | 14        | September | \n",
       "| 17        | 18        | 19        | 20        | 21        | September | \n",
       "| 24        | 25        | 26        | 27        | 28        | September | \n",
       "\n",
       "\n"
      ],
      "text/plain": [
       "  Mon Tue Wed Thu Fri MONTH    \n",
       "1  3   4   5   6   7  September\n",
       "2 10  11  12  13  14  September\n",
       "3 17  18  19  20  21  September\n",
       "4 24  25  26  27  28  September"
      ]
     },
     "metadata": {},
     "output_type": "display_data"
    }
   ],
   "source": [
    "calDf"
   ]
  },
  {
   "cell_type": "code",
   "execution_count": 18,
   "metadata": {},
   "outputs": [],
   "source": [
    "write_csv(calDf, path = \"../tmp/calDf.csv\")"
   ]
  },
  {
   "cell_type": "code",
   "execution_count": 19,
   "metadata": {},
   "outputs": [
    {
     "name": "stderr",
     "output_type": "stream",
     "text": [
      "Parsed with column specification:\n",
      "cols(\n",
      "  Mon = col_integer(),\n",
      "  Tue = col_integer(),\n",
      "  Wed = col_integer(),\n",
      "  Thu = col_integer(),\n",
      "  Fri = col_integer(),\n",
      "  MONTH = col_character()\n",
      ")\n"
     ]
    },
    {
     "data": {
      "text/html": [
       "<table>\n",
       "<thead><tr><th scope=col>Mon</th><th scope=col>Tue</th><th scope=col>Wed</th><th scope=col>Thu</th><th scope=col>Fri</th><th scope=col>MONTH</th></tr></thead>\n",
       "<tbody>\n",
       "\t<tr><td> 3       </td><td> 4       </td><td> 5       </td><td> 6       </td><td> 7       </td><td>September</td></tr>\n",
       "\t<tr><td>10       </td><td>11       </td><td>12       </td><td>13       </td><td>14       </td><td>September</td></tr>\n",
       "\t<tr><td>17       </td><td>18       </td><td>19       </td><td>20       </td><td>21       </td><td>September</td></tr>\n",
       "</tbody>\n",
       "</table>\n"
      ],
      "text/latex": [
       "\\begin{tabular}{r|llllll}\n",
       " Mon & Tue & Wed & Thu & Fri & MONTH\\\\\n",
       "\\hline\n",
       "\t  3        &  4        &  5        &  6        &  7        & September\\\\\n",
       "\t 10        & 11        & 12        & 13        & 14        & September\\\\\n",
       "\t 17        & 18        & 19        & 20        & 21        & September\\\\\n",
       "\\end{tabular}\n"
      ],
      "text/markdown": [
       "\n",
       "Mon | Tue | Wed | Thu | Fri | MONTH | \n",
       "|---|---|---|\n",
       "|  3        |  4        |  5        |  6        |  7        | September | \n",
       "| 10        | 11        | 12        | 13        | 14        | September | \n",
       "| 17        | 18        | 19        | 20        | 21        | September | \n",
       "\n",
       "\n"
      ],
      "text/plain": [
       "  Mon Tue Wed Thu Fri MONTH    \n",
       "1  3   4   5   6   7  September\n",
       "2 10  11  12  13  14  September\n",
       "3 17  18  19  20  21  September"
      ]
     },
     "metadata": {},
     "output_type": "display_data"
    }
   ],
   "source": [
    "# Reading the first 3 rows from disk\n",
    "calDfNew <- read_csv(\"../tmp/calDf.csv\", n_max = 3)\n",
    "calDfNew"
   ]
  },
  {
   "cell_type": "markdown",
   "metadata": {},
   "source": [
    "---\n",
    "<div style=\"text-align: right\"> [[Jump to top]](#jump_to_top) </div>\n",
    "\n",
    "<a class=\"anchor\" id=\"read_excel\"></a>\n",
    "## Read Excel files\n",
    "We will be using package readxl from tidyverse, but is not a core package so it needs to be loaded explicitly which we did at the top of this notebook. readxl comes with some sample files, we can access to a list of these files by `readxl_example()`"
   ]
  },
  {
   "cell_type": "code",
   "execution_count": 20,
   "metadata": {},
   "outputs": [
    {
     "data": {
      "text/html": [
       "<ol class=list-inline>\n",
       "\t<li>'clippy.xls'</li>\n",
       "\t<li>'clippy.xlsx'</li>\n",
       "\t<li>'datasets.xls'</li>\n",
       "\t<li>'datasets.xlsx'</li>\n",
       "\t<li>'deaths.xls'</li>\n",
       "\t<li>'deaths.xlsx'</li>\n",
       "\t<li>'geometry.xls'</li>\n",
       "\t<li>'geometry.xlsx'</li>\n",
       "\t<li>'type-me.xls'</li>\n",
       "\t<li>'type-me.xlsx'</li>\n",
       "</ol>\n"
      ],
      "text/latex": [
       "\\begin{enumerate*}\n",
       "\\item 'clippy.xls'\n",
       "\\item 'clippy.xlsx'\n",
       "\\item 'datasets.xls'\n",
       "\\item 'datasets.xlsx'\n",
       "\\item 'deaths.xls'\n",
       "\\item 'deaths.xlsx'\n",
       "\\item 'geometry.xls'\n",
       "\\item 'geometry.xlsx'\n",
       "\\item 'type-me.xls'\n",
       "\\item 'type-me.xlsx'\n",
       "\\end{enumerate*}\n"
      ],
      "text/markdown": [
       "1. 'clippy.xls'\n",
       "2. 'clippy.xlsx'\n",
       "3. 'datasets.xls'\n",
       "4. 'datasets.xlsx'\n",
       "5. 'deaths.xls'\n",
       "6. 'deaths.xlsx'\n",
       "7. 'geometry.xls'\n",
       "8. 'geometry.xlsx'\n",
       "9. 'type-me.xls'\n",
       "10. 'type-me.xlsx'\n",
       "\n",
       "\n"
      ],
      "text/plain": [
       " [1] \"clippy.xls\"    \"clippy.xlsx\"   \"datasets.xls\"  \"datasets.xlsx\"\n",
       " [5] \"deaths.xls\"    \"deaths.xlsx\"   \"geometry.xls\"  \"geometry.xlsx\"\n",
       " [9] \"type-me.xls\"   \"type-me.xlsx\" "
      ]
     },
     "metadata": {},
     "output_type": "display_data"
    }
   ],
   "source": [
    "readxl_example()"
   ]
  },
  {
   "cell_type": "markdown",
   "metadata": {},
   "source": [
    "Let's get the path for one of these sample files by giving the name of the sample to `readxl_example()`"
   ]
  },
  {
   "cell_type": "code",
   "execution_count": 21,
   "metadata": {},
   "outputs": [
    {
     "data": {
      "text/html": [
       "'/Library/Frameworks/R.framework/Versions/3.5/Resources/library/readxl/extdata/datasets.xlsx'"
      ],
      "text/latex": [
       "'/Library/Frameworks/R.framework/Versions/3.5/Resources/library/readxl/extdata/datasets.xlsx'"
      ],
      "text/markdown": [
       "'/Library/Frameworks/R.framework/Versions/3.5/Resources/library/readxl/extdata/datasets.xlsx'"
      ],
      "text/plain": [
       "[1] \"/Library/Frameworks/R.framework/Versions/3.5/Resources/library/readxl/extdata/datasets.xlsx\""
      ]
     },
     "metadata": {},
     "output_type": "display_data"
    }
   ],
   "source": [
    "xlsExamplePath <- readxl_example('datasets.xlsx')\n",
    "xlsExamplePath"
   ]
  },
  {
   "cell_type": "markdown",
   "metadata": {},
   "source": [
    "This object is nothing but a path to the file, now having this path we can check out the sheets names with `excel_sheets()`:"
   ]
  },
  {
   "cell_type": "code",
   "execution_count": 22,
   "metadata": {},
   "outputs": [
    {
     "data": {
      "text/html": [
       "<ol class=list-inline>\n",
       "\t<li>'iris'</li>\n",
       "\t<li>'mtcars'</li>\n",
       "\t<li>'chickwts'</li>\n",
       "\t<li>'quakes'</li>\n",
       "</ol>\n"
      ],
      "text/latex": [
       "\\begin{enumerate*}\n",
       "\\item 'iris'\n",
       "\\item 'mtcars'\n",
       "\\item 'chickwts'\n",
       "\\item 'quakes'\n",
       "\\end{enumerate*}\n"
      ],
      "text/markdown": [
       "1. 'iris'\n",
       "2. 'mtcars'\n",
       "3. 'chickwts'\n",
       "4. 'quakes'\n",
       "\n",
       "\n"
      ],
      "text/plain": [
       "[1] \"iris\"     \"mtcars\"   \"chickwts\" \"quakes\"  "
      ]
     },
     "metadata": {},
     "output_type": "display_data"
    }
   ],
   "source": [
    "excel_sheets(xlsExamplePath)"
   ]
  },
  {
   "cell_type": "markdown",
   "metadata": {},
   "source": [
    "and read any of these sheets into a data frame by `read_excel()`:"
   ]
  },
  {
   "cell_type": "code",
   "execution_count": 23,
   "metadata": {},
   "outputs": [
    {
     "name": "stdout",
     "output_type": "stream",
     "text": [
      "# A tibble: 32 x 11\n",
      "     mpg   cyl  disp    hp  drat    wt  qsec    vs    am  gear  carb\n",
      "   <dbl> <dbl> <dbl> <dbl> <dbl> <dbl> <dbl> <dbl> <dbl> <dbl> <dbl>\n",
      " 1  21       6  160    110  3.9   2.62  16.5     0     1     4     4\n",
      " 2  21       6  160    110  3.9   2.88  17.0     0     1     4     4\n",
      " 3  22.8     4  108     93  3.85  2.32  18.6     1     1     4     1\n",
      " 4  21.4     6  258    110  3.08  3.22  19.4     1     0     3     1\n",
      " 5  18.7     8  360    175  3.15  3.44  17.0     0     0     3     2\n",
      " 6  18.1     6  225    105  2.76  3.46  20.2     1     0     3     1\n",
      " 7  14.3     8  360    245  3.21  3.57  15.8     0     0     3     4\n",
      " 8  24.4     4  147.    62  3.69  3.19  20       1     0     4     2\n",
      " 9  22.8     4  141.    95  3.92  3.15  22.9     1     0     4     2\n",
      "10  19.2     6  168.   123  3.92  3.44  18.3     1     0     4     4\n",
      "# ... with 22 more rows\n"
     ]
    }
   ],
   "source": [
    "mtcarsDf <- read_excel(xlsExamplePath, sheet = 'mtcars')\n",
    "print(mtcarsDf)"
   ]
  },
  {
   "cell_type": "markdown",
   "metadata": {},
   "source": [
    "if `sheet` parameter is not specified it'll go to the default which is the first sheet.\n",
    "\n",
    "We can read only a subset of the cell by an Excel-specified notation:"
   ]
  },
  {
   "cell_type": "code",
   "execution_count": 24,
   "metadata": {},
   "outputs": [
    {
     "data": {
      "text/html": [
       "<table>\n",
       "<thead><tr><th scope=col>Petal.Length</th><th scope=col>Petal.Width</th><th scope=col>Species</th></tr></thead>\n",
       "<tbody>\n",
       "\t<tr><td>1.4   </td><td>0.2   </td><td>setosa</td></tr>\n",
       "\t<tr><td>1.4   </td><td>0.2   </td><td>setosa</td></tr>\n",
       "\t<tr><td>1.3   </td><td>0.2   </td><td>setosa</td></tr>\n",
       "</tbody>\n",
       "</table>\n"
      ],
      "text/latex": [
       "\\begin{tabular}{r|lll}\n",
       " Petal.Length & Petal.Width & Species\\\\\n",
       "\\hline\n",
       "\t 1.4    & 0.2    & setosa\\\\\n",
       "\t 1.4    & 0.2    & setosa\\\\\n",
       "\t 1.3    & 0.2    & setosa\\\\\n",
       "\\end{tabular}\n"
      ],
      "text/markdown": [
       "\n",
       "Petal.Length | Petal.Width | Species | \n",
       "|---|---|---|\n",
       "| 1.4    | 0.2    | setosa | \n",
       "| 1.4    | 0.2    | setosa | \n",
       "| 1.3    | 0.2    | setosa | \n",
       "\n",
       "\n"
      ],
      "text/plain": [
       "  Petal.Length Petal.Width Species\n",
       "1 1.4          0.2         setosa \n",
       "2 1.4          0.2         setosa \n",
       "3 1.3          0.2         setosa "
      ]
     },
     "metadata": {},
     "output_type": "display_data"
    }
   ],
   "source": [
    "read_excel(xlsExamplePath, range = \"C1:E4\")"
   ]
  },
  {
   "cell_type": "code",
   "execution_count": 25,
   "metadata": {},
   "outputs": [
    {
     "data": {
      "text/html": [
       "<table>\n",
       "<thead><tr><th scope=col>Sepal.Width</th><th scope=col>Petal.Length</th><th scope=col>Petal.Width</th></tr></thead>\n",
       "<tbody>\n",
       "\t<tr><td>3.5</td><td>1.4</td><td>0.2</td></tr>\n",
       "\t<tr><td>3.0</td><td>1.4</td><td>0.2</td></tr>\n",
       "\t<tr><td>3.2</td><td>1.3</td><td>0.2</td></tr>\n",
       "\t<tr><td>3.1</td><td>1.5</td><td>0.2</td></tr>\n",
       "\t<tr><td>3.6</td><td>1.4</td><td>0.2</td></tr>\n",
       "\t<tr><td>3.9</td><td>1.7</td><td>0.4</td></tr>\n",
       "</tbody>\n",
       "</table>\n"
      ],
      "text/latex": [
       "\\begin{tabular}{r|lll}\n",
       " Sepal.Width & Petal.Length & Petal.Width\\\\\n",
       "\\hline\n",
       "\t 3.5 & 1.4 & 0.2\\\\\n",
       "\t 3.0 & 1.4 & 0.2\\\\\n",
       "\t 3.2 & 1.3 & 0.2\\\\\n",
       "\t 3.1 & 1.5 & 0.2\\\\\n",
       "\t 3.6 & 1.4 & 0.2\\\\\n",
       "\t 3.9 & 1.7 & 0.4\\\\\n",
       "\\end{tabular}\n"
      ],
      "text/markdown": [
       "\n",
       "Sepal.Width | Petal.Length | Petal.Width | \n",
       "|---|---|---|---|---|---|\n",
       "| 3.5 | 1.4 | 0.2 | \n",
       "| 3.0 | 1.4 | 0.2 | \n",
       "| 3.2 | 1.3 | 0.2 | \n",
       "| 3.1 | 1.5 | 0.2 | \n",
       "| 3.6 | 1.4 | 0.2 | \n",
       "| 3.9 | 1.7 | 0.4 | \n",
       "\n",
       "\n"
      ],
      "text/plain": [
       "  Sepal.Width Petal.Length Petal.Width\n",
       "1 3.5         1.4          0.2        \n",
       "2 3.0         1.4          0.2        \n",
       "3 3.2         1.3          0.2        \n",
       "4 3.1         1.5          0.2        \n",
       "5 3.6         1.4          0.2        \n",
       "6 3.9         1.7          0.4        "
      ]
     },
     "metadata": {},
     "output_type": "display_data"
    }
   ],
   "source": [
    "head(read_excel(xlsExamplePath, range = cell_cols(\"B:D\")))"
   ]
  },
  {
   "cell_type": "code",
   "execution_count": 26,
   "metadata": {},
   "outputs": [
    {
     "data": {
      "text/html": [
       "<table>\n",
       "<thead><tr><th scope=col>cyl</th><th scope=col>disp</th><th scope=col>hp</th></tr></thead>\n",
       "<tbody>\n",
       "\t<tr><td>6  </td><td>160</td><td>110</td></tr>\n",
       "\t<tr><td>6  </td><td>160</td><td>110</td></tr>\n",
       "\t<tr><td>4  </td><td>108</td><td> 93</td></tr>\n",
       "\t<tr><td>6  </td><td>258</td><td>110</td></tr>\n",
       "</tbody>\n",
       "</table>\n"
      ],
      "text/latex": [
       "\\begin{tabular}{r|lll}\n",
       " cyl & disp & hp\\\\\n",
       "\\hline\n",
       "\t 6   & 160 & 110\\\\\n",
       "\t 6   & 160 & 110\\\\\n",
       "\t 4   & 108 &  93\\\\\n",
       "\t 6   & 258 & 110\\\\\n",
       "\\end{tabular}\n"
      ],
      "text/markdown": [
       "\n",
       "cyl | disp | hp | \n",
       "|---|---|---|---|\n",
       "| 6   | 160 | 110 | \n",
       "| 6   | 160 | 110 | \n",
       "| 4   | 108 |  93 | \n",
       "| 6   | 258 | 110 | \n",
       "\n",
       "\n"
      ],
      "text/plain": [
       "  cyl disp hp \n",
       "1 6   160  110\n",
       "2 6   160  110\n",
       "3 4   108   93\n",
       "4 6   258  110"
      ]
     },
     "metadata": {},
     "output_type": "display_data"
    }
   ],
   "source": [
    "read_excel(xlsExamplePath, range = \"mtcars!B1:D5\")"
   ]
  },
  {
   "cell_type": "markdown",
   "metadata": {},
   "source": [
    "<div style=\"text-align: right\"> [[Jump to top]](#jump_to_top) </div>\n",
    "<a class=\"anchor\" id=\"write_excel\"></a>\n",
    "## Write to an Excel file\n",
    "tidyverse doesn't have a package for writing to an Excel file. We will use `write.xlsx()` from **openxlsx**. This package needs to be installed and loaded. Follow the instructions on the setup notebook for installation.\n",
    "\n",
    "R base comes with sample data frames (e.g., iris, mtcars), let's write some of them into an Excel file:"
   ]
  },
  {
   "cell_type": "code",
   "execution_count": 27,
   "metadata": {},
   "outputs": [],
   "source": [
    "l <- list(iris = iris, mtcars = mtcars, chickwts = chickwts, quakes = quakes)\n",
    "openxlsx::write.xlsx(l, file = \"../tmp/datasets.xlsx\")"
   ]
  },
  {
   "cell_type": "markdown",
   "metadata": {},
   "source": [
    "Reminder: `openxlsx::` is optional, just a good practice for showing that unlike all of the other packages used in this notebook `write.xlsx()` is not from tidyverse.\n",
    "\n",
    "### Practice\n",
    "Run the last command to create and populate an Excel file. Pick one or two sheets from the `.xlsx` file that we just created and read them into your R memory. Try to read different cuts using Excel notation discussed above."
   ]
  },
  {
   "cell_type": "code",
   "execution_count": 28,
   "metadata": {},
   "outputs": [],
   "source": [
    "# Your code goes here"
   ]
  },
  {
   "cell_type": "markdown",
   "metadata": {},
   "source": [
    "### Other types of data\n",
    "* **haven** reads SPSS, Stata, and SAS files\n",
    "* **DBI**, along with a database specific backend (e.g. RMySQL, RSQLite, RPostgreSQL etc) allows you to run SQL queries against a database and return a data frame\n",
    "* For hierarchical data: use **jsonlite** for json, and **xml2** for XML\n",
    "\n",
    "<div style=\"text-align: right\"> [[Jump to top]](#jump_to_top) </div>"
   ]
  }
 ],
 "metadata": {
  "kernelspec": {
   "display_name": "R",
   "language": "R",
   "name": "ir"
  },
  "language_info": {
   "codemirror_mode": "r",
   "file_extension": ".r",
   "mimetype": "text/x-r-source",
   "name": "R",
   "pygments_lexer": "r",
   "version": "3.5.1"
  }
 },
 "nbformat": 4,
 "nbformat_minor": 2
}
