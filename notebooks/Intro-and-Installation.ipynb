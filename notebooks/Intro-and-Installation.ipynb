{
 "cells": [
  {
   "cell_type": "markdown",
   "metadata": {},
   "source": [
    "<img src=\"../png/R.png\" width=\"100px\" align=\"left\">"
   ]
  },
  {
   "cell_type": "markdown",
   "metadata": {},
   "source": [
    "Download the latest version of R. Go to [CRAN](https://cran.r-project.org/mirrors.html), the comprehensive R archive network. Use the cloud mirror, https://cloud.r-project.org, which automatically will figure a mirror that's close to you. Follow the instructions for installation.\n",
    "\n",
    "Every year a major version of is released, and typically a few minor versions. It's a good practice to periodically upgrade your R, especially when the major version becomes available."
   ]
  },
  {
   "cell_type": "markdown",
   "metadata": {},
   "source": [
    "<img src=\"../png/RStudio.png\" width=\"300px\" align=\"left\">"
   ]
  },
  {
   "cell_type": "markdown",
   "metadata": {},
   "source": [
    "# RStudio\n",
    "\n",
    "RStudio is a free and open-source integrated development environment, IDE, for R programming. Download the latest version of RStudio Desktop (FREE) from http://www.rstudio.com/download and install it.\n",
    "\n",
    "RStudio is an easy-to-use coding environment that allows users to code, visualize, and debug all from one window (like most IDEs). In the image below you can see that code written in Console (left) results in a plot that gets outputted in the Plots section (lower right). We will get to know and interact with the other parts and modules of RStudio in the future notebooks."
   ]
  },
  {
   "cell_type": "markdown",
   "metadata": {},
   "source": [
    "<img src=\"../png/RStudio-env.png\" width=\"600px\" align=\"center\">"
   ]
  },
  {
   "cell_type": "markdown",
   "metadata": {},
   "source": [
    "You will also need to install some R packages. An R package is a collection of functions, data, and documentation that extends the capabilities of base R. Using the right packages is key to the successful use of R and equivalent to not reinventing the wheel. "
   ]
  },
  {
   "cell_type": "markdown",
   "metadata": {},
   "source": [
    "<img src=\"../png/hex-tidyverse.png\" width=\"150px\" align=\"left\">"
   ]
  },
  {
   "cell_type": "markdown",
   "metadata": {},
   "source": [
    "# Tidyverse\n",
    "\n",
    "The majority of the packages that we will use throughout this bootcamp are part of the so-called *tidyverse*. [tidyverse](https://www.tidyverse.org/packages/) is a collection of R packages designed for data science.\n",
    "\n",
    "Core packages in *tidyverse*:\n",
    "* [ggplot2](http://ggplot2.tidyverse.org): for visualizing data\n",
    "    * based on “A Layered Grammar of Graphics”\n",
    "* [dplyr](https://dplyr.tidyverse.org/): for manipulating data\n",
    "* [tidyr](http://tidyr.tidyverse.org/): for tidying data\n",
    "* [readr](http://readr.tidyverse.org/): for reading .csv and fwf files\n",
    "* [purrr](http://purrr.tidyverse.org/): for working with functions and vectors\n",
    "* [tibble](http://tibble.tidyverse.org/): modern re-imagining of the data frame\n",
    "* [stringr](http://stringr.tidyverse.org/): for working with strings\n",
    "* [forcats](http://forcats.tidyverse.org/): for working with factors\n",
    "\n",
    "You can install the complete tidyverse with a single line of code in the Console:\n",
    "\n",
    "---\n",
    "```install.packages(\"tidyverse\")```\n",
    "\n",
    "---\n",
    "\n",
    "*The tidyverse also includes many other packages with more specialized usage. They are not loaded automatically and should be specified manually*\n",
    "\n",
    "Once the installation is finished you can try the `library(tidyverse)` command in your RStudio Console to load the package. If the attachment was successful you would see the list of packages that were attached, and any potential conflicts, which you can ignore for now. If anything else from tidyverse is needed, they should be loaded manually. I.e. `library(PACKAGE_TO_LOAD)`.\n",
    "\n",
    "We only need to install every new library once, but we need to load it every time we start a new R session."
   ]
  },
  {
   "cell_type": "markdown",
   "metadata": {},
   "source": [
    "# Alternative Environment\n",
    "\n",
    "<img src=\"../png/binder_logo.png\" width=\"150px\" align=\"left\">"
   ]
  },
  {
   "cell_type": "markdown",
   "metadata": {},
   "source": [
    "**Binder** makes it simple to generate reproducible computing environments from a Git repository. Binder uses the BinderHub technology to generate a Docker image from this repository.\n",
    "\n"
   ]
  },
  {
   "cell_type": "markdown",
   "metadata": {},
   "source": [
    "<img src=\"../png/rstudio_ui_binder.png\" width=\"150px\" align=\"center\">"
   ]
  },
  {
   "cell_type": "code",
   "execution_count": null,
   "metadata": {
    "collapsed": true
   },
   "outputs": [],
   "source": []
  }
 ],
 "metadata": {
  "kernelspec": {
   "display_name": "R",
   "language": "R",
   "name": "ir"
  },
  "language_info": {
   "codemirror_mode": "r",
   "file_extension": ".r",
   "mimetype": "text/x-r-source",
   "name": "R",
   "pygments_lexer": "r",
   "version": "3.5.1"
  }
 },
 "nbformat": 4,
 "nbformat_minor": 2
}
