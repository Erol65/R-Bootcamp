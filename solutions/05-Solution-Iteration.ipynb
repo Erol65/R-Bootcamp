{
 "cells": [
  {
   "cell_type": "markdown",
   "metadata": {},
   "source": [
    "# Iteration\n",
    "---"
   ]
  },
  {
   "cell_type": "code",
   "execution_count": 1,
   "metadata": {},
   "outputs": [
    {
     "name": "stderr",
     "output_type": "stream",
     "text": [
      "── Attaching packages ─────────────────────────────────────── tidyverse 1.2.1 ──\n",
      "✔ ggplot2 3.0.0     ✔ purrr   0.2.5\n",
      "✔ tibble  1.4.2     ✔ dplyr   0.7.6\n",
      "✔ tidyr   0.8.1     ✔ stringr 1.3.1\n",
      "✔ readr   1.1.1     ✔ forcats 0.3.0\n",
      "── Conflicts ────────────────────────────────────────── tidyverse_conflicts() ──\n",
      "✖ dplyr::filter() masks stats::filter()\n",
      "✖ dplyr::lag()    masks stats::lag()\n"
     ]
    }
   ],
   "source": [
    "# Attaching libraries\n",
    "library(tidyverse)\n",
    "\n",
    "# install.packages('nycflights13')  \n",
    "library(nycflights13)"
   ]
  },
  {
   "cell_type": "markdown",
   "metadata": {},
   "source": [
    "## Exercise 1"
   ]
  },
  {
   "cell_type": "code",
   "execution_count": 2,
   "metadata": {},
   "outputs": [
    {
     "data": {
      "text/html": [
       "<dl class=dl-horizontal>\n",
       "\t<dt>mpg</dt>\n",
       "\t\t<dd>20.090625</dd>\n",
       "\t<dt>cyl</dt>\n",
       "\t\t<dd>6.1875</dd>\n",
       "\t<dt>disp</dt>\n",
       "\t\t<dd>230.721875</dd>\n",
       "\t<dt>hp</dt>\n",
       "\t\t<dd>146.6875</dd>\n",
       "\t<dt>drat</dt>\n",
       "\t\t<dd>3.5965625</dd>\n",
       "\t<dt>wt</dt>\n",
       "\t\t<dd>3.21725</dd>\n",
       "\t<dt>qsec</dt>\n",
       "\t\t<dd>17.84875</dd>\n",
       "\t<dt>vs</dt>\n",
       "\t\t<dd>0.4375</dd>\n",
       "\t<dt>am</dt>\n",
       "\t\t<dd>0.40625</dd>\n",
       "\t<dt>gear</dt>\n",
       "\t\t<dd>3.6875</dd>\n",
       "\t<dt>carb</dt>\n",
       "\t\t<dd>2.8125</dd>\n",
       "</dl>\n"
      ],
      "text/latex": [
       "\\begin{description*}\n",
       "\\item[mpg] 20.090625\n",
       "\\item[cyl] 6.1875\n",
       "\\item[disp] 230.721875\n",
       "\\item[hp] 146.6875\n",
       "\\item[drat] 3.5965625\n",
       "\\item[wt] 3.21725\n",
       "\\item[qsec] 17.84875\n",
       "\\item[vs] 0.4375\n",
       "\\item[am] 0.40625\n",
       "\\item[gear] 3.6875\n",
       "\\item[carb] 2.8125\n",
       "\\end{description*}\n"
      ],
      "text/markdown": [
       "mpg\n",
       ":   20.090625cyl\n",
       ":   6.1875disp\n",
       ":   230.721875hp\n",
       ":   146.6875drat\n",
       ":   3.5965625wt\n",
       ":   3.21725qsec\n",
       ":   17.84875vs\n",
       ":   0.4375am\n",
       ":   0.40625gear\n",
       ":   3.6875carb\n",
       ":   2.8125\n",
       "\n"
      ],
      "text/plain": [
       "       mpg        cyl       disp         hp       drat         wt       qsec \n",
       " 20.090625   6.187500 230.721875 146.687500   3.596563   3.217250  17.848750 \n",
       "        vs         am       gear       carb \n",
       "  0.437500   0.406250   3.687500   2.812500 "
      ]
     },
     "metadata": {},
     "output_type": "display_data"
    }
   ],
   "source": [
    "output <- vector(\"double\", ncol(mtcars))\n",
    "names(output) <- names(mtcars)\n",
    "for (i in names(mtcars)) {\n",
    "  output[i] <- mean(mtcars[[i]])\n",
    "}\n",
    "output"
   ]
  },
  {
   "cell_type": "markdown",
   "metadata": {},
   "source": [
    "We need to use a list, not a character vector, since the class can have multiple values."
   ]
  },
  {
   "cell_type": "code",
   "execution_count": 3,
   "metadata": {},
   "outputs": [
    {
     "data": {
      "text/html": [
       "<dl>\n",
       "\t<dt>$year</dt>\n",
       "\t\t<dd>'integer'</dd>\n",
       "\t<dt>$month</dt>\n",
       "\t\t<dd>'integer'</dd>\n",
       "\t<dt>$day</dt>\n",
       "\t\t<dd>'integer'</dd>\n",
       "\t<dt>$dep_time</dt>\n",
       "\t\t<dd>'integer'</dd>\n",
       "\t<dt>$sched_dep_time</dt>\n",
       "\t\t<dd>'integer'</dd>\n",
       "\t<dt>$dep_delay</dt>\n",
       "\t\t<dd>'numeric'</dd>\n",
       "\t<dt>$arr_time</dt>\n",
       "\t\t<dd>'integer'</dd>\n",
       "\t<dt>$sched_arr_time</dt>\n",
       "\t\t<dd>'integer'</dd>\n",
       "\t<dt>$arr_delay</dt>\n",
       "\t\t<dd>'numeric'</dd>\n",
       "\t<dt>$carrier</dt>\n",
       "\t\t<dd>'character'</dd>\n",
       "\t<dt>$flight</dt>\n",
       "\t\t<dd>'integer'</dd>\n",
       "\t<dt>$tailnum</dt>\n",
       "\t\t<dd>'character'</dd>\n",
       "\t<dt>$origin</dt>\n",
       "\t\t<dd>'character'</dd>\n",
       "\t<dt>$dest</dt>\n",
       "\t\t<dd>'character'</dd>\n",
       "\t<dt>$air_time</dt>\n",
       "\t\t<dd>'numeric'</dd>\n",
       "\t<dt>$distance</dt>\n",
       "\t\t<dd>'numeric'</dd>\n",
       "\t<dt>$hour</dt>\n",
       "\t\t<dd>'numeric'</dd>\n",
       "\t<dt>$minute</dt>\n",
       "\t\t<dd>'numeric'</dd>\n",
       "\t<dt>$time_hour</dt>\n",
       "\t\t<dd><ol class=list-inline>\n",
       "\t<li>'POSIXct'</li>\n",
       "\t<li>'POSIXt'</li>\n",
       "</ol>\n",
       "</dd>\n",
       "</dl>\n"
      ],
      "text/latex": [
       "\\begin{description}\n",
       "\\item[\\$year] 'integer'\n",
       "\\item[\\$month] 'integer'\n",
       "\\item[\\$day] 'integer'\n",
       "\\item[\\$dep\\_time] 'integer'\n",
       "\\item[\\$sched\\_dep\\_time] 'integer'\n",
       "\\item[\\$dep\\_delay] 'numeric'\n",
       "\\item[\\$arr\\_time] 'integer'\n",
       "\\item[\\$sched\\_arr\\_time] 'integer'\n",
       "\\item[\\$arr\\_delay] 'numeric'\n",
       "\\item[\\$carrier] 'character'\n",
       "\\item[\\$flight] 'integer'\n",
       "\\item[\\$tailnum] 'character'\n",
       "\\item[\\$origin] 'character'\n",
       "\\item[\\$dest] 'character'\n",
       "\\item[\\$air\\_time] 'numeric'\n",
       "\\item[\\$distance] 'numeric'\n",
       "\\item[\\$hour] 'numeric'\n",
       "\\item[\\$minute] 'numeric'\n",
       "\\item[\\$time\\_hour] \\begin{enumerate*}\n",
       "\\item 'POSIXct'\n",
       "\\item 'POSIXt'\n",
       "\\end{enumerate*}\n",
       "\n",
       "\\end{description}\n"
      ],
      "text/markdown": [
       "$year\n",
       ":   'integer'\n",
       "$month\n",
       ":   'integer'\n",
       "$day\n",
       ":   'integer'\n",
       "$dep_time\n",
       ":   'integer'\n",
       "$sched_dep_time\n",
       ":   'integer'\n",
       "$dep_delay\n",
       ":   'numeric'\n",
       "$arr_time\n",
       ":   'integer'\n",
       "$sched_arr_time\n",
       ":   'integer'\n",
       "$arr_delay\n",
       ":   'numeric'\n",
       "$carrier\n",
       ":   'character'\n",
       "$flight\n",
       ":   'integer'\n",
       "$tailnum\n",
       ":   'character'\n",
       "$origin\n",
       ":   'character'\n",
       "$dest\n",
       ":   'character'\n",
       "$air_time\n",
       ":   'numeric'\n",
       "$distance\n",
       ":   'numeric'\n",
       "$hour\n",
       ":   'numeric'\n",
       "$minute\n",
       ":   'numeric'\n",
       "$time_hour\n",
       ":   1. 'POSIXct'\n",
       "2. 'POSIXt'\n",
       "\n",
       "\n",
       "\n",
       "\n",
       "\n"
      ],
      "text/plain": [
       "$year\n",
       "[1] \"integer\"\n",
       "\n",
       "$month\n",
       "[1] \"integer\"\n",
       "\n",
       "$day\n",
       "[1] \"integer\"\n",
       "\n",
       "$dep_time\n",
       "[1] \"integer\"\n",
       "\n",
       "$sched_dep_time\n",
       "[1] \"integer\"\n",
       "\n",
       "$dep_delay\n",
       "[1] \"numeric\"\n",
       "\n",
       "$arr_time\n",
       "[1] \"integer\"\n",
       "\n",
       "$sched_arr_time\n",
       "[1] \"integer\"\n",
       "\n",
       "$arr_delay\n",
       "[1] \"numeric\"\n",
       "\n",
       "$carrier\n",
       "[1] \"character\"\n",
       "\n",
       "$flight\n",
       "[1] \"integer\"\n",
       "\n",
       "$tailnum\n",
       "[1] \"character\"\n",
       "\n",
       "$origin\n",
       "[1] \"character\"\n",
       "\n",
       "$dest\n",
       "[1] \"character\"\n",
       "\n",
       "$air_time\n",
       "[1] \"numeric\"\n",
       "\n",
       "$distance\n",
       "[1] \"numeric\"\n",
       "\n",
       "$hour\n",
       "[1] \"numeric\"\n",
       "\n",
       "$minute\n",
       "[1] \"numeric\"\n",
       "\n",
       "$time_hour\n",
       "[1] \"POSIXct\" \"POSIXt\" \n"
      ]
     },
     "metadata": {},
     "output_type": "display_data"
    }
   ],
   "source": [
    "output <- vector(\"list\", ncol(flights))\n",
    "names(output) <- names(flights)\n",
    "for (i in seq_along(flights)) {\n",
    "    output[[i]] <- class(flights[[i]])\n",
    "}\n",
    "output"
   ]
  },
  {
   "cell_type": "code",
   "execution_count": 4,
   "metadata": {},
   "outputs": [
    {
     "data": {
      "text/html": [
       "<dl class=dl-horizontal>\n",
       "\t<dt>Sepal.Length</dt>\n",
       "\t\t<dd>35</dd>\n",
       "\t<dt>Sepal.Width</dt>\n",
       "\t\t<dd>23</dd>\n",
       "\t<dt>Petal.Length</dt>\n",
       "\t\t<dd>43</dd>\n",
       "\t<dt>Petal.Width</dt>\n",
       "\t\t<dd>22</dd>\n",
       "\t<dt>Species</dt>\n",
       "\t\t<dd>3</dd>\n",
       "</dl>\n"
      ],
      "text/latex": [
       "\\begin{description*}\n",
       "\\item[Sepal.Length] 35\n",
       "\\item[Sepal.Width] 23\n",
       "\\item[Petal.Length] 43\n",
       "\\item[Petal.Width] 22\n",
       "\\item[Species] 3\n",
       "\\end{description*}\n"
      ],
      "text/markdown": [
       "Sepal.Length\n",
       ":   35Sepal.Width\n",
       ":   23Petal.Length\n",
       ":   43Petal.Width\n",
       ":   22Species\n",
       ":   3\n",
       "\n"
      ],
      "text/plain": [
       "Sepal.Length  Sepal.Width Petal.Length  Petal.Width      Species \n",
       "          35           23           43           22            3 "
      ]
     },
     "metadata": {},
     "output_type": "display_data"
    }
   ],
   "source": [
    "data(\"iris\")\n",
    "iris_uniq <- vector(\"double\", ncol(iris))\n",
    "names(iris_uniq) <- names(iris)\n",
    "for (i in names(iris)) {\n",
    "  iris_uniq[i] <- length(unique(iris[[i]]))\n",
    "}\n",
    "iris_uniq"
   ]
  },
  {
   "cell_type": "markdown",
   "metadata": {},
   "source": [
    "---\n",
    "## Exercise 2"
   ]
  },
  {
   "cell_type": "code",
   "execution_count": 5,
   "metadata": {},
   "outputs": [
    {
     "data": {
      "text/html": [
       "'abcdefghijklmnopqrstuvwxyz'"
      ],
      "text/latex": [
       "'abcdefghijklmnopqrstuvwxyz'"
      ],
      "text/markdown": [
       "'abcdefghijklmnopqrstuvwxyz'"
      ],
      "text/plain": [
       "[1] \"abcdefghijklmnopqrstuvwxyz\""
      ]
     },
     "metadata": {},
     "output_type": "display_data"
    }
   ],
   "source": [
    "str_c(letters, collapse = \"\")"
   ]
  },
  {
   "cell_type": "code",
   "execution_count": 6,
   "metadata": {},
   "outputs": [
    {
     "data": {
      "text/html": [
       "29.011491975882"
      ],
      "text/latex": [
       "29.011491975882"
      ],
      "text/markdown": [
       "29.011491975882"
      ],
      "text/plain": [
       "[1] 29.01149"
      ]
     },
     "metadata": {},
     "output_type": "display_data"
    }
   ],
   "source": [
    "x <- sample(100)\n",
    "sd(x)"
   ]
  },
  {
   "cell_type": "markdown",
   "metadata": {},
   "source": [
    "Or if there was a need to use the equation (e.g. for pedagogical reasons), then the functions `mean()` and `sum()` already work with vectors:"
   ]
  },
  {
   "cell_type": "code",
   "execution_count": 7,
   "metadata": {},
   "outputs": [
    {
     "data": {
      "text/html": [
       "29.011491975882"
      ],
      "text/latex": [
       "29.011491975882"
      ],
      "text/markdown": [
       "29.011491975882"
      ],
      "text/plain": [
       "[1] 29.01149"
      ]
     },
     "metadata": {},
     "output_type": "display_data"
    }
   ],
   "source": [
    "sqrt(sum((x - mean(x)) ^ 2) / (length(x) - 1))"
   ]
  },
  {
   "cell_type": "markdown",
   "metadata": {},
   "source": [
    "---\n",
    "## Exercise 3"
   ]
  },
  {
   "cell_type": "code",
   "execution_count": 8,
   "metadata": {},
   "outputs": [],
   "source": [
    "show_mean <- function(df, digits = 2) {\n",
    "    for (nm in names(df)){\n",
    "        if (is.numeric(df[[nm]])) {\n",
    "            cat(paste(nm, round(mean(df[[nm]]), digits)), \"\\n\")\n",
    "        }\n",
    "    }\n",
    "}"
   ]
  },
  {
   "cell_type": "code",
   "execution_count": 9,
   "metadata": {},
   "outputs": [
    {
     "name": "stdout",
     "output_type": "stream",
     "text": [
      "Sepal.Length 5.84 \n",
      "Sepal.Width 3.06 \n",
      "Petal.Length 3.76 \n",
      "Petal.Width 1.2 \n"
     ]
    }
   ],
   "source": [
    "show_mean(iris)"
   ]
  },
  {
   "cell_type": "markdown",
   "metadata": {},
   "source": [
    "---\n",
    "## Exercise 4"
   ]
  },
  {
   "cell_type": "code",
   "execution_count": 10,
   "metadata": {},
   "outputs": [],
   "source": [
    "col_summary2 <- function(df, fun = mean) {\n",
    "  # Summarizes dataframe df using provided function fun. \n",
    "  # If any column is not logical it'll be excluded from calculations.\n",
    "  # A warning will be issued if such column is found. \n",
    "  #\n",
    "  # Args:\n",
    "  #   df: the dataframe for summary\n",
    "  #   fun: function  \n",
    "  #\n",
    "  # Returns:\n",
    "  #   The a summary vector.\n",
    "    \n",
    "  # test whether each column is numeric\n",
    "  numeric_cols <- vector(\"logical\", ncol(df))\n",
    "  for (i in seq_along(df)) {\n",
    "    numeric_cols[[i]] <- is.numeric(df[[i]])\n",
    "  }\n",
    "\n",
    "  # number of numeric columns\n",
    "  n <- sum(numeric_cols)\n",
    "  if (n != ncol(df)) {\n",
    "    warning(\"Not all the columns are numeric.\")\n",
    "  }\n",
    "\n",
    "  # indexes of numeric columns\n",
    "  idxs <- seq_along(df)[numeric_cols]\n",
    "\n",
    "  out <- vector(\"double\", n)\n",
    "  names(out) <- colnames(df)[numeric_cols]\n",
    "  for (i in seq(idxs)) {\n",
    "    out[i] <- mean(df[[idxs[[i]]]])\n",
    "  }\n",
    "  out\n",
    "}"
   ]
  },
  {
   "cell_type": "markdown",
   "metadata": {},
   "source": [
    "Let's test it out:"
   ]
  },
  {
   "cell_type": "code",
   "execution_count": 11,
   "metadata": {},
   "outputs": [],
   "source": [
    "df <- tibble(\n",
    "  a = rnorm(10),\n",
    "  b = rnorm(10),\n",
    "  x = letters[1:10],\n",
    "  c = rnorm(10)\n",
    ")"
   ]
  },
  {
   "cell_type": "code",
   "execution_count": 12,
   "metadata": {},
   "outputs": [
    {
     "name": "stderr",
     "output_type": "stream",
     "text": [
      "Warning message in col_summary2(df, mean):\n",
      "“Not all the columns are numeric.”"
     ]
    },
    {
     "data": {
      "text/html": [
       "<dl class=dl-horizontal>\n",
       "\t<dt>a</dt>\n",
       "\t\t<dd>0.253459085278496</dd>\n",
       "\t<dt>b</dt>\n",
       "\t\t<dd>0.0868416948579963</dd>\n",
       "\t<dt>c</dt>\n",
       "\t\t<dd>-0.0486609066589994</dd>\n",
       "</dl>\n"
      ],
      "text/latex": [
       "\\begin{description*}\n",
       "\\item[a] 0.253459085278496\n",
       "\\item[b] 0.0868416948579963\n",
       "\\item[c] -0.0486609066589994\n",
       "\\end{description*}\n"
      ],
      "text/markdown": [
       "a\n",
       ":   0.253459085278496b\n",
       ":   0.0868416948579963c\n",
       ":   -0.0486609066589994\n",
       "\n"
      ],
      "text/plain": [
       "          a           b           c \n",
       " 0.25345909  0.08684169 -0.04866091 "
      ]
     },
     "metadata": {},
     "output_type": "display_data"
    }
   ],
   "source": [
    "col_summary2(df, mean)"
   ]
  },
  {
   "cell_type": "markdown",
   "metadata": {},
   "source": [
    "---\n",
    "## Exercise 5"
   ]
  },
  {
   "cell_type": "code",
   "execution_count": 13,
   "metadata": {},
   "outputs": [
    {
     "data": {
      "text/html": [
       "<dl class=dl-horizontal>\n",
       "\t<dt>mpg</dt>\n",
       "\t\t<dd>20.090625</dd>\n",
       "\t<dt>cyl</dt>\n",
       "\t\t<dd>6.1875</dd>\n",
       "\t<dt>disp</dt>\n",
       "\t\t<dd>230.721875</dd>\n",
       "\t<dt>hp</dt>\n",
       "\t\t<dd>146.6875</dd>\n",
       "\t<dt>drat</dt>\n",
       "\t\t<dd>3.5965625</dd>\n",
       "\t<dt>wt</dt>\n",
       "\t\t<dd>3.21725</dd>\n",
       "\t<dt>qsec</dt>\n",
       "\t\t<dd>17.84875</dd>\n",
       "\t<dt>vs</dt>\n",
       "\t\t<dd>0.4375</dd>\n",
       "\t<dt>am</dt>\n",
       "\t\t<dd>0.40625</dd>\n",
       "\t<dt>gear</dt>\n",
       "\t\t<dd>3.6875</dd>\n",
       "\t<dt>carb</dt>\n",
       "\t\t<dd>2.8125</dd>\n",
       "</dl>\n"
      ],
      "text/latex": [
       "\\begin{description*}\n",
       "\\item[mpg] 20.090625\n",
       "\\item[cyl] 6.1875\n",
       "\\item[disp] 230.721875\n",
       "\\item[hp] 146.6875\n",
       "\\item[drat] 3.5965625\n",
       "\\item[wt] 3.21725\n",
       "\\item[qsec] 17.84875\n",
       "\\item[vs] 0.4375\n",
       "\\item[am] 0.40625\n",
       "\\item[gear] 3.6875\n",
       "\\item[carb] 2.8125\n",
       "\\end{description*}\n"
      ],
      "text/markdown": [
       "mpg\n",
       ":   20.090625cyl\n",
       ":   6.1875disp\n",
       ":   230.721875hp\n",
       ":   146.6875drat\n",
       ":   3.5965625wt\n",
       ":   3.21725qsec\n",
       ":   17.84875vs\n",
       ":   0.4375am\n",
       ":   0.40625gear\n",
       ":   3.6875carb\n",
       ":   2.8125\n",
       "\n"
      ],
      "text/plain": [
       "       mpg        cyl       disp         hp       drat         wt       qsec \n",
       " 20.090625   6.187500 230.721875 146.687500   3.596563   3.217250  17.848750 \n",
       "        vs         am       gear       carb \n",
       "  0.437500   0.406250   3.687500   2.812500 "
      ]
     },
     "metadata": {},
     "output_type": "display_data"
    }
   ],
   "source": [
    "map_dbl(mtcars, mean)"
   ]
  },
  {
   "cell_type": "code",
   "execution_count": 14,
   "metadata": {},
   "outputs": [
    {
     "data": {
      "text/html": [
       "<dl>\n",
       "\t<dt>$year</dt>\n",
       "\t\t<dd>'integer'</dd>\n",
       "\t<dt>$month</dt>\n",
       "\t\t<dd>'integer'</dd>\n",
       "\t<dt>$day</dt>\n",
       "\t\t<dd>'integer'</dd>\n",
       "\t<dt>$dep_time</dt>\n",
       "\t\t<dd>'integer'</dd>\n",
       "\t<dt>$sched_dep_time</dt>\n",
       "\t\t<dd>'integer'</dd>\n",
       "\t<dt>$dep_delay</dt>\n",
       "\t\t<dd>'numeric'</dd>\n",
       "\t<dt>$arr_time</dt>\n",
       "\t\t<dd>'integer'</dd>\n",
       "\t<dt>$sched_arr_time</dt>\n",
       "\t\t<dd>'integer'</dd>\n",
       "\t<dt>$arr_delay</dt>\n",
       "\t\t<dd>'numeric'</dd>\n",
       "\t<dt>$carrier</dt>\n",
       "\t\t<dd>'character'</dd>\n",
       "\t<dt>$flight</dt>\n",
       "\t\t<dd>'integer'</dd>\n",
       "\t<dt>$tailnum</dt>\n",
       "\t\t<dd>'character'</dd>\n",
       "\t<dt>$origin</dt>\n",
       "\t\t<dd>'character'</dd>\n",
       "\t<dt>$dest</dt>\n",
       "\t\t<dd>'character'</dd>\n",
       "\t<dt>$air_time</dt>\n",
       "\t\t<dd>'numeric'</dd>\n",
       "\t<dt>$distance</dt>\n",
       "\t\t<dd>'numeric'</dd>\n",
       "\t<dt>$hour</dt>\n",
       "\t\t<dd>'numeric'</dd>\n",
       "\t<dt>$minute</dt>\n",
       "\t\t<dd>'numeric'</dd>\n",
       "\t<dt>$time_hour</dt>\n",
       "\t\t<dd><ol class=list-inline>\n",
       "\t<li>'POSIXct'</li>\n",
       "\t<li>'POSIXt'</li>\n",
       "</ol>\n",
       "</dd>\n",
       "</dl>\n"
      ],
      "text/latex": [
       "\\begin{description}\n",
       "\\item[\\$year] 'integer'\n",
       "\\item[\\$month] 'integer'\n",
       "\\item[\\$day] 'integer'\n",
       "\\item[\\$dep\\_time] 'integer'\n",
       "\\item[\\$sched\\_dep\\_time] 'integer'\n",
       "\\item[\\$dep\\_delay] 'numeric'\n",
       "\\item[\\$arr\\_time] 'integer'\n",
       "\\item[\\$sched\\_arr\\_time] 'integer'\n",
       "\\item[\\$arr\\_delay] 'numeric'\n",
       "\\item[\\$carrier] 'character'\n",
       "\\item[\\$flight] 'integer'\n",
       "\\item[\\$tailnum] 'character'\n",
       "\\item[\\$origin] 'character'\n",
       "\\item[\\$dest] 'character'\n",
       "\\item[\\$air\\_time] 'numeric'\n",
       "\\item[\\$distance] 'numeric'\n",
       "\\item[\\$hour] 'numeric'\n",
       "\\item[\\$minute] 'numeric'\n",
       "\\item[\\$time\\_hour] \\begin{enumerate*}\n",
       "\\item 'POSIXct'\n",
       "\\item 'POSIXt'\n",
       "\\end{enumerate*}\n",
       "\n",
       "\\end{description}\n"
      ],
      "text/markdown": [
       "$year\n",
       ":   'integer'\n",
       "$month\n",
       ":   'integer'\n",
       "$day\n",
       ":   'integer'\n",
       "$dep_time\n",
       ":   'integer'\n",
       "$sched_dep_time\n",
       ":   'integer'\n",
       "$dep_delay\n",
       ":   'numeric'\n",
       "$arr_time\n",
       ":   'integer'\n",
       "$sched_arr_time\n",
       ":   'integer'\n",
       "$arr_delay\n",
       ":   'numeric'\n",
       "$carrier\n",
       ":   'character'\n",
       "$flight\n",
       ":   'integer'\n",
       "$tailnum\n",
       ":   'character'\n",
       "$origin\n",
       ":   'character'\n",
       "$dest\n",
       ":   'character'\n",
       "$air_time\n",
       ":   'numeric'\n",
       "$distance\n",
       ":   'numeric'\n",
       "$hour\n",
       ":   'numeric'\n",
       "$minute\n",
       ":   'numeric'\n",
       "$time_hour\n",
       ":   1. 'POSIXct'\n",
       "2. 'POSIXt'\n",
       "\n",
       "\n",
       "\n",
       "\n",
       "\n"
      ],
      "text/plain": [
       "$year\n",
       "[1] \"integer\"\n",
       "\n",
       "$month\n",
       "[1] \"integer\"\n",
       "\n",
       "$day\n",
       "[1] \"integer\"\n",
       "\n",
       "$dep_time\n",
       "[1] \"integer\"\n",
       "\n",
       "$sched_dep_time\n",
       "[1] \"integer\"\n",
       "\n",
       "$dep_delay\n",
       "[1] \"numeric\"\n",
       "\n",
       "$arr_time\n",
       "[1] \"integer\"\n",
       "\n",
       "$sched_arr_time\n",
       "[1] \"integer\"\n",
       "\n",
       "$arr_delay\n",
       "[1] \"numeric\"\n",
       "\n",
       "$carrier\n",
       "[1] \"character\"\n",
       "\n",
       "$flight\n",
       "[1] \"integer\"\n",
       "\n",
       "$tailnum\n",
       "[1] \"character\"\n",
       "\n",
       "$origin\n",
       "[1] \"character\"\n",
       "\n",
       "$dest\n",
       "[1] \"character\"\n",
       "\n",
       "$air_time\n",
       "[1] \"numeric\"\n",
       "\n",
       "$distance\n",
       "[1] \"numeric\"\n",
       "\n",
       "$hour\n",
       "[1] \"numeric\"\n",
       "\n",
       "$minute\n",
       "[1] \"numeric\"\n",
       "\n",
       "$time_hour\n",
       "[1] \"POSIXct\" \"POSIXt\" \n"
      ]
     },
     "metadata": {},
     "output_type": "display_data"
    }
   ],
   "source": [
    "map(nycflights13::flights, class)"
   ]
  },
  {
   "cell_type": "code",
   "execution_count": 15,
   "metadata": {},
   "outputs": [
    {
     "data": {
      "text/html": [
       "<dl class=dl-horizontal>\n",
       "\t<dt>Sepal.Length</dt>\n",
       "\t\t<dd>35</dd>\n",
       "\t<dt>Sepal.Width</dt>\n",
       "\t\t<dd>23</dd>\n",
       "\t<dt>Petal.Length</dt>\n",
       "\t\t<dd>43</dd>\n",
       "\t<dt>Petal.Width</dt>\n",
       "\t\t<dd>22</dd>\n",
       "\t<dt>Species</dt>\n",
       "\t\t<dd>3</dd>\n",
       "</dl>\n"
      ],
      "text/latex": [
       "\\begin{description*}\n",
       "\\item[Sepal.Length] 35\n",
       "\\item[Sepal.Width] 23\n",
       "\\item[Petal.Length] 43\n",
       "\\item[Petal.Width] 22\n",
       "\\item[Species] 3\n",
       "\\end{description*}\n"
      ],
      "text/markdown": [
       "Sepal.Length\n",
       ":   35Sepal.Width\n",
       ":   23Petal.Length\n",
       ":   43Petal.Width\n",
       ":   22Species\n",
       ":   3\n",
       "\n"
      ],
      "text/plain": [
       "Sepal.Length  Sepal.Width Petal.Length  Petal.Width      Species \n",
       "          35           23           43           22            3 "
      ]
     },
     "metadata": {},
     "output_type": "display_data"
    }
   ],
   "source": [
    "x <- map(iris, unique)\n",
    "map_int(x, length)"
   ]
  },
  {
   "cell_type": "markdown",
   "metadata": {},
   "source": [
    "---\n",
    "## Exercise 6"
   ]
  },
  {
   "cell_type": "code",
   "execution_count": 16,
   "metadata": {},
   "outputs": [
    {
     "data": {
      "text/html": [
       "<dl class=dl-horizontal>\n",
       "\t<dt>Sepal.Length</dt>\n",
       "\t\t<dd>FALSE</dd>\n",
       "\t<dt>Sepal.Width</dt>\n",
       "\t\t<dd>FALSE</dd>\n",
       "\t<dt>Petal.Length</dt>\n",
       "\t\t<dd>FALSE</dd>\n",
       "\t<dt>Petal.Width</dt>\n",
       "\t\t<dd>FALSE</dd>\n",
       "\t<dt>Species</dt>\n",
       "\t\t<dd>TRUE</dd>\n",
       "</dl>\n"
      ],
      "text/latex": [
       "\\begin{description*}\n",
       "\\item[Sepal.Length] FALSE\n",
       "\\item[Sepal.Width] FALSE\n",
       "\\item[Petal.Length] FALSE\n",
       "\\item[Petal.Width] FALSE\n",
       "\\item[Species] TRUE\n",
       "\\end{description*}\n"
      ],
      "text/markdown": [
       "Sepal.Length\n",
       ":   FALSESepal.Width\n",
       ":   FALSEPetal.Length\n",
       ":   FALSEPetal.Width\n",
       ":   FALSESpecies\n",
       ":   TRUE\n",
       "\n"
      ],
      "text/plain": [
       "Sepal.Length  Sepal.Width Petal.Length  Petal.Width      Species \n",
       "       FALSE        FALSE        FALSE        FALSE         TRUE "
      ]
     },
     "metadata": {},
     "output_type": "display_data"
    }
   ],
   "source": [
    "map_lgl(iris, is.factor)"
   ]
  },
  {
   "cell_type": "markdown",
   "metadata": {},
   "source": [
    "---\n",
    "## Exercise 7\n",
    "The function map applies the function to each element of the vector."
   ]
  },
  {
   "cell_type": "code",
   "execution_count": 17,
   "metadata": {},
   "outputs": [
    {
     "data": {
      "text/html": [
       "<ol>\n",
       "\t<li>0.816358279669657</li>\n",
       "\t<li><ol class=list-inline>\n",
       "\t<li>0.944536539260298</li>\n",
       "\t<li>0.869126152480021</li>\n",
       "</ol>\n",
       "</li>\n",
       "\t<li><ol class=list-inline>\n",
       "\t<li>0.800616069464013</li>\n",
       "\t<li>0.718220355222002</li>\n",
       "\t<li>0.408243342768401</li>\n",
       "</ol>\n",
       "</li>\n",
       "\t<li><ol class=list-inline>\n",
       "\t<li>0.381987466011196</li>\n",
       "\t<li>0.0632652270141989</li>\n",
       "\t<li>0.00439342577010393</li>\n",
       "\t<li>0.142907926114276</li>\n",
       "</ol>\n",
       "</li>\n",
       "\t<li><ol class=list-inline>\n",
       "\t<li>0.99710227153264</li>\n",
       "\t<li>0.665115662151948</li>\n",
       "\t<li>0.134960102150217</li>\n",
       "\t<li>0.0302122046705335</li>\n",
       "\t<li>0.886433576000854</li>\n",
       "</ol>\n",
       "</li>\n",
       "</ol>\n"
      ],
      "text/latex": [
       "\\begin{enumerate}\n",
       "\\item 0.816358279669657\n",
       "\\item \\begin{enumerate*}\n",
       "\\item 0.944536539260298\n",
       "\\item 0.869126152480021\n",
       "\\end{enumerate*}\n",
       "\n",
       "\\item \\begin{enumerate*}\n",
       "\\item 0.800616069464013\n",
       "\\item 0.718220355222002\n",
       "\\item 0.408243342768401\n",
       "\\end{enumerate*}\n",
       "\n",
       "\\item \\begin{enumerate*}\n",
       "\\item 0.381987466011196\n",
       "\\item 0.0632652270141989\n",
       "\\item 0.00439342577010393\n",
       "\\item 0.142907926114276\n",
       "\\end{enumerate*}\n",
       "\n",
       "\\item \\begin{enumerate*}\n",
       "\\item 0.99710227153264\n",
       "\\item 0.665115662151948\n",
       "\\item 0.134960102150217\n",
       "\\item 0.0302122046705335\n",
       "\\item 0.886433576000854\n",
       "\\end{enumerate*}\n",
       "\n",
       "\\end{enumerate}\n"
      ],
      "text/markdown": [
       "1. 0.816358279669657\n",
       "2. 1. 0.944536539260298\n",
       "2. 0.869126152480021\n",
       "\n",
       "\n",
       "\n",
       "3. 1. 0.800616069464013\n",
       "2. 0.718220355222002\n",
       "3. 0.408243342768401\n",
       "\n",
       "\n",
       "\n",
       "4. 1. 0.381987466011196\n",
       "2. 0.0632652270141989\n",
       "3. 0.00439342577010393\n",
       "4. 0.142907926114276\n",
       "\n",
       "\n",
       "\n",
       "5. 1. 0.99710227153264\n",
       "2. 0.665115662151948\n",
       "3. 0.134960102150217\n",
       "4. 0.0302122046705335\n",
       "5. 0.886433576000854\n",
       "\n",
       "\n",
       "\n",
       "\n",
       "\n"
      ],
      "text/plain": [
       "[[1]]\n",
       "[1] 0.8163583\n",
       "\n",
       "[[2]]\n",
       "[1] 0.9445365 0.8691262\n",
       "\n",
       "[[3]]\n",
       "[1] 0.8006161 0.7182204 0.4082433\n",
       "\n",
       "[[4]]\n",
       "[1] 0.381987466 0.063265227 0.004393426 0.142907926\n",
       "\n",
       "[[5]]\n",
       "[1] 0.9971023 0.6651157 0.1349601 0.0302122 0.8864336\n"
      ]
     },
     "metadata": {},
     "output_type": "display_data"
    }
   ],
   "source": [
    "map(1:5, runif)"
   ]
  },
  {
   "cell_type": "markdown",
   "metadata": {},
   "source": [
    "---\n",
    "## Exercise 8\n",
    "This takes samples from normal distributions of means -2, -1, 0, 1, and 2, and returns a list with each element a numeric vectors of length 5."
   ]
  },
  {
   "cell_type": "code",
   "execution_count": 18,
   "metadata": {},
   "outputs": [
    {
     "data": {
      "text/html": [
       "<ol>\n",
       "\t<li><ol class=list-inline>\n",
       "\t<li>-3.92162320244742</li>\n",
       "\t<li>-2.06950674935028</li>\n",
       "\t<li>-1.36586870296231</li>\n",
       "\t<li>-1.27204286988668</li>\n",
       "\t<li>-1.88035185231849</li>\n",
       "</ol>\n",
       "</li>\n",
       "\t<li><ol class=list-inline>\n",
       "\t<li>0.510671786443494</li>\n",
       "\t<li>-0.355659825117417</li>\n",
       "\t<li>-1.27074129799831</li>\n",
       "\t<li>-1.34006574926643</li>\n",
       "\t<li>-0.542136435204187</li>\n",
       "</ol>\n",
       "</li>\n",
       "\t<li><ol class=list-inline>\n",
       "\t<li>-0.384641577549312</li>\n",
       "\t<li>1.36097984266303</li>\n",
       "\t<li>1.33862141529556</li>\n",
       "\t<li>-1.81705152700634</li>\n",
       "\t<li>-0.751301667547491</li>\n",
       "</ol>\n",
       "</li>\n",
       "\t<li><ol class=list-inline>\n",
       "\t<li>0.938133317440879</li>\n",
       "\t<li>1.30533976275759</li>\n",
       "\t<li>-0.189854034956809</li>\n",
       "\t<li>0.844582534174655</li>\n",
       "\t<li>2.05462946313482</li>\n",
       "</ol>\n",
       "</li>\n",
       "\t<li><ol class=list-inline>\n",
       "\t<li>1.56650569109549</li>\n",
       "\t<li>2.57028360691573</li>\n",
       "\t<li>0.405605886162016</li>\n",
       "\t<li>1.63836174956862</li>\n",
       "\t<li>0.792605936263219</li>\n",
       "</ol>\n",
       "</li>\n",
       "</ol>\n"
      ],
      "text/latex": [
       "\\begin{enumerate}\n",
       "\\item \\begin{enumerate*}\n",
       "\\item -3.92162320244742\n",
       "\\item -2.06950674935028\n",
       "\\item -1.36586870296231\n",
       "\\item -1.27204286988668\n",
       "\\item -1.88035185231849\n",
       "\\end{enumerate*}\n",
       "\n",
       "\\item \\begin{enumerate*}\n",
       "\\item 0.510671786443494\n",
       "\\item -0.355659825117417\n",
       "\\item -1.27074129799831\n",
       "\\item -1.34006574926643\n",
       "\\item -0.542136435204187\n",
       "\\end{enumerate*}\n",
       "\n",
       "\\item \\begin{enumerate*}\n",
       "\\item -0.384641577549312\n",
       "\\item 1.36097984266303\n",
       "\\item 1.33862141529556\n",
       "\\item -1.81705152700634\n",
       "\\item -0.751301667547491\n",
       "\\end{enumerate*}\n",
       "\n",
       "\\item \\begin{enumerate*}\n",
       "\\item 0.938133317440879\n",
       "\\item 1.30533976275759\n",
       "\\item -0.189854034956809\n",
       "\\item 0.844582534174655\n",
       "\\item 2.05462946313482\n",
       "\\end{enumerate*}\n",
       "\n",
       "\\item \\begin{enumerate*}\n",
       "\\item 1.56650569109549\n",
       "\\item 2.57028360691573\n",
       "\\item 0.405605886162016\n",
       "\\item 1.63836174956862\n",
       "\\item 0.792605936263219\n",
       "\\end{enumerate*}\n",
       "\n",
       "\\end{enumerate}\n"
      ],
      "text/markdown": [
       "1. 1. -3.92162320244742\n",
       "2. -2.06950674935028\n",
       "3. -1.36586870296231\n",
       "4. -1.27204286988668\n",
       "5. -1.88035185231849\n",
       "\n",
       "\n",
       "\n",
       "2. 1. 0.510671786443494\n",
       "2. -0.355659825117417\n",
       "3. -1.27074129799831\n",
       "4. -1.34006574926643\n",
       "5. -0.542136435204187\n",
       "\n",
       "\n",
       "\n",
       "3. 1. -0.384641577549312\n",
       "2. 1.36097984266303\n",
       "3. 1.33862141529556\n",
       "4. -1.81705152700634\n",
       "5. -0.751301667547491\n",
       "\n",
       "\n",
       "\n",
       "4. 1. 0.938133317440879\n",
       "2. 1.30533976275759\n",
       "3. -0.189854034956809\n",
       "4. 0.844582534174655\n",
       "5. 2.05462946313482\n",
       "\n",
       "\n",
       "\n",
       "5. 1. 1.56650569109549\n",
       "2. 2.57028360691573\n",
       "3. 0.405605886162016\n",
       "4. 1.63836174956862\n",
       "5. 0.792605936263219\n",
       "\n",
       "\n",
       "\n",
       "\n",
       "\n"
      ],
      "text/plain": [
       "[[1]]\n",
       "[1] -3.921623 -2.069507 -1.365869 -1.272043 -1.880352\n",
       "\n",
       "[[2]]\n",
       "[1]  0.5106718 -0.3556598 -1.2707413 -1.3400657 -0.5421364\n",
       "\n",
       "[[3]]\n",
       "[1] -0.3846416  1.3609798  1.3386214 -1.8170515 -0.7513017\n",
       "\n",
       "[[4]]\n",
       "[1]  0.9381333  1.3053398 -0.1898540  0.8445825  2.0546295\n",
       "\n",
       "[[5]]\n",
       "[1] 1.5665057 2.5702836 0.4056059 1.6383617 0.7926059\n"
      ]
     },
     "metadata": {},
     "output_type": "display_data"
    }
   ],
   "source": [
    "map(-2:2, rnorm, n = 5)"
   ]
  },
  {
   "cell_type": "markdown",
   "metadata": {},
   "source": [
    "However, if we use map_dbl it throws an error. map_dbl expects the function to return a numeric vector of length one."
   ]
  },
  {
   "cell_type": "code",
   "execution_count": 19,
   "metadata": {},
   "outputs": [],
   "source": [
    "# map_dbl(-2:2, rnorm, n = 5)\n",
    "# Error: Result 1 is not a length 1 atomic vector"
   ]
  }
 ],
 "metadata": {
  "kernelspec": {
   "display_name": "R",
   "language": "R",
   "name": "ir"
  },
  "language_info": {
   "codemirror_mode": "r",
   "file_extension": ".r",
   "mimetype": "text/x-r-source",
   "name": "R",
   "pygments_lexer": "r",
   "version": "3.5.1"
  }
 },
 "nbformat": 4,
 "nbformat_minor": 2
}
