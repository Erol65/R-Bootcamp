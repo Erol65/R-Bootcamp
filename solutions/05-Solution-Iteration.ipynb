{
 "cells": [
  {
   "cell_type": "markdown",
   "metadata": {},
   "source": [
    "# Iteration\n",
    "---"
   ]
  },
  {
   "cell_type": "code",
   "execution_count": 1,
   "metadata": {},
   "outputs": [
    {
     "name": "stderr",
     "output_type": "stream",
     "text": [
      "── Attaching packages ─────────────────────────────────────── tidyverse 1.2.1 ──\n",
      "✔ ggplot2 3.0.0     ✔ purrr   0.2.5\n",
      "✔ tibble  1.4.2     ✔ dplyr   0.7.6\n",
      "✔ tidyr   0.8.1     ✔ stringr 1.3.1\n",
      "✔ readr   1.1.1     ✔ forcats 0.3.0\n",
      "── Conflicts ────────────────────────────────────────── tidyverse_conflicts() ──\n",
      "✖ dplyr::filter() masks stats::filter()\n",
      "✖ dplyr::lag()    masks stats::lag()\n"
     ]
    }
   ],
   "source": [
    "# Attaching libraries\n",
    "library(tidyverse)\n",
    "\n",
    "# install.packages('nycflights13')  \n",
    "library(nycflights13)"
   ]
  },
  {
   "cell_type": "markdown",
   "metadata": {},
   "source": [
    "## Exercise 1"
   ]
  },
  {
   "cell_type": "code",
   "execution_count": 2,
   "metadata": {},
   "outputs": [
    {
     "data": {
      "text/html": [
       "<dl class=dl-horizontal>\n",
       "\t<dt>mpg</dt>\n",
       "\t\t<dd>20.090625</dd>\n",
       "\t<dt>cyl</dt>\n",
       "\t\t<dd>6.1875</dd>\n",
       "\t<dt>disp</dt>\n",
       "\t\t<dd>230.721875</dd>\n",
       "\t<dt>hp</dt>\n",
       "\t\t<dd>146.6875</dd>\n",
       "\t<dt>drat</dt>\n",
       "\t\t<dd>3.5965625</dd>\n",
       "\t<dt>wt</dt>\n",
       "\t\t<dd>3.21725</dd>\n",
       "\t<dt>qsec</dt>\n",
       "\t\t<dd>17.84875</dd>\n",
       "\t<dt>vs</dt>\n",
       "\t\t<dd>0.4375</dd>\n",
       "\t<dt>am</dt>\n",
       "\t\t<dd>0.40625</dd>\n",
       "\t<dt>gear</dt>\n",
       "\t\t<dd>3.6875</dd>\n",
       "\t<dt>carb</dt>\n",
       "\t\t<dd>2.8125</dd>\n",
       "</dl>\n"
      ],
      "text/latex": [
       "\\begin{description*}\n",
       "\\item[mpg] 20.090625\n",
       "\\item[cyl] 6.1875\n",
       "\\item[disp] 230.721875\n",
       "\\item[hp] 146.6875\n",
       "\\item[drat] 3.5965625\n",
       "\\item[wt] 3.21725\n",
       "\\item[qsec] 17.84875\n",
       "\\item[vs] 0.4375\n",
       "\\item[am] 0.40625\n",
       "\\item[gear] 3.6875\n",
       "\\item[carb] 2.8125\n",
       "\\end{description*}\n"
      ],
      "text/markdown": [
       "mpg\n",
       ":   20.090625cyl\n",
       ":   6.1875disp\n",
       ":   230.721875hp\n",
       ":   146.6875drat\n",
       ":   3.5965625wt\n",
       ":   3.21725qsec\n",
       ":   17.84875vs\n",
       ":   0.4375am\n",
       ":   0.40625gear\n",
       ":   3.6875carb\n",
       ":   2.8125\n",
       "\n"
      ],
      "text/plain": [
       "       mpg        cyl       disp         hp       drat         wt       qsec \n",
       " 20.090625   6.187500 230.721875 146.687500   3.596563   3.217250  17.848750 \n",
       "        vs         am       gear       carb \n",
       "  0.437500   0.406250   3.687500   2.812500 "
      ]
     },
     "metadata": {},
     "output_type": "display_data"
    }
   ],
   "source": [
    "output <- vector(\"double\", ncol(mtcars))\n",
    "names(output) <- names(mtcars)\n",
    "for (i in names(mtcars)) {\n",
    "  output[i] <- mean(mtcars[[i]])\n",
    "}\n",
    "output"
   ]
  },
  {
   "cell_type": "markdown",
   "metadata": {},
   "source": [
    "We need to use a list, not a character vector, since the class can have multiple values."
   ]
  },
  {
   "cell_type": "code",
   "execution_count": 3,
   "metadata": {},
   "outputs": [
    {
     "data": {
      "text/html": [
       "<dl>\n",
       "\t<dt>$year</dt>\n",
       "\t\t<dd>'integer'</dd>\n",
       "\t<dt>$month</dt>\n",
       "\t\t<dd>'integer'</dd>\n",
       "\t<dt>$day</dt>\n",
       "\t\t<dd>'integer'</dd>\n",
       "\t<dt>$dep_time</dt>\n",
       "\t\t<dd>'integer'</dd>\n",
       "\t<dt>$sched_dep_time</dt>\n",
       "\t\t<dd>'integer'</dd>\n",
       "\t<dt>$dep_delay</dt>\n",
       "\t\t<dd>'numeric'</dd>\n",
       "\t<dt>$arr_time</dt>\n",
       "\t\t<dd>'integer'</dd>\n",
       "\t<dt>$sched_arr_time</dt>\n",
       "\t\t<dd>'integer'</dd>\n",
       "\t<dt>$arr_delay</dt>\n",
       "\t\t<dd>'numeric'</dd>\n",
       "\t<dt>$carrier</dt>\n",
       "\t\t<dd>'character'</dd>\n",
       "\t<dt>$flight</dt>\n",
       "\t\t<dd>'integer'</dd>\n",
       "\t<dt>$tailnum</dt>\n",
       "\t\t<dd>'character'</dd>\n",
       "\t<dt>$origin</dt>\n",
       "\t\t<dd>'character'</dd>\n",
       "\t<dt>$dest</dt>\n",
       "\t\t<dd>'character'</dd>\n",
       "\t<dt>$air_time</dt>\n",
       "\t\t<dd>'numeric'</dd>\n",
       "\t<dt>$distance</dt>\n",
       "\t\t<dd>'numeric'</dd>\n",
       "\t<dt>$hour</dt>\n",
       "\t\t<dd>'numeric'</dd>\n",
       "\t<dt>$minute</dt>\n",
       "\t\t<dd>'numeric'</dd>\n",
       "\t<dt>$time_hour</dt>\n",
       "\t\t<dd><ol class=list-inline>\n",
       "\t<li>'POSIXct'</li>\n",
       "\t<li>'POSIXt'</li>\n",
       "</ol>\n",
       "</dd>\n",
       "</dl>\n"
      ],
      "text/latex": [
       "\\begin{description}\n",
       "\\item[\\$year] 'integer'\n",
       "\\item[\\$month] 'integer'\n",
       "\\item[\\$day] 'integer'\n",
       "\\item[\\$dep\\_time] 'integer'\n",
       "\\item[\\$sched\\_dep\\_time] 'integer'\n",
       "\\item[\\$dep\\_delay] 'numeric'\n",
       "\\item[\\$arr\\_time] 'integer'\n",
       "\\item[\\$sched\\_arr\\_time] 'integer'\n",
       "\\item[\\$arr\\_delay] 'numeric'\n",
       "\\item[\\$carrier] 'character'\n",
       "\\item[\\$flight] 'integer'\n",
       "\\item[\\$tailnum] 'character'\n",
       "\\item[\\$origin] 'character'\n",
       "\\item[\\$dest] 'character'\n",
       "\\item[\\$air\\_time] 'numeric'\n",
       "\\item[\\$distance] 'numeric'\n",
       "\\item[\\$hour] 'numeric'\n",
       "\\item[\\$minute] 'numeric'\n",
       "\\item[\\$time\\_hour] \\begin{enumerate*}\n",
       "\\item 'POSIXct'\n",
       "\\item 'POSIXt'\n",
       "\\end{enumerate*}\n",
       "\n",
       "\\end{description}\n"
      ],
      "text/markdown": [
       "$year\n",
       ":   'integer'\n",
       "$month\n",
       ":   'integer'\n",
       "$day\n",
       ":   'integer'\n",
       "$dep_time\n",
       ":   'integer'\n",
       "$sched_dep_time\n",
       ":   'integer'\n",
       "$dep_delay\n",
       ":   'numeric'\n",
       "$arr_time\n",
       ":   'integer'\n",
       "$sched_arr_time\n",
       ":   'integer'\n",
       "$arr_delay\n",
       ":   'numeric'\n",
       "$carrier\n",
       ":   'character'\n",
       "$flight\n",
       ":   'integer'\n",
       "$tailnum\n",
       ":   'character'\n",
       "$origin\n",
       ":   'character'\n",
       "$dest\n",
       ":   'character'\n",
       "$air_time\n",
       ":   'numeric'\n",
       "$distance\n",
       ":   'numeric'\n",
       "$hour\n",
       ":   'numeric'\n",
       "$minute\n",
       ":   'numeric'\n",
       "$time_hour\n",
       ":   1. 'POSIXct'\n",
       "2. 'POSIXt'\n",
       "\n",
       "\n",
       "\n",
       "\n",
       "\n"
      ],
      "text/plain": [
       "$year\n",
       "[1] \"integer\"\n",
       "\n",
       "$month\n",
       "[1] \"integer\"\n",
       "\n",
       "$day\n",
       "[1] \"integer\"\n",
       "\n",
       "$dep_time\n",
       "[1] \"integer\"\n",
       "\n",
       "$sched_dep_time\n",
       "[1] \"integer\"\n",
       "\n",
       "$dep_delay\n",
       "[1] \"numeric\"\n",
       "\n",
       "$arr_time\n",
       "[1] \"integer\"\n",
       "\n",
       "$sched_arr_time\n",
       "[1] \"integer\"\n",
       "\n",
       "$arr_delay\n",
       "[1] \"numeric\"\n",
       "\n",
       "$carrier\n",
       "[1] \"character\"\n",
       "\n",
       "$flight\n",
       "[1] \"integer\"\n",
       "\n",
       "$tailnum\n",
       "[1] \"character\"\n",
       "\n",
       "$origin\n",
       "[1] \"character\"\n",
       "\n",
       "$dest\n",
       "[1] \"character\"\n",
       "\n",
       "$air_time\n",
       "[1] \"numeric\"\n",
       "\n",
       "$distance\n",
       "[1] \"numeric\"\n",
       "\n",
       "$hour\n",
       "[1] \"numeric\"\n",
       "\n",
       "$minute\n",
       "[1] \"numeric\"\n",
       "\n",
       "$time_hour\n",
       "[1] \"POSIXct\" \"POSIXt\" \n"
      ]
     },
     "metadata": {},
     "output_type": "display_data"
    }
   ],
   "source": [
    "output <- vector(\"list\", ncol(flights))\n",
    "names(output) <- names(flights)\n",
    "for (i in seq_along(flights)) {\n",
    "    output[[i]] <- class(flights[[i]])\n",
    "}\n",
    "output"
   ]
  },
  {
   "cell_type": "code",
   "execution_count": 4,
   "metadata": {},
   "outputs": [
    {
     "data": {
      "text/html": [
       "<dl class=dl-horizontal>\n",
       "\t<dt>Sepal.Length</dt>\n",
       "\t\t<dd>35</dd>\n",
       "\t<dt>Sepal.Width</dt>\n",
       "\t\t<dd>23</dd>\n",
       "\t<dt>Petal.Length</dt>\n",
       "\t\t<dd>43</dd>\n",
       "\t<dt>Petal.Width</dt>\n",
       "\t\t<dd>22</dd>\n",
       "\t<dt>Species</dt>\n",
       "\t\t<dd>3</dd>\n",
       "</dl>\n"
      ],
      "text/latex": [
       "\\begin{description*}\n",
       "\\item[Sepal.Length] 35\n",
       "\\item[Sepal.Width] 23\n",
       "\\item[Petal.Length] 43\n",
       "\\item[Petal.Width] 22\n",
       "\\item[Species] 3\n",
       "\\end{description*}\n"
      ],
      "text/markdown": [
       "Sepal.Length\n",
       ":   35Sepal.Width\n",
       ":   23Petal.Length\n",
       ":   43Petal.Width\n",
       ":   22Species\n",
       ":   3\n",
       "\n"
      ],
      "text/plain": [
       "Sepal.Length  Sepal.Width Petal.Length  Petal.Width      Species \n",
       "          35           23           43           22            3 "
      ]
     },
     "metadata": {},
     "output_type": "display_data"
    }
   ],
   "source": [
    "data(\"iris\")\n",
    "iris_uniq <- vector(\"double\", ncol(iris))\n",
    "names(iris_uniq) <- names(iris)\n",
    "for (i in names(iris)) {\n",
    "  iris_uniq[i] <- length(unique(iris[[i]]))\n",
    "}\n",
    "iris_uniq"
   ]
  },
  {
   "cell_type": "markdown",
   "metadata": {},
   "source": [
    "---\n",
    "## Exercise 2"
   ]
  },
  {
   "cell_type": "code",
   "execution_count": 5,
   "metadata": {},
   "outputs": [
    {
     "data": {
      "text/html": [
       "'abcdefghijklmnopqrstuvwxyz'"
      ],
      "text/latex": [
       "'abcdefghijklmnopqrstuvwxyz'"
      ],
      "text/markdown": [
       "'abcdefghijklmnopqrstuvwxyz'"
      ],
      "text/plain": [
       "[1] \"abcdefghijklmnopqrstuvwxyz\""
      ]
     },
     "metadata": {},
     "output_type": "display_data"
    }
   ],
   "source": [
    "str_c(letters, collapse = \"\")"
   ]
  },
  {
   "cell_type": "code",
   "execution_count": 6,
   "metadata": {},
   "outputs": [
    {
     "data": {
      "text/html": [
       "29.011491975882"
      ],
      "text/latex": [
       "29.011491975882"
      ],
      "text/markdown": [
       "29.011491975882"
      ],
      "text/plain": [
       "[1] 29.01149"
      ]
     },
     "metadata": {},
     "output_type": "display_data"
    }
   ],
   "source": [
    "x <- sample(100)\n",
    "sd(x)"
   ]
  },
  {
   "cell_type": "markdown",
   "metadata": {},
   "source": [
    "Or if there was a need to use the equation (e.g. for pedagogical reasons), then the functions `mean()` and `sum()` already work with vectors:"
   ]
  },
  {
   "cell_type": "code",
   "execution_count": 7,
   "metadata": {},
   "outputs": [
    {
     "data": {
      "text/html": [
       "29.011491975882"
      ],
      "text/latex": [
       "29.011491975882"
      ],
      "text/markdown": [
       "29.011491975882"
      ],
      "text/plain": [
       "[1] 29.01149"
      ]
     },
     "metadata": {},
     "output_type": "display_data"
    }
   ],
   "source": [
    "sqrt(sum((x - mean(x)) ^ 2) / (length(x) - 1))"
   ]
  },
  {
   "cell_type": "markdown",
   "metadata": {},
   "source": [
    "---\n",
    "## Exercise 3"
   ]
  },
  {
   "cell_type": "code",
   "execution_count": 8,
   "metadata": {
    "collapsed": true
   },
   "outputs": [],
   "source": [
    "show_mean <- function(df, digits = 2) {\n",
    "    for (nm in names(df)){\n",
    "        if (is.numeric(df[[nm]])) {\n",
    "            cat(paste(nm, format(mean(df[[nm]]), digits = digits, nsmall = digits)), \"\\n\")\n",
    "        }\n",
    "    }\n",
    "}"
   ]
  },
  {
   "cell_type": "code",
   "execution_count": 9,
   "metadata": {},
   "outputs": [
    {
     "name": "stdout",
     "output_type": "stream",
     "text": [
      "Sepal.Length 5.84 \n",
      "Sepal.Width 3.06 \n",
      "Petal.Length 3.76 \n",
      "Petal.Width 1.20 \n"
     ]
    }
   ],
   "source": [
    "show_mean(iris)"
   ]
  }
 ],
 "metadata": {
  "kernelspec": {
   "display_name": "R",
   "language": "R",
   "name": "ir"
  },
  "language_info": {
   "codemirror_mode": "r",
   "file_extension": ".r",
   "mimetype": "text/x-r-source",
   "name": "R",
   "pygments_lexer": "r",
   "version": "3.5.1"
  }
 },
 "nbformat": 4,
 "nbformat_minor": 2
}
