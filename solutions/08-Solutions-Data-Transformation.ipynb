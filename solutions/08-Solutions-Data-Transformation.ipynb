{
 "cells": [
  {
   "cell_type": "code",
   "execution_count": 1,
   "metadata": {},
   "outputs": [
    {
     "name": "stderr",
     "output_type": "stream",
     "text": [
      "── Attaching packages ─────────────────────────────────────── tidyverse 1.2.1 ──\n",
      "✔ ggplot2 3.0.0     ✔ purrr   0.2.5\n",
      "✔ tibble  1.4.2     ✔ dplyr   0.7.6\n",
      "✔ tidyr   0.8.1     ✔ stringr 1.3.1\n",
      "✔ readr   1.1.1     ✔ forcats 0.3.0\n",
      "── Conflicts ────────────────────────────────────────── tidyverse_conflicts() ──\n",
      "✖ dplyr::filter() masks stats::filter()\n",
      "✖ dplyr::lag()    masks stats::lag()\n"
     ]
    }
   ],
   "source": [
    "# loading libraries\n",
    "library(tidyverse)\n",
    "library(nycflights13)\n",
    "\n",
    "# modifying chart size\n",
    "options(repr.plot.width=5, repr.plot.height=3)"
   ]
  },
  {
   "cell_type": "markdown",
   "metadata": {},
   "source": [
    "---\n",
    "## Exercise 1"
   ]
  },
  {
   "cell_type": "code",
   "execution_count": 2,
   "metadata": {},
   "outputs": [
    {
     "name": "stdout",
     "output_type": "stream",
     "text": [
      "# A tibble: 10,200 x 19\n",
      "    year month   day dep_time sched_dep_time dep_delay arr_time sched_arr_time\n",
      "   <int> <int> <int>    <int>          <int>     <dbl>    <int>          <int>\n",
      " 1  2013     1     1      811            630       101     1047            830\n",
      " 2  2013     1     1      848           1835       853     1001           1950\n",
      " 3  2013     1     1      957            733       144     1056            853\n",
      " 4  2013     1     1     1114            900       134     1447           1222\n",
      " 5  2013     1     1     1505           1310       115     1638           1431\n",
      " 6  2013     1     1     1525           1340       105     1831           1626\n",
      " 7  2013     1     1     1549           1445        64     1912           1656\n",
      " 8  2013     1     1     1558           1359       119     1718           1515\n",
      " 9  2013     1     1     1732           1630        62     2028           1825\n",
      "10  2013     1     1     1803           1620       103     2008           1750\n",
      "# ... with 10,190 more rows, and 11 more variables: arr_delay <dbl>,\n",
      "#   carrier <chr>, flight <int>, tailnum <chr>, origin <chr>, dest <chr>,\n",
      "#   air_time <dbl>, distance <dbl>, hour <dbl>, minute <dbl>, time_hour <dttm>\n"
     ]
    }
   ],
   "source": [
    "# 1\n",
    "filter(flights, arr_delay >= 120) %>%\n",
    "  print"
   ]
  },
  {
   "cell_type": "code",
   "execution_count": 3,
   "metadata": {},
   "outputs": [
    {
     "name": "stdout",
     "output_type": "stream",
     "text": [
      "# A tibble: 9,313 x 19\n",
      "    year month   day dep_time sched_dep_time dep_delay arr_time sched_arr_time\n",
      "   <int> <int> <int>    <int>          <int>     <dbl>    <int>          <int>\n",
      " 1  2013     1     1      517            515         2      830            819\n",
      " 2  2013     1     1      533            529         4      850            830\n",
      " 3  2013     1     1      623            627        -4      933            932\n",
      " 4  2013     1     1      728            732        -4     1041           1038\n",
      " 5  2013     1     1      739            739         0     1104           1038\n",
      " 6  2013     1     1      908            908         0     1228           1219\n",
      " 7  2013     1     1     1028           1026         2     1350           1339\n",
      " 8  2013     1     1     1044           1045        -1     1352           1351\n",
      " 9  2013     1     1     1114            900       134     1447           1222\n",
      "10  2013     1     1     1205           1200         5     1503           1505\n",
      "# ... with 9,303 more rows, and 11 more variables: arr_delay <dbl>,\n",
      "#   carrier <chr>, flight <int>, tailnum <chr>, origin <chr>, dest <chr>,\n",
      "#   air_time <dbl>, distance <dbl>, hour <dbl>, minute <dbl>, time_hour <dttm>\n"
     ]
    }
   ],
   "source": [
    "# 2\n",
    "filter(flights, dest == \"IAH\" | dest == \"HOU\") %>%\n",
    "  print\n",
    "\n",
    "# or filter(flights, dest %in% c(\"IAH\", \"HOU\"))"
   ]
  },
  {
   "cell_type": "code",
   "execution_count": 4,
   "metadata": {},
   "outputs": [
    {
     "data": {
      "text/html": [
       "<table>\n",
       "<thead><tr><th scope=col>carrier</th><th scope=col>name</th></tr></thead>\n",
       "<tbody>\n",
       "\t<tr><td>9E                         </td><td>Endeavor Air Inc.          </td></tr>\n",
       "\t<tr><td>AA                         </td><td>American Airlines Inc.     </td></tr>\n",
       "\t<tr><td>AS                         </td><td>Alaska Airlines Inc.       </td></tr>\n",
       "\t<tr><td>B6                         </td><td>JetBlue Airways            </td></tr>\n",
       "\t<tr><td>DL                         </td><td>Delta Air Lines Inc.       </td></tr>\n",
       "\t<tr><td>EV                         </td><td>ExpressJet Airlines Inc.   </td></tr>\n",
       "\t<tr><td>F9                         </td><td>Frontier Airlines Inc.     </td></tr>\n",
       "\t<tr><td>FL                         </td><td>AirTran Airways Corporation</td></tr>\n",
       "\t<tr><td>HA                         </td><td>Hawaiian Airlines Inc.     </td></tr>\n",
       "\t<tr><td>MQ                         </td><td>Envoy Air                  </td></tr>\n",
       "\t<tr><td>OO                         </td><td>SkyWest Airlines Inc.      </td></tr>\n",
       "\t<tr><td>UA                         </td><td>United Air Lines Inc.      </td></tr>\n",
       "\t<tr><td>US                         </td><td>US Airways Inc.            </td></tr>\n",
       "\t<tr><td>VX                         </td><td>Virgin America             </td></tr>\n",
       "\t<tr><td>WN                         </td><td>Southwest Airlines Co.     </td></tr>\n",
       "\t<tr><td>YV                         </td><td>Mesa Airlines Inc.         </td></tr>\n",
       "</tbody>\n",
       "</table>\n"
      ],
      "text/latex": [
       "\\begin{tabular}{r|ll}\n",
       " carrier & name\\\\\n",
       "\\hline\n",
       "\t 9E                          & Endeavor Air Inc.          \\\\\n",
       "\t AA                          & American Airlines Inc.     \\\\\n",
       "\t AS                          & Alaska Airlines Inc.       \\\\\n",
       "\t B6                          & JetBlue Airways            \\\\\n",
       "\t DL                          & Delta Air Lines Inc.       \\\\\n",
       "\t EV                          & ExpressJet Airlines Inc.   \\\\\n",
       "\t F9                          & Frontier Airlines Inc.     \\\\\n",
       "\t FL                          & AirTran Airways Corporation\\\\\n",
       "\t HA                          & Hawaiian Airlines Inc.     \\\\\n",
       "\t MQ                          & Envoy Air                  \\\\\n",
       "\t OO                          & SkyWest Airlines Inc.      \\\\\n",
       "\t UA                          & United Air Lines Inc.      \\\\\n",
       "\t US                          & US Airways Inc.            \\\\\n",
       "\t VX                          & Virgin America             \\\\\n",
       "\t WN                          & Southwest Airlines Co.     \\\\\n",
       "\t YV                          & Mesa Airlines Inc.         \\\\\n",
       "\\end{tabular}\n"
      ],
      "text/markdown": [
       "\n",
       "carrier | name | \n",
       "|---|---|---|---|---|---|---|---|---|---|---|---|---|---|---|---|\n",
       "| 9E                          | Endeavor Air Inc.           | \n",
       "| AA                          | American Airlines Inc.      | \n",
       "| AS                          | Alaska Airlines Inc.        | \n",
       "| B6                          | JetBlue Airways             | \n",
       "| DL                          | Delta Air Lines Inc.        | \n",
       "| EV                          | ExpressJet Airlines Inc.    | \n",
       "| F9                          | Frontier Airlines Inc.      | \n",
       "| FL                          | AirTran Airways Corporation | \n",
       "| HA                          | Hawaiian Airlines Inc.      | \n",
       "| MQ                          | Envoy Air                   | \n",
       "| OO                          | SkyWest Airlines Inc.       | \n",
       "| UA                          | United Air Lines Inc.       | \n",
       "| US                          | US Airways Inc.             | \n",
       "| VX                          | Virgin America              | \n",
       "| WN                          | Southwest Airlines Co.      | \n",
       "| YV                          | Mesa Airlines Inc.          | \n",
       "\n",
       "\n"
      ],
      "text/plain": [
       "   carrier name                       \n",
       "1  9E      Endeavor Air Inc.          \n",
       "2  AA      American Airlines Inc.     \n",
       "3  AS      Alaska Airlines Inc.       \n",
       "4  B6      JetBlue Airways            \n",
       "5  DL      Delta Air Lines Inc.       \n",
       "6  EV      ExpressJet Airlines Inc.   \n",
       "7  F9      Frontier Airlines Inc.     \n",
       "8  FL      AirTran Airways Corporation\n",
       "9  HA      Hawaiian Airlines Inc.     \n",
       "10 MQ      Envoy Air                  \n",
       "11 OO      SkyWest Airlines Inc.      \n",
       "12 UA      United Air Lines Inc.      \n",
       "13 US      US Airways Inc.            \n",
       "14 VX      Virgin America             \n",
       "15 WN      Southwest Airlines Co.     \n",
       "16 YV      Mesa Airlines Inc.         "
      ]
     },
     "metadata": {},
     "output_type": "display_data"
    }
   ],
   "source": [
    "# 3\n",
    "airlines  "
   ]
  },
  {
   "cell_type": "code",
   "execution_count": 5,
   "metadata": {},
   "outputs": [
    {
     "name": "stdout",
     "output_type": "stream",
     "text": [
      "# A tibble: 139,504 x 19\n",
      "    year month   day dep_time sched_dep_time dep_delay arr_time sched_arr_time\n",
      "   <int> <int> <int>    <int>          <int>     <dbl>    <int>          <int>\n",
      " 1  2013     1     1      517            515         2      830            819\n",
      " 2  2013     1     1      533            529         4      850            830\n",
      " 3  2013     1     1      542            540         2      923            850\n",
      " 4  2013     1     1      554            600        -6      812            837\n",
      " 5  2013     1     1      554            558        -4      740            728\n",
      " 6  2013     1     1      558            600        -2      753            745\n",
      " 7  2013     1     1      558            600        -2      924            917\n",
      " 8  2013     1     1      558            600        -2      923            937\n",
      " 9  2013     1     1      559            600        -1      941            910\n",
      "10  2013     1     1      559            600        -1      854            902\n",
      "# ... with 139,494 more rows, and 11 more variables: arr_delay <dbl>,\n",
      "#   carrier <chr>, flight <int>, tailnum <chr>, origin <chr>, dest <chr>,\n",
      "#   air_time <dbl>, distance <dbl>, hour <dbl>, minute <dbl>, time_hour <dttm>\n"
     ]
    }
   ],
   "source": [
    "filter(flights, carrier %in% c(\"AA\", \"DL\", \"UA\")) %>%\n",
    "  print"
   ]
  },
  {
   "cell_type": "code",
   "execution_count": 6,
   "metadata": {},
   "outputs": [
    {
     "name": "stdout",
     "output_type": "stream",
     "text": [
      "# A tibble: 86,326 x 19\n",
      "    year month   day dep_time sched_dep_time dep_delay arr_time sched_arr_time\n",
      "   <int> <int> <int>    <int>          <int>     <dbl>    <int>          <int>\n",
      " 1  2013     7     1        1           2029       212      236           2359\n",
      " 2  2013     7     1        2           2359         3      344            344\n",
      " 3  2013     7     1       29           2245       104      151              1\n",
      " 4  2013     7     1       43           2130       193      322             14\n",
      " 5  2013     7     1       44           2150       174      300            100\n",
      " 6  2013     7     1       46           2051       235      304           2358\n",
      " 7  2013     7     1       48           2001       287      308           2305\n",
      " 8  2013     7     1       58           2155       183      335             43\n",
      " 9  2013     7     1      100           2146       194      327             30\n",
      "10  2013     7     1      100           2245       135      337            135\n",
      "# ... with 86,316 more rows, and 11 more variables: arr_delay <dbl>,\n",
      "#   carrier <chr>, flight <int>, tailnum <chr>, origin <chr>, dest <chr>,\n",
      "#   air_time <dbl>, distance <dbl>, hour <dbl>, minute <dbl>, time_hour <dttm>\n"
     ]
    }
   ],
   "source": [
    "# 4\n",
    "filter(flights, month %in%  c(7, 8, 9)) %>%\n",
    "  print"
   ]
  },
  {
   "cell_type": "code",
   "execution_count": 7,
   "metadata": {},
   "outputs": [
    {
     "name": "stdout",
     "output_type": "stream",
     "text": [
      "# A tibble: 29 x 19\n",
      "    year month   day dep_time sched_dep_time dep_delay arr_time sched_arr_time\n",
      "   <int> <int> <int>    <int>          <int>     <dbl>    <int>          <int>\n",
      " 1  2013     1    27     1419           1420        -1     1754           1550\n",
      " 2  2013    10     7     1350           1350         0     1736           1526\n",
      " 3  2013    10     7     1357           1359        -2     1858           1654\n",
      " 4  2013    10    16      657            700        -3     1258           1056\n",
      " 5  2013    11     1      658            700        -2     1329           1015\n",
      " 6  2013     3    18     1844           1847        -3       39           2219\n",
      " 7  2013     4    17     1635           1640        -5     2049           1845\n",
      " 8  2013     4    18      558            600        -2     1149            850\n",
      " 9  2013     4    18      655            700        -5     1213            950\n",
      "10  2013     5    22     1827           1830        -3     2217           2010\n",
      "# ... with 19 more rows, and 11 more variables: arr_delay <dbl>, carrier <chr>,\n",
      "#   flight <int>, tailnum <chr>, origin <chr>, dest <chr>, air_time <dbl>,\n",
      "#   distance <dbl>, hour <dbl>, minute <dbl>, time_hour <dttm>\n"
     ]
    }
   ],
   "source": [
    "# 5\n",
    "filter(flights, dep_delay <= 0, arr_delay > 120) %>%\n",
    "  print"
   ]
  },
  {
   "cell_type": "code",
   "execution_count": 8,
   "metadata": {},
   "outputs": [
    {
     "name": "stdout",
     "output_type": "stream",
     "text": [
      "# A tibble: 1,844 x 19\n",
      "    year month   day dep_time sched_dep_time dep_delay arr_time sched_arr_time\n",
      "   <int> <int> <int>    <int>          <int>     <dbl>    <int>          <int>\n",
      " 1  2013     1     1     2205           1720       285       46           2040\n",
      " 2  2013     1     1     2326           2130       116      131             18\n",
      " 3  2013     1     3     1503           1221       162     1803           1555\n",
      " 4  2013     1     3     1839           1700        99     2056           1950\n",
      " 5  2013     1     3     1850           1745        65     2148           2120\n",
      " 6  2013     1     3     1941           1759       102     2246           2139\n",
      " 7  2013     1     3     1950           1845        65     2228           2227\n",
      " 8  2013     1     3     2015           1915        60     2135           2111\n",
      " 9  2013     1     3     2257           2000       177       45           2224\n",
      "10  2013     1     4     1917           1700       137     2135           1950\n",
      "# ... with 1,834 more rows, and 11 more variables: arr_delay <dbl>,\n",
      "#   carrier <chr>, flight <int>, tailnum <chr>, origin <chr>, dest <chr>,\n",
      "#   air_time <dbl>, distance <dbl>, hour <dbl>, minute <dbl>, time_hour <dttm>\n"
     ]
    }
   ],
   "source": [
    "# 6\n",
    "filter(flights, dep_delay >= 60, dep_delay - arr_delay > 30) %>%\n",
    "  print"
   ]
  },
  {
   "cell_type": "code",
   "execution_count": 9,
   "metadata": {},
   "outputs": [
    {
     "name": "stdout",
     "output_type": "stream",
     "text": [
      "# A tibble: 9,373 x 19\n",
      "    year month   day dep_time sched_dep_time dep_delay arr_time sched_arr_time\n",
      "   <int> <int> <int>    <int>          <int>     <dbl>    <int>          <int>\n",
      " 1  2013     1     1      517            515         2      830            819\n",
      " 2  2013     1     1      533            529         4      850            830\n",
      " 3  2013     1     1      542            540         2      923            850\n",
      " 4  2013     1     1      544            545        -1     1004           1022\n",
      " 5  2013     1     1      554            600        -6      812            837\n",
      " 6  2013     1     1      554            558        -4      740            728\n",
      " 7  2013     1     1      555            600        -5      913            854\n",
      " 8  2013     1     1      557            600        -3      709            723\n",
      " 9  2013     1     1      557            600        -3      838            846\n",
      "10  2013     1     1      558            600        -2      753            745\n",
      "# ... with 9,363 more rows, and 11 more variables: arr_delay <dbl>,\n",
      "#   carrier <chr>, flight <int>, tailnum <chr>, origin <chr>, dest <chr>,\n",
      "#   air_time <dbl>, distance <dbl>, hour <dbl>, minute <dbl>, time_hour <dttm>\n"
     ]
    }
   ],
   "source": [
    "# 7\n",
    "filter(flights, dep_time <= 600 | dep_time == 2400) %>%\n",
    "  print"
   ]
  },
  {
   "cell_type": "markdown",
   "metadata": {},
   "source": [
    "---\n",
    "## Exercise 2\n",
    "`between(x, left, right)`\n",
    "when used inside filter: `between(left, right)`"
   ]
  },
  {
   "cell_type": "code",
   "execution_count": 10,
   "metadata": {},
   "outputs": [],
   "source": [
    "# ?between"
   ]
  },
  {
   "cell_type": "code",
   "execution_count": 11,
   "metadata": {},
   "outputs": [
    {
     "name": "stdout",
     "output_type": "stream",
     "text": [
      "# A tibble: 86,326 x 19\n",
      "    year month   day dep_time sched_dep_time dep_delay arr_time sched_arr_time\n",
      "   <int> <int> <int>    <int>          <int>     <dbl>    <int>          <int>\n",
      " 1  2013     7     1        1           2029       212      236           2359\n",
      " 2  2013     7     1        2           2359         3      344            344\n",
      " 3  2013     7     1       29           2245       104      151              1\n",
      " 4  2013     7     1       43           2130       193      322             14\n",
      " 5  2013     7     1       44           2150       174      300            100\n",
      " 6  2013     7     1       46           2051       235      304           2358\n",
      " 7  2013     7     1       48           2001       287      308           2305\n",
      " 8  2013     7     1       58           2155       183      335             43\n",
      " 9  2013     7     1      100           2146       194      327             30\n",
      "10  2013     7     1      100           2245       135      337            135\n",
      "# ... with 86,316 more rows, and 11 more variables: arr_delay <dbl>,\n",
      "#   carrier <chr>, flight <int>, tailnum <chr>, origin <chr>, dest <chr>,\n",
      "#   air_time <dbl>, distance <dbl>, hour <dbl>, minute <dbl>, time_hour <dttm>\n"
     ]
    }
   ],
   "source": [
    "# Using it to answer Ex. 1 part 4:\n",
    "filter(flights, between(month, 7, 9)) %>%\n",
    "  print"
   ]
  },
  {
   "cell_type": "markdown",
   "metadata": {},
   "source": [
    "---\n",
    "## Exercise 3\n",
    "8,255 flights have missing `dep_time`.\n",
    "\n",
    "`arr_time` is also missing for these rows. Seems to be canceled flights."
   ]
  },
  {
   "cell_type": "code",
   "execution_count": 12,
   "metadata": {},
   "outputs": [
    {
     "name": "stdout",
     "output_type": "stream",
     "text": [
      "# A tibble: 8,255 x 19\n",
      "    year month   day dep_time sched_dep_time dep_delay arr_time sched_arr_time\n",
      "   <int> <int> <int>    <int>          <int>     <dbl>    <int>          <int>\n",
      " 1  2013     1     1       NA           1630        NA       NA           1815\n",
      " 2  2013     1     1       NA           1935        NA       NA           2240\n",
      " 3  2013     1     1       NA           1500        NA       NA           1825\n",
      " 4  2013     1     1       NA            600        NA       NA            901\n",
      " 5  2013     1     2       NA           1540        NA       NA           1747\n",
      " 6  2013     1     2       NA           1620        NA       NA           1746\n",
      " 7  2013     1     2       NA           1355        NA       NA           1459\n",
      " 8  2013     1     2       NA           1420        NA       NA           1644\n",
      " 9  2013     1     2       NA           1321        NA       NA           1536\n",
      "10  2013     1     2       NA           1545        NA       NA           1910\n",
      "# ... with 8,245 more rows, and 11 more variables: arr_delay <dbl>,\n",
      "#   carrier <chr>, flight <int>, tailnum <chr>, origin <chr>, dest <chr>,\n",
      "#   air_time <dbl>, distance <dbl>, hour <dbl>, minute <dbl>, time_hour <dttm>\n"
     ]
    }
   ],
   "source": [
    "filter(flights, is.na(dep_time)) %>%\n",
    "  print"
   ]
  },
  {
   "cell_type": "markdown",
   "metadata": {},
   "source": [
    "---\n",
    "## Exercise 4\n",
    "Let's start with a small DF to find the right answer then apply it to flights dataset:"
   ]
  },
  {
   "cell_type": "code",
   "execution_count": 13,
   "metadata": {},
   "outputs": [
    {
     "data": {
      "text/html": [
       "<table>\n",
       "<thead><tr><th scope=col>x</th></tr></thead>\n",
       "<tbody>\n",
       "\t<tr><td> 5</td></tr>\n",
       "\t<tr><td> 6</td></tr>\n",
       "\t<tr><td> 2</td></tr>\n",
       "\t<tr><td>NA</td></tr>\n",
       "</tbody>\n",
       "</table>\n"
      ],
      "text/latex": [
       "\\begin{tabular}{r|l}\n",
       " x\\\\\n",
       "\\hline\n",
       "\t  5\\\\\n",
       "\t  6\\\\\n",
       "\t  2\\\\\n",
       "\t NA\\\\\n",
       "\\end{tabular}\n"
      ],
      "text/markdown": [
       "\n",
       "x | \n",
       "|---|---|---|---|\n",
       "|  5 | \n",
       "|  6 | \n",
       "|  2 | \n",
       "| NA | \n",
       "\n",
       "\n"
      ],
      "text/plain": [
       "  x \n",
       "1  5\n",
       "2  6\n",
       "3  2\n",
       "4 NA"
      ]
     },
     "metadata": {},
     "output_type": "display_data"
    }
   ],
   "source": [
    "# 1\n",
    "df <- tibble(x = c(5, 6, 2, NA))\n",
    "arrange(df, is.na(x))"
   ]
  },
  {
   "cell_type": "code",
   "execution_count": 14,
   "metadata": {},
   "outputs": [
    {
     "data": {
      "text/html": [
       "<table>\n",
       "<thead><tr><th scope=col>x</th></tr></thead>\n",
       "<tbody>\n",
       "\t<tr><td>NA</td></tr>\n",
       "\t<tr><td> 6</td></tr>\n",
       "\t<tr><td> 5</td></tr>\n",
       "\t<tr><td> 2</td></tr>\n",
       "</tbody>\n",
       "</table>\n"
      ],
      "text/latex": [
       "\\begin{tabular}{r|l}\n",
       " x\\\\\n",
       "\\hline\n",
       "\t NA\\\\\n",
       "\t  6\\\\\n",
       "\t  5\\\\\n",
       "\t  2\\\\\n",
       "\\end{tabular}\n"
      ],
      "text/markdown": [
       "\n",
       "x | \n",
       "|---|---|---|---|\n",
       "| NA | \n",
       "|  6 | \n",
       "|  5 | \n",
       "|  2 | \n",
       "\n",
       "\n"
      ],
      "text/plain": [
       "  x \n",
       "1 NA\n",
       "2  6\n",
       "3  5\n",
       "4  2"
      ]
     },
     "metadata": {},
     "output_type": "display_data"
    }
   ],
   "source": [
    "# missing value first, then descending\n",
    "arrange(df, !is.na(x), desc(x))"
   ]
  },
  {
   "cell_type": "code",
   "execution_count": 15,
   "metadata": {},
   "outputs": [
    {
     "name": "stdout",
     "output_type": "stream",
     "text": [
      "# A tibble: 336,776 x 19\n",
      "    year month   day dep_time sched_dep_time dep_delay arr_time sched_arr_time\n",
      "   <int> <int> <int>    <int>          <int>     <dbl>    <int>          <int>\n",
      " 1  2013     1     1       NA           1630        NA       NA           1815\n",
      " 2  2013     1     1       NA           1935        NA       NA           2240\n",
      " 3  2013     1     1       NA           1500        NA       NA           1825\n",
      " 4  2013     1     1       NA            600        NA       NA            901\n",
      " 5  2013     1     2       NA           1540        NA       NA           1747\n",
      " 6  2013     1     2       NA           1620        NA       NA           1746\n",
      " 7  2013     1     2       NA           1355        NA       NA           1459\n",
      " 8  2013     1     2       NA           1420        NA       NA           1644\n",
      " 9  2013     1     2       NA           1321        NA       NA           1536\n",
      "10  2013     1     2       NA           1545        NA       NA           1910\n",
      "# ... with 336,766 more rows, and 11 more variables: arr_delay <dbl>,\n",
      "#   carrier <chr>, flight <int>, tailnum <chr>, origin <chr>, dest <chr>,\n",
      "#   air_time <dbl>, distance <dbl>, hour <dbl>, minute <dbl>, time_hour <dttm>\n"
     ]
    }
   ],
   "source": [
    "# 2\n",
    "arrange(flights, !is.na(dep_delay), desc(dep_delay)) %>%\n",
    "  print"
   ]
  },
  {
   "cell_type": "markdown",
   "metadata": {},
   "source": [
    "We could've also used `desc(is.na(dep_time))` instead of `!is.na(dep_delay)`."
   ]
  },
  {
   "cell_type": "markdown",
   "metadata": {},
   "source": [
    "---\n",
    "## Exercise 5"
   ]
  },
  {
   "cell_type": "code",
   "execution_count": 16,
   "metadata": {},
   "outputs": [
    {
     "name": "stdout",
     "output_type": "stream",
     "text": [
      "# A tibble: 336,776 x 4\n",
      "   dep_time dep_delay arr_time arr_delay\n",
      "      <int>     <dbl>    <int>     <dbl>\n",
      " 1      517         2      830        11\n",
      " 2      533         4      850        20\n",
      " 3      542         2      923        33\n",
      " 4      544        -1     1004       -18\n",
      " 5      554        -6      812       -25\n",
      " 6      554        -4      740        12\n",
      " 7      555        -5      913        19\n",
      " 8      557        -3      709       -14\n",
      " 9      557        -3      838        -8\n",
      "10      558        -2      753         8\n",
      "# ... with 336,766 more rows\n"
     ]
    }
   ],
   "source": [
    "select(flights, dep_time, dep_delay, arr_time, arr_delay) %>%\n",
    "  print"
   ]
  },
  {
   "cell_type": "markdown",
   "metadata": {},
   "source": [
    "All the following will result the same:\n",
    "\n",
    "`select(flights, \"dep_time\", \"dep_delay\", \"arr_time\", \"arr_delay\")`\n",
    "\n",
    "`select(flights, 4, 6, 7, 9)`\n",
    "\n",
    "`select(flights, 4:9, -c(5,8))`\n",
    "\n",
    "`select(flights, starts_with(\"dep_\"), starts_with(\"arr_\"))`\n",
    "\n",
    "```variables <- c(\"dep_time\", \"dep_delay\", \"arr_time\", \"arr_delay\")\n",
    "select(flights, variables)```"
   ]
  },
  {
   "cell_type": "markdown",
   "metadata": {},
   "source": [
    "---\n",
    "## Exercise 6\n",
    "It will show up only once:"
   ]
  },
  {
   "cell_type": "code",
   "execution_count": 17,
   "metadata": {},
   "outputs": [
    {
     "name": "stdout",
     "output_type": "stream",
     "text": [
      "# A tibble: 336,776 x 2\n",
      "   dep_time dep_delay\n",
      "      <int>     <dbl>\n",
      " 1      517         2\n",
      " 2      533         4\n",
      " 3      542         2\n",
      " 4      544        -1\n",
      " 5      554        -6\n",
      " 6      554        -4\n",
      " 7      555        -5\n",
      " 8      557        -3\n",
      " 9      557        -3\n",
      "10      558        -2\n",
      "# ... with 336,766 more rows\n"
     ]
    }
   ],
   "source": [
    "select(flights, dep_time, dep_delay, dep_time) %>%\n",
    "  print"
   ]
  },
  {
   "cell_type": "markdown",
   "metadata": {},
   "source": [
    "---\n",
    "## Exercise 7"
   ]
  },
  {
   "cell_type": "code",
   "execution_count": 18,
   "metadata": {},
   "outputs": [
    {
     "name": "stdout",
     "output_type": "stream",
     "text": [
      "# A tibble: 336,776 x 0\n"
     ]
    }
   ],
   "source": [
    "select(flights, contains(\"TIME\", ignore.case = FALSE)) %>%\n",
    "  print"
   ]
  },
  {
   "cell_type": "code",
   "execution_count": 19,
   "metadata": {},
   "outputs": [
    {
     "name": "stdout",
     "output_type": "stream",
     "text": [
      "# A tibble: 336,776 x 6\n",
      "   dep_time sched_dep_time arr_time sched_arr_time air_time time_hour          \n",
      "      <int>          <int>    <int>          <int>    <dbl> <dttm>             \n",
      " 1      517            515      830            819      227 2013-01-01 05:00:00\n",
      " 2      533            529      850            830      227 2013-01-01 05:00:00\n",
      " 3      542            540      923            850      160 2013-01-01 05:00:00\n",
      " 4      544            545     1004           1022      183 2013-01-01 05:00:00\n",
      " 5      554            600      812            837      116 2013-01-01 06:00:00\n",
      " 6      554            558      740            728      150 2013-01-01 05:00:00\n",
      " 7      555            600      913            854      158 2013-01-01 06:00:00\n",
      " 8      557            600      709            723       53 2013-01-01 06:00:00\n",
      " 9      557            600      838            846      140 2013-01-01 06:00:00\n",
      "10      558            600      753            745      138 2013-01-01 06:00:00\n",
      "# ... with 336,766 more rows\n"
     ]
    }
   ],
   "source": [
    "select(flights, contains(\"TIME\", ignore.case = TRUE)) %>%  # ignore.case = TRUE is the default, so we don't even need to specify it\n",
    "  print"
   ]
  },
  {
   "cell_type": "markdown",
   "metadata": {},
   "source": [
    "---\n",
    "## Exercise 8"
   ]
  },
  {
   "cell_type": "code",
   "execution_count": 20,
   "metadata": {},
   "outputs": [
    {
     "data": {
      "text/html": [
       "317"
      ],
      "text/latex": [
       "317"
      ],
      "text/markdown": [
       "317"
      ],
      "text/plain": [
       "[1] 317"
      ]
     },
     "metadata": {},
     "output_type": "display_data"
    }
   ],
   "source": [
    "# assume we need to do this conversion for\n",
    "x = 517\n",
    "\n",
    "# we can use the following formula to get the number of minutes since midnight:\n",
    "(x %/% 100) * 60 + (x %% 100)"
   ]
  },
  {
   "cell_type": "markdown",
   "metadata": {},
   "source": [
    "The only issue is midnight. It is represented by 2400, which corresponds to 1440 minutes since midnight, but it should correspond to 0. So, we can use `x %% 1440` to get 0 when we have 2400:"
   ]
  },
  {
   "cell_type": "code",
   "execution_count": 21,
   "metadata": {},
   "outputs": [
    {
     "data": {
      "text/html": [
       "1440"
      ],
      "text/latex": [
       "1440"
      ],
      "text/markdown": [
       "1440"
      ],
      "text/plain": [
       "[1] 1440"
      ]
     },
     "metadata": {},
     "output_type": "display_data"
    }
   ],
   "source": [
    "x = 2400\n",
    "(x %/% 100) * 60 + (x %% 100)"
   ]
  },
  {
   "cell_type": "code",
   "execution_count": 22,
   "metadata": {},
   "outputs": [
    {
     "data": {
      "text/html": [
       "0"
      ],
      "text/latex": [
       "0"
      ],
      "text/markdown": [
       "0"
      ],
      "text/plain": [
       "[1] 0"
      ]
     },
     "metadata": {},
     "output_type": "display_data"
    }
   ],
   "source": [
    "((x %/% 100) * 60 + (x %% 100)) %% 1440"
   ]
  },
  {
   "cell_type": "code",
   "execution_count": 23,
   "metadata": {},
   "outputs": [
    {
     "name": "stdout",
     "output_type": "stream",
     "text": [
      "# A tibble: 336,776 x 21\n",
      "    year month   day dep_time sched_dep_time dep_delay arr_time sched_arr_time\n",
      "   <int> <int> <int>    <int>          <int>     <dbl>    <int>          <int>\n",
      " 1  2013     1     1      517            515         2      830            819\n",
      " 2  2013     1     1      533            529         4      850            830\n",
      " 3  2013     1     1      542            540         2      923            850\n",
      " 4  2013     1     1      544            545        -1     1004           1022\n",
      " 5  2013     1     1      554            600        -6      812            837\n",
      " 6  2013     1     1      554            558        -4      740            728\n",
      " 7  2013     1     1      555            600        -5      913            854\n",
      " 8  2013     1     1      557            600        -3      709            723\n",
      " 9  2013     1     1      557            600        -3      838            846\n",
      "10  2013     1     1      558            600        -2      753            745\n",
      "# ... with 336,766 more rows, and 13 more variables: arr_delay <dbl>,\n",
      "#   carrier <chr>, flight <int>, tailnum <chr>, origin <chr>, dest <chr>,\n",
      "#   air_time <dbl>, distance <dbl>, hour <dbl>, minute <dbl>, time_hour <dttm>,\n",
      "#   dep_time_mins <dbl>, sched_dep_time_mins <dbl>\n"
     ]
    }
   ],
   "source": [
    "mutate(flights,\n",
    "    dep_time_mins = ((dep_time %/% 100) * 60 + (dep_time %% 100)) %% 1440,\n",
    "    sched_dep_time_mins = ((sched_dep_time %/% 100) * 60 + (sched_dep_time %% 100)) %% 1440\n",
    "      ) %>%\n",
    "  print"
   ]
  },
  {
   "cell_type": "markdown",
   "metadata": {},
   "source": [
    "---\n",
    "## Exercise 9\n",
    "From graph below it looks like there is a clear relationship between the number of flights canceled and the the average delay:"
   ]
  },
  {
   "cell_type": "code",
   "execution_count": 24,
   "metadata": {},
   "outputs": [
    {
     "name": "stderr",
     "output_type": "stream",
     "text": [
      "`geom_smooth()` using method = 'loess' and formula 'y ~ x'\n"
     ]
    },
    {
     "data": {},
     "metadata": {},
     "output_type": "display_data"
    },
    {
     "data": {
      "image/png": "[encoded data removed]",
      "text/plain": [
       "plot without title"
      ]
     },
     "metadata": {},
     "output_type": "display_data"
    }
   ],
   "source": [
    "canceled_delayed <-\n",
    "  flights %>%\n",
    "  mutate(canceled = is.na(dep_delay)) %>%\n",
    "  group_by(year, month, day) %>%\n",
    "  summarize(flights_canceled = sum(canceled),\n",
    "            avg_dep_delay = mean(dep_delay, na.rm = TRUE))\n",
    "\n",
    "ggplot(canceled_delayed, aes(x = avg_dep_delay, flights_canceled)) +\n",
    "  geom_point() +\n",
    "  geom_smooth()"
   ]
  },
  {
   "cell_type": "markdown",
   "metadata": {},
   "source": [
    "---\n",
    "## Exercise 10"
   ]
  },
  {
   "cell_type": "code",
   "execution_count": 25,
   "metadata": {},
   "outputs": [
    {
     "data": {
      "text/html": [
       "<table>\n",
       "<thead><tr><th scope=col>carrier</th><th scope=col>arr_delay</th></tr></thead>\n",
       "<tbody>\n",
       "\t<tr><td>F9        </td><td>21.9207048</td></tr>\n",
       "\t<tr><td>FL        </td><td>20.1159055</td></tr>\n",
       "\t<tr><td>EV        </td><td>15.7964311</td></tr>\n",
       "\t<tr><td>YV        </td><td>15.5569853</td></tr>\n",
       "\t<tr><td>OO        </td><td>11.9310345</td></tr>\n",
       "\t<tr><td>MQ        </td><td>10.7747334</td></tr>\n",
       "\t<tr><td>WN        </td><td> 9.6491199</td></tr>\n",
       "\t<tr><td>B6        </td><td> 9.4579733</td></tr>\n",
       "\t<tr><td>9E        </td><td> 7.3796692</td></tr>\n",
       "\t<tr><td>UA        </td><td> 3.5580111</td></tr>\n",
       "\t<tr><td>US        </td><td> 2.1295951</td></tr>\n",
       "\t<tr><td>VX        </td><td> 1.7644644</td></tr>\n",
       "\t<tr><td>DL        </td><td> 1.6443409</td></tr>\n",
       "\t<tr><td>AA        </td><td> 0.3642909</td></tr>\n",
       "\t<tr><td>HA        </td><td>-6.9152047</td></tr>\n",
       "\t<tr><td>AS        </td><td>-9.9308886</td></tr>\n",
       "</tbody>\n",
       "</table>\n"
      ],
      "text/latex": [
       "\\begin{tabular}{r|ll}\n",
       " carrier & arr\\_delay\\\\\n",
       "\\hline\n",
       "\t F9         & 21.9207048\\\\\n",
       "\t FL         & 20.1159055\\\\\n",
       "\t EV         & 15.7964311\\\\\n",
       "\t YV         & 15.5569853\\\\\n",
       "\t OO         & 11.9310345\\\\\n",
       "\t MQ         & 10.7747334\\\\\n",
       "\t WN         &  9.6491199\\\\\n",
       "\t B6         &  9.4579733\\\\\n",
       "\t 9E         &  7.3796692\\\\\n",
       "\t UA         &  3.5580111\\\\\n",
       "\t US         &  2.1295951\\\\\n",
       "\t VX         &  1.7644644\\\\\n",
       "\t DL         &  1.6443409\\\\\n",
       "\t AA         &  0.3642909\\\\\n",
       "\t HA         & -6.9152047\\\\\n",
       "\t AS         & -9.9308886\\\\\n",
       "\\end{tabular}\n"
      ],
      "text/markdown": [
       "\n",
       "carrier | arr_delay | \n",
       "|---|---|---|---|---|---|---|---|---|---|---|---|---|---|---|---|\n",
       "| F9         | 21.9207048 | \n",
       "| FL         | 20.1159055 | \n",
       "| EV         | 15.7964311 | \n",
       "| YV         | 15.5569853 | \n",
       "| OO         | 11.9310345 | \n",
       "| MQ         | 10.7747334 | \n",
       "| WN         |  9.6491199 | \n",
       "| B6         |  9.4579733 | \n",
       "| 9E         |  7.3796692 | \n",
       "| UA         |  3.5580111 | \n",
       "| US         |  2.1295951 | \n",
       "| VX         |  1.7644644 | \n",
       "| DL         |  1.6443409 | \n",
       "| AA         |  0.3642909 | \n",
       "| HA         | -6.9152047 | \n",
       "| AS         | -9.9308886 | \n",
       "\n",
       "\n"
      ],
      "text/plain": [
       "   carrier arr_delay \n",
       "1  F9      21.9207048\n",
       "2  FL      20.1159055\n",
       "3  EV      15.7964311\n",
       "4  YV      15.5569853\n",
       "5  OO      11.9310345\n",
       "6  MQ      10.7747334\n",
       "7  WN       9.6491199\n",
       "8  B6       9.4579733\n",
       "9  9E       7.3796692\n",
       "10 UA       3.5580111\n",
       "11 US       2.1295951\n",
       "12 VX       1.7644644\n",
       "13 DL       1.6443409\n",
       "14 AA       0.3642909\n",
       "15 HA      -6.9152047\n",
       "16 AS      -9.9308886"
      ]
     },
     "metadata": {},
     "output_type": "display_data"
    }
   ],
   "source": [
    "flights %>%\n",
    "  group_by(carrier) %>%\n",
    "  summarise(arr_delay = mean(arr_delay, na.rm = TRUE)) %>%\n",
    "  arrange(desc(arr_delay))"
   ]
  },
  {
   "cell_type": "code",
   "execution_count": 26,
   "metadata": {},
   "outputs": [
    {
     "data": {
      "text/html": [
       "<table>\n",
       "<thead><tr><th scope=col>carrier</th><th scope=col>name</th></tr></thead>\n",
       "<tbody>\n",
       "\t<tr><td>9E                         </td><td>Endeavor Air Inc.          </td></tr>\n",
       "\t<tr><td>AA                         </td><td>American Airlines Inc.     </td></tr>\n",
       "\t<tr><td>AS                         </td><td>Alaska Airlines Inc.       </td></tr>\n",
       "\t<tr><td>B6                         </td><td>JetBlue Airways            </td></tr>\n",
       "\t<tr><td>DL                         </td><td>Delta Air Lines Inc.       </td></tr>\n",
       "\t<tr><td>EV                         </td><td>ExpressJet Airlines Inc.   </td></tr>\n",
       "\t<tr><td>F9                         </td><td>Frontier Airlines Inc.     </td></tr>\n",
       "\t<tr><td>FL                         </td><td>AirTran Airways Corporation</td></tr>\n",
       "\t<tr><td>HA                         </td><td>Hawaiian Airlines Inc.     </td></tr>\n",
       "\t<tr><td>MQ                         </td><td>Envoy Air                  </td></tr>\n",
       "\t<tr><td>OO                         </td><td>SkyWest Airlines Inc.      </td></tr>\n",
       "\t<tr><td>UA                         </td><td>United Air Lines Inc.      </td></tr>\n",
       "\t<tr><td>US                         </td><td>US Airways Inc.            </td></tr>\n",
       "\t<tr><td>VX                         </td><td>Virgin America             </td></tr>\n",
       "\t<tr><td>WN                         </td><td>Southwest Airlines Co.     </td></tr>\n",
       "\t<tr><td>YV                         </td><td>Mesa Airlines Inc.         </td></tr>\n",
       "</tbody>\n",
       "</table>\n"
      ],
      "text/latex": [
       "\\begin{tabular}{r|ll}\n",
       " carrier & name\\\\\n",
       "\\hline\n",
       "\t 9E                          & Endeavor Air Inc.          \\\\\n",
       "\t AA                          & American Airlines Inc.     \\\\\n",
       "\t AS                          & Alaska Airlines Inc.       \\\\\n",
       "\t B6                          & JetBlue Airways            \\\\\n",
       "\t DL                          & Delta Air Lines Inc.       \\\\\n",
       "\t EV                          & ExpressJet Airlines Inc.   \\\\\n",
       "\t F9                          & Frontier Airlines Inc.     \\\\\n",
       "\t FL                          & AirTran Airways Corporation\\\\\n",
       "\t HA                          & Hawaiian Airlines Inc.     \\\\\n",
       "\t MQ                          & Envoy Air                  \\\\\n",
       "\t OO                          & SkyWest Airlines Inc.      \\\\\n",
       "\t UA                          & United Air Lines Inc.      \\\\\n",
       "\t US                          & US Airways Inc.            \\\\\n",
       "\t VX                          & Virgin America             \\\\\n",
       "\t WN                          & Southwest Airlines Co.     \\\\\n",
       "\t YV                          & Mesa Airlines Inc.         \\\\\n",
       "\\end{tabular}\n"
      ],
      "text/markdown": [
       "\n",
       "carrier | name | \n",
       "|---|---|---|---|---|---|---|---|---|---|---|---|---|---|---|---|\n",
       "| 9E                          | Endeavor Air Inc.           | \n",
       "| AA                          | American Airlines Inc.      | \n",
       "| AS                          | Alaska Airlines Inc.        | \n",
       "| B6                          | JetBlue Airways             | \n",
       "| DL                          | Delta Air Lines Inc.        | \n",
       "| EV                          | ExpressJet Airlines Inc.    | \n",
       "| F9                          | Frontier Airlines Inc.      | \n",
       "| FL                          | AirTran Airways Corporation | \n",
       "| HA                          | Hawaiian Airlines Inc.      | \n",
       "| MQ                          | Envoy Air                   | \n",
       "| OO                          | SkyWest Airlines Inc.       | \n",
       "| UA                          | United Air Lines Inc.       | \n",
       "| US                          | US Airways Inc.             | \n",
       "| VX                          | Virgin America              | \n",
       "| WN                          | Southwest Airlines Co.      | \n",
       "| YV                          | Mesa Airlines Inc.          | \n",
       "\n",
       "\n"
      ],
      "text/plain": [
       "   carrier name                       \n",
       "1  9E      Endeavor Air Inc.          \n",
       "2  AA      American Airlines Inc.     \n",
       "3  AS      Alaska Airlines Inc.       \n",
       "4  B6      JetBlue Airways            \n",
       "5  DL      Delta Air Lines Inc.       \n",
       "6  EV      ExpressJet Airlines Inc.   \n",
       "7  F9      Frontier Airlines Inc.     \n",
       "8  FL      AirTran Airways Corporation\n",
       "9  HA      Hawaiian Airlines Inc.     \n",
       "10 MQ      Envoy Air                  \n",
       "11 OO      SkyWest Airlines Inc.      \n",
       "12 UA      United Air Lines Inc.      \n",
       "13 US      US Airways Inc.            \n",
       "14 VX      Virgin America             \n",
       "15 WN      Southwest Airlines Co.     \n",
       "16 YV      Mesa Airlines Inc.         "
      ]
     },
     "metadata": {},
     "output_type": "display_data"
    }
   ],
   "source": [
    "# Find the names for 2-letter carriers:\n",
    "airlines"
   ]
  },
  {
   "cell_type": "markdown",
   "metadata": {},
   "source": [
    "F9 or Frontier Airlines Inc. has the longest delays."
   ]
  }
 ],
 "metadata": {
  "kernelspec": {
   "display_name": "R",
   "language": "R",
   "name": "ir"
  },
  "language_info": {
   "codemirror_mode": "r",
   "file_extension": ".r",
   "mimetype": "text/x-r-source",
   "name": "R",
   "pygments_lexer": "r",
   "version": "3.5.1"
  }
 },
 "nbformat": 4,
 "nbformat_minor": 2
}
