{
 "cells": [
  {
   "cell_type": "markdown",
   "metadata": {},
   "source": [
    "# Functions and Conditionals\n",
    "---\n",
    "\n",
    "## Exercise 1"
   ]
  },
  {
   "cell_type": "code",
   "execution_count": 2,
   "metadata": {},
   "outputs": [
    {
     "name": "stderr",
     "output_type": "stream",
     "text": [
      "── Attaching packages ─────────────────────────────────────── tidyverse 1.2.1 ──\n",
      "✔ ggplot2 3.0.0     ✔ purrr   0.2.5\n",
      "✔ tibble  1.4.2     ✔ dplyr   0.7.6\n",
      "✔ tidyr   0.8.1     ✔ stringr 1.3.1\n",
      "✔ readr   1.1.1     ✔ forcats 0.3.0\n",
      "── Conflicts ────────────────────────────────────────── tidyverse_conflicts() ──\n",
      "✖ dplyr::filter() masks stats::filter()\n",
      "✖ dplyr::lag()    masks stats::lag()\n",
      "\n",
      "Attaching package: ‘lubridate’\n",
      "\n",
      "The following object is masked from ‘package:base’:\n",
      "\n",
      "    date\n",
      "\n"
     ]
    }
   ],
   "source": [
    "# Loading packages\n",
    "library(tidyverse)\n",
    "library(lubridate)  # lubridate is not part of core tidyverse, so has to be loaded separately."
   ]
  },
  {
   "cell_type": "code",
   "execution_count": 3,
   "metadata": {},
   "outputs": [
    {
     "name": "stdout",
     "output_type": "stream",
     "text": [
      "[1] \"Good Evening!\"\n"
     ]
    }
   ],
   "source": [
    "currentTime <- hour(now())\n",
    "if (currentTime > 5 && currentTime < 12) {\n",
    "    print(\"Good Morning!\")\n",
    "} else if (currentTime > 12 && currentTime < 18) {\n",
    "    print(\"Good Afternoon!\")\n",
    "} else {\n",
    "    print(\"Good Evening!\")\n",
    "}"
   ]
  },
  {
   "cell_type": "markdown",
   "metadata": {},
   "source": [
    "---\n",
    "## Exercise 2"
   ]
  },
  {
   "cell_type": "code",
   "execution_count": 9,
   "metadata": {},
   "outputs": [
    {
     "data": {
      "text/html": [
       "'fizzbuzz'"
      ],
      "text/latex": [
       "'fizzbuzz'"
      ],
      "text/markdown": [
       "'fizzbuzz'"
      ],
      "text/plain": [
       "[1] \"fizzbuzz\""
      ]
     },
     "metadata": {},
     "output_type": "display_data"
    }
   ],
   "source": [
    "number = 15\n",
    "\n",
    "if ((number %% 3 == 0) && (number %% 5 == 0)) {\n",
    "    \"fizzbuzz\"\n",
    "  } else if (number %% 3 == 0) {\n",
    "    \"fizz\"\n",
    "  } else if (number %% 5 == 0) {\n",
    "    \"buzz\"\n",
    "  } else {\n",
    "    number\n",
    "  }"
   ]
  },
  {
   "cell_type": "code",
   "execution_count": null,
   "metadata": {
    "collapsed": true
   },
   "outputs": [],
   "source": []
  }
 ],
 "metadata": {
  "kernelspec": {
   "display_name": "R",
   "language": "R",
   "name": "ir"
  },
  "language_info": {
   "codemirror_mode": "r",
   "file_extension": ".r",
   "mimetype": "text/x-r-source",
   "name": "R",
   "pygments_lexer": "r",
   "version": "3.5.1"
  }
 },
 "nbformat": 4,
 "nbformat_minor": 2
}
