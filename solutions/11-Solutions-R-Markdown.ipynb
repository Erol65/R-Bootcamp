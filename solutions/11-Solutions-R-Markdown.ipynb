{
 "cells": [
  {
   "cell_type": "markdown",
   "metadata": {},
   "source": [
    "# R Markdown\n",
    "---"
   ]
  },
  {
   "cell_type": "markdown",
   "metadata": {},
   "source": [
    "## Exercise 1"
   ]
  },
  {
   "cell_type": "raw",
   "metadata": {},
   "source": [
    "---\n",
    "title: Horizontal Rules, Block Quotes, and Footnotes\n",
    "---\n",
    "\n",
    "The quick brown fox jumped over the lazy dog.[^quick-fox]\n",
    "\n",
    "Use three or more `-` for a horizontal rule. For example,\n",
    "\n",
    "---\n",
    "\n",
    "The horizontal rule uses the same syntax as a YAML block? So how does R markdown\n",
    "distinguish between the two?  Three dashes (\"---\") is only treated the start of\n",
    "a YAML block if it is at the start of the document.\n",
    "\n",
    "> This would be a block quote. Generally, block quotes are used to indicate\n",
    "> quotes longer than a three or four lines.\n",
    "\n",
    "[^quick-fox]: This is an example of a footnote. The sentence this is footnoting\n",
    "  is often used for displaying fonts because it includes all 26 letters of the\n",
    "  English alphabet."
   ]
  }
 ],
 "metadata": {
  "kernelspec": {
   "display_name": "R",
   "language": "R",
   "name": "ir"
  },
  "language_info": {
   "codemirror_mode": "r",
   "file_extension": ".r",
   "mimetype": "text/x-r-source",
   "name": "R",
   "pygments_lexer": "r",
   "version": "3.5.1"
  }
 },
 "nbformat": 4,
 "nbformat_minor": 2
}
